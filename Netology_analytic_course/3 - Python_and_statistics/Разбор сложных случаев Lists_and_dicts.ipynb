{
 "cells": [
  {
   "cell_type": "markdown",
   "metadata": {},
   "source": [
    "# Проход по вложенным спискам и словарям"
   ]
  },
  {
   "cell_type": "markdown",
   "metadata": {},
   "source": [
    "### Перебор элементов списка и словаря"
   ]
  },
  {
   "cell_type": "code",
   "execution_count": null,
   "metadata": {},
   "outputs": [],
   "source": [
    "numbers = [1, 1, 2, 3, 5, 8, 13, 21, 34, 55, 89]"
   ]
  },
  {
   "cell_type": "code",
   "execution_count": null,
   "metadata": {},
   "outputs": [],
   "source": [
    "for number in numbers:\n",
    "    new_number = number ** 2\n",
    "    print(new_number)"
   ]
  },
  {
   "cell_type": "code",
   "execution_count": null,
   "metadata": {},
   "outputs": [],
   "source": [
    "record = {'date': '2019-03-05', 'payment_type': 'SALARY', 'status': 'SUCCESS'}"
   ]
  },
  {
   "cell_type": "code",
   "execution_count": null,
   "metadata": {},
   "outputs": [],
   "source": [
    "# проход по ключам\n",
    "# можно и так: record.keys()\n",
    "\n",
    "for key in record:\n",
    "    print(key)"
   ]
  },
  {
   "cell_type": "code",
   "execution_count": null,
   "metadata": {},
   "outputs": [],
   "source": [
    "# проход по значениям:\n",
    "for value in record.values():\n",
    "    print(value)"
   ]
  },
  {
   "cell_type": "code",
   "execution_count": null,
   "metadata": {},
   "outputs": [],
   "source": [
    "for key, value in record.items():\n",
    "    print(key, value)"
   ]
  },
  {
   "cell_type": "markdown",
   "metadata": {},
   "source": [
    "### Вложенные структуры"
   ]
  },
  {
   "cell_type": "markdown",
   "metadata": {},
   "source": [
    "**Список словарей**\n",
    "\n",
    "Надо достать значения статусов"
   ]
  },
  {
   "cell_type": "code",
   "execution_count": null,
   "metadata": {},
   "outputs": [],
   "source": [
    "records = [\n",
    "    {'date': '2019-03-05', 'payment_type': 'SALARY', 'status': 'SUCCESS'},\n",
    "    {'date': '2019-03-20', 'payment_type': 'PREPAYMENT', 'status': 'SUCCESS'},\n",
    "    {'date': '2019-04-05', 'payment_type': 'SALARY', 'status': 'PENDING'},\n",
    "    {'date': '2019-04-20', 'payment_type': 'PREPAYMENT', 'status': 'PENDING'},\n",
    "]"
   ]
  },
  {
   "cell_type": "code",
   "execution_count": null,
   "metadata": {},
   "outputs": [],
   "source": [
    "for record in records:\n",
    "    print(record['status'])"
   ]
  },
  {
   "cell_type": "markdown",
   "metadata": {},
   "source": [
    "**Словарь со списками**\n",
    "\n",
    "Проверяем есть ли хотя бы в одной транзакции статус ERROR"
   ]
  },
  {
   "cell_type": "code",
   "execution_count": 1,
   "metadata": {},
   "outputs": [],
   "source": [
    "record = {\n",
    "    'date': '2019-03-21',\n",
    "    'transactions': [\n",
    "        {'date': '2019-03-05', 'payment_type': 'SALARY', 'status': 'ERROR'},\n",
    "        {'date': '2019-03-20', 'payment_type': 'PREPAYMENT', 'status': 'SUCCESS'},\n",
    "        {'date': '2019-04-05', 'payment_type': 'SALARY', 'status': 'ERROR'},\n",
    "        {'date': '2019-04-20', 'payment_type': 'PREPAYMENT', 'status': 'PENDING'},\n",
    "    ]\n",
    "}"
   ]
  },
  {
   "cell_type": "code",
   "execution_count": 2,
   "metadata": {},
   "outputs": [
    {
     "name": "stdout",
     "output_type": "stream",
     "text": [
      "date\n",
      "transactions\n"
     ]
    }
   ],
   "source": [
    "for key in record.keys():\n",
    "    print(key)"
   ]
  },
  {
   "cell_type": "code",
   "execution_count": 3,
   "metadata": {},
   "outputs": [
    {
     "data": {
      "text/plain": [
       "[{'date': '2019-03-05', 'payment_type': 'SALARY', 'status': 'ERROR'},\n",
       " {'date': '2019-03-20', 'payment_type': 'PREPAYMENT', 'status': 'SUCCESS'},\n",
       " {'date': '2019-04-05', 'payment_type': 'SALARY', 'status': 'ERROR'},\n",
       " {'date': '2019-04-20', 'payment_type': 'PREPAYMENT', 'status': 'PENDING'}]"
      ]
     },
     "execution_count": 3,
     "metadata": {},
     "output_type": "execute_result"
    }
   ],
   "source": [
    "record['transactions']"
   ]
  },
  {
   "cell_type": "code",
   "execution_count": null,
   "metadata": {},
   "outputs": [],
   "source": [
    "for transaction in record['transactions']:\n",
    "    if 'ERROR' in transaction['status']:\n",
    "        print(transaction)"
   ]
  },
  {
   "cell_type": "code",
   "execution_count": null,
   "metadata": {},
   "outputs": [],
   "source": [
    "for transaction in record['transactions']:\n",
    "    if transaction['status'] == 'ERROR':\n",
    "        print('Ошибка в транзакции {}'.format(transaction))"
   ]
  },
  {
   "cell_type": "markdown",
   "metadata": {},
   "source": [
    "### Словарь из ДЗ\n",
    "Посчитать разницу между Value  и Previous"
   ]
  },
  {
   "cell_type": "code",
   "execution_count": null,
   "metadata": {},
   "outputs": [],
   "source": [
    "data = {\n",
    "    'AMD': {\n",
    "        'CharCode': 'AMD',\n",
    "        'ID': 'R01060',\n",
    "        'Name': 'Армянских драмов',\n",
    "        'Nominal': 100,\n",
    "        'NumCode': '051',\n",
    "        'Previous': 13.2237,\n",
    "        'Value': 13.121\n",
    "    },\n",
    "    \n",
    "    'AUD': {\n",
    "        'CharCode': 'AUD',\n",
    "        'ID': 'R01010',\n",
    "        'Name': 'Австралийский доллар',\n",
    "        'Nominal': 1,\n",
    "        'NumCode': '036',\n",
    "        'Previous': 45.5619,\n",
    "        'Value': 45.5309\n",
    "    },\n",
    "    \n",
    "    'AZN': {\n",
    "        'CharCode': 'AZN',\n",
    "        'ID': 'R01020A',\n",
    "        'Name': 'Азербайджанский манат',\n",
    "        'Nominal': 1,\n",
    "        'NumCode': '944',\n",
    "        'Previous': 37.8899,\n",
    "        'Value': 37.5726\n",
    "    },\n",
    "    \n",
    "    'BGN': {\n",
    "        'CharCode': 'BGN',\n",
    "        'ID': 'R01100',\n",
    "        'Name': 'Болгарский лев',\n",
    "        'Nominal': 1,\n",
    "        'NumCode': '975',\n",
    "        'Previous': 37.2812,\n",
    "        'Value': 37.137\n",
    "    },\n",
    "}"
   ]
  },
  {
   "cell_type": "code",
   "execution_count": null,
   "metadata": {},
   "outputs": [],
   "source": [
    "data.keys()"
   ]
  },
  {
   "cell_type": "code",
   "execution_count": null,
   "metadata": {},
   "outputs": [],
   "source": [
    "for currency, currency_info in data.items():\n",
    "    today_rate = currency_info['Value']\n",
    "    yesterday_rate = currency_info['Previous']\n",
    "    \n",
    "    print(currency, today_rate - yesterday_rate)"
   ]
  },
  {
   "cell_type": "markdown",
   "metadata": {},
   "source": [
    "### Сложный вложенный JSON\n",
    "Какая кампания принесла больше визитов?"
   ]
  },
  {
   "cell_type": "code",
   "execution_count": 4,
   "metadata": {},
   "outputs": [],
   "source": [
    "api_response = {\n",
    "    'time': '2019-03-21Z18:13:52',\n",
    "    'reports': [\n",
    "        {\n",
    "            'created': '2019-03-21Z06:37:18',\n",
    "            'name': 'yandex performance',\n",
    "            'data': {\n",
    "                'dimensions': ['date', 'source', 'campaign'],\n",
    "                'metrics': ['visits', 'users', 'bounce rate'],\n",
    "                'table': [\n",
    "                    ['2019-01-01', 'yandex', 'promo', 31421, 28193, 23.32],\n",
    "                    ['2019-01-02', 'yandex', 'promo', 48213, 42439, 25.53],\n",
    "                    ['2019-01-03', 'yandex', 'promo', 54804, 49853, 29.90],\n",
    "                    ['2019-01-04', 'yandex', 'promo', 38422, 31940, 26.69],\n",
    "                    ['2019-01-05', 'yandex', 'promo', 74849, 69034, 20.11],\n",
    "                ]\n",
    "            }\n",
    "        },\n",
    "        \n",
    "        {\n",
    "            'created': '2019-03-21Z07:02:59',\n",
    "            'name': 'google performance',\n",
    "            'data': {\n",
    "                'dimensions': ['date', 'source', 'campaign'],\n",
    "                'metrics': ['visits', 'users', 'bounce rate'],\n",
    "                'table': [\n",
    "                    ['2019-01-01', 'google', 'email', 9426, 9102, 16.53],\n",
    "                    ['2019-01-02', 'google', 'email', 10432, 10323, 19.54],\n",
    "                    ['2019-01-03', 'google', 'email', 5965, 5869, 18.32],\n",
    "                    ['2019-01-04', 'google', 'email', 9685, 9405, 21.32],\n",
    "                    ['2019-01-05', 'google', 'email', 5093, 4899, 17.38],\n",
    "                ]\n",
    "            }\n",
    "        }\n",
    "    ]\n",
    "}"
   ]
  },
  {
   "cell_type": "code",
   "execution_count": 9,
   "metadata": {},
   "outputs": [
    {
     "name": "stdout",
     "output_type": "stream",
     "text": [
      "['yandex performance', 247709]\n"
     ]
    }
   ],
   "source": [
    "max_res = [\"\", 0]\n",
    "for rep in api_response[\"reports\"]:\n",
    "    s = sum(map(lambda x: x[3], rep[\"data\"][\"table\"]))\n",
    "    if s > max_res[1]:\n",
    "        max_res = [rep[\"name\"], s]\n",
    "print(max_res)"
   ]
  },
  {
   "cell_type": "code",
   "execution_count": null,
   "metadata": {},
   "outputs": [],
   "source": []
  },
  {
   "cell_type": "code",
   "execution_count": null,
   "metadata": {},
   "outputs": [],
   "source": []
  },
  {
   "cell_type": "code",
   "execution_count": null,
   "metadata": {},
   "outputs": [],
   "source": []
  },
  {
   "cell_type": "code",
   "execution_count": null,
   "metadata": {},
   "outputs": [],
   "source": []
  },
  {
   "cell_type": "code",
   "execution_count": null,
   "metadata": {},
   "outputs": [],
   "source": []
  },
  {
   "cell_type": "code",
   "execution_count": null,
   "metadata": {},
   "outputs": [],
   "source": [
    "from pprint import pprint"
   ]
  },
  {
   "cell_type": "code",
   "execution_count": null,
   "metadata": {},
   "outputs": [],
   "source": [
    "for report in api_response['reports']:\n",
    "    campaign_name = report['name']\n",
    "    \n",
    "    sum_ = 0\n",
    "    for line in report['data']['table']:\n",
    "        sum_ += line[3]\n",
    "    \n",
    "    print(campaign_name, sum_)"
   ]
  },
  {
   "cell_type": "code",
   "execution_count": null,
   "metadata": {},
   "outputs": [],
   "source": []
  }
 ],
 "metadata": {
  "kernelspec": {
   "display_name": "Python 3.7.1 64-bit",
   "language": "python",
   "name": "python3"
  },
  "language_info": {
   "codemirror_mode": {
    "name": "ipython",
    "version": 3
   },
   "file_extension": ".py",
   "mimetype": "text/x-python",
   "name": "python",
   "nbconvert_exporter": "python",
   "pygments_lexer": "ipython3",
   "version": "3.7.1"
  },
  "vscode": {
   "interpreter": {
    "hash": "fbe58ca63fe33f9eeae9e71d10368d2b4a57f2b1b395836210cc60d362c66949"
   }
  }
 },
 "nbformat": 4,
 "nbformat_minor": 2
}
