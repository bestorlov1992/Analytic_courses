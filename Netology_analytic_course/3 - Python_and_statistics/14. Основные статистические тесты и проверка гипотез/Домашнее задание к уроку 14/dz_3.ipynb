{
 "cells": [
  {
   "cell_type": "markdown",
   "metadata": {
    "colab_type": "text",
    "id": "9wqpiQR2AbtX"
   },
   "source": [
    "# Домашнее задание №3"
   ]
  },
  {
   "cell_type": "code",
   "execution_count": 18,
   "metadata": {
    "colab": {},
    "colab_type": "code",
    "id": "Zo_j9HCKCPgi"
   },
   "outputs": [],
   "source": [
    "import numpy as np\n",
    "from scipy.stats import t\n",
    "from scipy.stats import norm\n",
    "import matplotlib.pyplot as plt\n",
    "from scipy import stats\n",
    "import pandas as pd\n",
    "import io\n",
    "import requests\n",
    "import seaborn as sns\n",
    "\n",
    "%matplotlib inline"
   ]
  },
  {
   "cell_type": "markdown",
   "metadata": {
    "colab_type": "text",
    "id": "LrhPyaIACZsb"
   },
   "source": [
    "Таблица Indian liver pations records."
   ]
  },
  {
   "cell_type": "markdown",
   "metadata": {},
   "source": [
    "Загрузить датасет https://www.kaggle.com/uciml/indian-liver-patient-records. "
   ]
  },
  {
   "cell_type": "code",
   "execution_count": 19,
   "metadata": {
    "colab": {
     "base_uri": "https://localhost:8080/",
     "height": 224
    },
    "colab_type": "code",
    "id": "LQWcltRn-vZc",
    "outputId": "57d517f0-64f9-47c1-e092-b724da8029a1"
   },
   "outputs": [
    {
     "data": {
      "text/html": [
       "<div>\n",
       "<style scoped>\n",
       "    .dataframe tbody tr th:only-of-type {\n",
       "        vertical-align: middle;\n",
       "    }\n",
       "\n",
       "    .dataframe tbody tr th {\n",
       "        vertical-align: top;\n",
       "    }\n",
       "\n",
       "    .dataframe thead th {\n",
       "        text-align: right;\n",
       "    }\n",
       "</style>\n",
       "<table border=\"1\" class=\"dataframe\">\n",
       "  <thead>\n",
       "    <tr style=\"text-align: right;\">\n",
       "      <th></th>\n",
       "      <th>Age</th>\n",
       "      <th>Gender</th>\n",
       "      <th>Total_Bilirubin</th>\n",
       "      <th>Direct_Bilirubin</th>\n",
       "      <th>Alkaline_Phosphotase</th>\n",
       "      <th>Alamine_Aminotransferase</th>\n",
       "      <th>Aspartate_Aminotransferase</th>\n",
       "      <th>Total_Protiens</th>\n",
       "      <th>Albumin</th>\n",
       "      <th>Albumin_and_Globulin_Ratio</th>\n",
       "      <th>Dataset</th>\n",
       "    </tr>\n",
       "  </thead>\n",
       "  <tbody>\n",
       "    <tr>\n",
       "      <th>0</th>\n",
       "      <td>65</td>\n",
       "      <td>Female</td>\n",
       "      <td>0.7</td>\n",
       "      <td>0.1</td>\n",
       "      <td>187</td>\n",
       "      <td>16</td>\n",
       "      <td>18</td>\n",
       "      <td>6.8</td>\n",
       "      <td>3.3</td>\n",
       "      <td>0.90</td>\n",
       "      <td>1</td>\n",
       "    </tr>\n",
       "    <tr>\n",
       "      <th>1</th>\n",
       "      <td>62</td>\n",
       "      <td>Male</td>\n",
       "      <td>10.9</td>\n",
       "      <td>5.5</td>\n",
       "      <td>699</td>\n",
       "      <td>64</td>\n",
       "      <td>100</td>\n",
       "      <td>7.5</td>\n",
       "      <td>3.2</td>\n",
       "      <td>0.74</td>\n",
       "      <td>1</td>\n",
       "    </tr>\n",
       "    <tr>\n",
       "      <th>2</th>\n",
       "      <td>62</td>\n",
       "      <td>Male</td>\n",
       "      <td>7.3</td>\n",
       "      <td>4.1</td>\n",
       "      <td>490</td>\n",
       "      <td>60</td>\n",
       "      <td>68</td>\n",
       "      <td>7.0</td>\n",
       "      <td>3.3</td>\n",
       "      <td>0.89</td>\n",
       "      <td>1</td>\n",
       "    </tr>\n",
       "    <tr>\n",
       "      <th>3</th>\n",
       "      <td>58</td>\n",
       "      <td>Male</td>\n",
       "      <td>1.0</td>\n",
       "      <td>0.4</td>\n",
       "      <td>182</td>\n",
       "      <td>14</td>\n",
       "      <td>20</td>\n",
       "      <td>6.8</td>\n",
       "      <td>3.4</td>\n",
       "      <td>1.00</td>\n",
       "      <td>1</td>\n",
       "    </tr>\n",
       "    <tr>\n",
       "      <th>4</th>\n",
       "      <td>72</td>\n",
       "      <td>Male</td>\n",
       "      <td>3.9</td>\n",
       "      <td>2.0</td>\n",
       "      <td>195</td>\n",
       "      <td>27</td>\n",
       "      <td>59</td>\n",
       "      <td>7.3</td>\n",
       "      <td>2.4</td>\n",
       "      <td>0.40</td>\n",
       "      <td>1</td>\n",
       "    </tr>\n",
       "  </tbody>\n",
       "</table>\n",
       "</div>"
      ],
      "text/plain": [
       "   Age  Gender  Total_Bilirubin  Direct_Bilirubin  Alkaline_Phosphotase  \\\n",
       "0   65  Female              0.7               0.1                   187   \n",
       "1   62    Male             10.9               5.5                   699   \n",
       "2   62    Male              7.3               4.1                   490   \n",
       "3   58    Male              1.0               0.4                   182   \n",
       "4   72    Male              3.9               2.0                   195   \n",
       "\n",
       "   Alamine_Aminotransferase  Aspartate_Aminotransferase  Total_Protiens  \\\n",
       "0                        16                          18             6.8   \n",
       "1                        64                         100             7.5   \n",
       "2                        60                          68             7.0   \n",
       "3                        14                          20             6.8   \n",
       "4                        27                          59             7.3   \n",
       "\n",
       "   Albumin  Albumin_and_Globulin_Ratio  Dataset  \n",
       "0      3.3                        0.90        1  \n",
       "1      3.2                        0.74        1  \n",
       "2      3.3                        0.89        1  \n",
       "3      3.4                        1.00        1  \n",
       "4      2.4                        0.40        1  "
      ]
     },
     "execution_count": 19,
     "metadata": {},
     "output_type": "execute_result"
    }
   ],
   "source": [
    "import ssl\n",
    "ssl._create_default_https_context = ssl._create_unverified_context\n",
    "url=\"http://yustiks.ru/dataset/indian_liver_patient.csv\"\n",
    "data=pd.read_csv(url)\n",
    "data.head()"
   ]
  },
  {
   "cell_type": "code",
   "execution_count": 149,
   "metadata": {},
   "outputs": [
    {
     "data": {
      "text/html": [
       "<style type=\"text/css\">\n",
       "#T_0eb38_row0_col0, #T_0eb38_row1_col1, #T_0eb38_row2_col2, #T_0eb38_row3_col3, #T_0eb38_row4_col4, #T_0eb38_row5_col5, #T_0eb38_row6_col6, #T_0eb38_row7_col7, #T_0eb38_row8_col8, #T_0eb38_row9_col9 {\n",
       "  background-color: #006837;\n",
       "  color: #f1f1f1;\n",
       "}\n",
       "#T_0eb38_row0_col1, #T_0eb38_row5_col0 {\n",
       "  background-color: #f26841;\n",
       "  color: #f1f1f1;\n",
       "}\n",
       "#T_0eb38_row0_col2 {\n",
       "  background-color: #f47044;\n",
       "  color: #f1f1f1;\n",
       "}\n",
       "#T_0eb38_row0_col3 {\n",
       "  background-color: #f99153;\n",
       "  color: #000000;\n",
       "}\n",
       "#T_0eb38_row0_col4, #T_0eb38_row4_col9 {\n",
       "  background-color: #c41e27;\n",
       "  color: #f1f1f1;\n",
       "}\n",
       "#T_0eb38_row0_col5, #T_0eb38_row7_col4 {\n",
       "  background-color: #db382b;\n",
       "  color: #f1f1f1;\n",
       "}\n",
       "#T_0eb38_row0_col6, #T_0eb38_row0_col7, #T_0eb38_row2_col9, #T_0eb38_row3_col8, #T_0eb38_row7_col0, #T_0eb38_row7_col1, #T_0eb38_row8_col3, #T_0eb38_row9_col1, #T_0eb38_row9_col2, #T_0eb38_row9_col4, #T_0eb38_row9_col5 {\n",
       "  background-color: #a50026;\n",
       "  color: #f1f1f1;\n",
       "}\n",
       "#T_0eb38_row0_col8, #T_0eb38_row7_col2, #T_0eb38_row8_col1 {\n",
       "  background-color: #ab0626;\n",
       "  color: #f1f1f1;\n",
       "}\n",
       "#T_0eb38_row0_col9 {\n",
       "  background-color: #d02927;\n",
       "  color: #f1f1f1;\n",
       "}\n",
       "#T_0eb38_row1_col0 {\n",
       "  background-color: #f67a49;\n",
       "  color: #f1f1f1;\n",
       "}\n",
       "#T_0eb38_row1_col2 {\n",
       "  background-color: #199750;\n",
       "  color: #f1f1f1;\n",
       "}\n",
       "#T_0eb38_row1_col3, #T_0eb38_row2_col5, #T_0eb38_row4_col1, #T_0eb38_row8_col6 {\n",
       "  background-color: #feca79;\n",
       "  color: #000000;\n",
       "}\n",
       "#T_0eb38_row1_col4, #T_0eb38_row5_col3, #T_0eb38_row7_col9 {\n",
       "  background-color: #fdbb6c;\n",
       "  color: #000000;\n",
       "}\n",
       "#T_0eb38_row1_col5, #T_0eb38_row9_col7 {\n",
       "  background-color: #fdc171;\n",
       "  color: #000000;\n",
       "}\n",
       "#T_0eb38_row1_col6 {\n",
       "  background-color: #e54e35;\n",
       "  color: #f1f1f1;\n",
       "}\n",
       "#T_0eb38_row1_col7 {\n",
       "  background-color: #b50f26;\n",
       "  color: #f1f1f1;\n",
       "}\n",
       "#T_0eb38_row1_col8, #T_0eb38_row1_col9 {\n",
       "  background-color: #af0926;\n",
       "  color: #f1f1f1;\n",
       "}\n",
       "#T_0eb38_row2_col0 {\n",
       "  background-color: #f57748;\n",
       "  color: #f1f1f1;\n",
       "}\n",
       "#T_0eb38_row2_col1 {\n",
       "  background-color: #1b9950;\n",
       "  color: #f1f1f1;\n",
       "}\n",
       "#T_0eb38_row2_col3, #T_0eb38_row6_col8 {\n",
       "  background-color: #fed683;\n",
       "  color: #000000;\n",
       "}\n",
       "#T_0eb38_row2_col4 {\n",
       "  background-color: #fdc372;\n",
       "  color: #000000;\n",
       "}\n",
       "#T_0eb38_row2_col6 {\n",
       "  background-color: #e75337;\n",
       "  color: #f1f1f1;\n",
       "}\n",
       "#T_0eb38_row2_col7, #T_0eb38_row2_col8 {\n",
       "  background-color: #b30d26;\n",
       "  color: #f1f1f1;\n",
       "}\n",
       "#T_0eb38_row3_col0, #T_0eb38_row3_col5 {\n",
       "  background-color: #fb9d59;\n",
       "  color: #000000;\n",
       "}\n",
       "#T_0eb38_row3_col1 {\n",
       "  background-color: #fdc776;\n",
       "  color: #000000;\n",
       "}\n",
       "#T_0eb38_row3_col2, #T_0eb38_row4_col2 {\n",
       "  background-color: #fed884;\n",
       "  color: #000000;\n",
       "}\n",
       "#T_0eb38_row3_col4 {\n",
       "  background-color: #f88c51;\n",
       "  color: #f1f1f1;\n",
       "}\n",
       "#T_0eb38_row3_col6, #T_0eb38_row5_col6, #T_0eb38_row5_col8 {\n",
       "  background-color: #e14430;\n",
       "  color: #f1f1f1;\n",
       "}\n",
       "#T_0eb38_row3_col7 {\n",
       "  background-color: #cc2627;\n",
       "  color: #f1f1f1;\n",
       "}\n",
       "#T_0eb38_row3_col9 {\n",
       "  background-color: #bd1726;\n",
       "  color: #f1f1f1;\n",
       "}\n",
       "#T_0eb38_row4_col0, #T_0eb38_row5_col7 {\n",
       "  background-color: #e34933;\n",
       "  color: #f1f1f1;\n",
       "}\n",
       "#T_0eb38_row4_col3 {\n",
       "  background-color: #fca85e;\n",
       "  color: #000000;\n",
       "}\n",
       "#T_0eb38_row4_col5, #T_0eb38_row7_col6 {\n",
       "  background-color: #57b65f;\n",
       "  color: #f1f1f1;\n",
       "}\n",
       "#T_0eb38_row4_col6 {\n",
       "  background-color: #dd3d2d;\n",
       "  color: #f1f1f1;\n",
       "}\n",
       "#T_0eb38_row4_col7, #T_0eb38_row9_col6 {\n",
       "  background-color: #ef633f;\n",
       "  color: #f1f1f1;\n",
       "}\n",
       "#T_0eb38_row4_col8 {\n",
       "  background-color: #f16640;\n",
       "  color: #f1f1f1;\n",
       "}\n",
       "#T_0eb38_row5_col1 {\n",
       "  background-color: #fed481;\n",
       "  color: #000000;\n",
       "}\n",
       "#T_0eb38_row5_col2 {\n",
       "  background-color: #fee18d;\n",
       "  color: #000000;\n",
       "}\n",
       "#T_0eb38_row5_col4 {\n",
       "  background-color: #54b45f;\n",
       "  color: #f1f1f1;\n",
       "}\n",
       "#T_0eb38_row5_col9 {\n",
       "  background-color: #ca2427;\n",
       "  color: #f1f1f1;\n",
       "}\n",
       "#T_0eb38_row6_col0 {\n",
       "  background-color: #c21c27;\n",
       "  color: #f1f1f1;\n",
       "}\n",
       "#T_0eb38_row6_col1 {\n",
       "  background-color: #ec5c3b;\n",
       "  color: #f1f1f1;\n",
       "}\n",
       "#T_0eb38_row6_col2 {\n",
       "  background-color: #f36b42;\n",
       "  color: #f1f1f1;\n",
       "}\n",
       "#T_0eb38_row6_col3 {\n",
       "  background-color: #ea5739;\n",
       "  color: #f1f1f1;\n",
       "}\n",
       "#T_0eb38_row6_col4, #T_0eb38_row9_col0 {\n",
       "  background-color: #d83128;\n",
       "  color: #f1f1f1;\n",
       "}\n",
       "#T_0eb38_row6_col5 {\n",
       "  background-color: #da362a;\n",
       "  color: #f1f1f1;\n",
       "}\n",
       "#T_0eb38_row6_col7 {\n",
       "  background-color: #4eb15d;\n",
       "  color: #f1f1f1;\n",
       "}\n",
       "#T_0eb38_row6_col9 {\n",
       "  background-color: #f67c4a;\n",
       "  color: #f1f1f1;\n",
       "}\n",
       "#T_0eb38_row7_col3, #T_0eb38_row7_col5 {\n",
       "  background-color: #c01a27;\n",
       "  color: #f1f1f1;\n",
       "}\n",
       "#T_0eb38_row7_col8 {\n",
       "  background-color: #87cb67;\n",
       "  color: #000000;\n",
       "}\n",
       "#T_0eb38_row8_col0, #T_0eb38_row9_col3 {\n",
       "  background-color: #b91326;\n",
       "  color: #f1f1f1;\n",
       "}\n",
       "#T_0eb38_row8_col2 {\n",
       "  background-color: #b71126;\n",
       "  color: #f1f1f1;\n",
       "}\n",
       "#T_0eb38_row8_col4 {\n",
       "  background-color: #e24731;\n",
       "  color: #f1f1f1;\n",
       "}\n",
       "#T_0eb38_row8_col5 {\n",
       "  background-color: #c82227;\n",
       "  color: #f1f1f1;\n",
       "}\n",
       "#T_0eb38_row8_col7 {\n",
       "  background-color: #82c966;\n",
       "  color: #000000;\n",
       "}\n",
       "#T_0eb38_row8_col9 {\n",
       "  background-color: #fdbd6d;\n",
       "  color: #000000;\n",
       "}\n",
       "#T_0eb38_row9_col8 {\n",
       "  background-color: #fdb96a;\n",
       "  color: #000000;\n",
       "}\n",
       "</style>\n",
       "<table id=\"T_0eb38_\">\n",
       "  <thead>\n",
       "    <tr>\n",
       "      <th class=\"blank level0\" >&nbsp;</th>\n",
       "      <th class=\"col_heading level0 col0\" >Age</th>\n",
       "      <th class=\"col_heading level0 col1\" >Total_Bilirubin</th>\n",
       "      <th class=\"col_heading level0 col2\" >Direct_Bilirubin</th>\n",
       "      <th class=\"col_heading level0 col3\" >Alkaline_Phosphotase</th>\n",
       "      <th class=\"col_heading level0 col4\" >Alamine_Aminotransferase</th>\n",
       "      <th class=\"col_heading level0 col5\" >Aspartate_Aminotransferase</th>\n",
       "      <th class=\"col_heading level0 col6\" >Total_Protiens</th>\n",
       "      <th class=\"col_heading level0 col7\" >Albumin</th>\n",
       "      <th class=\"col_heading level0 col8\" >Albumin_and_Globulin_Ratio</th>\n",
       "      <th class=\"col_heading level0 col9\" >Dataset</th>\n",
       "    </tr>\n",
       "  </thead>\n",
       "  <tbody>\n",
       "    <tr>\n",
       "      <th id=\"T_0eb38_level0_row0\" class=\"row_heading level0 row0\" >Age</th>\n",
       "      <td id=\"T_0eb38_row0_col0\" class=\"data row0 col0\" >1.000000</td>\n",
       "      <td id=\"T_0eb38_row0_col1\" class=\"data row0 col1\" >0.011763</td>\n",
       "      <td id=\"T_0eb38_row0_col2\" class=\"data row0 col2\" >0.007529</td>\n",
       "      <td id=\"T_0eb38_row0_col3\" class=\"data row0 col3\" >0.080425</td>\n",
       "      <td id=\"T_0eb38_row0_col4\" class=\"data row0 col4\" >-0.086883</td>\n",
       "      <td id=\"T_0eb38_row0_col5\" class=\"data row0 col5\" >-0.019910</td>\n",
       "      <td id=\"T_0eb38_row0_col6\" class=\"data row0 col6\" >-0.187461</td>\n",
       "      <td id=\"T_0eb38_row0_col7\" class=\"data row0 col7\" >-0.265924</td>\n",
       "      <td id=\"T_0eb38_row0_col8\" class=\"data row0 col8\" >-0.216408</td>\n",
       "      <td id=\"T_0eb38_row0_col9\" class=\"data row0 col9\" >-0.137351</td>\n",
       "    </tr>\n",
       "    <tr>\n",
       "      <th id=\"T_0eb38_level0_row1\" class=\"row_heading level0 row1\" >Total_Bilirubin</th>\n",
       "      <td id=\"T_0eb38_row1_col0\" class=\"data row1 col0\" >0.011763</td>\n",
       "      <td id=\"T_0eb38_row1_col1\" class=\"data row1 col1\" >1.000000</td>\n",
       "      <td id=\"T_0eb38_row1_col2\" class=\"data row1 col2\" >0.874618</td>\n",
       "      <td id=\"T_0eb38_row1_col3\" class=\"data row1 col3\" >0.206669</td>\n",
       "      <td id=\"T_0eb38_row1_col4\" class=\"data row1 col4\" >0.214065</td>\n",
       "      <td id=\"T_0eb38_row1_col5\" class=\"data row1 col5\" >0.237831</td>\n",
       "      <td id=\"T_0eb38_row1_col6\" class=\"data row1 col6\" >-0.008099</td>\n",
       "      <td id=\"T_0eb38_row1_col7\" class=\"data row1 col7\" >-0.222250</td>\n",
       "      <td id=\"T_0eb38_row1_col8\" class=\"data row1 col8\" >-0.206267</td>\n",
       "      <td id=\"T_0eb38_row1_col9\" class=\"data row1 col9\" >-0.220208</td>\n",
       "    </tr>\n",
       "    <tr>\n",
       "      <th id=\"T_0eb38_level0_row2\" class=\"row_heading level0 row2\" >Direct_Bilirubin</th>\n",
       "      <td id=\"T_0eb38_row2_col0\" class=\"data row2 col0\" >0.007529</td>\n",
       "      <td id=\"T_0eb38_row2_col1\" class=\"data row2 col1\" >0.874618</td>\n",
       "      <td id=\"T_0eb38_row2_col2\" class=\"data row2 col2\" >1.000000</td>\n",
       "      <td id=\"T_0eb38_row2_col3\" class=\"data row2 col3\" >0.234939</td>\n",
       "      <td id=\"T_0eb38_row2_col4\" class=\"data row2 col4\" >0.233894</td>\n",
       "      <td id=\"T_0eb38_row2_col5\" class=\"data row2 col5\" >0.257544</td>\n",
       "      <td id=\"T_0eb38_row2_col6\" class=\"data row2 col6\" >-0.000139</td>\n",
       "      <td id=\"T_0eb38_row2_col7\" class=\"data row2 col7\" >-0.228531</td>\n",
       "      <td id=\"T_0eb38_row2_col8\" class=\"data row2 col8\" >-0.200125</td>\n",
       "      <td id=\"T_0eb38_row2_col9\" class=\"data row2 col9\" >-0.246046</td>\n",
       "    </tr>\n",
       "    <tr>\n",
       "      <th id=\"T_0eb38_level0_row3\" class=\"row_heading level0 row3\" >Alkaline_Phosphotase</th>\n",
       "      <td id=\"T_0eb38_row3_col0\" class=\"data row3 col0\" >0.080425</td>\n",
       "      <td id=\"T_0eb38_row3_col1\" class=\"data row3 col1\" >0.206669</td>\n",
       "      <td id=\"T_0eb38_row3_col2\" class=\"data row3 col2\" >0.234939</td>\n",
       "      <td id=\"T_0eb38_row3_col3\" class=\"data row3 col3\" >1.000000</td>\n",
       "      <td id=\"T_0eb38_row3_col4\" class=\"data row3 col4\" >0.125680</td>\n",
       "      <td id=\"T_0eb38_row3_col5\" class=\"data row3 col5\" >0.167196</td>\n",
       "      <td id=\"T_0eb38_row3_col6\" class=\"data row3 col6\" >-0.028514</td>\n",
       "      <td id=\"T_0eb38_row3_col7\" class=\"data row3 col7\" >-0.165453</td>\n",
       "      <td id=\"T_0eb38_row3_col8\" class=\"data row3 col8\" >-0.234166</td>\n",
       "      <td id=\"T_0eb38_row3_col9\" class=\"data row3 col9\" >-0.184866</td>\n",
       "    </tr>\n",
       "    <tr>\n",
       "      <th id=\"T_0eb38_level0_row4\" class=\"row_heading level0 row4\" >Alamine_Aminotransferase</th>\n",
       "      <td id=\"T_0eb38_row4_col0\" class=\"data row4 col0\" >-0.086883</td>\n",
       "      <td id=\"T_0eb38_row4_col1\" class=\"data row4 col1\" >0.214065</td>\n",
       "      <td id=\"T_0eb38_row4_col2\" class=\"data row4 col2\" >0.233894</td>\n",
       "      <td id=\"T_0eb38_row4_col3\" class=\"data row4 col3\" >0.125680</td>\n",
       "      <td id=\"T_0eb38_row4_col4\" class=\"data row4 col4\" >1.000000</td>\n",
       "      <td id=\"T_0eb38_row4_col5\" class=\"data row4 col5\" >0.791966</td>\n",
       "      <td id=\"T_0eb38_row4_col6\" class=\"data row4 col6\" >-0.042518</td>\n",
       "      <td id=\"T_0eb38_row4_col7\" class=\"data row4 col7\" >-0.029742</td>\n",
       "      <td id=\"T_0eb38_row4_col8\" class=\"data row4 col8\" >-0.002375</td>\n",
       "      <td id=\"T_0eb38_row4_col9\" class=\"data row4 col9\" >-0.163416</td>\n",
       "    </tr>\n",
       "    <tr>\n",
       "      <th id=\"T_0eb38_level0_row5\" class=\"row_heading level0 row5\" >Aspartate_Aminotransferase</th>\n",
       "      <td id=\"T_0eb38_row5_col0\" class=\"data row5 col0\" >-0.019910</td>\n",
       "      <td id=\"T_0eb38_row5_col1\" class=\"data row5 col1\" >0.237831</td>\n",
       "      <td id=\"T_0eb38_row5_col2\" class=\"data row5 col2\" >0.257544</td>\n",
       "      <td id=\"T_0eb38_row5_col3\" class=\"data row5 col3\" >0.167196</td>\n",
       "      <td id=\"T_0eb38_row5_col4\" class=\"data row5 col4\" >0.791966</td>\n",
       "      <td id=\"T_0eb38_row5_col5\" class=\"data row5 col5\" >1.000000</td>\n",
       "      <td id=\"T_0eb38_row5_col6\" class=\"data row5 col6\" >-0.025645</td>\n",
       "      <td id=\"T_0eb38_row5_col7\" class=\"data row5 col7\" >-0.085290</td>\n",
       "      <td id=\"T_0eb38_row5_col8\" class=\"data row5 col8\" >-0.070040</td>\n",
       "      <td id=\"T_0eb38_row5_col9\" class=\"data row5 col9\" >-0.151934</td>\n",
       "    </tr>\n",
       "    <tr>\n",
       "      <th id=\"T_0eb38_level0_row6\" class=\"row_heading level0 row6\" >Total_Protiens</th>\n",
       "      <td id=\"T_0eb38_row6_col0\" class=\"data row6 col0\" >-0.187461</td>\n",
       "      <td id=\"T_0eb38_row6_col1\" class=\"data row6 col1\" >-0.008099</td>\n",
       "      <td id=\"T_0eb38_row6_col2\" class=\"data row6 col2\" >-0.000139</td>\n",
       "      <td id=\"T_0eb38_row6_col3\" class=\"data row6 col3\" >-0.028514</td>\n",
       "      <td id=\"T_0eb38_row6_col4\" class=\"data row6 col4\" >-0.042518</td>\n",
       "      <td id=\"T_0eb38_row6_col5\" class=\"data row6 col5\" >-0.025645</td>\n",
       "      <td id=\"T_0eb38_row6_col6\" class=\"data row6 col6\" >1.000000</td>\n",
       "      <td id=\"T_0eb38_row6_col7\" class=\"data row6 col7\" >0.784053</td>\n",
       "      <td id=\"T_0eb38_row6_col8\" class=\"data row6 col8\" >0.234887</td>\n",
       "      <td id=\"T_0eb38_row6_col9\" class=\"data row6 col9\" >0.035008</td>\n",
       "    </tr>\n",
       "    <tr>\n",
       "      <th id=\"T_0eb38_level0_row7\" class=\"row_heading level0 row7\" >Albumin</th>\n",
       "      <td id=\"T_0eb38_row7_col0\" class=\"data row7 col0\" >-0.265924</td>\n",
       "      <td id=\"T_0eb38_row7_col1\" class=\"data row7 col1\" >-0.222250</td>\n",
       "      <td id=\"T_0eb38_row7_col2\" class=\"data row7 col2\" >-0.228531</td>\n",
       "      <td id=\"T_0eb38_row7_col3\" class=\"data row7 col3\" >-0.165453</td>\n",
       "      <td id=\"T_0eb38_row7_col4\" class=\"data row7 col4\" >-0.029742</td>\n",
       "      <td id=\"T_0eb38_row7_col5\" class=\"data row7 col5\" >-0.085290</td>\n",
       "      <td id=\"T_0eb38_row7_col6\" class=\"data row7 col6\" >0.784053</td>\n",
       "      <td id=\"T_0eb38_row7_col7\" class=\"data row7 col7\" >1.000000</td>\n",
       "      <td id=\"T_0eb38_row7_col8\" class=\"data row7 col8\" >0.689632</td>\n",
       "      <td id=\"T_0eb38_row7_col9\" class=\"data row7 col9\" >0.161388</td>\n",
       "    </tr>\n",
       "    <tr>\n",
       "      <th id=\"T_0eb38_level0_row8\" class=\"row_heading level0 row8\" >Albumin_and_Globulin_Ratio</th>\n",
       "      <td id=\"T_0eb38_row8_col0\" class=\"data row8 col0\" >-0.216408</td>\n",
       "      <td id=\"T_0eb38_row8_col1\" class=\"data row8 col1\" >-0.206267</td>\n",
       "      <td id=\"T_0eb38_row8_col2\" class=\"data row8 col2\" >-0.200125</td>\n",
       "      <td id=\"T_0eb38_row8_col3\" class=\"data row8 col3\" >-0.234166</td>\n",
       "      <td id=\"T_0eb38_row8_col4\" class=\"data row8 col4\" >-0.002375</td>\n",
       "      <td id=\"T_0eb38_row8_col5\" class=\"data row8 col5\" >-0.070040</td>\n",
       "      <td id=\"T_0eb38_row8_col6\" class=\"data row8 col6\" >0.234887</td>\n",
       "      <td id=\"T_0eb38_row8_col7\" class=\"data row8 col7\" >0.689632</td>\n",
       "      <td id=\"T_0eb38_row8_col8\" class=\"data row8 col8\" >1.000000</td>\n",
       "      <td id=\"T_0eb38_row8_col9\" class=\"data row8 col9\" >0.163131</td>\n",
       "    </tr>\n",
       "    <tr>\n",
       "      <th id=\"T_0eb38_level0_row9\" class=\"row_heading level0 row9\" >Dataset</th>\n",
       "      <td id=\"T_0eb38_row9_col0\" class=\"data row9 col0\" >-0.137351</td>\n",
       "      <td id=\"T_0eb38_row9_col1\" class=\"data row9 col1\" >-0.220208</td>\n",
       "      <td id=\"T_0eb38_row9_col2\" class=\"data row9 col2\" >-0.246046</td>\n",
       "      <td id=\"T_0eb38_row9_col3\" class=\"data row9 col3\" >-0.184866</td>\n",
       "      <td id=\"T_0eb38_row9_col4\" class=\"data row9 col4\" >-0.163416</td>\n",
       "      <td id=\"T_0eb38_row9_col5\" class=\"data row9 col5\" >-0.151934</td>\n",
       "      <td id=\"T_0eb38_row9_col6\" class=\"data row9 col6\" >0.035008</td>\n",
       "      <td id=\"T_0eb38_row9_col7\" class=\"data row9 col7\" >0.161388</td>\n",
       "      <td id=\"T_0eb38_row9_col8\" class=\"data row9 col8\" >0.163131</td>\n",
       "      <td id=\"T_0eb38_row9_col9\" class=\"data row9 col9\" >1.000000</td>\n",
       "    </tr>\n",
       "  </tbody>\n",
       "</table>\n"
      ],
      "text/plain": [
       "<pandas.io.formats.style.Styler at 0x1d93d0b8>"
      ]
     },
     "execution_count": 149,
     "metadata": {},
     "output_type": "execute_result"
    }
   ],
   "source": [
    "data.corr().style.background_gradient(cmap='RdYlGn')\n"
   ]
  },
  {
   "cell_type": "code",
   "execution_count": null,
   "metadata": {},
   "outputs": [],
   "source": [
    "data = data['Total_Bilirubin', 'Direct_Bilirubin', 'Alamine_Aminotransferase', 'Aspartate_Aminotransferase', ]"
   ]
  },
  {
   "cell_type": "markdown",
   "metadata": {
    "colab_type": "text",
    "id": "XyNNmtvIDDy3"
   },
   "source": [
    "Columns:\n",
    "\n",
    "*  Age of the patient\n",
    "*  Gender of the patient\n",
    "*  Total Bilirubin\n",
    "*  Direct Bilirubin\n",
    "*  Alkaline Phosphotase\n",
    "*  Alamine Aminotransferase\n",
    "*  Aspartate Aminotransferase\n",
    "*  Total Protiens\n",
    "*  Albumin\n",
    "*  Albumin and Globulin Ratio\n",
    "*  Dataset: field used to split the data into two sets (patient with liver disease, or no disease)\n"
   ]
  },
  {
   "cell_type": "code",
   "execution_count": 18,
   "metadata": {},
   "outputs": [
    {
     "data": {
      "text/plain": [
       "array([ 2,  4,  8, 16, 32], dtype=int32)"
      ]
     },
     "execution_count": 18,
     "metadata": {},
     "output_type": "execute_result"
    }
   ],
   "source": [
    "n = np.array([1,2,3,4,5])\n",
    "b = np.arr\n",
    "2 ** n"
   ]
  },
  {
   "cell_type": "code",
   "execution_count": null,
   "metadata": {},
   "outputs": [],
   "source": [
    "direct = data.Direct_Bilirubin.to_numpy().reshape(-1,1)\n",
    "tatal = data.Total_Bilirubin.to_numpy().reshape(-1,1)\n",
    "res = data.Dataset.to_numpy().reshape(-1,1)\n",
    "# sns.regplot(x=direct, y=tatal)\n",
    "x = np.hstack((direct, tatal))\n",
    "x"
   ]
  },
  {
   "cell_type": "code",
   "execution_count": null,
   "metadata": {},
   "outputs": [],
   "source": [
    "data.Gender = data.Gender.apply(lambda x: 1 if x == 'Male' else 0)\n",
    "data"
   ]
  },
  {
   "cell_type": "code",
   "execution_count": null,
   "metadata": {},
   "outputs": [],
   "source": [
    "data.iloc[:, :-1]"
   ]
  },
  {
   "cell_type": "code",
   "execution_count": 105,
   "metadata": {},
   "outputs": [],
   "source": [
    "x = data.iloc[:, :-1].to_numpy()\n",
    "y = data.Dataset.to_numpy()"
   ]
  },
  {
   "cell_type": "code",
   "execution_count": 125,
   "metadata": {},
   "outputs": [
    {
     "data": {
      "text/plain": [
       "1"
      ]
     },
     "execution_count": 125,
     "metadata": {},
     "output_type": "execute_result"
    }
   ],
   "source": [
    "y[0]"
   ]
  },
  {
   "cell_type": "code",
   "execution_count": 100,
   "metadata": {},
   "outputs": [],
   "source": [
    "data.dropna(inplace=True)"
   ]
  },
  {
   "cell_type": "code",
   "execution_count": 107,
   "metadata": {},
   "outputs": [
    {
     "name": "stderr",
     "output_type": "stream",
     "text": [
      "c:\\python\\lib\\site-packages\\sklearn\\linear_model\\_logistic.py:818: ConvergenceWarning: lbfgs failed to converge (status=1):\n",
      "STOP: TOTAL NO. of ITERATIONS REACHED LIMIT.\n",
      "\n",
      "Increase the number of iterations (max_iter) or scale the data as shown in:\n",
      "    https://scikit-learn.org/stable/modules/preprocessing.html\n",
      "Please also refer to the documentation for alternative solver options:\n",
      "    https://scikit-learn.org/stable/modules/linear_model.html#logistic-regression\n",
      "  extra_warning_msg=_LOGISTIC_SOLVER_CONVERGENCE_MSG,\n"
     ]
    }
   ],
   "source": [
    "from sklearn.linear_model import LogisticRegression\n",
    "log_model = LogisticRegression().fit(x, y)"
   ]
  },
  {
   "cell_type": "code",
   "execution_count": 135,
   "metadata": {},
   "outputs": [],
   "source": [
    "dft = pd.DataFrame(columns=['real', 'predict'])\n"
   ]
  },
  {
   "cell_type": "code",
   "execution_count": 127,
   "metadata": {},
   "outputs": [
    {
     "data": {
      "text/html": [
       "<div>\n",
       "<style scoped>\n",
       "    .dataframe tbody tr th:only-of-type {\n",
       "        vertical-align: middle;\n",
       "    }\n",
       "\n",
       "    .dataframe tbody tr th {\n",
       "        vertical-align: top;\n",
       "    }\n",
       "\n",
       "    .dataframe thead th {\n",
       "        text-align: right;\n",
       "    }\n",
       "</style>\n",
       "<table border=\"1\" class=\"dataframe\">\n",
       "  <thead>\n",
       "    <tr style=\"text-align: right;\">\n",
       "      <th></th>\n",
       "      <th>real</th>\n",
       "      <th>predict</th>\n",
       "    </tr>\n",
       "  </thead>\n",
       "  <tbody>\n",
       "    <tr>\n",
       "      <th>1</th>\n",
       "      <td>1</td>\n",
       "      <td>2</td>\n",
       "    </tr>\n",
       "  </tbody>\n",
       "</table>\n",
       "</div>"
      ],
      "text/plain": [
       "  real predict\n",
       "1    1       2"
      ]
     },
     "execution_count": 127,
     "metadata": {},
     "output_type": "execute_result"
    }
   ],
   "source": [
    "dft"
   ]
  },
  {
   "cell_type": "code",
   "execution_count": 140,
   "metadata": {},
   "outputs": [],
   "source": [
    "dft = pd.DataFrame(columns=['real', 'predict'])\n",
    "for i in range(len(x)):\n",
    "    dft.loc[i] = [y[i], log_model.predict(x[i].reshape(1,-1))[0]]\n"
   ]
  },
  {
   "cell_type": "code",
   "execution_count": 142,
   "metadata": {},
   "outputs": [],
   "source": [
    "dft['res'] = dft.real == dft.predict"
   ]
  },
  {
   "cell_type": "code",
   "execution_count": 134,
   "metadata": {},
   "outputs": [
    {
     "data": {
      "text/plain": [
       "1"
      ]
     },
     "execution_count": 134,
     "metadata": {},
     "output_type": "execute_result"
    }
   ],
   "source": [
    "log_model.predict(x[0].reshape(1,-1))[0]"
   ]
  },
  {
   "cell_type": "code",
   "execution_count": 143,
   "metadata": {},
   "outputs": [
    {
     "data": {
      "text/html": [
       "<div>\n",
       "<style scoped>\n",
       "    .dataframe tbody tr th:only-of-type {\n",
       "        vertical-align: middle;\n",
       "    }\n",
       "\n",
       "    .dataframe tbody tr th {\n",
       "        vertical-align: top;\n",
       "    }\n",
       "\n",
       "    .dataframe thead th {\n",
       "        text-align: right;\n",
       "    }\n",
       "</style>\n",
       "<table border=\"1\" class=\"dataframe\">\n",
       "  <thead>\n",
       "    <tr style=\"text-align: right;\">\n",
       "      <th></th>\n",
       "      <th>real</th>\n",
       "      <th>predict</th>\n",
       "      <th>res</th>\n",
       "    </tr>\n",
       "  </thead>\n",
       "  <tbody>\n",
       "    <tr>\n",
       "      <th>0</th>\n",
       "      <td>1</td>\n",
       "      <td>1</td>\n",
       "      <td>True</td>\n",
       "    </tr>\n",
       "    <tr>\n",
       "      <th>1</th>\n",
       "      <td>1</td>\n",
       "      <td>1</td>\n",
       "      <td>True</td>\n",
       "    </tr>\n",
       "    <tr>\n",
       "      <th>2</th>\n",
       "      <td>1</td>\n",
       "      <td>1</td>\n",
       "      <td>True</td>\n",
       "    </tr>\n",
       "    <tr>\n",
       "      <th>3</th>\n",
       "      <td>1</td>\n",
       "      <td>1</td>\n",
       "      <td>True</td>\n",
       "    </tr>\n",
       "    <tr>\n",
       "      <th>4</th>\n",
       "      <td>1</td>\n",
       "      <td>1</td>\n",
       "      <td>True</td>\n",
       "    </tr>\n",
       "  </tbody>\n",
       "</table>\n",
       "</div>"
      ],
      "text/plain": [
       "  real predict   res\n",
       "0    1       1  True\n",
       "1    1       1  True\n",
       "2    1       1  True\n",
       "3    1       1  True\n",
       "4    1       1  True"
      ]
     },
     "execution_count": 143,
     "metadata": {},
     "output_type": "execute_result"
    }
   ],
   "source": [
    "dft.head()"
   ]
  },
  {
   "cell_type": "code",
   "execution_count": 145,
   "metadata": {},
   "outputs": [
    {
     "data": {
      "text/plain": [
       "0.7219343696027634"
      ]
     },
     "execution_count": 145,
     "metadata": {},
     "output_type": "execute_result"
    }
   ],
   "source": [
    "sum(dft.res) / len(dft)"
   ]
  },
  {
   "cell_type": "code",
   "execution_count": 120,
   "metadata": {},
   "outputs": [
    {
     "data": {
      "text/plain": [
       "(579,\n",
       " 579,\n",
       " array([[6.50e+01, 0.00e+00, 7.00e-01, 1.00e-01, 1.87e+02, 1.60e+01,\n",
       "         1.80e+01, 6.80e+00, 3.30e+00, 9.00e-01]]))"
      ]
     },
     "execution_count": 120,
     "metadata": {},
     "output_type": "execute_result"
    }
   ],
   "source": [
    "len(x), len(y), x[0].reshape(1,-1)"
   ]
  },
  {
   "cell_type": "code",
   "execution_count": 57,
   "metadata": {},
   "outputs": [],
   "source": [
    "from sklearn.model_selection import train_test_split\n",
    "x_tr, x_te, y_tr, y_te = train_test_split(x, res, test_size=0.2)"
   ]
  },
  {
   "cell_type": "code",
   "execution_count": 58,
   "metadata": {},
   "outputs": [],
   "source": [
    "from sklearn.linear_model import LinearRegression\n",
    "model = LinearRegression().fit(x_tr, y_tr)"
   ]
  },
  {
   "cell_type": "code",
   "execution_count": 59,
   "metadata": {},
   "outputs": [
    {
     "data": {
      "text/plain": [
       "array([[-0.03769747, -0.00162819]])"
      ]
     },
     "execution_count": 59,
     "metadata": {},
     "output_type": "execute_result"
    }
   ],
   "source": [
    "model.coef_"
   ]
  },
  {
   "cell_type": "code",
   "execution_count": 62,
   "metadata": {},
   "outputs": [
    {
     "data": {
      "text/plain": [
       "array([[0.1],\n",
       "       [0.7]])"
      ]
     },
     "execution_count": 62,
     "metadata": {},
     "output_type": "execute_result"
    }
   ],
   "source": []
  },
  {
   "cell_type": "code",
   "execution_count": 67,
   "metadata": {},
   "outputs": [
    {
     "data": {
      "text/plain": [
       "array([[1.3258136]])"
      ]
     },
     "execution_count": 67,
     "metadata": {},
     "output_type": "execute_result"
    }
   ],
   "source": [
    "model.predict(x[5].reshape(1,-1))"
   ]
  },
  {
   "cell_type": "code",
   "execution_count": 20,
   "metadata": {},
   "outputs": [
    {
     "data": {
      "text/plain": [
       "PolynomialFeatures()"
      ]
     },
     "execution_count": 20,
     "metadata": {},
     "output_type": "execute_result"
    }
   ],
   "source": [
    "from sklearn.preprocessing import PolynomialFeatures\n",
    "poly_model = PolynomialFeatures(degree = 2)\n",
    "poly_model"
   ]
  },
  {
   "cell_type": "code",
   "execution_count": null,
   "metadata": {},
   "outputs": [],
   "source": [
    "y = data.Total_Bilirubin.to_numpy().reshape(-1,1)\n",
    "x = data.Direct_Bilirubin.to_numpy().reshape(-1,1)\n",
    "# plt.scatter(x,y)"
   ]
  },
  {
   "cell_type": "code",
   "execution_count": 24,
   "metadata": {},
   "outputs": [],
   "source": [
    "x_poly = poly_model.fit_transform(x)"
   ]
  },
  {
   "cell_type": "code",
   "execution_count": 25,
   "metadata": {},
   "outputs": [
    {
     "data": {
      "text/plain": [
       "array([[0.1],\n",
       "       [5.5],\n",
       "       [4.1]])"
      ]
     },
     "execution_count": 25,
     "metadata": {},
     "output_type": "execute_result"
    }
   ],
   "source": [
    "x[:3]"
   ]
  },
  {
   "cell_type": "code",
   "execution_count": 26,
   "metadata": {},
   "outputs": [
    {
     "data": {
      "text/plain": [
       "array([[1.000e+00, 1.000e-01, 1.000e-02],\n",
       "       [1.000e+00, 5.500e+00, 3.025e+01],\n",
       "       [1.000e+00, 4.100e+00, 1.681e+01]])"
      ]
     },
     "execution_count": 26,
     "metadata": {},
     "output_type": "execute_result"
    }
   ],
   "source": [
    "x_poly[:3]"
   ]
  },
  {
   "cell_type": "code",
   "execution_count": null,
   "metadata": {},
   "outputs": [],
   "source": [
    "direct"
   ]
  },
  {
   "cell_type": "code",
   "execution_count": 52,
   "metadata": {},
   "outputs": [
    {
     "data": {
      "text/plain": [
       "PolynomialFeatures()"
      ]
     },
     "execution_count": 52,
     "metadata": {},
     "output_type": "execute_result"
    }
   ],
   "source": [
    "x_poly = poly_model.fit_transform(direct)\n",
    "poly_model.fit(x_poly, tatal)"
   ]
  },
  {
   "cell_type": "code",
   "execution_count": null,
   "metadata": {},
   "outputs": [],
   "source": [
    "y_poly_pred = model"
   ]
  },
  {
   "cell_type": "code",
   "execution_count": 8,
   "metadata": {},
   "outputs": [],
   "source": [
    "y_pred = model.predict(x_te)"
   ]
  },
  {
   "cell_type": "code",
   "execution_count": null,
   "metadata": {},
   "outputs": [],
   "source": [
    "direct[0]"
   ]
  },
  {
   "cell_type": "code",
   "execution_count": 17,
   "metadata": {},
   "outputs": [
    {
     "data": {
      "text/plain": [
       "array([[0.52378346]])"
      ]
     },
     "execution_count": 17,
     "metadata": {},
     "output_type": "execute_result"
    }
   ],
   "source": [
    "model.predict(direct[0].reshape(-1,1))"
   ]
  },
  {
   "cell_type": "code",
   "execution_count": 14,
   "metadata": {},
   "outputs": [
    {
     "data": {
      "text/plain": [
       "6.312265597750265"
      ]
     },
     "execution_count": 14,
     "metadata": {},
     "output_type": "execute_result"
    }
   ],
   "source": [
    "from sklearn.metrics import mean_squared_error\n",
    "mean_squared_error(y_te, y_pred, squared=False)"
   ]
  },
  {
   "cell_type": "code",
   "execution_count": null,
   "metadata": {},
   "outputs": [],
   "source": [
    "plt.scatter(direct, tatal)\n",
    "plt.plot(direct, model.predict(direct), c='red')\n",
    "plt.plot(direct, model.predict(poly_model.fit_transform(direct)), c='green')"
   ]
  },
  {
   "cell_type": "markdown",
   "metadata": {},
   "source": [
    "Dataset: пациент с болезнью печени - 1,\n",
    "         пациент не болеет - 2"
   ]
  },
  {
   "cell_type": "markdown",
   "metadata": {
    "colab_type": "text",
    "id": "3v0ZWcBVSOXK"
   },
   "source": [
    "Построить одномерную линейную регрессию Direct_Bilirubin и Total_Bilirubin, предварительно разделив данные на 80% тренировочных и 20% тестовых. Построить график: исходных тренировочных и тестовых данных, а также прямой линейной регрессии."
   ]
  },
  {
   "cell_type": "markdown",
   "metadata": {},
   "source": [
    "Построить одномерную полиномиальную регрессию на Direct_Bilirubin и Total_Bilirubin, используя тренировочные и тестовые данные из шага выше. Проверить точность предсказаний на тестовых данных. Получилось ли улучшить результат?"
   ]
  },
  {
   "cell_type": "markdown",
   "metadata": {
    "colab_type": "text",
    "id": "bv5rdcvPSi_O"
   },
   "source": [
    "Построить многомерную **логистическую регрессию** для предсказания болезни (Dataset) от всех параметров, предварительно разделив данные на 80% тренировочных и 20% тестовых. Сделать классификационный отчет (куда включить количество найденных параметров true positive и false negative). Посмотреть какой получился результат.\n",
    "\n",
    "Улучшить модель за счет уменьшения параметров, отобранных для обучения модели. Выбрать только те атрибуты, которые коррелируют с таргет значением (атрибут Dataset) более 50% (нужно будет построить матрицу корреляций и посмотреть в ней параметры, наиболее коррелирующие с Dataset атрибутом). Проверить модель на тестовых данных, полученных выше. Построить классификационный отчет, сделать сравнение двух моделей по этим классификационным отчетам."
   ]
  },
  {
   "cell_type": "markdown",
   "metadata": {},
   "source": [
    "Пример, как считать квантили:"
   ]
  },
  {
   "cell_type": "code",
   "execution_count": null,
   "metadata": {},
   "outputs": [],
   "source": [
    "print(\"Q2 квантиль ряда : \", np.quantile(age, .50)) \n",
    "print(\"Q1 квантиль ряда : \", np.quantile(age, .25)) \n",
    "print(\"Q3 квантиль ряда : \", np.quantile(age, .75)) \n",
    "print(\"10 квантиль ряда : \", np.quantile(age, .1)) "
   ]
  },
  {
   "cell_type": "markdown",
   "metadata": {},
   "source": [
    "Примеры квантилей 10%, 25%, 50%, 75% для всех колонок таблицы data"
   ]
  },
  {
   "cell_type": "code",
   "execution_count": null,
   "metadata": {},
   "outputs": [],
   "source": [
    "data.quantile([.10, .25, .50, .75], axis = 0) "
   ]
  },
  {
   "cell_type": "markdown",
   "metadata": {},
   "source": [
    "Пример квартилей:"
   ]
  },
  {
   "cell_type": "code",
   "execution_count": null,
   "metadata": {},
   "outputs": [],
   "source": [
    "data.describe()"
   ]
  },
  {
   "cell_type": "markdown",
   "metadata": {
    "colab_type": "text",
    "id": "ZWc_9uF3PQIo"
   },
   "source": [
    "Посчитать квартили для всех колонок. "
   ]
  },
  {
   "cell_type": "markdown",
   "metadata": {
    "colab_type": "text",
    "id": "7kwq4rqzOoz1"
   },
   "source": [
    "Построить график histogram двух выборок по наличию или отсутствию болезни: люди, возрастом до 50 лет, и люди после 50 лет. Посчитать среднее значение и квартиль 0.5 в данных выборках. Чем они отличаются?"
   ]
  },
  {
   "cell_type": "code",
   "execution_count": 28,
   "metadata": {},
   "outputs": [],
   "source": [
    "under50 = data[data.Age <= 50]\n",
    "over50 = data[data.Age > 50]"
   ]
  },
  {
   "cell_type": "code",
   "execution_count": 30,
   "metadata": {},
   "outputs": [
    {
     "data": {
      "image/png": "[encoded data removed]",
      "text/plain": [
       "<Figure size 640x480 with 1 Axes>"
      ]
     },
     "metadata": {},
     "output_type": "display_data"
    }
   ],
   "source": [
    "under50.Dataset.hist()\n",
    "over50.Dataset.hist()\n",
    "pass"
   ]
  },
  {
   "cell_type": "markdown",
   "metadata": {
    "colab_type": "text",
    "id": "QZVd-KyDQq38"
   },
   "source": [
    "\n",
    "Посчитать критерий одновыборочный t-критерий для выборки по критерию Total_Bilirubin у больных людей. Как показатель помогает понять, что выборки не похожа на генеральную совокупность?"
   ]
  },
  {
   "cell_type": "code",
   "execution_count": 39,
   "metadata": {},
   "outputs": [
    {
     "data": {
      "text/plain": [
       "6413"
      ]
     },
     "execution_count": 39,
     "metadata": {},
     "output_type": "execute_result"
    }
   ],
   "source": [
    "data.size"
   ]
  },
  {
   "cell_type": "code",
   "execution_count": 40,
   "metadata": {},
   "outputs": [],
   "source": [
    "tb_m = data[data.Gender == 'Male']['Total_Bilirubin']\n",
    "tb_f = data[data.Gender == 'Female']['Total_Bilirubin']\n",
    "tb_all = data.Total_Bilirubin"
   ]
  },
  {
   "cell_type": "code",
   "execution_count": 44,
   "metadata": {},
   "outputs": [
    {
     "data": {
      "text/plain": [
       "<AxesSubplot:>"
      ]
     },
     "execution_count": 44,
     "metadata": {},
     "output_type": "execute_result"
    },
    {
     "data": {
      "image/png": "[encoded data removed]",
      "text/plain": [
       "<Figure size 640x480 with 1 Axes>"
      ]
     },
     "metadata": {},
     "output_type": "display_data"
    }
   ],
   "source": [
    "tb_m.hist()"
   ]
  },
  {
   "cell_type": "code",
   "execution_count": 45,
   "metadata": {},
   "outputs": [
    {
     "data": {
      "text/plain": [
       "<AxesSubplot:>"
      ]
     },
     "execution_count": 45,
     "metadata": {},
     "output_type": "execute_result"
    },
    {
     "data": {
      "image/png": "[encoded data removed]",
      "text/plain": [
       "<Figure size 640x480 with 1 Axes>"
      ]
     },
     "metadata": {},
     "output_type": "display_data"
    }
   ],
   "source": [
    "tb_f.hist()"
   ]
  },
  {
   "cell_type": "code",
   "execution_count": 37,
   "metadata": {},
   "outputs": [
    {
     "data": {
      "text/plain": [
       "(4.164423076923077, 3.298799313893653)"
      ]
     },
     "execution_count": 37,
     "metadata": {},
     "output_type": "execute_result"
    }
   ],
   "source": [
    "tbil_mean = tbil.mean()\n",
    "tball_mean = tball.mean()\n",
    "tbil_mean, tball_mean"
   ]
  },
  {
   "cell_type": "code",
   "execution_count": 47,
   "metadata": {},
   "outputs": [
    {
     "data": {
      "text/plain": [
       "(43.015644815501965, 23.65282189591449)"
      ]
     },
     "execution_count": 47,
     "metadata": {},
     "output_type": "execute_result"
    }
   ],
   "source": [
    "tb_m.var(), tb_f.var()"
   ]
  },
  {
   "cell_type": "code",
   "execution_count": 38,
   "metadata": {},
   "outputs": [
    {
     "data": {
      "text/plain": [
       "Ttest_1sampResult(statistic=2.471063305746645, pvalue=0.013871861207640133)"
      ]
     },
     "execution_count": 38,
     "metadata": {},
     "output_type": "execute_result"
    }
   ],
   "source": [
    "\n",
    "stats.ttest_1samp(tbil, tball_mean)"
   ]
  },
  {
   "cell_type": "code",
   "execution_count": 48,
   "metadata": {},
   "outputs": [
    {
     "data": {
      "text/plain": [
       "MannwhitneyuResult(statistic=39722.5, pvalue=1.3196486638974717e-06)"
      ]
     },
     "execution_count": 48,
     "metadata": {},
     "output_type": "execute_result"
    }
   ],
   "source": [
    "stats.mannwhitneyu(tb_m, tb_f)"
   ]
  },
  {
   "cell_type": "code",
   "execution_count": null,
   "metadata": {},
   "outputs": [],
   "source": []
  },
  {
   "cell_type": "markdown",
   "metadata": {
    "colab_type": "text",
    "id": "dI901FRqRC8A"
   },
   "source": [
    "Посчитать критерий t для двух выборок: больные и здоровые (по критерию Total_Bilirubin). Имеют ли данные группы схожесть?"
   ]
  },
  {
   "cell_type": "markdown",
   "metadata": {},
   "source": [
    "Посчитать статистическую значимость для трех выборок (по возрасту) -тест Anova - 1ая группа от 1 до 30 лет, 2ая группа от 30 лет до 55, 3я группа более 55 по выборке Dataset. Сравнить с реальностью (они логично что будут отличаться)."
   ]
  },
  {
   "cell_type": "code",
   "execution_count": 49,
   "metadata": {},
   "outputs": [],
   "source": [
    "young = data[data.Age < 30].Dataset\n",
    "midle = data[data.Age.between(30, 55)].Dataset\n",
    "old = data[data.Age > 55].Dataset\n"
   ]
  },
  {
   "cell_type": "code",
   "execution_count": 51,
   "metadata": {},
   "outputs": [
    {
     "data": {
      "text/plain": [
       "F_onewayResult(statistic=9.442269345117849, pvalue=9.217620204233869e-05)"
      ]
     },
     "execution_count": 51,
     "metadata": {},
     "output_type": "execute_result"
    }
   ],
   "source": [
    "stats.f_oneway(young, midle, old)"
   ]
  },
  {
   "cell_type": "code",
   "execution_count": 52,
   "metadata": {},
   "outputs": [
    {
     "data": {
      "text/plain": [
       "KruskalResult(statistic=18.35212099773698, pvalue=0.0001034874199659921)"
      ]
     },
     "execution_count": 52,
     "metadata": {},
     "output_type": "execute_result"
    }
   ],
   "source": [
    "stats.kruskal(young, midle, old)"
   ]
  },
  {
   "cell_type": "code",
   "execution_count": null,
   "metadata": {},
   "outputs": [],
   "source": []
  },
  {
   "cell_type": "markdown",
   "metadata": {
    "colab_type": "text",
    "id": "Jm1ESbSRRPOP"
   },
   "source": [
    "Вопросы задавать на почту yustiks@gmail.com"
   ]
  }
 ],
 "metadata": {
  "colab": {
   "collapsed_sections": [],
   "name": "dz_3.ipynb",
   "provenance": [],
   "toc_visible": true,
   "version": "0.3.2"
  },
  "kernelspec": {
   "display_name": "Python 3.7.1 64-bit",
   "language": "python",
   "name": "python3"
  },
  "language_info": {
   "codemirror_mode": {
    "name": "ipython",
    "version": 3
   },
   "file_extension": ".py",
   "mimetype": "text/x-python",
   "name": "python",
   "nbconvert_exporter": "python",
   "pygments_lexer": "ipython3",
   "version": "3.7.1"
  },
  "vscode": {
   "interpreter": {
    "hash": "fbe58ca63fe33f9eeae9e71d10368d2b4a57f2b1b395836210cc60d362c66949"
   }
  }
 },
 "nbformat": 4,
 "nbformat_minor": 1
}
