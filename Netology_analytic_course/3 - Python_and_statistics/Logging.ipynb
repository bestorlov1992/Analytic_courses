{
 "cells": [
  {
   "cell_type": "markdown",
   "metadata": {},
   "source": [
    "## Logging"
   ]
  },
  {
   "cell_type": "markdown",
   "metadata": {
    "collapsed": true
   },
   "source": [
    "Что было бы круто:\n",
    "* сообщения выводятся на экран в Jupyter notebook без задержек (как это иногда бывает у print)\n",
    "* сообщения автоматом пишутся в файл в едином формате (например, когда скрипт выполняется по cron)\n",
    "* понятно какой скрипт, на какой строке и какой тип сообщения выдал (INFO, WARNING, ERROR)"
   ]
  },
  {
   "cell_type": "code",
   "execution_count": null,
   "metadata": {},
   "outputs": [],
   "source": [
    "with open('error.log') as f:\n",
    "    f.write('...')"
   ]
  },
  {
   "cell_type": "code",
   "execution_count": 2,
   "metadata": {},
   "outputs": [],
   "source": [
    "# https://docs.python.org/3.6/library/logging.htmlb\n",
    "import logging"
   ]
  },
  {
   "cell_type": "code",
   "execution_count": 3,
   "metadata": {},
   "outputs": [],
   "source": [
    "logger1 = logging.getLogger(\"pagr\")\n",
    "# logger2 = log.getLogger(\"tes_logger\")\n",
    "hdlr = logging.FileHandler(\"my_log.log\", mode=\"w\")\n",
    "formatter = logging.Formatter('%(name)s %(asctime)s %(filename)s %(funcName)s [LINE:%(lineno)d] %(module)s %(levelname)s %(message)s')\n",
    "hdlr.setFormatter(formatter)\n",
    "logger1.addHandler(hdlr)\n",
    "logger1.setLevel(10)\n",
    "# logger2.debug(\"debug\")"
   ]
  },
  {
   "cell_type": "code",
   "execution_count": 1,
   "metadata": {},
   "outputs": [],
   "source": [
    "import logging\n",
    "logger2 = logging.getLogger(\"test_logge\")\n",
    "logging.basicConfig(filename=\"test_log.log\", filemode=\"w\", level=10, format=\"'%(name)s %(asctime)s %(filename)s %(funcName)s %(lineno)d %(module)s %(levelname)s %(message)s'\")"
   ]
  },
  {
   "cell_type": "code",
   "execution_count": 4,
   "metadata": {},
   "outputs": [],
   "source": [
    "10\n",
    "20\n",
    "30\n",
    "logger1.info(f\"test_debug\")"
   ]
  },
  {
   "cell_type": "code",
   "execution_count": null,
   "metadata": {},
   "outputs": [],
   "source": []
  },
  {
   "cell_type": "code",
   "execution_count": null,
   "metadata": {},
   "outputs": [],
   "source": []
  },
  {
   "cell_type": "code",
   "execution_count": 10,
   "metadata": {},
   "outputs": [],
   "source": [
    "import logging"
   ]
  },
  {
   "cell_type": "code",
   "execution_count": 11,
   "metadata": {},
   "outputs": [],
   "source": [
    "logger = logging.getLogger( 'Тест логгера' )\n",
    "\n",
    "# в какой файл пишем логи\n",
    "hdlr = logging.FileHandler( 'error.log', mode = 'w' )\n",
    "\n",
    "# что будем писать в файл\n",
    "# https://docs.python.org/3.6/library/logging.html#logrecord-attributes\n",
    "formatter = logging.Formatter('%(asctime)s [LINE:%(lineno)d] %(levelname)s %(message)s')\n",
    "\n",
    "hdlr.setFormatter( formatter )\n",
    "logger.addHandler( hdlr )\n",
    "logger.setLevel(logging.INFO)"
   ]
  },
  {
   "cell_type": "code",
   "execution_count": 19,
   "metadata": {},
   "outputs": [],
   "source": [
    "data = [ 1, 55, 'abc', 12 ]"
   ]
  },
  {
   "cell_type": "code",
   "execution_count": null,
   "metadata": {},
   "outputs": [],
   "source": [
    "for num in data:\n",
    "    # проверяем входные данные на целое число\n",
    "    if isinstance( num, int ):\n",
    "        logger.info( 'Строка норм'.format(num) )\n",
    "    \n",
    "    else:\n",
    "        logger.warning( 'Некорректное значение. Значение было {}'.format(num) )"
   ]
  }
 ],
 "metadata": {
  "kernelspec": {
   "display_name": "Python 3.7.1 64-bit",
   "language": "python",
   "name": "python3"
  },
  "language_info": {
   "codemirror_mode": {
    "name": "ipython",
    "version": 3
   },
   "file_extension": ".py",
   "mimetype": "text/x-python",
   "name": "python",
   "nbconvert_exporter": "python",
   "pygments_lexer": "ipython3",
   "version": "3.7.1"
  },
  "vscode": {
   "interpreter": {
    "hash": "fbe58ca63fe33f9eeae9e71d10368d2b4a57f2b1b395836210cc60d362c66949"
   }
  }
 },
 "nbformat": 4,
 "nbformat_minor": 2
}
