{
 "cells": [
  {
   "cell_type": "markdown",
   "metadata": {},
   "source": [
    "## Python для работы с базами данных"
   ]
  },
  {
   "cell_type": "markdown",
   "metadata": {},
   "source": [
    "Изменения в Vagrantfile:\n",
    "1. Перед запуском виртуалки раскомментировать строку 50\n",
    "```bash\n",
    "config.vm.network \"forwarded_port\", guest: 5432, host: 5432, host_ip: \"127.0.0.1\"\n",
    "```\n",
    "\n",
    "2. На виртуалке меняем в конфигурационном файле postgresql метод аутентификации (в редакторе nano после внесения изменений нажимаем Ctrl+x и на вопрос отвечаем y + enter):\n",
    "```bash\n",
    "sudo nano /etc/postgresql/10/main/pg_hba.conf\n",
    "```\n",
    "\n",
    "Находим строчку (в конце файла)\n",
    "```bash\n",
    "# Database administrative login by Unix domain socket\n",
    "local   all             postgres                                peer\n",
    "```\n",
    "\n",
    "меняем peer на md5\n",
    "```bash\n",
    "local   all             postgres                                md5\n",
    "```\n",
    "\n",
    "и разрешаем подключения извне (меняем 127.0.0.1/32 на 0.0.0.0/0)\n",
    "```bash\n",
    "# IPv4 local connections:\n",
    "host    all             all             0.0.0.0/0            md5\n",
    "```\n",
    "\n",
    "В файле конфигураций разрешаем слушать все IP-адреса\n",
    "```bash\n",
    "sudo nano /etc/postgresql/10/main/postgresql.conf\n",
    "# находим строчку с listen_addresses и меняем значение на\n",
    "listen_addresses = '*'\n",
    "```\n",
    "\n",
    "В конце перезапускаем postgresql\n",
    "```bash\n",
    "sudo service postgresql restart\n",
    "```\n",
    "\n",
    "3. Заходим под пользователем postgres и добавляем в базу пользователя с правами на чтение\n",
    "```bash\n",
    "sudo su -l postgres\n",
    "psql -U postgres -c \"CREATE ROLE readaccess;\"\n",
    "psql -U postgres -c \"GRANT SELECT ON ALL TABLES IN SCHEMA public TO readaccess;\"\n",
    "psql -U postgres -c \"ALTER DEFAULT PRIVILEGES IN SCHEMA public GRANT SELECT ON TABLES TO readaccess;\"\n",
    "psql -U postgres -c \"CREATE USER ds WITH PASSWORD 'ds';\"\n",
    "psql -U postgres -c \"GRANT readaccess TO ds;\"\n",
    "```"
   ]
  },
  {
   "cell_type": "code",
   "execution_count": 1,
   "metadata": {},
   "outputs": [],
   "source": [
    "from psycopg2.extras import DictCursor\n"
   ]
  },
  {
   "cell_type": "code",
   "execution_count": 2,
   "metadata": {},
   "outputs": [],
   "source": [
    "import psycopg2"
   ]
  },
  {
   "cell_type": "code",
   "execution_count": null,
   "metadata": {},
   "outputs": [],
   "source": []
  },
  {
   "cell_type": "code",
   "execution_count": 29,
   "metadata": {},
   "outputs": [],
   "source": [
    "# инициализируем соединение с базой данных\n",
    "conn = psycopg2.connect(dbname='demo',\n",
    "                        user='postgres',\n",
    "                        host='127.0.0.1',\n",
    "                        port='5432',\n",
    "                        password='root')"
   ]
  },
  {
   "cell_type": "code",
   "execution_count": 4,
   "metadata": {},
   "outputs": [],
   "source": [
    "with conn.cursor(cursor_factory=psycopg2.extras.DictCursor) as curr:\n",
    "    1"
   ]
  },
  {
   "cell_type": "code",
   "execution_count": 13,
   "metadata": {},
   "outputs": [],
   "source": [
    "# для больших запросов\n",
    "cur.itersize = 10000"
   ]
  },
  {
   "cell_type": "code",
   "execution_count": 19,
   "metadata": {},
   "outputs": [],
   "source": [
    "cur.close()"
   ]
  },
  {
   "cell_type": "code",
   "execution_count": 22,
   "metadata": {},
   "outputs": [],
   "source": [
    "# отправляем запрос\n"
   ]
  },
  {
   "cell_type": "code",
   "execution_count": 24,
   "metadata": {},
   "outputs": [],
   "source": [
    "import pandas as pd\n",
    "\n"
   ]
  },
  {
   "cell_type": "code",
   "execution_count": 27,
   "metadata": {},
   "outputs": [],
   "source": [
    "# получаем все строки ответа\n",
    "query = 'SELECT * FROM bookings.aircrafts'\n",
    "df = pd.read_sql(query, conn)\n"
   ]
  },
  {
   "cell_type": "code",
   "execution_count": 28,
   "metadata": {},
   "outputs": [
    {
     "data": {
      "text/html": [
       "<div>\n",
       "<style scoped>\n",
       "    .dataframe tbody tr th:only-of-type {\n",
       "        vertical-align: middle;\n",
       "    }\n",
       "\n",
       "    .dataframe tbody tr th {\n",
       "        vertical-align: top;\n",
       "    }\n",
       "\n",
       "    .dataframe thead th {\n",
       "        text-align: right;\n",
       "    }\n",
       "</style>\n",
       "<table border=\"1\" class=\"dataframe\">\n",
       "  <thead>\n",
       "    <tr style=\"text-align: right;\">\n",
       "      <th></th>\n",
       "      <th>aircraft_code</th>\n",
       "      <th>model</th>\n",
       "      <th>range</th>\n",
       "    </tr>\n",
       "  </thead>\n",
       "  <tbody>\n",
       "    <tr>\n",
       "      <th>0</th>\n",
       "      <td>773</td>\n",
       "      <td>Boeing 777-300</td>\n",
       "      <td>11100</td>\n",
       "    </tr>\n",
       "    <tr>\n",
       "      <th>1</th>\n",
       "      <td>763</td>\n",
       "      <td>Boeing 767-300</td>\n",
       "      <td>7900</td>\n",
       "    </tr>\n",
       "    <tr>\n",
       "      <th>2</th>\n",
       "      <td>SU9</td>\n",
       "      <td>Sukhoi SuperJet-100</td>\n",
       "      <td>3000</td>\n",
       "    </tr>\n",
       "    <tr>\n",
       "      <th>3</th>\n",
       "      <td>320</td>\n",
       "      <td>Airbus A320-200</td>\n",
       "      <td>5700</td>\n",
       "    </tr>\n",
       "    <tr>\n",
       "      <th>4</th>\n",
       "      <td>321</td>\n",
       "      <td>Airbus A321-200</td>\n",
       "      <td>5600</td>\n",
       "    </tr>\n",
       "    <tr>\n",
       "      <th>5</th>\n",
       "      <td>319</td>\n",
       "      <td>Airbus A319-100</td>\n",
       "      <td>6700</td>\n",
       "    </tr>\n",
       "    <tr>\n",
       "      <th>6</th>\n",
       "      <td>733</td>\n",
       "      <td>Boeing 737-300</td>\n",
       "      <td>4200</td>\n",
       "    </tr>\n",
       "    <tr>\n",
       "      <th>7</th>\n",
       "      <td>CN1</td>\n",
       "      <td>Cessna 208 Caravan</td>\n",
       "      <td>1200</td>\n",
       "    </tr>\n",
       "    <tr>\n",
       "      <th>8</th>\n",
       "      <td>CR2</td>\n",
       "      <td>Bombardier CRJ-200</td>\n",
       "      <td>2700</td>\n",
       "    </tr>\n",
       "  </tbody>\n",
       "</table>\n",
       "</div>"
      ],
      "text/plain": [
       "  aircraft_code                model  range\n",
       "0           773       Boeing 777-300  11100\n",
       "1           763       Boeing 767-300   7900\n",
       "2           SU9  Sukhoi SuperJet-100   3000\n",
       "3           320      Airbus A320-200   5700\n",
       "4           321      Airbus A321-200   5600\n",
       "5           319      Airbus A319-100   6700\n",
       "6           733       Boeing 737-300   4200\n",
       "7           CN1   Cessna 208 Caravan   1200\n",
       "8           CR2   Bombardier CRJ-200   2700"
      ]
     },
     "execution_count": 28,
     "metadata": {},
     "output_type": "execute_result"
    }
   ],
   "source": [
    "df"
   ]
  },
  {
   "cell_type": "code",
   "execution_count": null,
   "metadata": {},
   "outputs": [],
   "source": [
    "cur.execute('SELECT * FROM ratings order by userid limit 10;')"
   ]
  },
  {
   "cell_type": "code",
   "execution_count": 56,
   "metadata": {},
   "outputs": [
    {
     "name": "stdout",
     "output_type": "stream",
     "text": [
      "['773', 'Boeing 777-300', 11100]\n",
      "['763', 'Boeing 767-300', 7900]\n",
      "['SU9', 'Sukhoi SuperJet-100', 3000]\n",
      "['320', 'Airbus A320-200', 5700]\n",
      "['321', 'Airbus A321-200', 5600]\n",
      "['319', 'Airbus A319-100', 6700]\n",
      "['733', 'Boeing 737-300', 4200]\n",
      "['CN1', 'Cessna 208 Caravan', 1200]\n",
      "['CR2', 'Bombardier CRJ-200', 2700]\n"
     ]
    }
   ],
   "source": [
    "for row in cur:\n",
    "    print(row)"
   ]
  },
  {
   "cell_type": "markdown",
   "metadata": {},
   "source": [
    "### Немного про запросы в MySQL"
   ]
  },
  {
   "cell_type": "code",
   "execution_count": null,
   "metadata": {},
   "outputs": [],
   "source": [
    "# для тяжелых запросов к MySQL можно использовать SSDictCursor\n",
    "import pymysql\n",
    "\n",
    "connection = pymysql.connect(\n",
    "    host = 'dbhost',\n",
    "    port = 3306,\n",
    "    user = 'dbuser',\n",
    "    password = 'dbpass',\n",
    "    db = 'db',\n",
    "    cursorclass = pymysql.cursors.SSDictCursor\n",
    ")\n",
    "\n",
    "with connection.cursor() as cursor:\n",
    "    cursor.execute(sqlQuery)\n",
    "\n",
    "    for line in cursor:\n",
    "        print(line)"
   ]
  },
  {
   "cell_type": "markdown",
   "metadata": {},
   "source": [
    "### Базы данных и pandas"
   ]
  },
  {
   "cell_type": "code",
   "execution_count": null,
   "metadata": {},
   "outputs": [],
   "source": [
    "import pandas as pd"
   ]
  },
  {
   "cell_type": "code",
   "execution_count": null,
   "metadata": {},
   "outputs": [],
   "source": [
    "data = pd.read_sql('SELECT * FROM ratings limit 10;', conn)\n",
    "data"
   ]
  },
  {
   "cell_type": "markdown",
   "metadata": {},
   "source": [
    "## Персональные данные"
   ]
  },
  {
   "cell_type": "code",
   "execution_count": 7,
   "metadata": {},
   "outputs": [],
   "source": [
    "# плохой вариант для аналитики\n",
    "database_rows = [\n",
    "    {'name': 'Натальяgp7', 'emailgp7': 'nata123@mail.rugp7', 'ipgp7': '127.0.0.1gp7'},\n",
    "    {'name': 'Михаилgp7', 'emailgp7': 'mikha@yandex.rugp7', 'ipgp7': '127.0.0.1gp7'},\n",
    "]"
   ]
  },
  {
   "cell_type": "code",
   "execution_count": 2,
   "metadata": {},
   "outputs": [],
   "source": [
    "import hashlib"
   ]
  },
  {
   "cell_type": "code",
   "execution_count": null,
   "metadata": {},
   "outputs": [],
   "source": [
    "hashlib.algorithms_available"
   ]
  },
  {
   "cell_type": "code",
   "execution_count": 19,
   "metadata": {},
   "outputs": [
    {
     "data": {
      "text/plain": [
       "'c1527fb63ff80c7cbae0ab842c86b3d436571a6a157c2f8c7eb772a363bb3e4b'"
      ]
     },
     "execution_count": 19,
     "metadata": {},
     "output_type": "execute_result"
    }
   ],
   "source": [
    "m = hashlib.sha256()\n",
    "\n",
    "m.update(bytes('usernameyandex.ru', encoding=\"cp1251\"))\n",
    "m.hexdigest()"
   ]
  },
  {
   "cell_type": "code",
   "execution_count": 5,
   "metadata": {},
   "outputs": [
    {
     "data": {
      "text/plain": [
       "'c1527fb63ff80c7cbae0ab842c86b3d436571a6a157c2f8c7eb772a363bb3e4b'"
      ]
     },
     "execution_count": 5,
     "metadata": {},
     "output_type": "execute_result"
    }
   ],
   "source": [
    "m = hashlib.sha256()\n",
    "\n",
    "m.update(b'usernameyandex.ru')\n",
    "m.hexdigest()"
   ]
  },
  {
   "cell_type": "markdown",
   "metadata": {},
   "source": [
    "### Упражнение\n",
    "Зашифруйте персональные данные в списке database_rows"
   ]
  },
  {
   "cell_type": "code",
   "execution_count": 26,
   "metadata": {},
   "outputs": [],
   "source": [
    "import hashlib\n",
    "m = hashlib.sha256()\n"
   ]
  },
  {
   "cell_type": "code",
   "execution_count": 62,
   "metadata": {},
   "outputs": [
    {
     "data": {
      "text/plain": [
       "[{'name': '4b025856b0559a6522d3d24ca712648ccc0fd7943adb0b2615d8ce8e981244e7',\n",
       "  'emailgp7': 'fa86ed04417d1c9ad40bf13e32d636fc3376d40d5a9fe01b41151ce8701eef30',\n",
       "  'ipgp7': '753073db78328f2e9ea25e91f2cbaee8dbe1d943b44971a8b31597b9350ef07e'},\n",
       " {'name': '80bd4e460f542209cceb7a85736e4643f83994cfad2043b523a8cc933e3ebfd4',\n",
       "  'emailgp7': 'b245d5be81e7c7377cdf4a9ac8c76d02d04dec27eed29ea1cdd623abb2c93b30',\n",
       "  'ipgp7': '753073db78328f2e9ea25e91f2cbaee8dbe1d943b44971a8b31597b9350ef07e'}]"
      ]
     },
     "execution_count": 62,
     "metadata": {},
     "output_type": "execute_result"
    }
   ],
   "source": [
    "database_rows = [\n",
    "    {'name': 'Натальяgp7', 'emailgp7': 'nata123@mail.rugp7', 'ipgp7': '127.0.0.1gp7'},\n",
    "    {'name': 'Михаилgp7', 'emailgp7': 'mikha@yandex.rugp7', 'ipgp7': '127.0.0.1gp7'},\n",
    "]\n",
    "for el in database_rows:\n",
    "    for k, v in el.items():\n",
    "        m = hashlib.sha256()\n",
    "        m.update(bytes(v, encoding=\"utf-8\"))\n",
    "        el[k] = m.hexdigest()\n",
    "database_rows\n"
   ]
  }
 ],
 "metadata": {
  "kernelspec": {
   "display_name": "Python 3.7.1 64-bit",
   "language": "python",
   "name": "python3"
  },
  "language_info": {
   "codemirror_mode": {
    "name": "ipython",
    "version": 3
   },
   "file_extension": ".py",
   "mimetype": "text/x-python",
   "name": "python",
   "nbconvert_exporter": "python",
   "pygments_lexer": "ipython3",
   "version": "3.7.1"
  },
  "vscode": {
   "interpreter": {
    "hash": "fbe58ca63fe33f9eeae9e71d10368d2b4a57f2b1b395836210cc60d362c66949"
   }
  }
 },
 "nbformat": 4,
 "nbformat_minor": 2
}
