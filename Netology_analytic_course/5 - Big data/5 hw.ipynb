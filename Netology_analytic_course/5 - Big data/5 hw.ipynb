{
 "cells": [
  {
   "cell_type": "markdown",
   "metadata": {},
   "source": [
    "Прочитать про операторы Spark. Прислать ответы на вопросы  \n",
    "* Какие команды отвечают за:  \n",
    "    1. Сохранение результата в текстовый файл (Это Action или Transformation?)  \n",
    "    2. Как получить первые n-элементов массива (Это Action или Transformation?)  \n",
    "    3. Объединить два RDD в один (Это Action или Transformation?)  \n",
    "    4. В чем разница между Reduce и CoGroup-операторами (Это Action или Transformation?)   \n",
    "* Нарисовать DAG для Spark’а для подсчета количества уникальных слов в файле"
   ]
  },
  {
   "cell_type": "markdown",
   "metadata": {},
   "source": [
    "1. save (Action)\n",
    "2. take (Action)\n",
    "3. union (Transformation)\n",
    "4. Reduce - это Action, CoGroup - это Transformation  \n",
    "CoGroup джойнит все значения с одинаковым ключом в коллекцию. В итоге у нас будет ключ и коллекция значений.  \n",
    "В отличии от обычного join, тут у нас не будет дублирования строк с одним ключом, они соберутся в коллекцию и будут значением ключа.  \n",
    "При этом на входе несколько RDD и результат одни RDD  \n",
    "Reduce на вход получает коллекцию и на выходе возвращает одно значение.   \n",
    "На входе RDD, а на выходе одно значение.  "
   ]
  },
  {
   "cell_type": "code",
   "execution_count": 2,
   "metadata": {},
   "outputs": [
    {
     "data": {
      "image/png": "[encoded data removed]",
      "text/plain": [
       "<PIL.PngImagePlugin.PngImageFile image mode=RGBA size=720x110>"
      ]
     },
     "metadata": {},
     "output_type": "display_data"
    }
   ],
   "source": [
    "from PIL import Image\n",
    "img = Image.open(\"5 diagram.png\")\n",
    "display(img)"
   ]
  },
  {
   "cell_type": "code",
   "execution_count": null,
   "metadata": {},
   "outputs": [],
   "source": []
  },
  {
   "cell_type": "code",
   "execution_count": null,
   "metadata": {},
   "outputs": [],
   "source": []
  }
 ],
 "metadata": {
  "kernelspec": {
   "display_name": "Python 3.7.1 64-bit",
   "language": "python",
   "name": "python3"
  },
  "language_info": {
   "codemirror_mode": {
    "name": "ipython",
    "version": 3
   },
   "file_extension": ".py",
   "mimetype": "text/x-python",
   "name": "python",
   "nbconvert_exporter": "python",
   "pygments_lexer": "ipython3",
   "version": "3.7.1"
  },
  "orig_nbformat": 4,
  "vscode": {
   "interpreter": {
    "hash": "fbe58ca63fe33f9eeae9e71d10368d2b4a57f2b1b395836210cc60d362c66949"
   }
  }
 },
 "nbformat": 4,
 "nbformat_minor": 2
}
