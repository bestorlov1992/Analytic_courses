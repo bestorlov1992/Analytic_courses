{
  "nbformat": 4,
  "nbformat_minor": 0,
  "metadata": {
    "colab": {
      "provenance": []
    },
    "kernelspec": {
      "name": "python3",
      "display_name": "Python 3"
    },
    "language_info": {
      "name": "python"
    }
  },
  "cells": [
    {
      "cell_type": "markdown",
      "source": [
        "## Домашнее задание\n",
        "2 варианта.\n",
        "1. Вариант легкий: Решите задачу классификации цветков ирисов с использованием PySpark\n",
        "2. Вариант сложный: Решите задачу классификации пассажиров титаника с использованием PySpark (https://www.kaggle.com/c/titanic)\n",
        "\n",
        "**При выполнении ДЗ не разрешается:**\n",
        "1. Использовать библиотеку pandas\n",
        "2. Использовать библиотеку sklearn\n",
        "\n",
        "Полезные импорты:\n",
        "1. from pyspark.ml.classification import LogisticRegression\n",
        "2. from pyspark.ml.evaluation import MulticlassClassificationEvaluator - для оценки качества работы алгоритма\n",
        "3. from pyspark.ml.feature import StringIndexer, OneHotEncoder, VectorAssembler - для предобработки признаков\n",
        "\n",
        "Полезные ссылки:\n",
        "1. https://spark.apache.org/docs/latest/ml-classification-regression.html#classification - алгоримты классификации в pyspark\n",
        "2. https://towardsdatascience.com/machine-learning-with-pyspark-and-mllib-solving-a-binary-classification-problem-96396065d2aa - пример решения задачи классификации на pyspark"
      ],
      "metadata": {
        "id": "Fj2_pGxuTbah"
      }
    },
    {
      "cell_type": "code",
      "source": [
        "!pip install pyspark"
      ],
      "metadata": {
        "id": "SPMWitPtTzHC"
      },
      "execution_count": null,
      "outputs": []
    },
    {
      "cell_type": "code",
      "source": [
        "import pyspark.sql.functions as F\n",
        "from pyspark.sql.window import Window"
      ],
      "metadata": {
        "id": "YZFtHkk6fUkk"
      },
      "execution_count": null,
      "outputs": []
    },
    {
      "cell_type": "code",
      "source": [
        "from pyspark.ml.classification import LogisticRegression\n",
        "from pyspark.ml.evaluation import MulticlassClassificationEvaluator, BinaryClassificationEvaluator\n",
        "from pyspark.ml.feature import StringIndexer, OneHotEncoder, VectorAssembler, MinMaxScaler\n",
        "from pyspark.ml.functions import vector_to_array\n",
        "from pyspark.ml import Pipeline"
      ],
      "metadata": {
        "id": "23ySVu-hWuBv"
      },
      "execution_count": 317,
      "outputs": []
    },
    {
      "cell_type": "code",
      "source": [
        "from pyspark.sql import SparkSession\n",
        "\n",
        "spark = SparkSession.builder.master(\"local[*]\").getOrCreate()"
      ],
      "metadata": {
        "id": "_phWKSVZTduF"
      },
      "execution_count": 2,
      "outputs": []
    },
    {
      "cell_type": "code",
      "source": [
        "w = Window().orderBy(F.lit('A'))"
      ],
      "metadata": {
        "id": "Zd2bWjoaiFUa"
      },
      "execution_count": 42,
      "outputs": []
    },
    {
      "cell_type": "code",
      "source": [
        "df = spark.read.csv('data.csv', header=True)\n",
        "df = df.drop('PassengerId', 'Ticket', 'Cabin', 'Name')\n",
        "df.show(5)"
      ],
      "metadata": {
        "colab": {
          "base_uri": "https://localhost:8080/"
        },
        "id": "oAtK_tkyUnv6",
        "outputId": "6bb79786-0d67-46ed-c179-ce6ec3ded541"
      },
      "execution_count": 199,
      "outputs": [
        {
          "output_type": "stream",
          "name": "stdout",
          "text": [
            "+--------+------+------+---+-----+-----+-------+--------+\n",
            "|Survived|Pclass|   Sex|Age|SibSp|Parch|   Fare|Embarked|\n",
            "+--------+------+------+---+-----+-----+-------+--------+\n",
            "|       0|     3|  male| 22|    1|    0|   7.25|       S|\n",
            "|       1|     1|female| 38|    1|    0|71.2833|       C|\n",
            "|       1|     3|female| 26|    0|    0|  7.925|       S|\n",
            "|       1|     1|female| 35|    1|    0|   53.1|       S|\n",
            "|       0|     3|  male| 35|    0|    0|   8.05|       S|\n",
            "+--------+------+------+---+-----+-----+-------+--------+\n",
            "only showing top 5 rows\n",
            "\n"
          ]
        }
      ]
    },
    {
      "cell_type": "code",
      "source": [
        "df.select([F.count(c) for c in df.columns]).show(5)"
      ],
      "metadata": {
        "colab": {
          "base_uri": "https://localhost:8080/"
        },
        "id": "w-0l4MzLl3jL",
        "outputId": "ce6cd20f-86e3-4b33-ac7d-6f69e5e261bb"
      },
      "execution_count": 115,
      "outputs": [
        {
          "output_type": "stream",
          "name": "stdout",
          "text": [
            "+---------------+-------------+----------+----------+------------+------------+-----------+---------------+\n",
            "|count(Survived)|count(Pclass)|count(Sex)|count(Age)|count(SibSp)|count(Parch)|count(Fare)|count(Embarked)|\n",
            "+---------------+-------------+----------+----------+------------+------------+-----------+---------------+\n",
            "|            891|          891|       891|       714|         891|         891|        891|            889|\n",
            "+---------------+-------------+----------+----------+------------+------------+-----------+---------------+\n",
            "\n"
          ]
        }
      ]
    },
    {
      "cell_type": "code",
      "source": [
        "df.select([F.count(F.when(F.isnan(c) | F.isnull(c), c)).alias(f'na({c})') for c in df.columns]).show(5)"
      ],
      "metadata": {
        "colab": {
          "base_uri": "https://localhost:8080/"
        },
        "id": "UTIPVxwUzDVG",
        "outputId": "78989abd-498c-4e85-f291-475da27bf583"
      },
      "execution_count": 116,
      "outputs": [
        {
          "output_type": "stream",
          "name": "stdout",
          "text": [
            "+------------+----------+-------+-------+---------+---------+--------+------------+\n",
            "|na(Survived)|na(Pclass)|na(Sex)|na(Age)|na(SibSp)|na(Parch)|na(Fare)|na(Embarked)|\n",
            "+------------+----------+-------+-------+---------+---------+--------+------------+\n",
            "|           0|         0|      0|    177|        0|        0|       0|           2|\n",
            "+------------+----------+-------+-------+---------+---------+--------+------------+\n",
            "\n"
          ]
        }
      ]
    },
    {
      "cell_type": "code",
      "source": [
        "mean_age = df.select(F.mean(df.Age)).take(1)[0][0]\n",
        "mode_embark = df.select(F.mode(df.Embarked)).take(1)[0][0]"
      ],
      "metadata": {
        "id": "w0kds8Jy1RhU"
      },
      "execution_count": 200,
      "outputs": []
    },
    {
      "cell_type": "code",
      "source": [
        "mean_age, mode_embark"
      ],
      "metadata": {
        "colab": {
          "base_uri": "https://localhost:8080/"
        },
        "id": "L2GB5w712n-S",
        "outputId": "b4ee1236-24c3-40de-d06c-663aef18f7e0"
      },
      "execution_count": 118,
      "outputs": [
        {
          "output_type": "execute_result",
          "data": {
            "text/plain": [
              "(29.69911764705882, 'S')"
            ]
          },
          "metadata": {},
          "execution_count": 118
        }
      ]
    },
    {
      "cell_type": "code",
      "source": [
        "df = df.fillna({'Age': mean_age, 'Embarked': mode_embark})\n",
        "df.select([F.count(F.when(F.isnan(c) | F.isnull(c), c)).alias(f'na({c})') for c in df.columns]).show(5)\n"
      ],
      "metadata": {
        "colab": {
          "base_uri": "https://localhost:8080/"
        },
        "id": "Yw5aGJaV0l1X",
        "outputId": "defcbd10-999e-49bc-8264-f53760bbfeb8"
      },
      "execution_count": 201,
      "outputs": [
        {
          "output_type": "stream",
          "name": "stdout",
          "text": [
            "+------------+----------+-------+-------+---------+---------+--------+------------+\n",
            "|na(Survived)|na(Pclass)|na(Sex)|na(Age)|na(SibSp)|na(Parch)|na(Fare)|na(Embarked)|\n",
            "+------------+----------+-------+-------+---------+---------+--------+------------+\n",
            "|           0|         0|      0|      0|        0|        0|       0|           0|\n",
            "+------------+----------+-------+-------+---------+---------+--------+------------+\n",
            "\n"
          ]
        }
      ]
    },
    {
      "cell_type": "code",
      "source": [
        "sex_indexer = StringIndexer(inputCol='Sex', outputCol='Sex_').fit(df)\n",
        "embarked_indexer = StringIndexer(inputCol='Embarked', outputCol='Embarked_').fit(df)"
      ],
      "metadata": {
        "id": "yZHagJnfVmV2"
      },
      "execution_count": 202,
      "outputs": []
    },
    {
      "cell_type": "code",
      "source": [
        "df = (sex_indexer\n",
        "    .transform(df)\n",
        "    .drop('Sex')\n",
        "    .withColumnRenamed('Sex_', 'Sex')\n",
        ")\n",
        "df = (embarked_indexer\n",
        "    .transform(df)\n",
        "    .drop('Embarked')\n",
        "    .withColumnRenamed('Embarked_', 'Embarked')\n",
        ")\n",
        "df.show(5)"
      ],
      "metadata": {
        "colab": {
          "base_uri": "https://localhost:8080/"
        },
        "id": "Iu5mixrJb4p8",
        "outputId": "ab53a47c-592c-47bb-946e-af2ca5e98e97"
      },
      "execution_count": 203,
      "outputs": [
        {
          "output_type": "stream",
          "name": "stdout",
          "text": [
            "+--------+------+---+-----+-----+-------+---+--------+\n",
            "|Survived|Pclass|Age|SibSp|Parch|   Fare|Sex|Embarked|\n",
            "+--------+------+---+-----+-----+-------+---+--------+\n",
            "|       0|     3| 22|    1|    0|   7.25|0.0|     0.0|\n",
            "|       1|     1| 38|    1|    0|71.2833|1.0|     1.0|\n",
            "|       1|     3| 26|    0|    0|  7.925|1.0|     0.0|\n",
            "|       1|     1| 35|    1|    0|   53.1|1.0|     0.0|\n",
            "|       0|     3| 35|    0|    0|   8.05|0.0|     0.0|\n",
            "+--------+------+---+-----+-----+-------+---+--------+\n",
            "only showing top 5 rows\n",
            "\n"
          ]
        }
      ]
    },
    {
      "cell_type": "code",
      "source": [
        "encoder = OneHotEncoder(inputCol='Embarked', outputCol='Embarked_', dropLast=False).fit(df)"
      ],
      "metadata": {
        "id": "qWJ7KdG85J9P"
      },
      "execution_count": 204,
      "outputs": []
    },
    {
      "cell_type": "code",
      "source": [
        "emb_labels = embarked_indexer.labels"
      ],
      "metadata": {
        "id": "TT68I39AE4VB"
      },
      "execution_count": 205,
      "outputs": []
    },
    {
      "cell_type": "code",
      "source": [
        "df1 = (encoder\n",
        "    .transform(df)\n",
        "    # .drop('Sex')\n",
        "    # .withColumnRenamed('Sex_', 'Sex')\n",
        "    # .show(5)\n",
        ")\n",
        "df1 = df1.select('*', vector_to_array('Embarked_').alias('emb_ar'))\n",
        "emb_len = len(df1.first()['emb_ar'])\n",
        "cols = [F.col('emb_ar')[i].alias(f'emb_{emb_labels[i]}') for i in range(emb_len)]\n",
        "df = df1.select('*', *cols).drop('Embarked', 'Embarked_', 'emb_ar')"
      ],
      "metadata": {
        "id": "Sj7mHsr26xFG"
      },
      "execution_count": 206,
      "outputs": []
    },
    {
      "cell_type": "code",
      "source": [
        "df1 = df\n",
        "df.show(5)"
      ],
      "metadata": {
        "colab": {
          "base_uri": "https://localhost:8080/"
        },
        "id": "nJWdH-nEGDHm",
        "outputId": "de4ecbec-f735-4485-9d96-c61021e89a01"
      },
      "execution_count": 207,
      "outputs": [
        {
          "output_type": "stream",
          "name": "stdout",
          "text": [
            "+--------+------+---+-----+-----+-------+---+-----+-----+-----+\n",
            "|Survived|Pclass|Age|SibSp|Parch|   Fare|Sex|emb_S|emb_C|emb_Q|\n",
            "+--------+------+---+-----+-----+-------+---+-----+-----+-----+\n",
            "|       0|     3| 22|    1|    0|   7.25|0.0|  1.0|  0.0|  0.0|\n",
            "|       1|     1| 38|    1|    0|71.2833|1.0|  0.0|  1.0|  0.0|\n",
            "|       1|     3| 26|    0|    0|  7.925|1.0|  1.0|  0.0|  0.0|\n",
            "|       1|     1| 35|    1|    0|   53.1|1.0|  1.0|  0.0|  0.0|\n",
            "|       0|     3| 35|    0|    0|   8.05|0.0|  1.0|  0.0|  0.0|\n",
            "+--------+------+---+-----+-----+-------+---+-----+-----+-----+\n",
            "only showing top 5 rows\n",
            "\n"
          ]
        }
      ]
    },
    {
      "cell_type": "code",
      "source": [
        "df.dtypes"
      ],
      "metadata": {
        "colab": {
          "base_uri": "https://localhost:8080/"
        },
        "id": "gB9LDZagLHni",
        "outputId": "1a5afab4-3c2f-497f-bc11-ea85863f181c"
      },
      "execution_count": 208,
      "outputs": [
        {
          "output_type": "execute_result",
          "data": {
            "text/plain": [
              "[('Survived', 'string'),\n",
              " ('Pclass', 'string'),\n",
              " ('Age', 'string'),\n",
              " ('SibSp', 'string'),\n",
              " ('Parch', 'string'),\n",
              " ('Fare', 'string'),\n",
              " ('Sex', 'double'),\n",
              " ('emb_S', 'double'),\n",
              " ('emb_C', 'double'),\n",
              " ('emb_Q', 'double')]"
            ]
          },
          "metadata": {},
          "execution_count": 208
        }
      ]
    },
    {
      "cell_type": "code",
      "source": [
        "df = df.select([df[c].cast(\"float\") for c in df.columns])\n",
        "df.dtypes"
      ],
      "metadata": {
        "colab": {
          "base_uri": "https://localhost:8080/"
        },
        "id": "mvBhBM40LJ1m",
        "outputId": "256b8c45-3250-4266-c1c8-12f07a73db9f"
      },
      "execution_count": 209,
      "outputs": [
        {
          "output_type": "execute_result",
          "data": {
            "text/plain": [
              "[('Survived', 'float'),\n",
              " ('Pclass', 'float'),\n",
              " ('Age', 'float'),\n",
              " ('SibSp', 'float'),\n",
              " ('Parch', 'float'),\n",
              " ('Fare', 'float'),\n",
              " ('Sex', 'float'),\n",
              " ('emb_S', 'float'),\n",
              " ('emb_C', 'float'),\n",
              " ('emb_Q', 'float')]"
            ]
          },
          "metadata": {},
          "execution_count": 209
        }
      ]
    },
    {
      "cell_type": "code",
      "source": [
        "df.printSchema()"
      ],
      "metadata": {
        "colab": {
          "base_uri": "https://localhost:8080/"
        },
        "id": "O9mv9x4Mb4zk",
        "outputId": "3ea4d4b4-6545-4671-d2a8-996c3df85781"
      },
      "execution_count": 274,
      "outputs": [
        {
          "output_type": "stream",
          "name": "stdout",
          "text": [
            "root\n",
            " |-- Survived: float (nullable = true)\n",
            " |-- Pclass: float (nullable = true)\n",
            " |-- Age: float (nullable = true)\n",
            " |-- SibSp: float (nullable = true)\n",
            " |-- Parch: float (nullable = true)\n",
            " |-- Fare: float (nullable = true)\n",
            " |-- Sex: float (nullable = false)\n",
            " |-- emb_S: float (nullable = true)\n",
            " |-- emb_C: float (nullable = true)\n",
            " |-- emb_Q: float (nullable = true)\n",
            "\n"
          ]
        }
      ]
    },
    {
      "cell_type": "markdown",
      "source": [
        "Через отдельные столбцы"
      ],
      "metadata": {
        "id": "DhjvCzBaQxnI"
      }
    },
    {
      "cell_type": "code",
      "source": [
        "x_col = df.drop('Survived').columns\n",
        "x_col"
      ],
      "metadata": {
        "colab": {
          "base_uri": "https://localhost:8080/"
        },
        "id": "swIvAU5iSwjh",
        "outputId": "1ee437bb-71ea-4ca6-ccec-0cd522d3f972"
      },
      "execution_count": 236,
      "outputs": [
        {
          "output_type": "execute_result",
          "data": {
            "text/plain": [
              "['Pclass', 'Age', 'SibSp', 'Parch', 'Fare', 'Sex', 'emb_S', 'emb_C', 'emb_Q']"
            ]
          },
          "metadata": {},
          "execution_count": 236
        }
      ]
    },
    {
      "cell_type": "code",
      "source": [
        "assembler = [VectorAssembler(inputCols=[col], outputCol=col + '_vec') for col in x_col]"
      ],
      "metadata": {
        "id": "hj5vhYT9bZlN"
      },
      "execution_count": 237,
      "outputs": []
    },
    {
      "cell_type": "code",
      "source": [
        "scaler = [MinMaxScaler(inputCol=col + '_vec', outputCol= col + '_scaled') for col in x_col]"
      ],
      "metadata": {
        "id": "VCP-oJ-eMxEz"
      },
      "execution_count": 238,
      "outputs": []
    },
    {
      "cell_type": "code",
      "source": [
        "pipeline = Pipeline(stages= assembler + scaler)"
      ],
      "metadata": {
        "id": "9ysBz5XENnIL"
      },
      "execution_count": 239,
      "outputs": []
    },
    {
      "cell_type": "code",
      "source": [
        "df1 = pipeline.fit(df).transform(df)"
      ],
      "metadata": {
        "id": "uhASCmrAQAZY"
      },
      "execution_count": 240,
      "outputs": []
    },
    {
      "cell_type": "code",
      "source": [
        "# x_vect = x_vect.select('features')\n",
        "df1.show(5)"
      ],
      "metadata": {
        "colab": {
          "base_uri": "https://localhost:8080/"
        },
        "id": "BZXYxxZvOJBl",
        "outputId": "451e0cf4-576f-4804-9241-84b74b4f16aa"
      },
      "execution_count": 241,
      "outputs": [
        {
          "output_type": "stream",
          "name": "stdout",
          "text": [
            "+--------+------+----+-----+-----+-------+---+-----+-----+-----+----------+-------+---------+---------+--------------------+-------+---------+---------+---------+-------------+--------------------+------------+------------+--------------------+----------+------------+------------+------------+\n",
            "|Survived|Pclass| Age|SibSp|Parch|   Fare|Sex|emb_S|emb_C|emb_Q|Pclass_vec|Age_vec|SibSp_vec|Parch_vec|            Fare_vec|Sex_vec|emb_S_vec|emb_C_vec|emb_Q_vec|Pclass_scaled|          Age_scaled|SibSp_scaled|Parch_scaled|         Fare_scaled|Sex_scaled|emb_S_scaled|emb_C_scaled|emb_Q_scaled|\n",
            "+--------+------+----+-----+-----+-------+---+-----+-----+-----+----------+-------+---------+---------+--------------------+-------+---------+---------+---------+-------------+--------------------+------------+------------+--------------------+----------+------------+------------+------------+\n",
            "|     0.0|   3.0|22.0|  1.0|  0.0|   7.25|0.0|  1.0|  0.0|  0.0|     [3.0]| [22.0]|    [1.0]|    [0.0]|              [7.25]|  [0.0]|    [1.0]|    [0.0]|    [0.0]|        [1.0]|[0.2711736618441457]|     [0.125]|       [0.0]|[0.01415105690944...|     [0.0]|       [1.0]|       [0.0]|       [0.0]|\n",
            "|     1.0|   1.0|38.0|  1.0|  0.0|71.2833|1.0|  0.0|  1.0|  0.0|     [1.0]| [38.0]|    [1.0]|    [0.0]|  [71.2833023071289]|  [1.0]|    [0.0]|    [1.0]|    [0.0]|        [0.0]|[0.4722292034043814]|     [0.125]|       [0.0]|[0.13913573346777...|     [1.0]|       [0.0]|       [1.0]|       [0.0]|\n",
            "|     1.0|   3.0|26.0|  0.0|  0.0|  7.925|1.0|  1.0|  0.0|  0.0|     [3.0]| [26.0]|    [0.0]|    [0.0]| [7.925000190734863]|  [1.0]|    [1.0]|    [0.0]|    [0.0]|        [1.0]|[0.32143754723420...|       [0.0]|       [0.0]|[0.01546856947675...|     [1.0]|       [1.0]|       [0.0]|       [0.0]|\n",
            "|     1.0|   1.0|35.0|  1.0|  0.0|   53.1|1.0|  1.0|  0.0|  0.0|     [1.0]| [35.0]|    [1.0]|    [0.0]|[53.099998474121094]|  [1.0]|    [1.0]|    [0.0]|    [0.0]|        [0.0]|[0.4345312893618372]|     [0.125]|       [0.0]|[0.10364428969638...|     [1.0]|       [1.0]|       [0.0]|       [0.0]|\n",
            "|     0.0|   3.0|35.0|  0.0|  0.0|   8.05|0.0|  1.0|  0.0|  0.0|     [3.0]| [35.0]|    [0.0]|    [0.0]| [8.050000190734863]|  [0.0]|    [1.0]|    [0.0]|    [0.0]|        [1.0]|[0.4345312893618372]|       [0.0]|       [0.0]|[0.01571255321657...|     [0.0]|       [1.0]|       [0.0]|       [0.0]|\n",
            "+--------+------+----+-----+-----+-------+---+-----+-----+-----+----------+-------+---------+---------+--------------------+-------+---------+---------+---------+-------------+--------------------+------------+------------+--------------------+----------+------------+------------+------------+\n",
            "only showing top 5 rows\n",
            "\n"
          ]
        }
      ]
    },
    {
      "cell_type": "markdown",
      "source": [
        "Сразу через вектор"
      ],
      "metadata": {
        "id": "UTJ9OMXnRGUO"
      }
    },
    {
      "cell_type": "code",
      "source": [
        "x_vect = VectorAssembler(inputCols=x_col, outputCol='features').transform(df)\n",
        "x_vect.show(5)"
      ],
      "metadata": {
        "colab": {
          "base_uri": "https://localhost:8080/"
        },
        "id": "8Rq2OUNvQoBQ",
        "outputId": "09074984-7b74-4141-aa88-f0f772ca10f1"
      },
      "execution_count": 257,
      "outputs": [
        {
          "output_type": "stream",
          "name": "stdout",
          "text": [
            "+--------+------+----+-----+-----+-------+---+-----+-----+-----+--------------------+\n",
            "|Survived|Pclass| Age|SibSp|Parch|   Fare|Sex|emb_S|emb_C|emb_Q|            features|\n",
            "+--------+------+----+-----+-----+-------+---+-----+-----+-----+--------------------+\n",
            "|     0.0|   3.0|22.0|  1.0|  0.0|   7.25|0.0|  1.0|  0.0|  0.0|[3.0,22.0,1.0,0.0...|\n",
            "|     1.0|   1.0|38.0|  1.0|  0.0|71.2833|1.0|  0.0|  1.0|  0.0|[1.0,38.0,1.0,0.0...|\n",
            "|     1.0|   3.0|26.0|  0.0|  0.0|  7.925|1.0|  1.0|  0.0|  0.0|[3.0,26.0,0.0,0.0...|\n",
            "|     1.0|   1.0|35.0|  1.0|  0.0|   53.1|1.0|  1.0|  0.0|  0.0|[1.0,35.0,1.0,0.0...|\n",
            "|     0.0|   3.0|35.0|  0.0|  0.0|   8.05|0.0|  1.0|  0.0|  0.0|(9,[0,1,4,6],[3.0...|\n",
            "+--------+------+----+-----+-----+-------+---+-----+-----+-----+--------------------+\n",
            "only showing top 5 rows\n",
            "\n"
          ]
        }
      ]
    },
    {
      "cell_type": "code",
      "source": [
        "train_df, test_df = x_vect.randomSplit([0.8, 0.2])"
      ],
      "metadata": {
        "id": "5eQn8kbrShg4"
      },
      "execution_count": 244,
      "outputs": []
    },
    {
      "cell_type": "code",
      "source": [
        "train_df.select(train_df.features)"
      ],
      "metadata": {
        "colab": {
          "base_uri": "https://localhost:8080/"
        },
        "id": "5YJGtdxgSET3",
        "outputId": "8be3e63e-3bab-4633-b87c-c893ff4e9c73"
      },
      "execution_count": 254,
      "outputs": [
        {
          "output_type": "execute_result",
          "data": {
            "text/plain": [
              "DataFrame[features: vector]"
            ]
          },
          "metadata": {},
          "execution_count": 254
        }
      ]
    },
    {
      "cell_type": "code",
      "source": [
        "scaler = MinMaxScaler(inputCol='features', outputCol='features_scaled').fit(train_df)\n",
        "train_scaled = scaler.transform(train_df).select('Survived', 'features_scaled')\n",
        "test_scaled = scaler.transform(test_df).select('Survived', 'features_scaled')\n",
        "train_scaled.show(5)"
      ],
      "metadata": {
        "colab": {
          "base_uri": "https://localhost:8080/"
        },
        "id": "6J2yVvYHRw9C",
        "outputId": "96d6a80c-9f9a-466c-f853-80f9afbe2ba7"
      },
      "execution_count": 275,
      "outputs": [
        {
          "output_type": "stream",
          "name": "stdout",
          "text": [
            "+--------+--------------------+\n",
            "|Survived|     features_scaled|\n",
            "+--------+--------------------+\n",
            "|     0.0|(9,[1,4,6],[0.359...|\n",
            "|     0.0|(9,[1,4,6],[0.367...|\n",
            "|     0.0|(9,[1,4,6],[0.367...|\n",
            "|     0.0|(9,[1,4,6],[0.367...|\n",
            "|     0.0|(9,[1,4,6],[0.367...|\n",
            "+--------+--------------------+\n",
            "only showing top 5 rows\n",
            "\n"
          ]
        }
      ]
    },
    {
      "cell_type": "code",
      "source": [
        "test_scaled.show(5)"
      ],
      "metadata": {
        "colab": {
          "base_uri": "https://localhost:8080/"
        },
        "id": "KZxE46U6ajxq",
        "outputId": "ca8e7936-5ac1-474a-a504-52b7b5adf35b"
      },
      "execution_count": 276,
      "outputs": [
        {
          "output_type": "stream",
          "name": "stdout",
          "text": [
            "+--------+--------------------+\n",
            "|Survived|     features_scaled|\n",
            "+--------+--------------------+\n",
            "|     0.0|(9,[1,4,6],[0.346...|\n",
            "|     0.0|(9,[1,4,6],[0.367...|\n",
            "|     0.0|(9,[1,4,6],[0.748...|\n",
            "|     0.0|(9,[0,1,4,6],[0.5...|\n",
            "|     0.0|(9,[0,1,4,6],[0.5...|\n",
            "+--------+--------------------+\n",
            "only showing top 5 rows\n",
            "\n"
          ]
        }
      ]
    },
    {
      "cell_type": "code",
      "source": [
        "train_scaled.select(vector_to_array(train_scaled['features_scaled'])).first()"
      ],
      "metadata": {
        "colab": {
          "base_uri": "https://localhost:8080/"
        },
        "id": "iFqvyO4zZWL2",
        "outputId": "1ed36686-cd3c-4bc7-f84d-0ebcff5b1bf4"
      },
      "execution_count": 270,
      "outputs": [
        {
          "output_type": "execute_result",
          "data": {
            "text/plain": [
              "Row(UDF(features_scaled)=[0.0, 0.35913546127674884, 0.0, 0.0, 0.05855609755632653, 0.0, 1.0, 0.0, 0.0])"
            ]
          },
          "metadata": {},
          "execution_count": 270
        }
      ]
    },
    {
      "cell_type": "code",
      "source": [
        "log_reg = LogisticRegression(featuresCol='features_scaled', labelCol='Survived')"
      ],
      "metadata": {
        "id": "S_pM1EwMVnXg"
      },
      "execution_count": 277,
      "outputs": []
    },
    {
      "cell_type": "code",
      "source": [
        "log_reg_fit = log_reg.fit(train_scaled)"
      ],
      "metadata": {
        "id": "oY2GMfyHaqAs"
      },
      "execution_count": 282,
      "outputs": []
    },
    {
      "cell_type": "code",
      "source": [
        "log_reg_fit.intercept, log_reg_fit.coefficients"
      ],
      "metadata": {
        "colab": {
          "base_uri": "https://localhost:8080/"
        },
        "id": "XcrR96Bqd-D9",
        "outputId": "372f67a5-0719-4735-dad0-363174684b35"
      },
      "execution_count": 283,
      "outputs": [
        {
          "output_type": "execute_result",
          "data": {
            "text/plain": [
              "(1.3204834570985313,\n",
              " DenseVector([-1.9055, -3.6791, -3.2531, -0.8366, 1.289, 2.747, -0.213, 0.2118, 0.1265]))"
            ]
          },
          "metadata": {},
          "execution_count": 283
        }
      ]
    },
    {
      "cell_type": "code",
      "source": [
        "log_reg_fit.summary.accuracy"
      ],
      "metadata": {
        "colab": {
          "base_uri": "https://localhost:8080/"
        },
        "id": "UBJxbEQKd-aa",
        "outputId": "59d67995-4b3e-4eb6-f9aa-5e8182b364ca"
      },
      "execution_count": 286,
      "outputs": [
        {
          "output_type": "execute_result",
          "data": {
            "text/plain": [
              "0.8027972027972028"
            ]
          },
          "metadata": {},
          "execution_count": 286
        }
      ]
    },
    {
      "cell_type": "code",
      "source": [
        "log_reg_fit.summary.roc.show(5)"
      ],
      "metadata": {
        "colab": {
          "base_uri": "https://localhost:8080/"
        },
        "id": "owJAUEVvg4yR",
        "outputId": "69180b48-c53b-40f1-da86-03d987e5d24f"
      },
      "execution_count": 292,
      "outputs": [
        {
          "output_type": "stream",
          "name": "stdout",
          "text": [
            "+--------------------+--------------------+\n",
            "|                 FPR|                 TPR|\n",
            "+--------------------+--------------------+\n",
            "|                 0.0|                 0.0|\n",
            "|                 0.0|0.003558718861209...|\n",
            "|                 0.0|0.007117437722419...|\n",
            "|                 0.0|0.010676156583629894|\n",
            "|0.002304147465437788|0.010676156583629894|\n",
            "+--------------------+--------------------+\n",
            "only showing top 5 rows\n",
            "\n"
          ]
        }
      ]
    },
    {
      "cell_type": "code",
      "source": [
        " roc_df = log_reg_fit.summary.roc.toPandas()"
      ],
      "metadata": {
        "id": "ZAQ4JfduhbAf"
      },
      "execution_count": 294,
      "outputs": []
    },
    {
      "cell_type": "code",
      "source": [
        "import seaborn as sns"
      ],
      "metadata": {
        "id": "NqBitgkmg9YX"
      },
      "execution_count": null,
      "outputs": []
    },
    {
      "cell_type": "code",
      "source": [
        "sns.lineplot(x = roc_df.FPR, y = roc_df.TPR)"
      ],
      "metadata": {
        "colab": {
          "base_uri": "https://localhost:8080/",
          "height": 466
        },
        "id": "9MdH86fejamZ",
        "outputId": "4240c278-649a-4d2e-c534-a385943c25f6"
      },
      "execution_count": 298,
      "outputs": [
        {
          "output_type": "execute_result",
          "data": {
            "text/plain": [
              "<Axes: xlabel='FPR', ylabel='TPR'>"
            ]
          },
          "metadata": {},
          "execution_count": 298
        },
        {
          "output_type": "display_data",
          "data": {
            "text/plain": [
              "<Figure size 640x480 with 1 Axes>"
            ],
            "image/png": "[encoded data removed]"
          },
          "metadata": {}
        }
      ]
    },
    {
      "cell_type": "code",
      "source": [
        "log_reg_fit.summary.areaUnderROC"
      ],
      "metadata": {
        "colab": {
          "base_uri": "https://localhost:8080/"
        },
        "id": "GmHYw4WWhFND",
        "outputId": "b28f88fe-7b3d-4907-d9bf-3ceb169f0097"
      },
      "execution_count": 299,
      "outputs": [
        {
          "output_type": "execute_result",
          "data": {
            "text/plain": [
              "0.8494842317595159"
            ]
          },
          "metadata": {},
          "execution_count": 299
        }
      ]
    },
    {
      "cell_type": "code",
      "source": [
        "log_reg_fit.summary.predictions.show(5)"
      ],
      "metadata": {
        "colab": {
          "base_uri": "https://localhost:8080/"
        },
        "id": "_PivTddXjtjR",
        "outputId": "1309f182-79fc-4834-b978-4eab56c0bd67"
      },
      "execution_count": 302,
      "outputs": [
        {
          "output_type": "stream",
          "name": "stdout",
          "text": [
            "+--------+--------------------+--------------------+--------------------+----------+\n",
            "|Survived|     features_scaled|       rawPrediction|         probability|prediction|\n",
            "+--------+--------------------+--------------------+--------------------+----------+\n",
            "|     0.0|(9,[1,4,6],[0.359...|[0.13833879356340...|[0.53452964800196...|       0.0|\n",
            "|     0.0|(9,[1,4,6],[0.367...|[0.18091227706761...|[0.54510511493188...|       0.0|\n",
            "|     0.0|(9,[1,4,6],[0.367...|[0.18072357839284...|[0.54505832376713...|       0.0|\n",
            "|     0.0|(9,[1,4,6],[0.367...|[0.17933980410724...|[0.54471516826581...|       0.0|\n",
            "|     0.0|(9,[1,4,6],[0.367...|[0.16814379470988...|[0.54193719001085...|       0.0|\n",
            "+--------+--------------------+--------------------+--------------------+----------+\n",
            "only showing top 5 rows\n",
            "\n"
          ]
        }
      ]
    },
    {
      "cell_type": "code",
      "source": [
        "pred_res = log_reg_fit.transform(test_scaled)"
      ],
      "metadata": {
        "id": "9aOBFNlolADA"
      },
      "execution_count": 304,
      "outputs": []
    },
    {
      "cell_type": "code",
      "source": [
        "pred_res.show()"
      ],
      "metadata": {
        "colab": {
          "base_uri": "https://localhost:8080/"
        },
        "id": "o0rCX9uSlfgG",
        "outputId": "3a638b90-63f0-4d3c-bee7-d456187e6567"
      },
      "execution_count": 305,
      "outputs": [
        {
          "output_type": "stream",
          "name": "stdout",
          "text": [
            "+--------+--------------------+--------------------+--------------------+----------+\n",
            "|Survived|     features_scaled|       rawPrediction|         probability|prediction|\n",
            "+--------+--------------------+--------------------+--------------------+----------+\n",
            "|     0.0|(9,[1,4,6],[0.346...|[0.04908486666142...|[0.51226875348061...|       0.0|\n",
            "|     0.0|(9,[1,4,6],[0.367...|[0.13946188407369...|[0.53480907070719...|       0.0|\n",
            "|     0.0|(9,[1,4,6],[0.748...|[1.58018203312842...|[0.82923029676265...|       0.0|\n",
            "|     0.0|(9,[0,1,4,6],[0.5...|[0.50016054005830...|[0.62249705796973...|       0.0|\n",
            "|     0.0|(9,[0,1,4,6],[0.5...|[0.62910405382947...|[0.65228628137329...|       0.0|\n",
            "|     0.0|(9,[0,1,4,6],[0.5...|[0.62910405382947...|[0.65228628137329...|       0.0|\n",
            "|     0.0|(9,[0,1,4,6],[0.5...|[0.86277536329256...|[0.70324018094543...|       0.0|\n",
            "|     0.0|(9,[0,1,4,6],[0.5...|[0.85648547145108...|[0.70192584599157...|       0.0|\n",
            "|     0.0|(9,[0,1,4,6],[0.5...|[0.94894761254168...|[0.72090348516261...|       0.0|\n",
            "|     0.0|(9,[0,1,4,6],[0.5...|[1.04140975363227...|[0.73912192739232...|       0.0|\n",
            "|     0.0|(9,[0,1,4,6],[0.5...|[1.09393071601905...|[0.74912117816634...|       0.0|\n",
            "|     0.0|(9,[0,1,4,6],[0.5...|[1.36502724744936...|[0.79657554238362...|       0.0|\n",
            "|     0.0|(9,[0,1,4,6],[0.5...|[1.56347516260017...|[0.82685145077790...|       0.0|\n",
            "|     0.0|(9,[0,1,4,6],[0.5...|[1.88709265641726...|[0.86842368156947...|       0.0|\n",
            "|     0.0|(9,[0,1,4,6],[0.5...|[2.19592853889644...|[0.89988329605563...|       0.0|\n",
            "|     0.0|(9,[0,1,4,6],[0.5...|[2.28713270161875...|[0.90780575349966...|       0.0|\n",
            "|     0.0|(9,[0,1,4,6],[1.0...|[1.54277384620191...|[0.82386759909517...|       0.0|\n",
            "|     0.0|(9,[0,1,4,6],[1.0...|[1.59123782907076...|[0.83079018567713...|       0.0|\n",
            "|     0.0|(9,[0,1,4,6],[1.0...|[1.59118549688463...|[0.83078282880341...|       0.0|\n",
            "|     0.0|(9,[0,1,4,6],[1.0...|[1.63778339420813...|[0.83723309779384...|       0.0|\n",
            "+--------+--------------------+--------------------+--------------------+----------+\n",
            "only showing top 20 rows\n",
            "\n"
          ]
        }
      ]
    },
    {
      "cell_type": "code",
      "source": [
        "eval = BinaryClassificationEvaluator(rawPredictionCol='prediction', labelCol='Survived')\n",
        "eval.evaluate(pred_res)\n"
      ],
      "metadata": {
        "colab": {
          "base_uri": "https://localhost:8080/"
        },
        "id": "A8WG2oA9kbWp",
        "outputId": "f153ba9c-182d-4c81-9fee-a79f4fa4494d"
      },
      "execution_count": 306,
      "outputs": [
        {
          "output_type": "execute_result",
          "data": {
            "text/plain": [
              "0.7828937990021384"
            ]
          },
          "metadata": {},
          "execution_count": 306
        }
      ]
    },
    {
      "cell_type": "code",
      "source": [
        "eval = MulticlassClassificationEvaluator(predictionCol='prediction', labelCol='Survived')"
      ],
      "metadata": {
        "id": "9slXJRiamEd9"
      },
      "execution_count": 315,
      "outputs": []
    },
    {
      "cell_type": "code",
      "source": [
        "eval.evaluate(pred_res)"
      ],
      "metadata": {
        "colab": {
          "base_uri": "https://localhost:8080/"
        },
        "id": "pbrM3P89mTK9",
        "outputId": "cb31861b-e110-4586-9346-01f02100692d"
      },
      "execution_count": 316,
      "outputs": [
        {
          "output_type": "execute_result",
          "data": {
            "text/plain": [
              "0.806041013584117"
            ]
          },
          "metadata": {},
          "execution_count": 316
        }
      ]
    },
    {
      "cell_type": "code",
      "source": [],
      "metadata": {
        "id": "RezsHbssnm5o"
      },
      "execution_count": null,
      "outputs": []
    }
  ]
}