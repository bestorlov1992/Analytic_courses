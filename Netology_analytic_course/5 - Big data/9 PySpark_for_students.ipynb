{
  "cells": [
    {
      "cell_type": "markdown",
      "metadata": {
        "id": "3ma3-UglUxaX"
      },
      "source": [
        "# Установка PySpark"
      ]
    },
    {
      "cell_type": "code",
      "execution_count": null,
      "metadata": {
        "id": "Vi6nqfZkUw3h"
      },
      "outputs": [],
      "source": [
        "!apt-get install openjdk-8-jdk-headless -qq > /dev/null"
      ]
    },
    {
      "cell_type": "code",
      "execution_count": null,
      "metadata": {
        "id": "5GMeglwYUzd6"
      },
      "outputs": [],
      "source": [
        "!wget -q www-us.apache.org/dist/spark/spark-2.4.3/spark-2.4.3-bin-hadoop2.7.tgz"
      ]
    },
    {
      "cell_type": "code",
      "execution_count": null,
      "metadata": {
        "id": "jTOJhYluU4Yu"
      },
      "outputs": [],
      "source": [
        "!tar -xvf spark-2.4.3-bin-hadoop2.7.tgz"
      ]
    },
    {
      "cell_type": "code",
      "execution_count": null,
      "metadata": {
        "id": "5L_rKPaJU54x"
      },
      "outputs": [],
      "source": [
        "!pip install -q findspark"
      ]
    },
    {
      "cell_type": "code",
      "execution_count": null,
      "metadata": {
        "id": "Rhdq6bJkU8qz"
      },
      "outputs": [],
      "source": [
        "import os\n",
        "os.environ[\"JAVA_HOME\"] = \"/usr/lib/jvm/java-8-openjdk-amd64\"\n",
        "os.environ[\"SPARK_HOME\"] = \"/content/spark-2.4.3-bin-hadoop2.7\""
      ]
    },
    {
      "cell_type": "code",
      "execution_count": 1,
      "metadata": {
        "colab": {
          "base_uri": "https://localhost:8080/"
        },
        "id": "zO9gS_mysccn",
        "outputId": "efeaca25-c318-41af-9089-b1794f294cb0"
      },
      "outputs": [
        {
          "name": "stdout",
          "output_type": "stream",
          "text": [
            "Collecting pyspark\n",
            "  Downloading pyspark-3.5.1.tar.gz (317.0 MB)\n",
            "\u001b[2K     \u001b[90m━━━━━━━━━━━━━━━━━━━━━━━━━━━━━━━━━━━━━━━━\u001b[0m \u001b[32m317.0/317.0 MB\u001b[0m \u001b[31m3.3 MB/s\u001b[0m eta \u001b[36m0:00:00\u001b[0m\n",
            "\u001b[?25h  Preparing metadata (setup.py) ... \u001b[?25l\u001b[?25hdone\n",
            "Requirement already satisfied: py4j==0.10.9.7 in /usr/local/lib/python3.10/dist-packages (from pyspark) (0.10.9.7)\n",
            "Building wheels for collected packages: pyspark\n",
            "  Building wheel for pyspark (setup.py) ... \u001b[?25l\u001b[?25hdone\n",
            "  Created wheel for pyspark: filename=pyspark-3.5.1-py2.py3-none-any.whl size=317488491 sha256=b18c01dc23b2684718d10bef18649cbf93f029adc7587b69af1dd0956e13280f\n",
            "  Stored in directory: /root/.cache/pip/wheels/80/1d/60/2c256ed38dddce2fdd93be545214a63e02fbd8d74fb0b7f3a6\n",
            "Successfully built pyspark\n",
            "Installing collected packages: pyspark\n",
            "Successfully installed pyspark-3.5.1\n"
          ]
        }
      ],
      "source": [
        "!pip install pyspark"
      ]
    },
    {
      "cell_type": "code",
      "execution_count": 2,
      "metadata": {
        "id": "yTDf1jA9U-9T"
      },
      "outputs": [],
      "source": [
        "# import findspark\n",
        "# findspark.init()\n",
        "from pyspark.sql import SparkSession\n",
        "\n",
        "spark = SparkSession.builder.master(\"local[*]\").getOrCreate()"
      ]
    },
    {
      "cell_type": "markdown",
      "metadata": {
        "id": "BB6NPNLwVO9C"
      },
      "source": [
        "# Загрузка данных из CSV"
      ]
    },
    {
      "cell_type": "code",
      "execution_count": 82,
      "metadata": {
        "id": "UEXYizP0VApq"
      },
      "outputs": [],
      "source": [
        "df = spark.read.csv('power.csv', inferSchema=True, header=True)"
      ]
    },
    {
      "cell_type": "markdown",
      "metadata": {
        "id": "R9QdB_FsVuja"
      },
      "source": [
        "# Базовый обзор данных"
      ]
    },
    {
      "cell_type": "code",
      "execution_count": null,
      "metadata": {
        "colab": {
          "base_uri": "https://localhost:8080/",
          "height": 34
        },
        "id": "oKhAwRXvVPbb",
        "outputId": "c948bcaf-2eae-49d6-ed62-3c7bfd23140a"
      },
      "outputs": [
        {
          "data": {
            "text/plain": [
              "1189482"
            ]
          },
          "execution_count": 15,
          "metadata": {
            "tags": []
          },
          "output_type": "execute_result"
        }
      ],
      "source": [
        "df.count()"
      ]
    },
    {
      "cell_type": "code",
      "execution_count": 4,
      "metadata": {
        "colab": {
          "base_uri": "https://localhost:8080/"
        },
        "id": "tWCSTbZrVvxc",
        "outputId": "bdfd9445-65e2-4afa-8216-a2a29b657e66"
      },
      "outputs": [
        {
          "data": {
            "text/plain": [
              "[('country', 'string'),\n",
              " ('year', 'int'),\n",
              " ('quantity', 'double'),\n",
              " ('category', 'int')]"
            ]
          },
          "execution_count": 4,
          "metadata": {},
          "output_type": "execute_result"
        }
      ],
      "source": [
        "df.dtypes"
      ]
    },
    {
      "cell_type": "code",
      "execution_count": null,
      "metadata": {
        "colab": {
          "base_uri": "https://localhost:8080/",
          "height": 51
        },
        "id": "W7XN-C1_V1JB",
        "outputId": "86e3f4d7-204e-40d3-a7a7-965d4b5612f3"
      },
      "outputs": [
        {
          "data": {
            "text/plain": [
              "[Row(country='Austria', year=1996, quantity=5.0, category=1),\n",
              " Row(country='Austria', year=1995, quantity=17.0, category=1)]"
            ]
          },
          "execution_count": 17,
          "metadata": {
            "tags": []
          },
          "output_type": "execute_result"
        }
      ],
      "source": [
        "df.take(2)"
      ]
    },
    {
      "cell_type": "code",
      "execution_count": 5,
      "metadata": {
        "colab": {
          "base_uri": "https://localhost:8080/"
        },
        "id": "OuqnvX8VyKJ9",
        "outputId": "01fb66fd-2588-4712-952c-0fbe3a412c20"
      },
      "outputs": [
        {
          "name": "stdout",
          "output_type": "stream",
          "text": [
            "+-------+----+--------+--------+\n",
            "|country|year|quantity|category|\n",
            "+-------+----+--------+--------+\n",
            "|Austria|1996|     5.0|       1|\n",
            "|Austria|1995|    17.0|       1|\n",
            "|Belgium|2014|     0.0|       1|\n",
            "|Belgium|2013|     0.0|       1|\n",
            "|Belgium|2012|    35.0|       1|\n",
            "+-------+----+--------+--------+\n",
            "only showing top 5 rows\n",
            "\n"
          ]
        }
      ],
      "source": [
        "df.show(5)"
      ]
    },
    {
      "cell_type": "markdown",
      "metadata": {
        "id": "K2aLmXigf_ow"
      },
      "source": [
        "# Практика 1. Загрузите данные из файла transactions.csv. Выведите 10 первых строчек"
      ]
    },
    {
      "cell_type": "code",
      "execution_count": 149,
      "metadata": {
        "id": "X9GFYH-PgILz"
      },
      "outputs": [],
      "source": [
        "dfp = spark.read.csv('transactions.csv', inferSchema=True, header=True)"
      ]
    },
    {
      "cell_type": "code",
      "execution_count": 8,
      "metadata": {
        "colab": {
          "base_uri": "https://localhost:8080/"
        },
        "id": "SbhkYBhwgV8R",
        "outputId": "995c3475-8ef9-4e69-8b28-c46bed514275"
      },
      "outputs": [
        {
          "name": "stdout",
          "output_type": "stream",
          "text": [
            "+----+-----+----+-------+------+-----+-----+----+\n",
            "|Year|Month|  ID|Product|Amount|Price|Total|Cost|\n",
            "+----+-----+----+-------+------+-----+-----+----+\n",
            "|2017|    1|t001|     A1|     7| 2904|20328|1200|\n",
            "|2017|    1|t002|     A2|     2| 1896| 3792|1100|\n",
            "|2017|    2|t003|     A1|     5| 2904|14520|1200|\n",
            "|2017|    2|t004|     A4|     1| 8618| 8618|4200|\n",
            "|2017|    2|t005|     A5|     3| 5175|15525| 500|\n",
            "|2017|    2|t006|     _6|     4| 3500|14000| 200|\n",
            "|2017|    3|t007|     _3|     6| 1265| 7590| 200|\n",
            "|2017|    3|t008|     _5|     2| 5175|10350|1200|\n",
            "|2017|    4|t009|     _8|     3| 3760|11280|1000|\n",
            "|2017|    4|t010|     _4|     2| 8618|17236|3400|\n",
            "+----+-----+----+-------+------+-----+-----+----+\n",
            "only showing top 10 rows\n",
            "\n"
          ]
        }
      ],
      "source": [
        "df1.show(10)"
      ]
    },
    {
      "cell_type": "markdown",
      "metadata": {
        "id": "NpIFRrqnW91c"
      },
      "source": [
        "# Выборки"
      ]
    },
    {
      "cell_type": "code",
      "execution_count": 83,
      "metadata": {
        "colab": {
          "base_uri": "https://localhost:8080/"
        },
        "id": "ZGKVXwOyV2nB",
        "outputId": "1c7c7983-e1a0-4d13-9bcb-91cb0bae24ad"
      },
      "outputs": [
        {
          "data": {
            "text/plain": [
              "[Row(country='Austria', year=1996, s=50.0)]"
            ]
          },
          "execution_count": 83,
          "metadata": {},
          "output_type": "execute_result"
        }
      ],
      "source": [
        "df_lim = df.select(df['country'], 'year', (df['quantity'] * 10).alias('s'))\n",
        "df_lim.take(1)"
      ]
    },
    {
      "cell_type": "code",
      "execution_count": 11,
      "metadata": {
        "colab": {
          "base_uri": "https://localhost:8080/"
        },
        "id": "CrXVKk4IW-pr",
        "outputId": "e11f218c-1743-46c2-c834-9bde9b3bd231"
      },
      "outputs": [
        {
          "name": "stdout",
          "output_type": "stream",
          "text": [
            "+-------+\n",
            "|(y + 1)|\n",
            "+-------+\n",
            "|   1997|\n",
            "|   1996|\n",
            "|   2015|\n",
            "|   2014|\n",
            "|   2013|\n",
            "+-------+\n",
            "only showing top 5 rows\n",
            "\n"
          ]
        }
      ],
      "source": [
        "df_lim = df_lim.withColumnRenamed('year', 'y')"
      ]
    },
    {
      "cell_type": "code",
      "execution_count": 28,
      "metadata": {
        "colab": {
          "base_uri": "https://localhost:8080/",
          "height": 35
        },
        "id": "OvSW07gL-C9e",
        "outputId": "5a92d22d-adc7-4938-916f-9e832a5e3649"
      },
      "outputs": [
        {
          "data": {
            "application/vnd.google.colaboratory.intrinsic+json": {
              "type": "string"
            },
            "text/plain": [
              "'3.5.1'"
            ]
          },
          "execution_count": 28,
          "metadata": {},
          "output_type": "execute_result"
        }
      ],
      "source": [
        "spark.version"
      ]
    },
    {
      "cell_type": "code",
      "execution_count": null,
      "metadata": {
        "id": "oUthkmAHCrKe"
      },
      "outputs": [],
      "source": []
    },
    {
      "cell_type": "code",
      "execution_count": 42,
      "metadata": {
        "colab": {
          "base_uri": "https://localhost:8080/"
        },
        "id": "LsY9OlxYA1q4",
        "outputId": "7871960a-8f3a-444b-ff06-04bc86d5527c"
      },
      "outputs": [
        {
          "data": {
            "text/plain": [
              "0     12\n",
              "1      1\n",
              "2      6\n",
              "3      3\n",
              "4      5\n",
              "5      9\n",
              "6      4\n",
              "7      8\n",
              "8      7\n",
              "9     10\n",
              "10    11\n",
              "11     2\n",
              "Name: Month, dtype: int32"
            ]
          },
          "execution_count": 42,
          "metadata": {},
          "output_type": "execute_result"
        }
      ],
      "source": [
        "tt.Month.unique()"
      ]
    },
    {
      "cell_type": "code",
      "execution_count": 37,
      "metadata": {
        "colab": {
          "base_uri": "https://localhost:8080/",
          "height": 206
        },
        "id": "oiaCLRoMAP8F",
        "outputId": "3c4737cb-a480-4eb6-b155-b60f67a9dfa7"
      },
      "outputs": [
        {
          "data": {
            "text/html": [
              "<div>\n",
              "<style scoped>\n",
              "    .dataframe tbody tr th:only-of-type {\n",
              "        vertical-align: middle;\n",
              "    }\n",
              "\n",
              "    .dataframe tbody tr th {\n",
              "        vertical-align: top;\n",
              "    }\n",
              "\n",
              "    .dataframe thead th {\n",
              "        text-align: right;\n",
              "    }\n",
              "</style>\n",
              "<table border=\"1\" class=\"dataframe\">\n",
              "  <thead>\n",
              "    <tr style=\"text-align: right;\">\n",
              "      <th></th>\n",
              "      <th>Year</th>\n",
              "      <th>Month</th>\n",
              "      <th>ID</th>\n",
              "      <th>Product</th>\n",
              "      <th>Amount</th>\n",
              "      <th>Price</th>\n",
              "      <th>Total</th>\n",
              "      <th>Cost</th>\n",
              "    </tr>\n",
              "  </thead>\n",
              "  <tbody>\n",
              "    <tr>\n",
              "      <th>0</th>\n",
              "      <td>2017</td>\n",
              "      <td>1</td>\n",
              "      <td>t001</td>\n",
              "      <td>A1</td>\n",
              "      <td>7</td>\n",
              "      <td>2904</td>\n",
              "      <td>20328</td>\n",
              "      <td>1200</td>\n",
              "    </tr>\n",
              "    <tr>\n",
              "      <th>1</th>\n",
              "      <td>2017</td>\n",
              "      <td>1</td>\n",
              "      <td>t002</td>\n",
              "      <td>A2</td>\n",
              "      <td>2</td>\n",
              "      <td>1896</td>\n",
              "      <td>3792</td>\n",
              "      <td>1100</td>\n",
              "    </tr>\n",
              "    <tr>\n",
              "      <th>2</th>\n",
              "      <td>2017</td>\n",
              "      <td>2</td>\n",
              "      <td>t003</td>\n",
              "      <td>A1</td>\n",
              "      <td>5</td>\n",
              "      <td>2904</td>\n",
              "      <td>14520</td>\n",
              "      <td>1200</td>\n",
              "    </tr>\n",
              "    <tr>\n",
              "      <th>3</th>\n",
              "      <td>2017</td>\n",
              "      <td>2</td>\n",
              "      <td>t004</td>\n",
              "      <td>A4</td>\n",
              "      <td>1</td>\n",
              "      <td>8618</td>\n",
              "      <td>8618</td>\n",
              "      <td>4200</td>\n",
              "    </tr>\n",
              "    <tr>\n",
              "      <th>4</th>\n",
              "      <td>2017</td>\n",
              "      <td>2</td>\n",
              "      <td>t005</td>\n",
              "      <td>A5</td>\n",
              "      <td>3</td>\n",
              "      <td>5175</td>\n",
              "      <td>15525</td>\n",
              "      <td>500</td>\n",
              "    </tr>\n",
              "  </tbody>\n",
              "</table>\n",
              "</div>"
            ],
            "text/plain": [
              "   Year  Month    ID Product  Amount  Price  Total  Cost\n",
              "0  2017      1  t001      A1       7   2904  20328  1200\n",
              "1  2017      1  t002      A2       2   1896   3792  1100\n",
              "2  2017      2  t003      A1       5   2904  14520  1200\n",
              "3  2017      2  t004      A4       1   8618   8618  4200\n",
              "4  2017      2  t005      A5       3   5175  15525   500"
            ]
          },
          "execution_count": 37,
          "metadata": {},
          "output_type": "execute_result"
        }
      ],
      "source": [
        "tt.head(5)"
      ]
    },
    {
      "cell_type": "code",
      "execution_count": 73,
      "metadata": {
        "colab": {
          "base_uri": "https://localhost:8080/",
          "height": 542
        },
        "id": "pIt_UO-uXLgk",
        "outputId": "5f8fa60a-eaf2-429f-c462-7322a4594309"
      },
      "outputs": [
        {
          "data": {
            "text/html": [
              "<html>\n",
              "<head><meta charset=\"utf-8\" /></head>\n",
              "<body>\n",
              "    <div>            <script src=\"https://cdnjs.cloudflare.com/ajax/libs/mathjax/2.7.5/MathJax.js?config=TeX-AMS-MML_SVG\"></script><script type=\"text/javascript\">if (window.MathJax && window.MathJax.Hub && window.MathJax.Hub.Config) {window.MathJax.Hub.Config({SVG: {font: \"STIX-Web\"}});}</script>                <script type=\"text/javascript\">window.PlotlyConfig = {MathJaxConfig: 'local'};</script>\n",
              "        <script charset=\"utf-8\" src=\"https://cdn.plot.ly/plotly-2.24.1.min.js\"></script>                <div id=\"9f83446f-c9e8-44dc-bc0a-5606b3b4c2bb\" class=\"plotly-graph-div\" style=\"height:525px; width:100%;\"></div>            <script type=\"text/javascript\">                                    window.PLOTLYENV=window.PLOTLYENV || {};                                    if (document.getElementById(\"9f83446f-c9e8-44dc-bc0a-5606b3b4c2bb\")) {                    Plotly.newPlot(                        \"9f83446f-c9e8-44dc-bc0a-5606b3b4c2bb\",                        [{\"alignmentgroup\":\"True\",\"hovertemplate\":\"Product=A1\\u003cbr\\u003eMonth=%{x}\\u003cbr\\u003evalue=%{y}\\u003cextra\\u003e\\u003c\\u002fextra\\u003e\",\"legendgroup\":\"A1\",\"marker\":{\"color\":\"#636efa\",\"pattern\":{\"shape\":\"\"}},\"name\":\"A1\",\"offsetgroup\":\"A1\",\"orientation\":\"v\",\"showlegend\":true,\"textposition\":\"auto\",\"x\":[12,1,6,3,5,9,4,8,7,10,11,2],\"xaxis\":\"x\",\"y\":[26136,20328,0,0,0,0,0,0,0,0,20328,14520],\"yaxis\":\"y\",\"type\":\"bar\"},{\"alignmentgroup\":\"True\",\"hovertemplate\":\"Product=A2\\u003cbr\\u003eMonth=%{x}\\u003cbr\\u003evalue=%{y}\\u003cextra\\u003e\\u003c\\u002fextra\\u003e\",\"legendgroup\":\"A2\",\"marker\":{\"color\":\"#EF553B\",\"pattern\":{\"shape\":\"\"}},\"name\":\"A2\",\"offsetgroup\":\"A2\",\"orientation\":\"v\",\"showlegend\":true,\"textposition\":\"auto\",\"x\":[12,1,6,3,5,9,4,8,7,10,11,2],\"xaxis\":\"x\",\"y\":[0,3792,0,0,0,0,0,0,0,0,3792,0],\"yaxis\":\"y\",\"type\":\"bar\"},{\"alignmentgroup\":\"True\",\"hovertemplate\":\"Product=A4\\u003cbr\\u003eMonth=%{x}\\u003cbr\\u003evalue=%{y}\\u003cextra\\u003e\\u003c\\u002fextra\\u003e\",\"legendgroup\":\"A4\",\"marker\":{\"color\":\"#00cc96\",\"pattern\":{\"shape\":\"\"}},\"name\":\"A4\",\"offsetgroup\":\"A4\",\"orientation\":\"v\",\"showlegend\":true,\"textposition\":\"auto\",\"x\":[12,1,6,3,5,9,4,8,7,10,11,2],\"xaxis\":\"x\",\"y\":[0,0,0,0,25854,0,0,0,25854,0,25854,8618],\"yaxis\":\"y\",\"type\":\"bar\"},{\"alignmentgroup\":\"True\",\"hovertemplate\":\"Product=A5\\u003cbr\\u003eMonth=%{x}\\u003cbr\\u003evalue=%{y}\\u003cextra\\u003e\\u003c\\u002fextra\\u003e\",\"legendgroup\":\"A5\",\"marker\":{\"color\":\"#ab63fa\",\"pattern\":{\"shape\":\"\"}},\"name\":\"A5\",\"offsetgroup\":\"A5\",\"orientation\":\"v\",\"showlegend\":true,\"textposition\":\"auto\",\"x\":[12,1,6,3,5,9,4,8,7,10,11,2],\"xaxis\":\"x\",\"y\":[0,0,0,0,10350,0,0,10350,0,0,67275,15525],\"yaxis\":\"y\",\"type\":\"bar\"},{\"alignmentgroup\":\"True\",\"hovertemplate\":\"Product=_2\\u003cbr\\u003eMonth=%{x}\\u003cbr\\u003evalue=%{y}\\u003cextra\\u003e\\u003c\\u002fextra\\u003e\",\"legendgroup\":\"_2\",\"marker\":{\"color\":\"#FFA15A\",\"pattern\":{\"shape\":\"\"}},\"name\":\"_2\",\"offsetgroup\":\"_2\",\"orientation\":\"v\",\"showlegend\":true,\"textposition\":\"auto\",\"x\":[12,1,6,3,5,9,4,8,7,10,11,2],\"xaxis\":\"x\",\"y\":[15168,0,1896,0,3792,15168,7584,0,18960,0,9480,0],\"yaxis\":\"y\",\"type\":\"bar\"},{\"alignmentgroup\":\"True\",\"hovertemplate\":\"Product=_3\\u003cbr\\u003eMonth=%{x}\\u003cbr\\u003evalue=%{y}\\u003cextra\\u003e\\u003c\\u002fextra\\u003e\",\"legendgroup\":\"_3\",\"marker\":{\"color\":\"#19d3f3\",\"pattern\":{\"shape\":\"\"}},\"name\":\"_3\",\"offsetgroup\":\"_3\",\"orientation\":\"v\",\"showlegend\":true,\"textposition\":\"auto\",\"x\":[12,1,6,3,5,9,4,8,7,10,11,2],\"xaxis\":\"x\",\"y\":[5060,0,0,7590,15180,3795,0,2530,0,3795,0,0],\"yaxis\":\"y\",\"type\":\"bar\"},{\"alignmentgroup\":\"True\",\"hovertemplate\":\"Product=_4\\u003cbr\\u003eMonth=%{x}\\u003cbr\\u003evalue=%{y}\\u003cextra\\u003e\\u003c\\u002fextra\\u003e\",\"legendgroup\":\"_4\",\"marker\":{\"color\":\"#FF6692\",\"pattern\":{\"shape\":\"\"}},\"name\":\"_4\",\"offsetgroup\":\"_4\",\"orientation\":\"v\",\"showlegend\":true,\"textposition\":\"auto\",\"x\":[12,1,6,3,5,9,4,8,7,10,11,2],\"xaxis\":\"x\",\"y\":[17236,0,25854,0,0,17236,25854,0,17236,17236,0,0],\"yaxis\":\"y\",\"type\":\"bar\"},{\"alignmentgroup\":\"True\",\"hovertemplate\":\"Product=_5\\u003cbr\\u003eMonth=%{x}\\u003cbr\\u003evalue=%{y}\\u003cextra\\u003e\\u003c\\u002fextra\\u003e\",\"legendgroup\":\"_5\",\"marker\":{\"color\":\"#B6E880\",\"pattern\":{\"shape\":\"\"}},\"name\":\"_5\",\"offsetgroup\":\"_5\",\"orientation\":\"v\",\"showlegend\":true,\"textposition\":\"auto\",\"x\":[12,1,6,3,5,9,4,8,7,10,11,2],\"xaxis\":\"x\",\"y\":[10350,0,10350,10350,51750,31050,25875,5175,0,31050,25875,0],\"yaxis\":\"y\",\"type\":\"bar\"},{\"alignmentgroup\":\"True\",\"hovertemplate\":\"Product=_6\\u003cbr\\u003eMonth=%{x}\\u003cbr\\u003evalue=%{y}\\u003cextra\\u003e\\u003c\\u002fextra\\u003e\",\"legendgroup\":\"_6\",\"marker\":{\"color\":\"#FF97FF\",\"pattern\":{\"shape\":\"\"}},\"name\":\"_6\",\"offsetgroup\":\"_6\",\"orientation\":\"v\",\"showlegend\":true,\"textposition\":\"auto\",\"x\":[12,1,6,3,5,9,4,8,7,10,11,2],\"xaxis\":\"x\",\"y\":[0,0,0,0,14000,0,0,0,0,0,0,14000],\"yaxis\":\"y\",\"type\":\"bar\"},{\"alignmentgroup\":\"True\",\"hovertemplate\":\"Product=_8\\u003cbr\\u003eMonth=%{x}\\u003cbr\\u003evalue=%{y}\\u003cextra\\u003e\\u003c\\u002fextra\\u003e\",\"legendgroup\":\"_8\",\"marker\":{\"color\":\"#FECB52\",\"pattern\":{\"shape\":\"\"}},\"name\":\"_8\",\"offsetgroup\":\"_8\",\"orientation\":\"v\",\"showlegend\":true,\"textposition\":\"auto\",\"x\":[12,1,6,3,5,9,4,8,7,10,11,2],\"xaxis\":\"x\",\"y\":[18800,0,48880,0,0,3760,22560,0,0,11280,0,0],\"yaxis\":\"y\",\"type\":\"bar\"}],                        {\"template\":{\"data\":{\"histogram2dcontour\":[{\"type\":\"histogram2dcontour\",\"colorbar\":{\"outlinewidth\":0,\"ticks\":\"\"},\"colorscale\":[[0.0,\"#0d0887\"],[0.1111111111111111,\"#46039f\"],[0.2222222222222222,\"#7201a8\"],[0.3333333333333333,\"#9c179e\"],[0.4444444444444444,\"#bd3786\"],[0.5555555555555556,\"#d8576b\"],[0.6666666666666666,\"#ed7953\"],[0.7777777777777778,\"#fb9f3a\"],[0.8888888888888888,\"#fdca26\"],[1.0,\"#f0f921\"]]}],\"choropleth\":[{\"type\":\"choropleth\",\"colorbar\":{\"outlinewidth\":0,\"ticks\":\"\"}}],\"histogram2d\":[{\"type\":\"histogram2d\",\"colorbar\":{\"outlinewidth\":0,\"ticks\":\"\"},\"colorscale\":[[0.0,\"#0d0887\"],[0.1111111111111111,\"#46039f\"],[0.2222222222222222,\"#7201a8\"],[0.3333333333333333,\"#9c179e\"],[0.4444444444444444,\"#bd3786\"],[0.5555555555555556,\"#d8576b\"],[0.6666666666666666,\"#ed7953\"],[0.7777777777777778,\"#fb9f3a\"],[0.8888888888888888,\"#fdca26\"],[1.0,\"#f0f921\"]]}],\"heatmap\":[{\"type\":\"heatmap\",\"colorbar\":{\"outlinewidth\":0,\"ticks\":\"\"},\"colorscale\":[[0.0,\"#0d0887\"],[0.1111111111111111,\"#46039f\"],[0.2222222222222222,\"#7201a8\"],[0.3333333333333333,\"#9c179e\"],[0.4444444444444444,\"#bd3786\"],[0.5555555555555556,\"#d8576b\"],[0.6666666666666666,\"#ed7953\"],[0.7777777777777778,\"#fb9f3a\"],[0.8888888888888888,\"#fdca26\"],[1.0,\"#f0f921\"]]}],\"heatmapgl\":[{\"type\":\"heatmapgl\",\"colorbar\":{\"outlinewidth\":0,\"ticks\":\"\"},\"colorscale\":[[0.0,\"#0d0887\"],[0.1111111111111111,\"#46039f\"],[0.2222222222222222,\"#7201a8\"],[0.3333333333333333,\"#9c179e\"],[0.4444444444444444,\"#bd3786\"],[0.5555555555555556,\"#d8576b\"],[0.6666666666666666,\"#ed7953\"],[0.7777777777777778,\"#fb9f3a\"],[0.8888888888888888,\"#fdca26\"],[1.0,\"#f0f921\"]]}],\"contourcarpet\":[{\"type\":\"contourcarpet\",\"colorbar\":{\"outlinewidth\":0,\"ticks\":\"\"}}],\"contour\":[{\"type\":\"contour\",\"colorbar\":{\"outlinewidth\":0,\"ticks\":\"\"},\"colorscale\":[[0.0,\"#0d0887\"],[0.1111111111111111,\"#46039f\"],[0.2222222222222222,\"#7201a8\"],[0.3333333333333333,\"#9c179e\"],[0.4444444444444444,\"#bd3786\"],[0.5555555555555556,\"#d8576b\"],[0.6666666666666666,\"#ed7953\"],[0.7777777777777778,\"#fb9f3a\"],[0.8888888888888888,\"#fdca26\"],[1.0,\"#f0f921\"]]}],\"surface\":[{\"type\":\"surface\",\"colorbar\":{\"outlinewidth\":0,\"ticks\":\"\"},\"colorscale\":[[0.0,\"#0d0887\"],[0.1111111111111111,\"#46039f\"],[0.2222222222222222,\"#7201a8\"],[0.3333333333333333,\"#9c179e\"],[0.4444444444444444,\"#bd3786\"],[0.5555555555555556,\"#d8576b\"],[0.6666666666666666,\"#ed7953\"],[0.7777777777777778,\"#fb9f3a\"],[0.8888888888888888,\"#fdca26\"],[1.0,\"#f0f921\"]]}],\"mesh3d\":[{\"type\":\"mesh3d\",\"colorbar\":{\"outlinewidth\":0,\"ticks\":\"\"}}],\"scatter\":[{\"fillpattern\":{\"fillmode\":\"overlay\",\"size\":10,\"solidity\":0.2},\"type\":\"scatter\"}],\"parcoords\":[{\"type\":\"parcoords\",\"line\":{\"colorbar\":{\"outlinewidth\":0,\"ticks\":\"\"}}}],\"scatterpolargl\":[{\"type\":\"scatterpolargl\",\"marker\":{\"colorbar\":{\"outlinewidth\":0,\"ticks\":\"\"}}}],\"bar\":[{\"error_x\":{\"color\":\"#2a3f5f\"},\"error_y\":{\"color\":\"#2a3f5f\"},\"marker\":{\"line\":{\"color\":\"#E5ECF6\",\"width\":0.5},\"pattern\":{\"fillmode\":\"overlay\",\"size\":10,\"solidity\":0.2}},\"type\":\"bar\"}],\"scattergeo\":[{\"type\":\"scattergeo\",\"marker\":{\"colorbar\":{\"outlinewidth\":0,\"ticks\":\"\"}}}],\"scatterpolar\":[{\"type\":\"scatterpolar\",\"marker\":{\"colorbar\":{\"outlinewidth\":0,\"ticks\":\"\"}}}],\"histogram\":[{\"marker\":{\"pattern\":{\"fillmode\":\"overlay\",\"size\":10,\"solidity\":0.2}},\"type\":\"histogram\"}],\"scattergl\":[{\"type\":\"scattergl\",\"marker\":{\"colorbar\":{\"outlinewidth\":0,\"ticks\":\"\"}}}],\"scatter3d\":[{\"type\":\"scatter3d\",\"line\":{\"colorbar\":{\"outlinewidth\":0,\"ticks\":\"\"}},\"marker\":{\"colorbar\":{\"outlinewidth\":0,\"ticks\":\"\"}}}],\"scattermapbox\":[{\"type\":\"scattermapbox\",\"marker\":{\"colorbar\":{\"outlinewidth\":0,\"ticks\":\"\"}}}],\"scatterternary\":[{\"type\":\"scatterternary\",\"marker\":{\"colorbar\":{\"outlinewidth\":0,\"ticks\":\"\"}}}],\"scattercarpet\":[{\"type\":\"scattercarpet\",\"marker\":{\"colorbar\":{\"outlinewidth\":0,\"ticks\":\"\"}}}],\"carpet\":[{\"aaxis\":{\"endlinecolor\":\"#2a3f5f\",\"gridcolor\":\"white\",\"linecolor\":\"white\",\"minorgridcolor\":\"white\",\"startlinecolor\":\"#2a3f5f\"},\"baxis\":{\"endlinecolor\":\"#2a3f5f\",\"gridcolor\":\"white\",\"linecolor\":\"white\",\"minorgridcolor\":\"white\",\"startlinecolor\":\"#2a3f5f\"},\"type\":\"carpet\"}],\"table\":[{\"cells\":{\"fill\":{\"color\":\"#EBF0F8\"},\"line\":{\"color\":\"white\"}},\"header\":{\"fill\":{\"color\":\"#C8D4E3\"},\"line\":{\"color\":\"white\"}},\"type\":\"table\"}],\"barpolar\":[{\"marker\":{\"line\":{\"color\":\"#E5ECF6\",\"width\":0.5},\"pattern\":{\"fillmode\":\"overlay\",\"size\":10,\"solidity\":0.2}},\"type\":\"barpolar\"}],\"pie\":[{\"automargin\":true,\"type\":\"pie\"}]},\"layout\":{\"autotypenumbers\":\"strict\",\"colorway\":[\"#636efa\",\"#EF553B\",\"#00cc96\",\"#ab63fa\",\"#FFA15A\",\"#19d3f3\",\"#FF6692\",\"#B6E880\",\"#FF97FF\",\"#FECB52\"],\"font\":{\"color\":\"#2a3f5f\"},\"hovermode\":\"closest\",\"hoverlabel\":{\"align\":\"left\"},\"paper_bgcolor\":\"white\",\"plot_bgcolor\":\"#E5ECF6\",\"polar\":{\"bgcolor\":\"#E5ECF6\",\"angularaxis\":{\"gridcolor\":\"white\",\"linecolor\":\"white\",\"ticks\":\"\"},\"radialaxis\":{\"gridcolor\":\"white\",\"linecolor\":\"white\",\"ticks\":\"\"}},\"ternary\":{\"bgcolor\":\"#E5ECF6\",\"aaxis\":{\"gridcolor\":\"white\",\"linecolor\":\"white\",\"ticks\":\"\"},\"baxis\":{\"gridcolor\":\"white\",\"linecolor\":\"white\",\"ticks\":\"\"},\"caxis\":{\"gridcolor\":\"white\",\"linecolor\":\"white\",\"ticks\":\"\"}},\"coloraxis\":{\"colorbar\":{\"outlinewidth\":0,\"ticks\":\"\"}},\"colorscale\":{\"sequential\":[[0.0,\"#0d0887\"],[0.1111111111111111,\"#46039f\"],[0.2222222222222222,\"#7201a8\"],[0.3333333333333333,\"#9c179e\"],[0.4444444444444444,\"#bd3786\"],[0.5555555555555556,\"#d8576b\"],[0.6666666666666666,\"#ed7953\"],[0.7777777777777778,\"#fb9f3a\"],[0.8888888888888888,\"#fdca26\"],[1.0,\"#f0f921\"]],\"sequentialminus\":[[0.0,\"#0d0887\"],[0.1111111111111111,\"#46039f\"],[0.2222222222222222,\"#7201a8\"],[0.3333333333333333,\"#9c179e\"],[0.4444444444444444,\"#bd3786\"],[0.5555555555555556,\"#d8576b\"],[0.6666666666666666,\"#ed7953\"],[0.7777777777777778,\"#fb9f3a\"],[0.8888888888888888,\"#fdca26\"],[1.0,\"#f0f921\"]],\"diverging\":[[0,\"#8e0152\"],[0.1,\"#c51b7d\"],[0.2,\"#de77ae\"],[0.3,\"#f1b6da\"],[0.4,\"#fde0ef\"],[0.5,\"#f7f7f7\"],[0.6,\"#e6f5d0\"],[0.7,\"#b8e186\"],[0.8,\"#7fbc41\"],[0.9,\"#4d9221\"],[1,\"#276419\"]]},\"xaxis\":{\"gridcolor\":\"white\",\"linecolor\":\"white\",\"ticks\":\"\",\"title\":{\"standoff\":15},\"zerolinecolor\":\"white\",\"automargin\":true,\"zerolinewidth\":2},\"yaxis\":{\"gridcolor\":\"white\",\"linecolor\":\"white\",\"ticks\":\"\",\"title\":{\"standoff\":15},\"zerolinecolor\":\"white\",\"automargin\":true,\"zerolinewidth\":2},\"scene\":{\"xaxis\":{\"backgroundcolor\":\"#E5ECF6\",\"gridcolor\":\"white\",\"linecolor\":\"white\",\"showbackground\":true,\"ticks\":\"\",\"zerolinecolor\":\"white\",\"gridwidth\":2},\"yaxis\":{\"backgroundcolor\":\"#E5ECF6\",\"gridcolor\":\"white\",\"linecolor\":\"white\",\"showbackground\":true,\"ticks\":\"\",\"zerolinecolor\":\"white\",\"gridwidth\":2},\"zaxis\":{\"backgroundcolor\":\"#E5ECF6\",\"gridcolor\":\"white\",\"linecolor\":\"white\",\"showbackground\":true,\"ticks\":\"\",\"zerolinecolor\":\"white\",\"gridwidth\":2}},\"shapedefaults\":{\"line\":{\"color\":\"#2a3f5f\"}},\"annotationdefaults\":{\"arrowcolor\":\"#2a3f5f\",\"arrowhead\":0,\"arrowwidth\":1},\"geo\":{\"bgcolor\":\"white\",\"landcolor\":\"#E5ECF6\",\"subunitcolor\":\"white\",\"showland\":true,\"showlakes\":true,\"lakecolor\":\"white\"},\"title\":{\"x\":0.05},\"mapbox\":{\"style\":\"light\"}}},\"xaxis\":{\"anchor\":\"y\",\"domain\":[0.0,1.0],\"title\":{\"text\":\"Month\"}},\"yaxis\":{\"anchor\":\"x\",\"domain\":[0.0,1.0],\"title\":{\"text\":\"value\"}},\"legend\":{\"title\":{\"text\":\"Product\"},\"tracegroupgap\":0},\"margin\":{\"t\":60},\"barmode\":\"relative\"},                        {\"responsive\": true}                    ).then(function(){\n",
              "                            \n",
              "var gd = document.getElementById('9f83446f-c9e8-44dc-bc0a-5606b3b4c2bb');\n",
              "var x = new MutationObserver(function (mutations, observer) {{\n",
              "        var display = window.getComputedStyle(gd).display;\n",
              "        if (!display || display === 'none') {{\n",
              "            console.log([gd, 'removed!']);\n",
              "            Plotly.purge(gd);\n",
              "            observer.disconnect();\n",
              "        }}\n",
              "}});\n",
              "\n",
              "// Listen for the removal of the full notebook cells\n",
              "var notebookContainer = gd.closest('#notebook-container');\n",
              "if (notebookContainer) {{\n",
              "    x.observe(notebookContainer, {childList: true});\n",
              "}}\n",
              "\n",
              "// Listen for the clearing of the current output cell\n",
              "var outputEl = gd.closest('.output');\n",
              "if (outputEl) {{\n",
              "    x.observe(outputEl, {childList: true});\n",
              "}}\n",
              "\n",
              "                        })                };                            </script>        </div>\n",
              "</body>\n",
              "</html>"
            ]
          },
          "metadata": {},
          "output_type": "display_data"
        }
      ],
      "source": [
        "from plotly.subplots import make_subplots\n",
        "import pyspark.pandas as ps\n",
        "import pandas as pd\n",
        "tt = df1.pandas_api()\n",
        "tt.pivot_table(index=['Month'], columns='Product', values='Total', aggfunc='sum').fillna(0).plot.bar()\n"
      ]
    },
    {
      "cell_type": "code",
      "execution_count": null,
      "metadata": {
        "id": "gDNkaGNHIbNJ"
      },
      "outputs": [],
      "source": []
    },
    {
      "cell_type": "code",
      "execution_count": 64,
      "metadata": {
        "id": "brTLTXar9hdu"
      },
      "outputs": [],
      "source": []
    },
    {
      "cell_type": "markdown",
      "metadata": {
        "id": "ek9Ul49yXP_2"
      },
      "source": [
        "# Описание и статистики"
      ]
    },
    {
      "cell_type": "code",
      "execution_count": null,
      "metadata": {
        "colab": {
          "base_uri": "https://localhost:8080/",
          "height": 459
        },
        "id": "wz-d4POKXRkZ",
        "outputId": "d4fb4501-35f3-4c01-91f9-579e813c7734"
      },
      "outputs": [
        {
          "name": "stdout",
          "output_type": "stream",
          "text": [
            "+-------+----+--------+\n",
            "|country|   y|quantity|\n",
            "+-------+----+--------+\n",
            "|Austria|1996|     5.0|\n",
            "|Austria|1995|    17.0|\n",
            "|Belgium|2014|     0.0|\n",
            "|Belgium|2013|     0.0|\n",
            "|Belgium|2012|    35.0|\n",
            "|Belgium|2011|    25.0|\n",
            "|Belgium|2010|    22.0|\n",
            "|Belgium|2009|    45.0|\n",
            "|Czechia|1998|     1.0|\n",
            "|Czechia|1995|     7.0|\n",
            "|Finland|2010|     9.0|\n",
            "|Finland|2009|    13.0|\n",
            "|Finland|2008|    39.0|\n",
            "|Finland|2007|    21.0|\n",
            "|Finland|2006|     0.0|\n",
            "|Finland|2005|     0.0|\n",
            "|Finland|2004|     0.0|\n",
            "|Finland|2003|     0.0|\n",
            "|Finland|2002|     0.0|\n",
            "|Finland|2001|     0.0|\n",
            "+-------+----+--------+\n",
            "only showing top 20 rows\n",
            "\n"
          ]
        }
      ],
      "source": [
        "df_lim.show()"
      ]
    },
    {
      "cell_type": "code",
      "execution_count": 74,
      "metadata": {
        "colab": {
          "base_uri": "https://localhost:8080/"
        },
        "id": "kr-CTD8vXWUY",
        "outputId": "4124a1b5-7d56-4238-f8da-db5a73af20f8"
      },
      "outputs": [
        {
          "name": "stdout",
          "output_type": "stream",
          "text": [
            "+-------+-----------+------------------+--------------------+\n",
            "|summary|    country|                 y|                   s|\n",
            "+-------+-----------+------------------+--------------------+\n",
            "|  count|    1189482|           1189482|             1189482|\n",
            "|   mean|       NULL|2002.8515538696677|    1842647.70050128|\n",
            "| stddev|       NULL| 7.167344581291499|1.5856628141359988E8|\n",
            "|    min|Afghanistan|              1990|          -8643480.0|\n",
            "|    max|   Zimbabwe|              2014|         6.680329E10|\n",
            "+-------+-----------+------------------+--------------------+\n",
            "\n"
          ]
        }
      ],
      "source": [
        "df_lim.describe().show()"
      ]
    },
    {
      "cell_type": "markdown",
      "metadata": {
        "id": "V-DWBD52Xpmb"
      },
      "source": [
        "# Сохранение"
      ]
    },
    {
      "cell_type": "code",
      "execution_count": 86,
      "metadata": {
        "id": "bpfED3xgRZCS"
      },
      "outputs": [],
      "source": [
        "df_lim = df_lim.withColumnRenamed('s', 'quantity')"
      ]
    },
    {
      "cell_type": "code",
      "execution_count": 75,
      "metadata": {
        "id": "Y839kNLUXY6e"
      },
      "outputs": [],
      "source": [
        "df_lim.write.format('com.databricks.spark.csv').option('header', 'true').save('df_lim.csv')"
      ]
    },
    {
      "cell_type": "code",
      "execution_count": 77,
      "metadata": {
        "colab": {
          "base_uri": "https://localhost:8080/"
        },
        "id": "B18JN7FxPCFf",
        "outputId": "f15ea657-ebb7-432b-d196-c5e3cf2d7729"
      },
      "outputs": [
        {
          "data": {
            "text/plain": [
              "1189484"
            ]
          },
          "execution_count": 77,
          "metadata": {},
          "output_type": "execute_result"
        }
      ],
      "source": [
        "df_t = spark.read.csv('df_lim.csv')\n",
        "df_t.count()"
      ]
    },
    {
      "cell_type": "markdown",
      "metadata": {
        "id": "R85OYUEwYB4y"
      },
      "source": [
        "Сохраняет каждую партицию dataframe в отдельный csv файл"
      ]
    },
    {
      "cell_type": "markdown",
      "metadata": {
        "id": "W5rojQxBYQUv"
      },
      "source": [
        "# Отложенные вычисления"
      ]
    },
    {
      "cell_type": "code",
      "execution_count": 90,
      "metadata": {
        "colab": {
          "base_uri": "https://localhost:8080/"
        },
        "id": "NyJ7uYOvQhDE",
        "outputId": "002548e2-83cb-4d1d-e609-445e2c5e3f98"
      },
      "outputs": [
        {
          "name": "stdout",
          "output_type": "stream",
          "text": [
            "+-------------+--------------------+--------------------+\n",
            "|      country|       sum(quantity)|            sum(col)|\n",
            "+-------------+--------------------+--------------------+\n",
            "|Côte d'Ivoire| 2.815485732456248E8| 5.630971464912496E8|\n",
            "|         Chad|    3.796498749132E7|    7.592997498264E7|\n",
            "|     Paraguay|1.2320948376500002E8|2.4641896753000003E8|\n",
            "|     Anguilla|            205293.5|            410587.0|\n",
            "|        Yemen|1.8178937740390213E9|3.6357875480780425E9|\n",
            "+-------------+--------------------+--------------------+\n",
            "only showing top 5 rows\n",
            "\n"
          ]
        }
      ],
      "source": [
        "df_lim.withColumn('col', df_lim.quantity * 2).groupBy('country').sum('quantity', 'col').show(5)"
      ]
    },
    {
      "cell_type": "code",
      "execution_count": null,
      "metadata": {
        "id": "i5LjfpzJQgus"
      },
      "outputs": [],
      "source": []
    },
    {
      "cell_type": "code",
      "execution_count": null,
      "metadata": {
        "id": "-ZPEvMdCXqUB"
      },
      "outputs": [],
      "source": [
        "df_lim = df_lim.withColumn('quantity x 2', df_lim['quantity'] * 2)"
      ]
    },
    {
      "cell_type": "code",
      "execution_count": null,
      "metadata": {
        "id": "nT5uPsLVYR4m"
      },
      "outputs": [],
      "source": [
        "df_grp = df_lim.groupBy('country')"
      ]
    },
    {
      "cell_type": "code",
      "execution_count": null,
      "metadata": {
        "id": "yabmjAV6YeOZ"
      },
      "outputs": [],
      "source": [
        "df_sum = df_grp.sum('quantity', 'quantity x 2')"
      ]
    },
    {
      "cell_type": "code",
      "execution_count": null,
      "metadata": {
        "colab": {
          "base_uri": "https://localhost:8080/",
          "height": 459
        },
        "id": "BIGeE-9vYkuF",
        "outputId": "5a9e466c-1816-4e55-ff07-dfdc794a4e58"
      },
      "outputs": [
        {
          "name": "stdout",
          "output_type": "stream",
          "text": [
            "+------------------+--------------------+--------------------+\n",
            "|           country|       sum(quantity)|   sum(quantity x 2)|\n",
            "+------------------+--------------------+--------------------+\n",
            "|     Côte d'Ivoire| 2.815485732456253E7| 5.630971464912506E7|\n",
            "|              Chad|  3796498.7491319943|   7592997.498263989|\n",
            "|          Paraguay|     1.23209483765E7|      2.4641896753E7|\n",
            "|          Anguilla|   20529.34999999997|   41058.69999999994|\n",
            "|             Yemen|1.8178937740390217E8|3.6357875480780435E8|\n",
            "|State of Palestine|  1318668.0123446316|   2637336.024689263|\n",
            "|           Senegal|   6944395.348079733|1.3888790696159465E7|\n",
            "|            Sweden|1.3456236759933385E8| 2.691247351986677E8|\n",
            "|        Cabo Verde|   88130.27080000004|  176260.54160000008|\n",
            "|          Kiribati|   6450.091429000002|  12900.182858000004|\n",
            "|            Guyana|   772150.6722661877|  1544301.3445323755|\n",
            "|       Philippines|  8.45277094530091E7| 1.690554189060182E8|\n",
            "|           Eritrea|   918454.1476713057|  1836908.2953426114|\n",
            "|            Jersey|  142744.73085845588|  285489.46171691176|\n",
            "|             Tonga|  16350.450516472933|  32700.901032945865|\n",
            "|          Djibouti|  130946.11799999996|  261892.23599999992|\n",
            "|         Singapore| 4.701454062703839E7| 9.402908125407678E7|\n",
            "|          Malaysia| 8.356959770425016E8|1.6713919540850031E9|\n",
            "|              Fiji|  400739.80509911076|   801479.6101982215|\n",
            "|            Turkey| 3.500108256564667E8| 7.000216513129334E8|\n",
            "+------------------+--------------------+--------------------+\n",
            "only showing top 20 rows\n",
            "\n"
          ]
        }
      ],
      "source": [
        "# Здесь произойдут основные вычисления\n",
        "df_sum.show()"
      ]
    },
    {
      "cell_type": "markdown",
      "metadata": {
        "id": "xtngglyigxIm"
      },
      "source": [
        "# Практика 2. Выведите максимальную и минимальную (2 датафрейма) количество (Amount) по продукту"
      ]
    },
    {
      "cell_type": "code",
      "execution_count": 109,
      "metadata": {
        "colab": {
          "base_uri": "https://localhost:8080/"
        },
        "id": "Bu0LlOtxgwLN",
        "outputId": "7b8f5bbc-70a8-4450-a9ab-be983e7638e1"
      },
      "outputs": [
        {
          "name": "stdout",
          "output_type": "stream",
          "text": [
            "+----+-----+----+-------+------+-----+-----+----+\n",
            "|Year|Month|  ID|Product|Amount|Price|Total|Cost|\n",
            "+----+-----+----+-------+------+-----+-----+----+\n",
            "|2017|    2|t004|     A4|     1| 8618| 8618|4200|\n",
            "|2017|    4|t014|     _4|     1| 8618| 8618| 250|\n",
            "|2017|    6|t025|     _2|     1| 1896| 1896| 250|\n",
            "|2017|    7|t030|     A4|     1| 8618| 8618| 250|\n",
            "|2017|    8|t035|     _5|     1| 5175| 5175| 800|\n",
            "+----+-----+----+-------+------+-----+-----+----+\n",
            "only showing top 5 rows\n",
            "\n"
          ]
        }
      ],
      "source": [
        "min_amount = dfp.agg({'Amount' : 'min'}).take(1)[0][0]\n",
        "df1[df1.Amount == min_amount].show(5)"
      ]
    },
    {
      "cell_type": "code",
      "execution_count": 154,
      "metadata": {
        "colab": {
          "base_uri": "https://localhost:8080/"
        },
        "id": "AdW8d2S8hLJm",
        "outputId": "57efdac9-e304-457d-8585-413af6704158"
      },
      "outputs": [
        {
          "name": "stdout",
          "output_type": "stream",
          "text": [
            "+-------+-----------+\n",
            "|Product|min(Amount)|\n",
            "+-------+-----------+\n",
            "|     _5|          1|\n",
            "|     _2|          1|\n",
            "|     A2|          2|\n",
            "|     _8|          1|\n",
            "|     _3|          2|\n",
            "+-------+-----------+\n",
            "only showing top 5 rows\n",
            "\n"
          ]
        }
      ],
      "source": [
        "dfp_min = dfp.groupBy('Product').min()['Product', 'min(Amount)']\n",
        "dfp_min.show(5)"
      ]
    },
    {
      "cell_type": "code",
      "execution_count": 156,
      "metadata": {
        "colab": {
          "base_uri": "https://localhost:8080/"
        },
        "id": "Wna5MYxCUeze",
        "outputId": "0cc91874-f476-44cc-e6b7-55f0dd8929f2"
      },
      "outputs": [
        {
          "name": "stdout",
          "output_type": "stream",
          "text": [
            "+-------+-----------+\n",
            "|Product|max(Amount)|\n",
            "+-------+-----------+\n",
            "|     _5|          6|\n",
            "|     _2|          8|\n",
            "|     A2|          2|\n",
            "|     _8|         10|\n",
            "|     _3|          7|\n",
            "+-------+-----------+\n",
            "only showing top 5 rows\n",
            "\n"
          ]
        }
      ],
      "source": [
        "dfp_max = dfp.groupBy('Product').max('Amount')\n",
        "dfp_max.show(5)"
      ]
    },
    {
      "cell_type": "markdown",
      "metadata": {
        "id": "bU53QasbZTYe"
      },
      "source": [
        "# Соединения"
      ]
    },
    {
      "cell_type": "code",
      "execution_count": 116,
      "metadata": {
        "id": "YiHhMab7ZVkl"
      },
      "outputs": [],
      "source": [
        "from pyspark.sql import Row\n",
        "\n",
        "row = Row(\"name\", \"pet\", \"count\")"
      ]
    },
    {
      "cell_type": "code",
      "execution_count": 117,
      "metadata": {
        "id": "6KFT13vdWAH2"
      },
      "outputs": [],
      "source": [
        "row = Row('name', 'pet', 'count')"
      ]
    },
    {
      "cell_type": "code",
      "execution_count": 118,
      "metadata": {
        "id": "nsflUgLnWAds"
      },
      "outputs": [],
      "source": [
        "sc = spark.sparkContext"
      ]
    },
    {
      "cell_type": "code",
      "execution_count": 119,
      "metadata": {
        "colab": {
          "base_uri": "https://localhost:8080/"
        },
        "id": "KGJZunfjWArM",
        "outputId": "386f2d15-9bcd-4c48-841f-b6a2c4315c32"
      },
      "outputs": [
        {
          "name": "stdout",
          "output_type": "stream",
          "text": [
            "+----+---+-----+\n",
            "|name|pet|count|\n",
            "+----+---+-----+\n",
            "| Sue|cat|   15|\n",
            "| Kim|dog|   20|\n",
            "+----+---+-----+\n",
            "\n"
          ]
        }
      ],
      "source": [
        "df1 = sc.parallelize([\n",
        "    row('Sue', 'cat', 15),\n",
        "    row('Kim', 'dog', 20)\n",
        "]).toDF().show(5)"
      ]
    },
    {
      "cell_type": "code",
      "execution_count": null,
      "metadata": {
        "id": "pFGlk9T5Zjck"
      },
      "outputs": [],
      "source": [
        "sc = spark.sparkContext"
      ]
    },
    {
      "cell_type": "code",
      "execution_count": 120,
      "metadata": {
        "id": "mYFvDLDOZbSC"
      },
      "outputs": [],
      "source": [
        "df1 = sc.parallelize([\n",
        "    row(\"Sue\", \"cat\", 16),\n",
        "    row(\"Kim\", \"dog\", 1),\n",
        "    row(\"Bob\", \"fish\", 5)\n",
        "    ]).toDF()\n",
        "\n",
        "df2 = sc.parallelize([\n",
        "    row(\"Fred\", \"cat\", 2),\n",
        "    row(\"Kate\", \"ant\", 179),\n",
        "    row(\"Marc\", \"lizard\", 5)\n",
        "    ]).toDF()\n",
        "\n",
        "df3 = sc.parallelize([\n",
        "    row(\"Sarah\", \"shark\", 3),\n",
        "    row(\"Jason\", \"kids\", 2),\n",
        "    row(\"Scott\", \"squirrel\", 1)\n",
        "    ]).toDF()"
      ]
    },
    {
      "cell_type": "code",
      "execution_count": 121,
      "metadata": {
        "id": "qt5a4gqJYYnm"
      },
      "outputs": [],
      "source": [
        "df_union = df1.unionAll(df2)"
      ]
    },
    {
      "cell_type": "code",
      "execution_count": 122,
      "metadata": {
        "colab": {
          "base_uri": "https://localhost:8080/"
        },
        "id": "sMVCuXdjZdcR",
        "outputId": "3e45f04a-de3e-4d59-98a4-599b494c659d"
      },
      "outputs": [
        {
          "name": "stdout",
          "output_type": "stream",
          "text": [
            "+----+------+-----+\n",
            "|name|   pet|count|\n",
            "+----+------+-----+\n",
            "| Sue|   cat|   16|\n",
            "| Kim|   dog|    1|\n",
            "| Bob|  fish|    5|\n",
            "|Fred|   cat|    2|\n",
            "|Kate|   ant|  179|\n",
            "|Marc|lizard|    5|\n",
            "+----+------+-----+\n",
            "\n"
          ]
        }
      ],
      "source": [
        "df_union = df1.unionAll(df2)\n",
        "df_union.show()"
      ]
    },
    {
      "cell_type": "code",
      "execution_count": 123,
      "metadata": {
        "id": "aWhf8tz3Zq3R"
      },
      "outputs": [],
      "source": [
        "row1 = Row(\"name\", \"pet\", \"count\")\n",
        "row2 = Row(\"name\", \"pet2\", \"count2\")"
      ]
    },
    {
      "cell_type": "code",
      "execution_count": 124,
      "metadata": {
        "id": "6mbb0ha3Z0iG"
      },
      "outputs": [],
      "source": [
        "df1 = sc.parallelize([\n",
        "    row1(\"Sue\", \"cat\", 16),\n",
        "    row1(\"Kim\", \"dog\", 1),\n",
        "    row1(\"Bob\", \"fish\", 5),\n",
        "    row1(\"Libuse\", \"horse\", 1)\n",
        "    ]).toDF()\n",
        "\n",
        "df2 = sc.parallelize([\n",
        "    row2(\"Sue\", \"eagle\", 2),\n",
        "    row2(\"Kim\", \"ant\", 179),\n",
        "    row2(\"Bob\", \"lizard\", 5),\n",
        "    row2(\"Ferdinand\", \"bees\", 23)\n",
        "    ]).toDF()"
      ]
    },
    {
      "cell_type": "code",
      "execution_count": 128,
      "metadata": {
        "colab": {
          "base_uri": "https://localhost:8080/"
        },
        "id": "OoBjufbQYvDr",
        "outputId": "56bdb593-aa85-4fb4-f47e-b205e5edf86a"
      },
      "outputs": [
        {
          "name": "stdout",
          "output_type": "stream",
          "text": [
            "+---------+-----+-----+------+------+\n",
            "|     name|  pet|count|  pet2|count2|\n",
            "+---------+-----+-----+------+------+\n",
            "|      Bob| fish|    5|lizard|     5|\n",
            "|Ferdinand| NULL| NULL|  bees|    23|\n",
            "|      Kim|  dog|    1|   ant|   179|\n",
            "|   Libuse|horse|    1|  NULL|  NULL|\n",
            "|      Sue|  cat|   16| eagle|     2|\n",
            "+---------+-----+-----+------+------+\n",
            "\n"
          ]
        }
      ],
      "source": [
        "df1.join(df2, on='name', how='outer').show(5)"
      ]
    },
    {
      "cell_type": "code",
      "execution_count": null,
      "metadata": {
        "colab": {
          "base_uri": "https://localhost:8080/",
          "height": 153
        },
        "id": "4u7pQYpDZ2F9",
        "outputId": "5b85fc7c-96b8-4713-a009-d5cdcedbdd98"
      },
      "outputs": [
        {
          "name": "stdout",
          "output_type": "stream",
          "text": [
            "+----+----+-----+------+------+\n",
            "|name| pet|count|  pet2|count2|\n",
            "+----+----+-----+------+------+\n",
            "| Sue| cat|   16| eagle|     2|\n",
            "| Bob|fish|    5|lizard|     5|\n",
            "| Kim| dog|    1|   ant|   179|\n",
            "+----+----+-----+------+------+\n",
            "\n"
          ]
        }
      ],
      "source": [
        "df1.join(df2, 'name', how='inner').show()"
      ]
    },
    {
      "cell_type": "code",
      "execution_count": null,
      "metadata": {
        "colab": {
          "base_uri": "https://localhost:8080/",
          "height": 187
        },
        "id": "zxQli91FZ4L4",
        "outputId": "fb21bac2-0f88-4efd-9a91-94d6cd59b545"
      },
      "outputs": [
        {
          "name": "stdout",
          "output_type": "stream",
          "text": [
            "+---------+-----+-----+------+------+\n",
            "|     name|  pet|count|  pet2|count2|\n",
            "+---------+-----+-----+------+------+\n",
            "|      Sue|  cat|   16| eagle|     2|\n",
            "|Ferdinand| null| null|  bees|    23|\n",
            "|      Bob| fish|    5|lizard|     5|\n",
            "|      Kim|  dog|    1|   ant|   179|\n",
            "|   Libuse|horse|    1|  null|  null|\n",
            "+---------+-----+-----+------+------+\n",
            "\n"
          ]
        }
      ],
      "source": [
        "df1.join(df2, 'name', how='outer').show()"
      ]
    },
    {
      "cell_type": "code",
      "execution_count": null,
      "metadata": {
        "colab": {
          "base_uri": "https://localhost:8080/",
          "height": 170
        },
        "id": "i2EgJT0LZ6Xj",
        "outputId": "cfe6968e-536f-4496-a4e4-7d1400b69f8d"
      },
      "outputs": [
        {
          "name": "stdout",
          "output_type": "stream",
          "text": [
            "+------+-----+-----+------+------+\n",
            "|  name|  pet|count|  pet2|count2|\n",
            "+------+-----+-----+------+------+\n",
            "|   Sue|  cat|   16| eagle|     2|\n",
            "|   Bob| fish|    5|lizard|     5|\n",
            "|   Kim|  dog|    1|   ant|   179|\n",
            "|Libuse|horse|    1|  null|  null|\n",
            "+------+-----+-----+------+------+\n",
            "\n"
          ]
        }
      ],
      "source": [
        "df1.join(df2, 'name', how='left').show()"
      ]
    },
    {
      "cell_type": "code",
      "execution_count": null,
      "metadata": {
        "colab": {
          "base_uri": "https://localhost:8080/",
          "height": 170
        },
        "id": "IisM3yfKZ79_",
        "outputId": "1f76b8a6-0b89-4b32-cc67-26a5a57a9ef9"
      },
      "outputs": [
        {
          "name": "stdout",
          "output_type": "stream",
          "text": [
            "+---------+----+-----+------+------+\n",
            "|     name| pet|count|  pet2|count2|\n",
            "+---------+----+-----+------+------+\n",
            "|      Sue| cat|   16| eagle|     2|\n",
            "|Ferdinand|null| null|  bees|    23|\n",
            "|      Bob|fish|    5|lizard|     5|\n",
            "|      Kim| dog|    1|   ant|   179|\n",
            "+---------+----+-----+------+------+\n",
            "\n"
          ]
        }
      ],
      "source": [
        "df1.join(df2, 'name', how='right').show()"
      ]
    },
    {
      "cell_type": "markdown",
      "metadata": {
        "id": "KP9Cvi4Fhaxc"
      },
      "source": [
        "# Практика 3. При помощи операции соединения выведите максимальное, минимальное и среднее (avg) количество (Amount) по продукту"
      ]
    },
    {
      "cell_type": "code",
      "execution_count": 147,
      "metadata": {
        "colab": {
          "base_uri": "https://localhost:8080/"
        },
        "id": "CPaHMmZRhnug",
        "outputId": "3fa41454-37fd-46d8-9585-5cb2d5fe7f7c"
      },
      "outputs": [
        {
          "name": "stderr",
          "output_type": "stream",
          "text": [
            "/usr/local/lib/python3.10/dist-packages/pyspark/sql/dataframe.py:5723: FutureWarning:\n",
            "\n",
            "DataFrame.to_pandas_on_spark is deprecated. Use DataFrame.pandas_api instead.\n",
            "\n"
          ]
        }
      ],
      "source": [
        "pdf = df.to_pandas_on_spark()"
      ]
    },
    {
      "cell_type": "code",
      "execution_count": 163,
      "metadata": {
        "colab": {
          "base_uri": "https://localhost:8080/"
        },
        "id": "n5MiPleohn-2",
        "outputId": "871ccb0b-20ee-4708-ecc4-144b6ca0746d"
      },
      "outputs": [
        {
          "name": "stdout",
          "output_type": "stream",
          "text": [
            "+-------+-----------+\n",
            "|Product|avg(Amount)|\n",
            "+-------+-----------+\n",
            "|     _5|       3.55|\n",
            "|     _2|       4.75|\n",
            "|     A2|        2.0|\n",
            "|     _8|        3.5|\n",
            "|     _3|       4.29|\n",
            "+-------+-----------+\n",
            "only showing top 5 rows\n",
            "\n"
          ]
        }
      ],
      "source": [
        "from pyspark.sql import functions as F\n",
        "dfp_avg = dfp.groupBy('Product').agg({'Amount': 'mean'})\n",
        "dfp_avg = dfp_avg.withColumn('avg(Amount)', F.round(dfp_avg['avg(Amount)'], 2))\n",
        "dfp_avg.show(5)"
      ]
    },
    {
      "cell_type": "code",
      "execution_count": 165,
      "metadata": {
        "colab": {
          "base_uri": "https://localhost:8080/"
        },
        "id": "oQXhwpFDh6kn",
        "outputId": "7762d3af-1b78-4080-c1bc-ab205065959d"
      },
      "outputs": [
        {
          "name": "stdout",
          "output_type": "stream",
          "text": [
            "+-------+-----------+-----------+-----------+\n",
            "|Product|min(Amount)|max(Amount)|avg(Amount)|\n",
            "+-------+-----------+-----------+-----------+\n",
            "|     _5|          1|          6|       3.55|\n",
            "|     _2|          1|          8|       4.75|\n",
            "|     A2|          2|          2|        2.0|\n",
            "|     _8|          1|         10|        3.5|\n",
            "|     _3|          2|          7|       4.29|\n",
            "+-------+-----------+-----------+-----------+\n",
            "only showing top 5 rows\n",
            "\n"
          ]
        }
      ],
      "source": [
        "dfp_all = dfp_min.join(dfp_max, on='Product')\n",
        "dfp_all = dfp_all.join(dfp_avg, on='Product')\n",
        "dfp_all.show(5)"
      ]
    },
    {
      "cell_type": "markdown",
      "metadata": {
        "id": "OlRMIVrQauZb"
      },
      "source": [
        "# Сводники"
      ]
    },
    {
      "cell_type": "code",
      "execution_count": 167,
      "metadata": {
        "colab": {
          "base_uri": "https://localhost:8080/"
        },
        "id": "rqEraqkCavbY",
        "outputId": "7702d63e-2cff-4729-e7da-6e51bc4066bf"
      },
      "outputs": [
        {
          "name": "stdout",
          "output_type": "stream",
          "text": [
            "+-------+----+--------+\n",
            "|country|year|quantity|\n",
            "+-------+----+--------+\n",
            "|Austria|1996|    50.0|\n",
            "|Austria|1995|   170.0|\n",
            "|Belgium|2014|     0.0|\n",
            "|Belgium|2013|     0.0|\n",
            "|Belgium|2012|   350.0|\n",
            "+-------+----+--------+\n",
            "only showing top 5 rows\n",
            "\n"
          ]
        }
      ],
      "source": [
        "df_lim.show(5)"
      ]
    },
    {
      "cell_type": "code",
      "execution_count": 173,
      "metadata": {
        "id": "kzYuk9wPkyVE"
      },
      "outputs": [],
      "source": [
        "pdf = df_lim.toPandas()"
      ]
    },
    {
      "cell_type": "code",
      "execution_count": 174,
      "metadata": {
        "colab": {
          "base_uri": "https://localhost:8080/",
          "height": 304
        },
        "id": "Bh7pKd20kxX_",
        "outputId": "6f39820a-7e9c-41ad-f603-261ae0d45801"
      },
      "outputs": [
        {
          "data": {
            "application/vnd.google.colaboratory.intrinsic+json": {
              "type": "dataframe"
            },
            "text/html": [
              "\n",
              "  <div id=\"df-52124730-8547-4b30-b8c7-3bc5bd75fe77\" class=\"colab-df-container\">\n",
              "    <div>\n",
              "<style scoped>\n",
              "    .dataframe tbody tr th:only-of-type {\n",
              "        vertical-align: middle;\n",
              "    }\n",
              "\n",
              "    .dataframe tbody tr th {\n",
              "        vertical-align: top;\n",
              "    }\n",
              "\n",
              "    .dataframe thead th {\n",
              "        text-align: right;\n",
              "    }\n",
              "</style>\n",
              "<table border=\"1\" class=\"dataframe\">\n",
              "  <thead>\n",
              "    <tr style=\"text-align: right;\">\n",
              "      <th>year</th>\n",
              "      <th>1990</th>\n",
              "      <th>1991</th>\n",
              "      <th>1992</th>\n",
              "      <th>1993</th>\n",
              "      <th>1994</th>\n",
              "      <th>1995</th>\n",
              "      <th>1996</th>\n",
              "      <th>1997</th>\n",
              "      <th>1998</th>\n",
              "      <th>1999</th>\n",
              "      <th>...</th>\n",
              "      <th>2005</th>\n",
              "      <th>2006</th>\n",
              "      <th>2007</th>\n",
              "      <th>2008</th>\n",
              "      <th>2009</th>\n",
              "      <th>2010</th>\n",
              "      <th>2011</th>\n",
              "      <th>2012</th>\n",
              "      <th>2013</th>\n",
              "      <th>2014</th>\n",
              "    </tr>\n",
              "    <tr>\n",
              "      <th>country</th>\n",
              "      <th></th>\n",
              "      <th></th>\n",
              "      <th></th>\n",
              "      <th></th>\n",
              "      <th></th>\n",
              "      <th></th>\n",
              "      <th></th>\n",
              "      <th></th>\n",
              "      <th></th>\n",
              "      <th></th>\n",
              "      <th></th>\n",
              "      <th></th>\n",
              "      <th></th>\n",
              "      <th></th>\n",
              "      <th></th>\n",
              "      <th></th>\n",
              "      <th></th>\n",
              "      <th></th>\n",
              "      <th></th>\n",
              "      <th></th>\n",
              "      <th></th>\n",
              "    </tr>\n",
              "  </thead>\n",
              "  <tbody>\n",
              "    <tr>\n",
              "      <th>Afghanistan</th>\n",
              "      <td>5.068991e+07</td>\n",
              "      <td>8.739934e+06</td>\n",
              "      <td>8.661604e+06</td>\n",
              "      <td>5.018801e+07</td>\n",
              "      <td>8.638176e+06</td>\n",
              "      <td>6.198267e+05</td>\n",
              "      <td>6.012747e+05</td>\n",
              "      <td>3.985918e+07</td>\n",
              "      <td>3.956282e+07</td>\n",
              "      <td>3.953716e+07</td>\n",
              "      <td>...</td>\n",
              "      <td>2.084653e+07</td>\n",
              "      <td>2.087368e+07</td>\n",
              "      <td>2.087859e+07</td>\n",
              "      <td>2.483435e+07</td>\n",
              "      <td>7.414905e+05</td>\n",
              "      <td>8.375727e+05</td>\n",
              "      <td>9.858271e+05</td>\n",
              "      <td>9.914852e+05</td>\n",
              "      <td>9.693838e+05</td>\n",
              "      <td>2.229390e+07</td>\n",
              "    </tr>\n",
              "    <tr>\n",
              "      <th>Albania</th>\n",
              "      <td>1.010788e+07</td>\n",
              "      <td>1.700569e+06</td>\n",
              "      <td>1.448628e+06</td>\n",
              "      <td>2.531499e+06</td>\n",
              "      <td>1.342199e+06</td>\n",
              "      <td>2.620139e+06</td>\n",
              "      <td>2.510698e+06</td>\n",
              "      <td>1.758284e+07</td>\n",
              "      <td>1.743254e+07</td>\n",
              "      <td>1.806237e+07</td>\n",
              "      <td>...</td>\n",
              "      <td>2.619845e+07</td>\n",
              "      <td>1.060890e+06</td>\n",
              "      <td>9.693272e+06</td>\n",
              "      <td>1.144121e+07</td>\n",
              "      <td>1.125888e+06</td>\n",
              "      <td>1.290049e+06</td>\n",
              "      <td>1.134556e+06</td>\n",
              "      <td>1.144256e+06</td>\n",
              "      <td>1.340192e+06</td>\n",
              "      <td>2.128969e+07</td>\n",
              "    </tr>\n",
              "    <tr>\n",
              "      <th>Algeria</th>\n",
              "      <td>1.430194e+09</td>\n",
              "      <td>1.428571e+08</td>\n",
              "      <td>1.434257e+08</td>\n",
              "      <td>1.605086e+09</td>\n",
              "      <td>1.595320e+08</td>\n",
              "      <td>1.724114e+08</td>\n",
              "      <td>1.808966e+08</td>\n",
              "      <td>1.633035e+09</td>\n",
              "      <td>1.639978e+09</td>\n",
              "      <td>1.643065e+09</td>\n",
              "      <td>...</td>\n",
              "      <td>2.010536e+09</td>\n",
              "      <td>2.549913e+08</td>\n",
              "      <td>2.019549e+09</td>\n",
              "      <td>2.021864e+09</td>\n",
              "      <td>2.620465e+08</td>\n",
              "      <td>2.582636e+08</td>\n",
              "      <td>2.615908e+08</td>\n",
              "      <td>2.612098e+08</td>\n",
              "      <td>2.602352e+08</td>\n",
              "      <td>2.017211e+09</td>\n",
              "    </tr>\n",
              "    <tr>\n",
              "      <th>American Samoa</th>\n",
              "      <td>9.970000e+03</td>\n",
              "      <td>1.069000e+04</td>\n",
              "      <td>1.053000e+04</td>\n",
              "      <td>1.160000e+04</td>\n",
              "      <td>1.238000e+04</td>\n",
              "      <td>1.317000e+04</td>\n",
              "      <td>1.375000e+04</td>\n",
              "      <td>1.438000e+04</td>\n",
              "      <td>1.504000e+04</td>\n",
              "      <td>1.556000e+04</td>\n",
              "      <td>...</td>\n",
              "      <td>2.012000e+04</td>\n",
              "      <td>2.010000e+04</td>\n",
              "      <td>1.970400e+04</td>\n",
              "      <td>2.007000e+04</td>\n",
              "      <td>1.926000e+04</td>\n",
              "      <td>1.725300e+04</td>\n",
              "      <td>1.661400e+04</td>\n",
              "      <td>1.673900e+04</td>\n",
              "      <td>1.676625e+04</td>\n",
              "      <td>1.671937e+04</td>\n",
              "    </tr>\n",
              "    <tr>\n",
              "      <th>Andorra</th>\n",
              "      <td>2.845000e+04</td>\n",
              "      <td>2.845000e+04</td>\n",
              "      <td>2.846920e+04</td>\n",
              "      <td>2.826865e+04</td>\n",
              "      <td>2.862189e+04</td>\n",
              "      <td>2.980559e+04</td>\n",
              "      <td>3.033612e+04</td>\n",
              "      <td>3.075932e+04</td>\n",
              "      <td>3.201631e+04</td>\n",
              "      <td>3.314848e+04</td>\n",
              "      <td>...</td>\n",
              "      <td>4.192819e+04</td>\n",
              "      <td>4.380209e+04</td>\n",
              "      <td>5.628023e+04</td>\n",
              "      <td>5.422509e+04</td>\n",
              "      <td>5.350176e+04</td>\n",
              "      <td>5.478513e+04</td>\n",
              "      <td>5.177345e+04</td>\n",
              "      <td>5.183956e+04</td>\n",
              "      <td>5.341742e+04</td>\n",
              "      <td>5.354726e+04</td>\n",
              "    </tr>\n",
              "  </tbody>\n",
              "</table>\n",
              "<p>5 rows × 25 columns</p>\n",
              "</div>\n",
              "    <div class=\"colab-df-buttons\">\n",
              "\n",
              "  <div class=\"colab-df-container\">\n",
              "    <button class=\"colab-df-convert\" onclick=\"convertToInteractive('df-52124730-8547-4b30-b8c7-3bc5bd75fe77')\"\n",
              "            title=\"Convert this dataframe to an interactive table.\"\n",
              "            style=\"display:none;\">\n",
              "\n",
              "  <svg xmlns=\"http://www.w3.org/2000/svg\" height=\"24px\" viewBox=\"0 -960 960 960\">\n",
              "    <path d=\"M120-120v-720h720v720H120Zm60-500h600v-160H180v160Zm220 220h160v-160H400v160Zm0 220h160v-160H400v160ZM180-400h160v-160H180v160Zm440 0h160v-160H620v160ZM180-180h160v-160H180v160Zm440 0h160v-160H620v160Z\"/>\n",
              "  </svg>\n",
              "    </button>\n",
              "\n",
              "  <style>\n",
              "    .colab-df-container {\n",
              "      display:flex;\n",
              "      gap: 12px;\n",
              "    }\n",
              "\n",
              "    .colab-df-convert {\n",
              "      background-color: #E8F0FE;\n",
              "      border: none;\n",
              "      border-radius: 50%;\n",
              "      cursor: pointer;\n",
              "      display: none;\n",
              "      fill: #1967D2;\n",
              "      height: 32px;\n",
              "      padding: 0 0 0 0;\n",
              "      width: 32px;\n",
              "    }\n",
              "\n",
              "    .colab-df-convert:hover {\n",
              "      background-color: #E2EBFA;\n",
              "      box-shadow: 0px 1px 2px rgba(60, 64, 67, 0.3), 0px 1px 3px 1px rgba(60, 64, 67, 0.15);\n",
              "      fill: #174EA6;\n",
              "    }\n",
              "\n",
              "    .colab-df-buttons div {\n",
              "      margin-bottom: 4px;\n",
              "    }\n",
              "\n",
              "    [theme=dark] .colab-df-convert {\n",
              "      background-color: #3B4455;\n",
              "      fill: #D2E3FC;\n",
              "    }\n",
              "\n",
              "    [theme=dark] .colab-df-convert:hover {\n",
              "      background-color: #434B5C;\n",
              "      box-shadow: 0px 1px 3px 1px rgba(0, 0, 0, 0.15);\n",
              "      filter: drop-shadow(0px 1px 2px rgba(0, 0, 0, 0.3));\n",
              "      fill: #FFFFFF;\n",
              "    }\n",
              "  </style>\n",
              "\n",
              "    <script>\n",
              "      const buttonEl =\n",
              "        document.querySelector('#df-52124730-8547-4b30-b8c7-3bc5bd75fe77 button.colab-df-convert');\n",
              "      buttonEl.style.display =\n",
              "        google.colab.kernel.accessAllowed ? 'block' : 'none';\n",
              "\n",
              "      async function convertToInteractive(key) {\n",
              "        const element = document.querySelector('#df-52124730-8547-4b30-b8c7-3bc5bd75fe77');\n",
              "        const dataTable =\n",
              "          await google.colab.kernel.invokeFunction('convertToInteractive',\n",
              "                                                    [key], {});\n",
              "        if (!dataTable) return;\n",
              "\n",
              "        const docLinkHtml = 'Like what you see? Visit the ' +\n",
              "          '<a target=\"_blank\" href=https://colab.research.google.com/notebooks/data_table.ipynb>data table notebook</a>'\n",
              "          + ' to learn more about interactive tables.';\n",
              "        element.innerHTML = '';\n",
              "        dataTable['output_type'] = 'display_data';\n",
              "        await google.colab.output.renderOutput(dataTable, element);\n",
              "        const docLink = document.createElement('div');\n",
              "        docLink.innerHTML = docLinkHtml;\n",
              "        element.appendChild(docLink);\n",
              "      }\n",
              "    </script>\n",
              "  </div>\n",
              "\n",
              "\n",
              "<div id=\"df-69432867-5ac4-4f89-be12-50248fef2671\">\n",
              "  <button class=\"colab-df-quickchart\" onclick=\"quickchart('df-69432867-5ac4-4f89-be12-50248fef2671')\"\n",
              "            title=\"Suggest charts\"\n",
              "            style=\"display:none;\">\n",
              "\n",
              "<svg xmlns=\"http://www.w3.org/2000/svg\" height=\"24px\"viewBox=\"0 0 24 24\"\n",
              "     width=\"24px\">\n",
              "    <g>\n",
              "        <path d=\"M19 3H5c-1.1 0-2 .9-2 2v14c0 1.1.9 2 2 2h14c1.1 0 2-.9 2-2V5c0-1.1-.9-2-2-2zM9 17H7v-7h2v7zm4 0h-2V7h2v10zm4 0h-2v-4h2v4z\"/>\n",
              "    </g>\n",
              "</svg>\n",
              "  </button>\n",
              "\n",
              "<style>\n",
              "  .colab-df-quickchart {\n",
              "      --bg-color: #E8F0FE;\n",
              "      --fill-color: #1967D2;\n",
              "      --hover-bg-color: #E2EBFA;\n",
              "      --hover-fill-color: #174EA6;\n",
              "      --disabled-fill-color: #AAA;\n",
              "      --disabled-bg-color: #DDD;\n",
              "  }\n",
              "\n",
              "  [theme=dark] .colab-df-quickchart {\n",
              "      --bg-color: #3B4455;\n",
              "      --fill-color: #D2E3FC;\n",
              "      --hover-bg-color: #434B5C;\n",
              "      --hover-fill-color: #FFFFFF;\n",
              "      --disabled-bg-color: #3B4455;\n",
              "      --disabled-fill-color: #666;\n",
              "  }\n",
              "\n",
              "  .colab-df-quickchart {\n",
              "    background-color: var(--bg-color);\n",
              "    border: none;\n",
              "    border-radius: 50%;\n",
              "    cursor: pointer;\n",
              "    display: none;\n",
              "    fill: var(--fill-color);\n",
              "    height: 32px;\n",
              "    padding: 0;\n",
              "    width: 32px;\n",
              "  }\n",
              "\n",
              "  .colab-df-quickchart:hover {\n",
              "    background-color: var(--hover-bg-color);\n",
              "    box-shadow: 0 1px 2px rgba(60, 64, 67, 0.3), 0 1px 3px 1px rgba(60, 64, 67, 0.15);\n",
              "    fill: var(--button-hover-fill-color);\n",
              "  }\n",
              "\n",
              "  .colab-df-quickchart-complete:disabled,\n",
              "  .colab-df-quickchart-complete:disabled:hover {\n",
              "    background-color: var(--disabled-bg-color);\n",
              "    fill: var(--disabled-fill-color);\n",
              "    box-shadow: none;\n",
              "  }\n",
              "\n",
              "  .colab-df-spinner {\n",
              "    border: 2px solid var(--fill-color);\n",
              "    border-color: transparent;\n",
              "    border-bottom-color: var(--fill-color);\n",
              "    animation:\n",
              "      spin 1s steps(1) infinite;\n",
              "  }\n",
              "\n",
              "  @keyframes spin {\n",
              "    0% {\n",
              "      border-color: transparent;\n",
              "      border-bottom-color: var(--fill-color);\n",
              "      border-left-color: var(--fill-color);\n",
              "    }\n",
              "    20% {\n",
              "      border-color: transparent;\n",
              "      border-left-color: var(--fill-color);\n",
              "      border-top-color: var(--fill-color);\n",
              "    }\n",
              "    30% {\n",
              "      border-color: transparent;\n",
              "      border-left-color: var(--fill-color);\n",
              "      border-top-color: var(--fill-color);\n",
              "      border-right-color: var(--fill-color);\n",
              "    }\n",
              "    40% {\n",
              "      border-color: transparent;\n",
              "      border-right-color: var(--fill-color);\n",
              "      border-top-color: var(--fill-color);\n",
              "    }\n",
              "    60% {\n",
              "      border-color: transparent;\n",
              "      border-right-color: var(--fill-color);\n",
              "    }\n",
              "    80% {\n",
              "      border-color: transparent;\n",
              "      border-right-color: var(--fill-color);\n",
              "      border-bottom-color: var(--fill-color);\n",
              "    }\n",
              "    90% {\n",
              "      border-color: transparent;\n",
              "      border-bottom-color: var(--fill-color);\n",
              "    }\n",
              "  }\n",
              "</style>\n",
              "\n",
              "  <script>\n",
              "    async function quickchart(key) {\n",
              "      const quickchartButtonEl =\n",
              "        document.querySelector('#' + key + ' button');\n",
              "      quickchartButtonEl.disabled = true;  // To prevent multiple clicks.\n",
              "      quickchartButtonEl.classList.add('colab-df-spinner');\n",
              "      try {\n",
              "        const charts = await google.colab.kernel.invokeFunction(\n",
              "            'suggestCharts', [key], {});\n",
              "      } catch (error) {\n",
              "        console.error('Error during call to suggestCharts:', error);\n",
              "      }\n",
              "      quickchartButtonEl.classList.remove('colab-df-spinner');\n",
              "      quickchartButtonEl.classList.add('colab-df-quickchart-complete');\n",
              "    }\n",
              "    (() => {\n",
              "      let quickchartButtonEl =\n",
              "        document.querySelector('#df-69432867-5ac4-4f89-be12-50248fef2671 button');\n",
              "      quickchartButtonEl.style.display =\n",
              "        google.colab.kernel.accessAllowed ? 'block' : 'none';\n",
              "    })();\n",
              "  </script>\n",
              "</div>\n",
              "    </div>\n",
              "  </div>\n"
            ],
            "text/plain": [
              "year                    1990          1991          1992          1993  \\\n",
              "country                                                                  \n",
              "Afghanistan     5.068991e+07  8.739934e+06  8.661604e+06  5.018801e+07   \n",
              "Albania         1.010788e+07  1.700569e+06  1.448628e+06  2.531499e+06   \n",
              "Algeria         1.430194e+09  1.428571e+08  1.434257e+08  1.605086e+09   \n",
              "American Samoa  9.970000e+03  1.069000e+04  1.053000e+04  1.160000e+04   \n",
              "Andorra         2.845000e+04  2.845000e+04  2.846920e+04  2.826865e+04   \n",
              "\n",
              "year                    1994          1995          1996          1997  \\\n",
              "country                                                                  \n",
              "Afghanistan     8.638176e+06  6.198267e+05  6.012747e+05  3.985918e+07   \n",
              "Albania         1.342199e+06  2.620139e+06  2.510698e+06  1.758284e+07   \n",
              "Algeria         1.595320e+08  1.724114e+08  1.808966e+08  1.633035e+09   \n",
              "American Samoa  1.238000e+04  1.317000e+04  1.375000e+04  1.438000e+04   \n",
              "Andorra         2.862189e+04  2.980559e+04  3.033612e+04  3.075932e+04   \n",
              "\n",
              "year                    1998          1999  ...          2005          2006  \\\n",
              "country                                     ...                               \n",
              "Afghanistan     3.956282e+07  3.953716e+07  ...  2.084653e+07  2.087368e+07   \n",
              "Albania         1.743254e+07  1.806237e+07  ...  2.619845e+07  1.060890e+06   \n",
              "Algeria         1.639978e+09  1.643065e+09  ...  2.010536e+09  2.549913e+08   \n",
              "American Samoa  1.504000e+04  1.556000e+04  ...  2.012000e+04  2.010000e+04   \n",
              "Andorra         3.201631e+04  3.314848e+04  ...  4.192819e+04  4.380209e+04   \n",
              "\n",
              "year                    2007          2008          2009          2010  \\\n",
              "country                                                                  \n",
              "Afghanistan     2.087859e+07  2.483435e+07  7.414905e+05  8.375727e+05   \n",
              "Albania         9.693272e+06  1.144121e+07  1.125888e+06  1.290049e+06   \n",
              "Algeria         2.019549e+09  2.021864e+09  2.620465e+08  2.582636e+08   \n",
              "American Samoa  1.970400e+04  2.007000e+04  1.926000e+04  1.725300e+04   \n",
              "Andorra         5.628023e+04  5.422509e+04  5.350176e+04  5.478513e+04   \n",
              "\n",
              "year                    2011          2012          2013          2014  \n",
              "country                                                                 \n",
              "Afghanistan     9.858271e+05  9.914852e+05  9.693838e+05  2.229390e+07  \n",
              "Albania         1.134556e+06  1.144256e+06  1.340192e+06  2.128969e+07  \n",
              "Algeria         2.615908e+08  2.612098e+08  2.602352e+08  2.017211e+09  \n",
              "American Samoa  1.661400e+04  1.673900e+04  1.676625e+04  1.671937e+04  \n",
              "Andorra         5.177345e+04  5.183956e+04  5.341742e+04  5.354726e+04  \n",
              "\n",
              "[5 rows x 25 columns]"
            ]
          },
          "execution_count": 174,
          "metadata": {},
          "output_type": "execute_result"
        }
      ],
      "source": [
        "pdf.pivot_table(index='country', columns='year', aggfunc='sum', values='quantity').head(5)"
      ]
    },
    {
      "cell_type": "code",
      "execution_count": 177,
      "metadata": {
        "colab": {
          "base_uri": "https://localhost:8080/",
          "height": 304
        },
        "id": "bWO4R-0PlazX",
        "outputId": "79886fb6-79fe-49dc-d5cc-906c2a6bef80"
      },
      "outputs": [
        {
          "data": {
            "application/vnd.google.colaboratory.intrinsic+json": {
              "type": "dataframe"
            },
            "text/html": [
              "\n",
              "  <div id=\"df-4adb590e-b6cd-47c0-8354-e058c3eea256\" class=\"colab-df-container\">\n",
              "    <div>\n",
              "<style scoped>\n",
              "    .dataframe tbody tr th:only-of-type {\n",
              "        vertical-align: middle;\n",
              "    }\n",
              "\n",
              "    .dataframe tbody tr th {\n",
              "        vertical-align: top;\n",
              "    }\n",
              "\n",
              "    .dataframe thead th {\n",
              "        text-align: right;\n",
              "    }\n",
              "</style>\n",
              "<table border=\"1\" class=\"dataframe\">\n",
              "  <thead>\n",
              "    <tr style=\"text-align: right;\">\n",
              "      <th>year</th>\n",
              "      <th>1990</th>\n",
              "      <th>1991</th>\n",
              "      <th>1992</th>\n",
              "      <th>1993</th>\n",
              "      <th>1994</th>\n",
              "      <th>1995</th>\n",
              "      <th>1996</th>\n",
              "      <th>1997</th>\n",
              "      <th>1998</th>\n",
              "      <th>1999</th>\n",
              "      <th>...</th>\n",
              "      <th>2005</th>\n",
              "      <th>2006</th>\n",
              "      <th>2007</th>\n",
              "      <th>2008</th>\n",
              "      <th>2009</th>\n",
              "      <th>2010</th>\n",
              "      <th>2011</th>\n",
              "      <th>2012</th>\n",
              "      <th>2013</th>\n",
              "      <th>2014</th>\n",
              "    </tr>\n",
              "    <tr>\n",
              "      <th>country</th>\n",
              "      <th></th>\n",
              "      <th></th>\n",
              "      <th></th>\n",
              "      <th></th>\n",
              "      <th></th>\n",
              "      <th></th>\n",
              "      <th></th>\n",
              "      <th></th>\n",
              "      <th></th>\n",
              "      <th></th>\n",
              "      <th></th>\n",
              "      <th></th>\n",
              "      <th></th>\n",
              "      <th></th>\n",
              "      <th></th>\n",
              "      <th></th>\n",
              "      <th></th>\n",
              "      <th></th>\n",
              "      <th></th>\n",
              "      <th></th>\n",
              "      <th></th>\n",
              "    </tr>\n",
              "  </thead>\n",
              "  <tbody>\n",
              "    <tr>\n",
              "      <th>Afghanistan</th>\n",
              "      <td>5.068991e+07</td>\n",
              "      <td>8.739934e+06</td>\n",
              "      <td>8.661604e+06</td>\n",
              "      <td>5.018801e+07</td>\n",
              "      <td>8.638176e+06</td>\n",
              "      <td>6.198267e+05</td>\n",
              "      <td>6.012747e+05</td>\n",
              "      <td>3.985918e+07</td>\n",
              "      <td>3.956282e+07</td>\n",
              "      <td>3.953716e+07</td>\n",
              "      <td>...</td>\n",
              "      <td>2.084653e+07</td>\n",
              "      <td>2.087368e+07</td>\n",
              "      <td>2.087859e+07</td>\n",
              "      <td>2.483435e+07</td>\n",
              "      <td>7.414905e+05</td>\n",
              "      <td>8.375727e+05</td>\n",
              "      <td>9.858271e+05</td>\n",
              "      <td>9.914852e+05</td>\n",
              "      <td>9.693838e+05</td>\n",
              "      <td>2.229390e+07</td>\n",
              "    </tr>\n",
              "    <tr>\n",
              "      <th>Albania</th>\n",
              "      <td>1.010788e+07</td>\n",
              "      <td>1.700569e+06</td>\n",
              "      <td>1.448628e+06</td>\n",
              "      <td>2.531499e+06</td>\n",
              "      <td>1.342199e+06</td>\n",
              "      <td>2.620139e+06</td>\n",
              "      <td>2.510698e+06</td>\n",
              "      <td>1.758284e+07</td>\n",
              "      <td>1.743254e+07</td>\n",
              "      <td>1.806237e+07</td>\n",
              "      <td>...</td>\n",
              "      <td>2.619845e+07</td>\n",
              "      <td>1.060890e+06</td>\n",
              "      <td>9.693272e+06</td>\n",
              "      <td>1.144121e+07</td>\n",
              "      <td>1.125888e+06</td>\n",
              "      <td>1.290049e+06</td>\n",
              "      <td>1.134556e+06</td>\n",
              "      <td>1.144256e+06</td>\n",
              "      <td>1.340192e+06</td>\n",
              "      <td>2.128969e+07</td>\n",
              "    </tr>\n",
              "    <tr>\n",
              "      <th>Algeria</th>\n",
              "      <td>1.430194e+09</td>\n",
              "      <td>1.428571e+08</td>\n",
              "      <td>1.434257e+08</td>\n",
              "      <td>1.605086e+09</td>\n",
              "      <td>1.595320e+08</td>\n",
              "      <td>1.724114e+08</td>\n",
              "      <td>1.808966e+08</td>\n",
              "      <td>1.633035e+09</td>\n",
              "      <td>1.639978e+09</td>\n",
              "      <td>1.643065e+09</td>\n",
              "      <td>...</td>\n",
              "      <td>2.010536e+09</td>\n",
              "      <td>2.549913e+08</td>\n",
              "      <td>2.019549e+09</td>\n",
              "      <td>2.021864e+09</td>\n",
              "      <td>2.620465e+08</td>\n",
              "      <td>2.582636e+08</td>\n",
              "      <td>2.615908e+08</td>\n",
              "      <td>2.612098e+08</td>\n",
              "      <td>2.602352e+08</td>\n",
              "      <td>2.017211e+09</td>\n",
              "    </tr>\n",
              "    <tr>\n",
              "      <th>American Samoa</th>\n",
              "      <td>9.970000e+03</td>\n",
              "      <td>1.069000e+04</td>\n",
              "      <td>1.053000e+04</td>\n",
              "      <td>1.160000e+04</td>\n",
              "      <td>1.238000e+04</td>\n",
              "      <td>1.317000e+04</td>\n",
              "      <td>1.375000e+04</td>\n",
              "      <td>1.438000e+04</td>\n",
              "      <td>1.504000e+04</td>\n",
              "      <td>1.556000e+04</td>\n",
              "      <td>...</td>\n",
              "      <td>2.012000e+04</td>\n",
              "      <td>2.010000e+04</td>\n",
              "      <td>1.970400e+04</td>\n",
              "      <td>2.007000e+04</td>\n",
              "      <td>1.926000e+04</td>\n",
              "      <td>1.725300e+04</td>\n",
              "      <td>1.661400e+04</td>\n",
              "      <td>1.673900e+04</td>\n",
              "      <td>1.676625e+04</td>\n",
              "      <td>1.671937e+04</td>\n",
              "    </tr>\n",
              "    <tr>\n",
              "      <th>Andorra</th>\n",
              "      <td>2.845000e+04</td>\n",
              "      <td>2.845000e+04</td>\n",
              "      <td>2.846920e+04</td>\n",
              "      <td>2.826865e+04</td>\n",
              "      <td>2.862189e+04</td>\n",
              "      <td>2.980559e+04</td>\n",
              "      <td>3.033612e+04</td>\n",
              "      <td>3.075932e+04</td>\n",
              "      <td>3.201631e+04</td>\n",
              "      <td>3.314848e+04</td>\n",
              "      <td>...</td>\n",
              "      <td>4.192819e+04</td>\n",
              "      <td>4.380209e+04</td>\n",
              "      <td>5.628023e+04</td>\n",
              "      <td>5.422509e+04</td>\n",
              "      <td>5.350176e+04</td>\n",
              "      <td>5.478513e+04</td>\n",
              "      <td>5.177345e+04</td>\n",
              "      <td>5.183956e+04</td>\n",
              "      <td>5.341742e+04</td>\n",
              "      <td>5.354726e+04</td>\n",
              "    </tr>\n",
              "  </tbody>\n",
              "</table>\n",
              "<p>5 rows × 25 columns</p>\n",
              "</div>\n",
              "    <div class=\"colab-df-buttons\">\n",
              "\n",
              "  <div class=\"colab-df-container\">\n",
              "    <button class=\"colab-df-convert\" onclick=\"convertToInteractive('df-4adb590e-b6cd-47c0-8354-e058c3eea256')\"\n",
              "            title=\"Convert this dataframe to an interactive table.\"\n",
              "            style=\"display:none;\">\n",
              "\n",
              "  <svg xmlns=\"http://www.w3.org/2000/svg\" height=\"24px\" viewBox=\"0 -960 960 960\">\n",
              "    <path d=\"M120-120v-720h720v720H120Zm60-500h600v-160H180v160Zm220 220h160v-160H400v160Zm0 220h160v-160H400v160ZM180-400h160v-160H180v160Zm440 0h160v-160H620v160ZM180-180h160v-160H180v160Zm440 0h160v-160H620v160Z\"/>\n",
              "  </svg>\n",
              "    </button>\n",
              "\n",
              "  <style>\n",
              "    .colab-df-container {\n",
              "      display:flex;\n",
              "      gap: 12px;\n",
              "    }\n",
              "\n",
              "    .colab-df-convert {\n",
              "      background-color: #E8F0FE;\n",
              "      border: none;\n",
              "      border-radius: 50%;\n",
              "      cursor: pointer;\n",
              "      display: none;\n",
              "      fill: #1967D2;\n",
              "      height: 32px;\n",
              "      padding: 0 0 0 0;\n",
              "      width: 32px;\n",
              "    }\n",
              "\n",
              "    .colab-df-convert:hover {\n",
              "      background-color: #E2EBFA;\n",
              "      box-shadow: 0px 1px 2px rgba(60, 64, 67, 0.3), 0px 1px 3px 1px rgba(60, 64, 67, 0.15);\n",
              "      fill: #174EA6;\n",
              "    }\n",
              "\n",
              "    .colab-df-buttons div {\n",
              "      margin-bottom: 4px;\n",
              "    }\n",
              "\n",
              "    [theme=dark] .colab-df-convert {\n",
              "      background-color: #3B4455;\n",
              "      fill: #D2E3FC;\n",
              "    }\n",
              "\n",
              "    [theme=dark] .colab-df-convert:hover {\n",
              "      background-color: #434B5C;\n",
              "      box-shadow: 0px 1px 3px 1px rgba(0, 0, 0, 0.15);\n",
              "      filter: drop-shadow(0px 1px 2px rgba(0, 0, 0, 0.3));\n",
              "      fill: #FFFFFF;\n",
              "    }\n",
              "  </style>\n",
              "\n",
              "    <script>\n",
              "      const buttonEl =\n",
              "        document.querySelector('#df-4adb590e-b6cd-47c0-8354-e058c3eea256 button.colab-df-convert');\n",
              "      buttonEl.style.display =\n",
              "        google.colab.kernel.accessAllowed ? 'block' : 'none';\n",
              "\n",
              "      async function convertToInteractive(key) {\n",
              "        const element = document.querySelector('#df-4adb590e-b6cd-47c0-8354-e058c3eea256');\n",
              "        const dataTable =\n",
              "          await google.colab.kernel.invokeFunction('convertToInteractive',\n",
              "                                                    [key], {});\n",
              "        if (!dataTable) return;\n",
              "\n",
              "        const docLinkHtml = 'Like what you see? Visit the ' +\n",
              "          '<a target=\"_blank\" href=https://colab.research.google.com/notebooks/data_table.ipynb>data table notebook</a>'\n",
              "          + ' to learn more about interactive tables.';\n",
              "        element.innerHTML = '';\n",
              "        dataTable['output_type'] = 'display_data';\n",
              "        await google.colab.output.renderOutput(dataTable, element);\n",
              "        const docLink = document.createElement('div');\n",
              "        docLink.innerHTML = docLinkHtml;\n",
              "        element.appendChild(docLink);\n",
              "      }\n",
              "    </script>\n",
              "  </div>\n",
              "\n",
              "\n",
              "<div id=\"df-ffa50166-8dcc-4756-943e-f562794d15d2\">\n",
              "  <button class=\"colab-df-quickchart\" onclick=\"quickchart('df-ffa50166-8dcc-4756-943e-f562794d15d2')\"\n",
              "            title=\"Suggest charts\"\n",
              "            style=\"display:none;\">\n",
              "\n",
              "<svg xmlns=\"http://www.w3.org/2000/svg\" height=\"24px\"viewBox=\"0 0 24 24\"\n",
              "     width=\"24px\">\n",
              "    <g>\n",
              "        <path d=\"M19 3H5c-1.1 0-2 .9-2 2v14c0 1.1.9 2 2 2h14c1.1 0 2-.9 2-2V5c0-1.1-.9-2-2-2zM9 17H7v-7h2v7zm4 0h-2V7h2v10zm4 0h-2v-4h2v4z\"/>\n",
              "    </g>\n",
              "</svg>\n",
              "  </button>\n",
              "\n",
              "<style>\n",
              "  .colab-df-quickchart {\n",
              "      --bg-color: #E8F0FE;\n",
              "      --fill-color: #1967D2;\n",
              "      --hover-bg-color: #E2EBFA;\n",
              "      --hover-fill-color: #174EA6;\n",
              "      --disabled-fill-color: #AAA;\n",
              "      --disabled-bg-color: #DDD;\n",
              "  }\n",
              "\n",
              "  [theme=dark] .colab-df-quickchart {\n",
              "      --bg-color: #3B4455;\n",
              "      --fill-color: #D2E3FC;\n",
              "      --hover-bg-color: #434B5C;\n",
              "      --hover-fill-color: #FFFFFF;\n",
              "      --disabled-bg-color: #3B4455;\n",
              "      --disabled-fill-color: #666;\n",
              "  }\n",
              "\n",
              "  .colab-df-quickchart {\n",
              "    background-color: var(--bg-color);\n",
              "    border: none;\n",
              "    border-radius: 50%;\n",
              "    cursor: pointer;\n",
              "    display: none;\n",
              "    fill: var(--fill-color);\n",
              "    height: 32px;\n",
              "    padding: 0;\n",
              "    width: 32px;\n",
              "  }\n",
              "\n",
              "  .colab-df-quickchart:hover {\n",
              "    background-color: var(--hover-bg-color);\n",
              "    box-shadow: 0 1px 2px rgba(60, 64, 67, 0.3), 0 1px 3px 1px rgba(60, 64, 67, 0.15);\n",
              "    fill: var(--button-hover-fill-color);\n",
              "  }\n",
              "\n",
              "  .colab-df-quickchart-complete:disabled,\n",
              "  .colab-df-quickchart-complete:disabled:hover {\n",
              "    background-color: var(--disabled-bg-color);\n",
              "    fill: var(--disabled-fill-color);\n",
              "    box-shadow: none;\n",
              "  }\n",
              "\n",
              "  .colab-df-spinner {\n",
              "    border: 2px solid var(--fill-color);\n",
              "    border-color: transparent;\n",
              "    border-bottom-color: var(--fill-color);\n",
              "    animation:\n",
              "      spin 1s steps(1) infinite;\n",
              "  }\n",
              "\n",
              "  @keyframes spin {\n",
              "    0% {\n",
              "      border-color: transparent;\n",
              "      border-bottom-color: var(--fill-color);\n",
              "      border-left-color: var(--fill-color);\n",
              "    }\n",
              "    20% {\n",
              "      border-color: transparent;\n",
              "      border-left-color: var(--fill-color);\n",
              "      border-top-color: var(--fill-color);\n",
              "    }\n",
              "    30% {\n",
              "      border-color: transparent;\n",
              "      border-left-color: var(--fill-color);\n",
              "      border-top-color: var(--fill-color);\n",
              "      border-right-color: var(--fill-color);\n",
              "    }\n",
              "    40% {\n",
              "      border-color: transparent;\n",
              "      border-right-color: var(--fill-color);\n",
              "      border-top-color: var(--fill-color);\n",
              "    }\n",
              "    60% {\n",
              "      border-color: transparent;\n",
              "      border-right-color: var(--fill-color);\n",
              "    }\n",
              "    80% {\n",
              "      border-color: transparent;\n",
              "      border-right-color: var(--fill-color);\n",
              "      border-bottom-color: var(--fill-color);\n",
              "    }\n",
              "    90% {\n",
              "      border-color: transparent;\n",
              "      border-bottom-color: var(--fill-color);\n",
              "    }\n",
              "  }\n",
              "</style>\n",
              "\n",
              "  <script>\n",
              "    async function quickchart(key) {\n",
              "      const quickchartButtonEl =\n",
              "        document.querySelector('#' + key + ' button');\n",
              "      quickchartButtonEl.disabled = true;  // To prevent multiple clicks.\n",
              "      quickchartButtonEl.classList.add('colab-df-spinner');\n",
              "      try {\n",
              "        const charts = await google.colab.kernel.invokeFunction(\n",
              "            'suggestCharts', [key], {});\n",
              "      } catch (error) {\n",
              "        console.error('Error during call to suggestCharts:', error);\n",
              "      }\n",
              "      quickchartButtonEl.classList.remove('colab-df-spinner');\n",
              "      quickchartButtonEl.classList.add('colab-df-quickchart-complete');\n",
              "    }\n",
              "    (() => {\n",
              "      let quickchartButtonEl =\n",
              "        document.querySelector('#df-ffa50166-8dcc-4756-943e-f562794d15d2 button');\n",
              "      quickchartButtonEl.style.display =\n",
              "        google.colab.kernel.accessAllowed ? 'block' : 'none';\n",
              "    })();\n",
              "  </script>\n",
              "</div>\n",
              "    </div>\n",
              "  </div>\n"
            ],
            "text/plain": [
              "year                    1990          1991          1992          1993  \\\n",
              "country                                                                  \n",
              "Afghanistan     5.068991e+07  8.739934e+06  8.661604e+06  5.018801e+07   \n",
              "Albania         1.010788e+07  1.700569e+06  1.448628e+06  2.531499e+06   \n",
              "Algeria         1.430194e+09  1.428571e+08  1.434257e+08  1.605086e+09   \n",
              "American Samoa  9.970000e+03  1.069000e+04  1.053000e+04  1.160000e+04   \n",
              "Andorra         2.845000e+04  2.845000e+04  2.846920e+04  2.826865e+04   \n",
              "\n",
              "year                    1994          1995          1996          1997  \\\n",
              "country                                                                  \n",
              "Afghanistan     8.638176e+06  6.198267e+05  6.012747e+05  3.985918e+07   \n",
              "Albania         1.342199e+06  2.620139e+06  2.510698e+06  1.758284e+07   \n",
              "Algeria         1.595320e+08  1.724114e+08  1.808966e+08  1.633035e+09   \n",
              "American Samoa  1.238000e+04  1.317000e+04  1.375000e+04  1.438000e+04   \n",
              "Andorra         2.862189e+04  2.980559e+04  3.033612e+04  3.075932e+04   \n",
              "\n",
              "year                    1998          1999  ...          2005          2006  \\\n",
              "country                                     ...                               \n",
              "Afghanistan     3.956282e+07  3.953716e+07  ...  2.084653e+07  2.087368e+07   \n",
              "Albania         1.743254e+07  1.806237e+07  ...  2.619845e+07  1.060890e+06   \n",
              "Algeria         1.639978e+09  1.643065e+09  ...  2.010536e+09  2.549913e+08   \n",
              "American Samoa  1.504000e+04  1.556000e+04  ...  2.012000e+04  2.010000e+04   \n",
              "Andorra         3.201631e+04  3.314848e+04  ...  4.192819e+04  4.380209e+04   \n",
              "\n",
              "year                    2007          2008          2009          2010  \\\n",
              "country                                                                  \n",
              "Afghanistan     2.087859e+07  2.483435e+07  7.414905e+05  8.375727e+05   \n",
              "Albania         9.693272e+06  1.144121e+07  1.125888e+06  1.290049e+06   \n",
              "Algeria         2.019549e+09  2.021864e+09  2.620465e+08  2.582636e+08   \n",
              "American Samoa  1.970400e+04  2.007000e+04  1.926000e+04  1.725300e+04   \n",
              "Andorra         5.628023e+04  5.422509e+04  5.350176e+04  5.478513e+04   \n",
              "\n",
              "year                    2011          2012          2013          2014  \n",
              "country                                                                 \n",
              "Afghanistan     9.858271e+05  9.914852e+05  9.693838e+05  2.229390e+07  \n",
              "Albania         1.134556e+06  1.144256e+06  1.340192e+06  2.128969e+07  \n",
              "Algeria         2.615908e+08  2.612098e+08  2.602352e+08  2.017211e+09  \n",
              "American Samoa  1.661400e+04  1.673900e+04  1.676625e+04  1.671937e+04  \n",
              "Andorra         5.177345e+04  5.183956e+04  5.341742e+04  5.354726e+04  \n",
              "\n",
              "[5 rows x 25 columns]"
            ]
          },
          "execution_count": 177,
          "metadata": {},
          "output_type": "execute_result"
        }
      ],
      "source": [
        "psdf = df_lim.pandas_api()\n",
        "pdf.pivot_table(index=['country'], columns='year', values='quantity', aggfunc='sum').head(5)"
      ]
    },
    {
      "cell_type": "code",
      "execution_count": null,
      "metadata": {
        "id": "QSWK2h8emP12"
      },
      "outputs": [],
      "source": []
    },
    {
      "cell_type": "code",
      "execution_count": 182,
      "metadata": {
        "colab": {
          "base_uri": "https://localhost:8080/"
        },
        "id": "-AqZFJSgnIdB",
        "outputId": "e4aed74d-2d04-4239-95e8-d4aefe9ae79e"
      },
      "outputs": [
        {
          "name": "stdout",
          "output_type": "stream",
          "text": [
            "+-------------+------------------+------------------+------------------+------------------+------------------+------------------+------------------+-------------------+--------------------+--------------------+--------------------+--------------------+--------------------+------------------+-----------------+--------------------+-----------------+--------------------+--------------------+-----------------+-----------------+-----------------+--------------------+-----------------+--------------------+\n",
            "|      country|              1990|              1991|              1992|              1993|              1994|              1995|              1996|               1997|                1998|                1999|                2000|                2001|                2002|              2003|             2004|                2005|             2006|                2007|                2008|             2009|             2010|             2011|                2012|             2013|                2014|\n",
            "+-------------+------------------+------------------+------------------+------------------+------------------+------------------+------------------+-------------------+--------------------+--------------------+--------------------+--------------------+--------------------+------------------+-----------------+--------------------+-----------------+--------------------+--------------------+-----------------+-----------------+-----------------+--------------------+-----------------+--------------------+\n",
            "|Côte d'Ivoire|1792006.1401456925|1384252.1851129064|1416282.4086391353| 7381187.649614384| 6924510.545034658| 7631661.221894002| 8641364.834033169|1.578442983095539E7|1.5739815852612663E7|1.7243005737251528E7| 1.724840653866138E7|1.7593419700965364E7|1.7630793810053244E7|  5003339.49342313|6243202.734387389|2.3685588370472163E7|6939977.379584936|2.3499333393531702E7|2.3644876081012882E7|    6449958.21018|6878638.243059999|7052181.368339178|   7602181.598216595|     8468690.7006| 1.966946921784346E7|\n",
            "|         Chad|          278669.0|          281991.0|289523.80000000005|301989.19999999995|306747.80000000005|          313875.4|319401.79999999993|           328736.4|            335968.8|  344439.80000000005|  353163.80000000005|  1839961.0000000002|  1847132.0000000005|1743663.3993199996|       1884806.73|         2789868.914|      2779156.906|          2772367.56|         2764680.642|        2766855.0|        2778183.0|        2608064.0|           2603139.2|2605968.340000001|           2726634.0|\n",
            "|     Anguilla|            2665.0|            2465.0|            3003.0|            3944.0|            3855.0|            3530.0|            3784.0|             4608.0|              4919.0|              5460.0|              6168.0|              7102.0|              7239.0|           17942.0|           8158.0|              9273.0|          10546.5|             12308.0|             12371.0|          12686.0|          13460.0|          12936.0|             12355.0|          12199.0|             12317.0|\n",
            "|     Paraguay|         2776016.8|         2424657.0|         2318039.4|         3090393.4|         2928736.8|3699783.5999999996|         3606751.8|          9026915.6|           4218559.4|           4213699.7|           4298320.8|           3828178.5|  3966827.3000000007|4186684.9000000004|5593739.700000001|   6889774.700000001|5724684.499999999|   5837076.599999998|   7211953.219999999|        6042603.1|6072199.699999999|      6233686.008|         6401388.237|        6417323.0|   6201489.999999999|\n",
            "|        Yemen|              NULL| 6404945.592000002| 6447159.592000002|   1.73762749592E8| 6454744.392000002| 6504304.392120001| 6506134.392120001|  1.9403496439212E8|   1.9563675479212E8|1.9573466719212002E8|1.9581821719212002E8|       6581440.68964|   6592131.702240001| 6675950.229880001|    6619778.27256|   1.9219612345156E8|    5303167.76684|   1.8962018087136E8|2.2164552167159998E8|6422039.229320001| 1.402382716584E7| 1.751663348112E7|1.5492270175159998E7|  1.94067668692E7|1.2249330094198139E8|\n",
            "+-------------+------------------+------------------+------------------+------------------+------------------+------------------+------------------+-------------------+--------------------+--------------------+--------------------+--------------------+--------------------+------------------+-----------------+--------------------+-----------------+--------------------+--------------------+-----------------+-----------------+-----------------+--------------------+-----------------+--------------------+\n",
            "only showing top 5 rows\n",
            "\n"
          ]
        }
      ],
      "source": [
        "df_lim.groupby('country').pivot('year').sum('quantity').show(5)"
      ]
    },
    {
      "cell_type": "code",
      "execution_count": null,
      "metadata": {
        "colab": {
          "base_uri": "https://localhost:8080/",
          "height": 479
        },
        "id": "3VzcQuMCayeQ",
        "outputId": "aec0f9a2-29a3-4eda-beb6-3f6c356b26aa"
      },
      "outputs": [
        {
          "name": "stdout",
          "output_type": "stream",
          "text": [
            "+------------------+--------------------+------------------+------------------+--------------------+------------------+--------------------+------------------+--------------------+------------------+------------------+------------------+------------------+------------------+--------------------+--------------------+--------------------+--------------------+--------------------+--------------------+--------------------+--------------------+-------------------+--------------------+--------------------+--------------------+\n",
            "|           country|                1990|              1991|              1992|                1993|              1994|                1995|              1996|                1997|              1998|              1999|              2000|              2001|              2002|                2003|                2004|                2005|                2006|                2007|                2008|                2009|                2010|               2011|                2012|                2013|                2014|\n",
            "+------------------+--------------------+------------------+------------------+--------------------+------------------+--------------------+------------------+--------------------+------------------+------------------+------------------+------------------+------------------+--------------------+--------------------+--------------------+--------------------+--------------------+--------------------+--------------------+--------------------+-------------------+--------------------+--------------------+--------------------+\n",
            "|     Côte d'Ivoire|  179200.61401456923|138425.21851129067|141628.24086391355|   738118.7649614385| 692451.0545034658|   763166.1221894001| 864136.4834033169|   1578442.983095539|1573981.5852612671| 1724300.573725152|1724840.6538661383|1759341.9700965367| 1763079.381005324|   500333.9493423132|   624320.2734387387|  2368558.8370472165|   693997.7379584936|  2349933.3393531702|  2364487.6081012883|       644995.821018|       687863.824306|  705218.1368339178|   760218.1598216596|        846869.07006|  1966946.9217843462|\n",
            "|              Chad|  27866.899999999994|           28199.1| 28952.38000000001|            30198.92|          30674.78|            31387.54|          31940.18|            32873.64|33596.880000000005|          34443.98|35316.380000000005|183996.10000000006|184713.19999999992|  174366.33993199997|  188480.67299999995|  278986.89139999996|   277915.6906000001|  277236.75599999994|         276468.0642|            276685.5|            277818.3| 260806.39999999994|  260313.91999999993|  260596.83400000003|  272663.39999999997|\n",
            "|          Anguilla|               266.5|246.50000000000003|300.30000000000007|               394.4|             385.5|               353.0|             378.4|               460.8|491.90000000000003|             546.0|             616.8| 710.2000000000002| 723.9000000000001|  1794.2000000000003|               815.8|   927.3000000000001|             1054.65|              1230.8|              1237.1|  1268.6000000000004|              1346.0| 1293.6000000000001|              1235.5|              1219.9|              1231.7|\n",
            "|          Paraguay|           277601.68|          242465.7|         231803.94|  309039.33999999997|         292873.68|           369978.36|         360675.18|           902691.56|421855.94000000006| 421369.9700000001| 429832.0800000001|         382817.85|         396682.73|           418668.49|           559373.97|   688977.4699999997|           572468.45|   583707.6599999999|          721195.322|   604260.3099999999|           607219.97|  623368.6008000001|         640138.8237|            641732.3|   620149.0000000001|\n",
            "|             Yemen|                null| 640494.5592000001| 644715.9592000002|     1.73762749592E7| 645474.4392000001|   650430.4392119998| 650613.4392119998|1.9403496439211998E7| 1.9563675479212E7| 1.9573466719212E7| 1.9581821719212E7| 658144.0689639999| 659213.1702239998|       667595.022988|   661977.8272560001|   1.9219612345156E7|   530316.7766839999|   1.8962018087136E7|    2.216455216716E7|   642203.9229320001|      1402382.716584|     1751663.348112|      1549227.017516|       1940676.68692| 1.224933009419814E7|\n",
            "|State of Palestine|   36202.91818670148| 36735.14011881636|37312.768490931245|  37881.471711122715| 38456.84073123759|   39049.98781550566| 39908.45267315928|   42063.28321867711| 44298.13972170757| 44950.58758757528| 46695.02208919756|          47766.66| 54975.32000000001|             54930.8|            57833.12|   57659.04000000001|            55562.36|            65958.54|   63597.45999999999|            65861.14|   63871.26000000001|  69582.19999999998|   71063.09999999999|             69636.4|   76815.99999999999|\n",
            "|           Senegal|  125088.45957738382|45839.163237266235|46258.870200696154|  130864.01226457857| 50085.58512846098|  138426.17539708567| 56695.91888861533|   658458.4279195975| 659571.0492964847| 636792.9921598244|  646902.149222259| 649629.6406886296| 655990.9308528196|   78081.34111924001|   81030.25609971245|  519916.68781935866|   71411.08081135864|       509907.240035|        488011.81008|   103616.2324517584|   110843.5289815176| 118107.69182853911|  121377.62969861804|   118831.0876862042|  122657.38663472484|\n",
            "|            Sweden|   5444557.743840976| 3847982.392992314| 4340571.316368345|   6226557.230980654| 4526221.094142872|   4945046.669404178| 4999657.703339272|   6635639.381501611| 5057647.462508898| 5156978.943618929| 4977924.518337257| 5147677.715927103| 5023504.381497217|   5074266.463601675|   5262612.280787054|   7333826.178431609|    5132509.02791234|   5185654.859879831|   7101914.838531472|   5133700.621783844|   6021501.168581883|  5391268.680895225|    5667540.50574921|   5507651.882320744|  5419954.5363994595|\n",
            "|        Cabo Verde|  1155.1999999999998|1280.0000000000002|1393.2160000000003|  1514.9999999999995|1642.2999999999997|  1727.7999999999997|            1846.1|              1933.5|           2063.56|           2292.74|2641.2378000000003| 2874.050600000001|         3201.4612|  3531.7888000000003|           3786.0174|   4309.248999999998|            4505.295|  4952.4400000000005|  5196.9180000000015|   5446.598000000002|   5745.156000000003|           6076.348|  6106.8219999999965|   6393.830000000002|   6513.643000000002|\n",
            "|          Kiribati|             129.696|131.02599999999998|132.60199999999998|             142.704|           116.634|  151.77200000000002|            153.99|  165.41600000000003|           174.438|193.08298400000004|213.45962600000001|        192.414714|225.66574000000006|          261.400156|          289.432604|          335.203666|          369.381934|          374.746267|  367.38217599999996|  334.69450500000005|  398.99610699999994| 396.00447499999996|  397.25047499999994|             399.166|  403.53200000000004|\n",
            "|            Guyana|             79031.0| 8946.919999999998|10416.039999999999|   78445.99655000001|14251.029662509094|    81784.8712613098| 16063.80125350755|  25410.138297415207|17637.435956491423|18736.248139824824|18605.760172832117|18997.189373416055|19979.239823416054|   18507.14436162045|  19517.438132218973|   79992.95791261314|  15956.129582423357|  17661.854817620435|   98072.68420902187|   17351.99675821898|  18313.910481021885|  19923.62620065427|   19559.20845680192|  19447.527069413787|  19540.523793834363|\n",
            "|            Jersey|                null|          3766.826| 4580.893999999999|   4502.718000000001|          4636.554|   4707.274000000001|4697.3859999999995|            4530.232|          4741.026| 4893.022000000001|          4330.844| 4175.629999999999| 5141.223999999999|   5107.246000000001|   5314.898000000001|             5238.44|   6347.340000000001|  6250.3499999999985|             6686.82|   7372.401711223476|   7697.520665878101|  8561.341923693002|   8624.581850573362|  11801.192984424379|   9038.967722663658|\n",
            "|       Philippines|      4872442.668964| 886222.7193100001|     910510.667172|      8144067.944278| 996440.8453820001|  1381127.5184840001|    1097312.419034|      5433349.110208| 4220268.261240001|    4212736.103036| 4221427.107450001|1095741.9812460002|1378160.7776539999|      1565435.729287|      1536699.024523|      6823174.611754|  1565125.7899599997|   6030005.417306552|   6062647.436429797|  2074114.9258400681|  2118374.7117280695| 2204632.6941635874|   2331797.456862689|  2316620.1734896204|1.1049273358206894E7|\n",
            "|           Eritrea|                null|              null|              null|                null| 56283.38916400001|        56919.833608| 59071.24849200001|  58436.426928000015|      41378.319648| 41954.86206800001|      42999.131364|      46426.732898|       47837.77285|        49415.203064|        33702.878486|        34576.860424|  35017.888342469625|   36101.50191400001|        36743.081338|        37719.459008|        38817.535086| 39851.182268000004|   40863.97865406021|   41717.22495675972|   42619.63711001641|\n",
            "|          Djibouti|             3751.31|          3802.084|3838.8900000000003|  3912.0020000000004|          3942.562|  4019.8379999999997|           4084.91|            4177.072|          4197.624|4190.5779999999995|4322.9259999999995|          4488.502|          4662.278|            4732.714|  4886.8099999999995|             5601.59|            6006.386|  6352.5019999999995|   6645.541999999999|   6731.942000000001|   7133.442000000001|  7093.641999999999|   7338.941999999999|   7494.635999999999|            7537.394|\n",
            "|             Tonga|             424.706|           458.676| 477.8280000000001|  476.20000000000005| 490.1579999999999|             546.342| 506.3419999999999|   532.1579999999999| 532.8140000000001| 587.3419999999999| 660.3979999999999|           608.164| 632.4959999999999|            731.6682|   740.8119999999999|             745.036|              786.72|   775.0440000000001|   809.9179999999999|             846.156|   784.8720000000001|  782.6699999999998|          783.072382|   805.4329344729344|   825.4250000000002|\n",
            "|          Malaysia|       7.539379154E7|        3630348.76|        4053379.58|       9.066662618E7|        5444714.86|          7372787.72|        7548536.04|       9.697107688E7|        8356655.52|        8816969.94|        9832695.56|      9862562.7215|    1.0156410161E7|1.1290337499499999E7|1.1483888279999997E7|1.1017984589449991E8|1.3568230869999992E7|1.1027958319100001E8|     1.05665704693E8|1.3742594939000003E7|1.4225420097000005E7|     1.4237323005E7|1.3701881655000005E7|1.4927126947999999E7|6.4287484507999994E7|\n",
            "|         Singapore|            666431.8|          702029.8|          809230.4|          1013431.78|        1095529.96|           1097779.0|         1137694.0|  1158149.4000000001|         1181809.2|         1091945.0|1100679.4000000001|         1223220.8|1458131.4000000001|  1781154.7059999995|  2010115.8560000006|  2140600.7800000003|         2248999.072|         2690496.958|  2731579.6926680002|  2909853.4518000004|  3084709.7436260004| 3169217.9893360008|   3307946.704075997|    3547558.79533485|   3656244.938197594|\n",
            "|              Fiji|             12803.0|           15295.0|        15350.1452|  16460.985199999996|17609.305199999995|  17369.047200000005|17070.372999999992|          16186.3492|13529.386199999997|16135.352400000002|        15769.9394|15902.744200000001|16099.855399999997|        16979.423464|  17807.267040000002|  19865.564732000006|  17636.471595999992|        16760.773876|   18721.49689589472|   13247.01256256472|  14443.013048973891| 14371.890012820713|  13561.387769888599|  15474.000906582249|   16290.02059438566|\n",
            "|            Turkey|2.9569912387522005E7|3425278.9956223853| 3624057.548987308|2.8824612418720607E7| 3913937.284074207|1.1756813264992718E7|  4820581.35558611| 2.270850510269465E7| 6079967.987948154| 6539792.504395979| 7325142.089620853| 6897046.789065901| 7300363.438214261|   8209866.647855243|   8591377.562469844| 1.849678879070945E7|1.1345372716818921E7|1.5192788125141894E7|1.6278560425633818E7|1.2287713199032567E7|1.3239476527438216E7|1.494571464621237E7|1.5423897148126835E7|1.5405077044678276E7| 5.780818165490422E7|\n",
            "+------------------+--------------------+------------------+------------------+--------------------+------------------+--------------------+------------------+--------------------+------------------+------------------+------------------+------------------+------------------+--------------------+--------------------+--------------------+--------------------+--------------------+--------------------+--------------------+--------------------+-------------------+--------------------+--------------------+--------------------+\n",
            "only showing top 20 rows\n",
            "\n"
          ]
        }
      ],
      "source": [
        "df_lim.groupby('country').pivot('y').sum('quantity').show()"
      ]
    },
    {
      "cell_type": "markdown",
      "metadata": {
        "id": "Bk5-0QpriFj-"
      },
      "source": [
        "# Практика 4. Постройте разбивку по количеству продуктов по месяцам"
      ]
    },
    {
      "cell_type": "code",
      "execution_count": 190,
      "metadata": {
        "colab": {
          "base_uri": "https://localhost:8080/"
        },
        "id": "H2bikFYhowU7",
        "outputId": "a59097cd-f2ed-4faf-941b-81359d0b0a27"
      },
      "outputs": [
        {
          "name": "stdout",
          "output_type": "stream",
          "text": [
            "+----+-----+----+-------+------+-----+-----+----+\n",
            "|Year|Month|  ID|Product|Amount|Price|Total|Cost|\n",
            "+----+-----+----+-------+------+-----+-----+----+\n",
            "|2017|    1|t001|     A1|     7| 2904|20328|1200|\n",
            "|2017|    1|t002|     A2|     2| 1896| 3792|1100|\n",
            "|2017|    2|t003|     A1|     5| 2904|14520|1200|\n",
            "|2017|    2|t004|     A4|     1| 8618| 8618|4200|\n",
            "|2017|    2|t005|     A5|     3| 5175|15525| 500|\n",
            "+----+-----+----+-------+------+-----+-----+----+\n",
            "only showing top 5 rows\n",
            "\n"
          ]
        }
      ],
      "source": [
        "dfp.show(5)"
      ]
    },
    {
      "cell_type": "code",
      "execution_count": 196,
      "metadata": {
        "colab": {
          "base_uri": "https://localhost:8080/"
        },
        "id": "Zv_NYPeEa6Jn",
        "outputId": "42dd1cfb-0587-4cd3-cc5a-4d0819200e9a"
      },
      "outputs": [
        {
          "name": "stdout",
          "output_type": "stream",
          "text": [
            "+-------+---+---+---+---+---+---+---+---+---+---+---+---+\n",
            "|Product|  1|  2|  3|  4|  5|  6|  7|  8|  9| 10| 11| 12|\n",
            "+-------+---+---+---+---+---+---+---+---+---+---+---+---+\n",
            "|     _5|  0|  0|  2|  5| 10|  2|  0|  1|  6|  6|  5|  2|\n",
            "|     _2|  0|  0|  0|  4|  2|  1| 10|  0|  8|  0|  5|  8|\n",
            "|     A2|  2|  0|  0|  0|  0|  0|  0|  0|  0|  0|  2|  0|\n",
            "|     _8|  0|  0|  0|  6|  0| 13|  0|  0|  1|  3|  0|  5|\n",
            "|     _3|  0|  0|  6|  0| 12|  0|  0|  2|  3|  3|  0|  4|\n",
            "|     _4|  0|  0|  0|  3|  0|  3|  2|  0|  2|  2|  0|  2|\n",
            "|     _6|  0|  4|  0|  0|  4|  0|  0|  0|  0|  0|  0|  0|\n",
            "|     A4|  0|  1|  0|  0|  3|  0|  3|  0|  0|  0|  3|  0|\n",
            "|     A5|  0|  3|  0|  0|  2|  0|  0|  2|  0|  0| 13|  0|\n",
            "|     A1|  7|  5|  0|  0|  0|  0|  0|  0|  0|  0|  7|  9|\n",
            "+-------+---+---+---+---+---+---+---+---+---+---+---+---+\n",
            "\n"
          ]
        }
      ],
      "source": [
        "dfp.groupBy('Product').pivot('Month').agg({'Amount': 'sum'}).fillna(0).show()"
      ]
    },
    {
      "cell_type": "markdown",
      "metadata": {
        "id": "bauJpCmVbXU6"
      },
      "source": [
        "# Подвыборки"
      ]
    },
    {
      "cell_type": "code",
      "execution_count": null,
      "metadata": {
        "colab": {
          "base_uri": "https://localhost:8080/",
          "height": 204
        },
        "id": "mZqch5pNbYVz",
        "outputId": "bf4e49bb-0700-48d4-f298-387ba1d2c96a"
      },
      "outputs": [
        {
          "name": "stdout",
          "output_type": "stream",
          "text": [
            "+-------+----+--------+--------+\n",
            "|country|year|quantity|category|\n",
            "+-------+----+--------+--------+\n",
            "|Austria|1996|     5.0|       1|\n",
            "|Austria|1995|    17.0|       1|\n",
            "|Belgium|2014|     0.0|       1|\n",
            "|Belgium|2013|     0.0|       1|\n",
            "|Belgium|2012|    35.0|       1|\n",
            "+-------+----+--------+--------+\n",
            "only showing top 5 rows\n",
            "\n"
          ]
        }
      ],
      "source": [
        "df.show(5)"
      ]
    },
    {
      "cell_type": "code",
      "execution_count": 199,
      "metadata": {
        "colab": {
          "base_uri": "https://localhost:8080/"
        },
        "id": "D1XS6E5ZrmeY",
        "outputId": "d2d24938-5508-4eca-b1d1-2b70fe2f3c7d"
      },
      "outputs": [
        {
          "name": "stdout",
          "output_type": "stream",
          "text": [
            "+-------+--------------------+\n",
            "|summary|            quantity|\n",
            "+-------+--------------------+\n",
            "|  count|             1189482|\n",
            "|   mean|    1842647.70050128|\n",
            "| stddev|1.5856628141359988E8|\n",
            "|    min|          -8643480.0|\n",
            "|    max|         6.680329E10|\n",
            "+-------+--------------------+\n",
            "\n"
          ]
        }
      ],
      "source": [
        "df_lim.describe('quantity').show()"
      ]
    },
    {
      "cell_type": "code",
      "execution_count": 200,
      "metadata": {
        "colab": {
          "base_uri": "https://localhost:8080/"
        },
        "id": "wiDODrkOruHV",
        "outputId": "5bf66035-f913-43f7-da7a-bf8e0b484b1a"
      },
      "outputs": [
        {
          "name": "stdout",
          "output_type": "stream",
          "text": [
            "+-------+-----------+------------------+--------------------+\n",
            "|summary|    country|              year|            quantity|\n",
            "+-------+-----------+------------------+--------------------+\n",
            "|  count|    1189482|           1189482|             1189482|\n",
            "|   mean|       NULL|2002.8515538696677|    1842647.70050128|\n",
            "| stddev|       NULL| 7.167344581291499|1.5856628141359988E8|\n",
            "|    min|Afghanistan|              1990|          -8643480.0|\n",
            "|    max|   Zimbabwe|              2014|         6.680329E10|\n",
            "+-------+-----------+------------------+--------------------+\n",
            "\n"
          ]
        }
      ],
      "source": [
        "df_lim.describe().show()"
      ]
    },
    {
      "cell_type": "code",
      "execution_count": null,
      "metadata": {
        "colab": {
          "base_uri": "https://localhost:8080/",
          "height": 459
        },
        "id": "kW_sF75ObawN",
        "outputId": "8719949d-2ca3-488a-da19-42c3b9e927b2"
      },
      "outputs": [
        {
          "name": "stdout",
          "output_type": "stream",
          "text": [
            "+-------+----+--------+\n",
            "|country|year|quantity|\n",
            "+-------+----+--------+\n",
            "|Austria|1996|     5.0|\n",
            "|Austria|1995|    17.0|\n",
            "|Belgium|2014|     0.0|\n",
            "|Belgium|2013|     0.0|\n",
            "|Belgium|2012|    35.0|\n",
            "|Belgium|2011|    25.0|\n",
            "|Belgium|2010|    22.0|\n",
            "|Belgium|2009|    45.0|\n",
            "|Czechia|1998|     1.0|\n",
            "|Czechia|1995|     7.0|\n",
            "|Finland|2010|     9.0|\n",
            "|Finland|2009|    13.0|\n",
            "|Finland|2008|    39.0|\n",
            "|Finland|2007|    21.0|\n",
            "|Finland|2006|     0.0|\n",
            "|Finland|2005|     0.0|\n",
            "|Finland|2004|     0.0|\n",
            "|Finland|2003|     0.0|\n",
            "|Finland|2002|     0.0|\n",
            "|Finland|2001|     0.0|\n",
            "+-------+----+--------+\n",
            "only showing top 20 rows\n",
            "\n"
          ]
        }
      ],
      "source": [
        "df_lim = df.select('country', 'year', 'quantity')\n",
        "df_lim.show()"
      ]
    },
    {
      "cell_type": "code",
      "execution_count": null,
      "metadata": {
        "colab": {
          "base_uri": "https://localhost:8080/",
          "height": 187
        },
        "id": "gt0jolgvbgiu",
        "outputId": "e29f3c4d-20fc-443f-da8c-5a36ef2c524d"
      },
      "outputs": [
        {
          "name": "stdout",
          "output_type": "stream",
          "text": [
            "+-------+--------------------+\n",
            "|summary|            quantity|\n",
            "+-------+--------------------+\n",
            "|  count|             1189482|\n",
            "|   mean|  184264.77005012735|\n",
            "| stddev|1.5856628141359948E7|\n",
            "|    min|           -864348.0|\n",
            "|    max|          6.680329E9|\n",
            "+-------+--------------------+\n",
            "\n"
          ]
        }
      ],
      "source": [
        "df.describe('quantity').show()"
      ]
    },
    {
      "cell_type": "code",
      "execution_count": 203,
      "metadata": {
        "colab": {
          "base_uri": "https://localhost:8080/"
        },
        "id": "9_dVMNI_r6EM",
        "outputId": "ab9cd79c-3750-43e8-f737-4b53e71f5f5d"
      },
      "outputs": [
        {
          "name": "stdout",
          "output_type": "stream",
          "text": [
            "+-------------+----+--------+--------+\n",
            "|      country|year|quantity|category|\n",
            "+-------------+----+--------+--------+\n",
            "|United States|2014|367987.0|       2|\n",
            "|United States|2013|384439.0|       2|\n",
            "|United States|2012|370625.0|       2|\n",
            "|United States|2011|310909.0|       2|\n",
            "|United States|2010|335418.0|       2|\n",
            "+-------------+----+--------+--------+\n",
            "only showing top 5 rows\n",
            "\n"
          ]
        }
      ],
      "source": [
        "df.where((df.quantity > 184264) & (df.country != 'Germany')).show(5)"
      ]
    },
    {
      "cell_type": "code",
      "execution_count": 204,
      "metadata": {
        "colab": {
          "base_uri": "https://localhost:8080/"
        },
        "id": "BPHFrlmOr5TN",
        "outputId": "51654ca1-46cc-4b4a-b3b1-f92c7c9a6b5a"
      },
      "outputs": [
        {
          "name": "stdout",
          "output_type": "stream",
          "text": [
            "+-------------+----+--------+--------+\n",
            "|      country|year|quantity|category|\n",
            "+-------------+----+--------+--------+\n",
            "|United States|2014|367987.0|       2|\n",
            "|United States|2013|384439.0|       2|\n",
            "|United States|2012|370625.0|       2|\n",
            "|United States|2011|310909.0|       2|\n",
            "|United States|2010|335418.0|       2|\n",
            "+-------------+----+--------+--------+\n",
            "only showing top 5 rows\n",
            "\n"
          ]
        }
      ],
      "source": [
        "df[(df.quantity > 184264) & (df.country != 'Germany')].show(5)"
      ]
    },
    {
      "cell_type": "code",
      "execution_count": null,
      "metadata": {
        "colab": {
          "base_uri": "https://localhost:8080/",
          "height": 459
        },
        "id": "HIgfHvCObn1m",
        "outputId": "edd005c5-9924-455c-c477-741fd977d168"
      },
      "outputs": [
        {
          "name": "stdout",
          "output_type": "stream",
          "text": [
            "+-------+----+--------+--------+\n",
            "|country|year|quantity|category|\n",
            "+-------+----+--------+--------+\n",
            "|Germany|2014|311259.0|       7|\n",
            "|Germany|2013|287845.0|       7|\n",
            "|Germany|2012|268856.0|       7|\n",
            "|Germany|2011|216897.0|       7|\n",
            "|Germany|2014|311259.0|       7|\n",
            "|Germany|2013|287845.0|       7|\n",
            "|Germany|2012|268856.0|       7|\n",
            "|Germany|2011|216897.0|       7|\n",
            "|Germany|2014|232451.0|       7|\n",
            "|Germany|2013|217991.0|       7|\n",
            "|Germany|2012|192441.0|       7|\n",
            "|Germany|2014|232451.0|       7|\n",
            "|Germany|2013|217991.0|       7|\n",
            "|Germany|2012|192441.0|       7|\n",
            "| Canada|2013|191861.0|      10|\n",
            "| Canada|2007|202060.0|      10|\n",
            "| Canada|2006|203142.0|      10|\n",
            "| Canada|2005|224001.0|      10|\n",
            "| Canada|2004|236803.0|      10|\n",
            "| Canada|2003|226291.0|      10|\n",
            "+-------+----+--------+--------+\n",
            "only showing top 20 rows\n",
            "\n"
          ]
        }
      ],
      "source": [
        "df_filter = df.where((df['quantity'] > 184264) & (df['country'] != 'United States'))\n",
        "df_filter.show()"
      ]
    },
    {
      "cell_type": "code",
      "execution_count": 205,
      "metadata": {
        "colab": {
          "base_uri": "https://localhost:8080/"
        },
        "id": "VuSZOEGvsjoF",
        "outputId": "4c6dd968-bff9-4641-ff5e-962b54e532c2"
      },
      "outputs": [
        {
          "data": {
            "text/plain": [
              "DataFrame[country: string, year: int, quantity: double, category: int]"
            ]
          },
          "execution_count": 205,
          "metadata": {},
          "output_type": "execute_result"
        }
      ],
      "source": [
        "df.sample(False, 0.05)"
      ]
    },
    {
      "cell_type": "code",
      "execution_count": 206,
      "metadata": {
        "colab": {
          "base_uri": "https://localhost:8080/"
        },
        "id": "Gqjmx5AWtNqQ",
        "outputId": "7aa060ab-6754-4e6d-93ed-0335b9a0f999"
      },
      "outputs": [
        {
          "name": "stdout",
          "output_type": "stream",
          "text": [
            "+-------+--------------------+\n",
            "|summary|            quantity|\n",
            "+-------+--------------------+\n",
            "|  count|             1189482|\n",
            "|   mean|  184264.77005012735|\n",
            "| stddev|1.5856628141359948E7|\n",
            "|    min|           -864348.0|\n",
            "|    max|          6.680329E9|\n",
            "+-------+--------------------+\n",
            "\n"
          ]
        }
      ],
      "source": [
        "df.describe('quantity').show()"
      ]
    },
    {
      "cell_type": "code",
      "execution_count": 208,
      "metadata": {
        "colab": {
          "base_uri": "https://localhost:8080/"
        },
        "id": "dyDtjjxvtwcX",
        "outputId": "305f6388-b3a9-41b3-e332-9873ebeef4ba"
      },
      "outputs": [
        {
          "name": "stdout",
          "output_type": "stream",
          "text": [
            "+-------------+\n",
            "|(year = 2007)|\n",
            "+-------------+\n",
            "|        false|\n",
            "|        false|\n",
            "|        false|\n",
            "|        false|\n",
            "|        false|\n",
            "+-------------+\n",
            "only showing top 5 rows\n",
            "\n"
          ]
        }
      ],
      "source": [
        "df.select(df.year == 2007).show(5)"
      ]
    },
    {
      "cell_type": "code",
      "execution_count": null,
      "metadata": {
        "colab": {
          "base_uri": "https://localhost:8080/",
          "height": 187
        },
        "id": "8uDV3BWjbwPe",
        "outputId": "4fcbf89f-77f7-4605-fde7-86e93f0626b3"
      },
      "outputs": [
        {
          "name": "stdout",
          "output_type": "stream",
          "text": [
            "+-------+--------------------+\n",
            "|summary|            quantity|\n",
            "+-------+--------------------+\n",
            "|  count|               59087|\n",
            "|   mean|   188948.2702103421|\n",
            "| stddev|2.3005460538361136E7|\n",
            "|    min|           -271616.0|\n",
            "|    max|          5.462672E9|\n",
            "+-------+--------------------+\n",
            "\n"
          ]
        }
      ],
      "source": [
        "# Параметры - с повторением или без, какую долю dataset'а взять\n",
        "df_sample = df.sample(False, 0.05)\n",
        "df_sample.describe('quantity').show()"
      ]
    },
    {
      "cell_type": "markdown",
      "metadata": {
        "id": "s9ctvjCCisi5"
      },
      "source": [
        "# Практика 5. Выведите список всех, товаров, которых хоть когда-то было больше 5-ти штук"
      ]
    },
    {
      "cell_type": "code",
      "execution_count": 209,
      "metadata": {
        "colab": {
          "base_uri": "https://localhost:8080/"
        },
        "id": "XUsr9RRKvT5N",
        "outputId": "3942857e-6227-40dc-b27e-86ec942562ed"
      },
      "outputs": [
        {
          "name": "stdout",
          "output_type": "stream",
          "text": [
            "+----+-----+----+-------+------+-----+-----+----+\n",
            "|Year|Month|  ID|Product|Amount|Price|Total|Cost|\n",
            "+----+-----+----+-------+------+-----+-----+----+\n",
            "|2017|    1|t001|     A1|     7| 2904|20328|1200|\n",
            "|2017|    1|t002|     A2|     2| 1896| 3792|1100|\n",
            "|2017|    2|t003|     A1|     5| 2904|14520|1200|\n",
            "|2017|    2|t004|     A4|     1| 8618| 8618|4200|\n",
            "|2017|    2|t005|     A5|     3| 5175|15525| 500|\n",
            "+----+-----+----+-------+------+-----+-----+----+\n",
            "only showing top 5 rows\n",
            "\n"
          ]
        }
      ],
      "source": [
        "dfp.show(5)"
      ]
    },
    {
      "cell_type": "code",
      "execution_count": 211,
      "metadata": {
        "colab": {
          "base_uri": "https://localhost:8080/"
        },
        "id": "9G2dd-XRi2Fi",
        "outputId": "4445c82a-615b-46e0-8d97-bf305253ce7c"
      },
      "outputs": [
        {
          "name": "stdout",
          "output_type": "stream",
          "text": [
            "+-------+-----------+\n",
            "|Product|max(Amount)|\n",
            "+-------+-----------+\n",
            "|     _5|          6|\n",
            "|     _2|          8|\n",
            "|     A2|          2|\n",
            "|     _8|         10|\n",
            "|     _3|          7|\n",
            "+-------+-----------+\n",
            "only showing top 5 rows\n",
            "\n"
          ]
        }
      ],
      "source": [
        "dfp_max = dfp.groupBy('Product').max('Amount')\n",
        "dfp_max.show(5)"
      ]
    },
    {
      "cell_type": "code",
      "execution_count": 213,
      "metadata": {
        "colab": {
          "base_uri": "https://localhost:8080/"
        },
        "id": "EdZlqJ04i-OB",
        "outputId": "c05ed008-7267-4c2d-e7d3-062cd352cf34"
      },
      "outputs": [
        {
          "name": "stdout",
          "output_type": "stream",
          "text": [
            "+-------+-----------+\n",
            "|Product|max(Amount)|\n",
            "+-------+-----------+\n",
            "|     _5|          6|\n",
            "|     _2|          8|\n",
            "|     _8|         10|\n",
            "|     _3|          7|\n",
            "|     A5|          7|\n",
            "+-------+-----------+\n",
            "only showing top 5 rows\n",
            "\n"
          ]
        }
      ],
      "source": [
        "dfp_max[dfp_max['max(Amount)'] > 5].show(5)"
      ]
    },
    {
      "cell_type": "markdown",
      "metadata": {
        "id": "1vTEVq6MccvD"
      },
      "source": [
        "# Визуализация"
      ]
    },
    {
      "cell_type": "code",
      "execution_count": null,
      "metadata": {
        "id": "8iriU_NEcFQ2"
      },
      "outputs": [],
      "source": [
        "import pandas as pd\n",
        "import matplotlib.pyplot as plt\n",
        "%matplotlib inline"
      ]
    },
    {
      "cell_type": "code",
      "execution_count": 214,
      "metadata": {
        "id": "mKC1go8NwNhu"
      },
      "outputs": [],
      "source": [
        "to_show = df.groupBy('year').sum('quantity').orderBy('year')"
      ]
    },
    {
      "cell_type": "code",
      "execution_count": 215,
      "metadata": {
        "colab": {
          "base_uri": "https://localhost:8080/"
        },
        "id": "RfG88FI6ceQ7",
        "outputId": "2207e114-8c3e-4111-b5a8-53c995fe62fd"
      },
      "outputs": [
        {
          "name": "stdout",
          "output_type": "stream",
          "text": [
            "+----+--------------------+\n",
            "|year|       sum(quantity)|\n",
            "+----+--------------------+\n",
            "|1990|2.781426135733307E10|\n",
            "|1991| 2.466541930678139E9|\n",
            "|1992|2.1419483655120907E9|\n",
            "|1993|1.818040678302332...|\n",
            "|1994| 2.286637409479232E9|\n",
            "|1995|1.8993733981039996E9|\n",
            "|1996| 1.276732195368936E9|\n",
            "|1997|2.368193080700125...|\n",
            "|1998| 8.729463830731297E9|\n",
            "|1999| 7.766232101772736E9|\n",
            "|2000| 7.004882006062636E9|\n",
            "|2001|4.0475256363267155E9|\n",
            "|2002| 3.812004491308077E9|\n",
            "|2003| 1.407111379702272E9|\n",
            "|2004|1.4498832309942997E9|\n",
            "|2005|1.623457574857694...|\n",
            "|2006|1.5714035023136258E9|\n",
            "|2007| 9.477595462966421E9|\n",
            "|2008|1.288885727194202...|\n",
            "|2009|1.6234129606657305E9|\n",
            "+----+--------------------+\n",
            "only showing top 20 rows\n",
            "\n"
          ]
        }
      ],
      "source": [
        "to_show = df.groupby('year').sum('quantity').orderBy('year')\n",
        "to_show.show()"
      ]
    },
    {
      "cell_type": "code",
      "execution_count": null,
      "metadata": {
        "id": "IdBgb380csvM"
      },
      "outputs": [],
      "source": [
        "years = to_show[['year']].collect()\n",
        "sums = to_show[['sum(quantity)']].collect()"
      ]
    },
    {
      "cell_type": "code",
      "execution_count": null,
      "metadata": {
        "colab": {
          "base_uri": "https://localhost:8080/",
          "height": 276
        },
        "id": "Kn0cjp2Qc3oT",
        "outputId": "2b3d3505-e4a6-48da-fe03-e5b4471aaf38"
      },
      "outputs": [
        {
          "data": {
            "image/png": "[encoded data removed]",
            "text/plain": [
              "<Figure size 432x288 with 1 Axes>"
            ]
          },
          "metadata": {
            "tags": []
          },
          "output_type": "display_data"
        }
      ],
      "source": [
        "plt.figure()\n",
        "plt.plot(years, sums)\n",
        "plt.show()"
      ]
    },
    {
      "cell_type": "code",
      "execution_count": 216,
      "metadata": {
        "id": "8_jlzV9Ec4pB"
      },
      "outputs": [],
      "source": [
        "pd_df = to_show.toPandas()"
      ]
    },
    {
      "cell_type": "code",
      "execution_count": 217,
      "metadata": {
        "colab": {
          "base_uri": "https://localhost:8080/",
          "height": 206
        },
        "id": "BJGXuNAWwp0e",
        "outputId": "1b8c706a-63ab-4177-fb18-d06f30753034"
      },
      "outputs": [
        {
          "data": {
            "application/vnd.google.colaboratory.intrinsic+json": {
              "summary": "{\n  \"name\": \"pd_df\",\n  \"rows\": 25,\n  \"fields\": [\n    {\n      \"column\": \"year\",\n      \"properties\": {\n        \"dtype\": \"int32\",\n        \"num_unique_values\": 25,\n        \"samples\": [\n          1998,\n          2006,\n          1990\n        ],\n        \"semantic_type\": \"\",\n        \"description\": \"\"\n      }\n    },\n    {\n      \"column\": \"sum(quantity)\",\n      \"properties\": {\n        \"dtype\": \"number\",\n        \"std\": 12391430888.701164,\n        \"min\": 1276732195.368936,\n        \"max\": 56236081109.670074,\n        \"num_unique_values\": 25,\n        \"samples\": [\n          8729463830.731297,\n          1571403502.3136258,\n          27814261357.33307\n        ],\n        \"semantic_type\": \"\",\n        \"description\": \"\"\n      }\n    }\n  ]\n}",
              "type": "dataframe",
              "variable_name": "pd_df"
            },
            "text/html": [
              "\n",
              "  <div id=\"df-5a3c54af-cce6-4834-9f2d-8dae3bd8f3e1\" class=\"colab-df-container\">\n",
              "    <div>\n",
              "<style scoped>\n",
              "    .dataframe tbody tr th:only-of-type {\n",
              "        vertical-align: middle;\n",
              "    }\n",
              "\n",
              "    .dataframe tbody tr th {\n",
              "        vertical-align: top;\n",
              "    }\n",
              "\n",
              "    .dataframe thead th {\n",
              "        text-align: right;\n",
              "    }\n",
              "</style>\n",
              "<table border=\"1\" class=\"dataframe\">\n",
              "  <thead>\n",
              "    <tr style=\"text-align: right;\">\n",
              "      <th></th>\n",
              "      <th>year</th>\n",
              "      <th>sum(quantity)</th>\n",
              "    </tr>\n",
              "  </thead>\n",
              "  <tbody>\n",
              "    <tr>\n",
              "      <th>0</th>\n",
              "      <td>1990</td>\n",
              "      <td>2.781426e+10</td>\n",
              "    </tr>\n",
              "    <tr>\n",
              "      <th>1</th>\n",
              "      <td>1991</td>\n",
              "      <td>2.466542e+09</td>\n",
              "    </tr>\n",
              "    <tr>\n",
              "      <th>2</th>\n",
              "      <td>1992</td>\n",
              "      <td>2.141948e+09</td>\n",
              "    </tr>\n",
              "    <tr>\n",
              "      <th>3</th>\n",
              "      <td>1993</td>\n",
              "      <td>1.818041e+10</td>\n",
              "    </tr>\n",
              "    <tr>\n",
              "      <th>4</th>\n",
              "      <td>1994</td>\n",
              "      <td>2.286637e+09</td>\n",
              "    </tr>\n",
              "  </tbody>\n",
              "</table>\n",
              "</div>\n",
              "    <div class=\"colab-df-buttons\">\n",
              "\n",
              "  <div class=\"colab-df-container\">\n",
              "    <button class=\"colab-df-convert\" onclick=\"convertToInteractive('df-5a3c54af-cce6-4834-9f2d-8dae3bd8f3e1')\"\n",
              "            title=\"Convert this dataframe to an interactive table.\"\n",
              "            style=\"display:none;\">\n",
              "\n",
              "  <svg xmlns=\"http://www.w3.org/2000/svg\" height=\"24px\" viewBox=\"0 -960 960 960\">\n",
              "    <path d=\"M120-120v-720h720v720H120Zm60-500h600v-160H180v160Zm220 220h160v-160H400v160Zm0 220h160v-160H400v160ZM180-400h160v-160H180v160Zm440 0h160v-160H620v160ZM180-180h160v-160H180v160Zm440 0h160v-160H620v160Z\"/>\n",
              "  </svg>\n",
              "    </button>\n",
              "\n",
              "  <style>\n",
              "    .colab-df-container {\n",
              "      display:flex;\n",
              "      gap: 12px;\n",
              "    }\n",
              "\n",
              "    .colab-df-convert {\n",
              "      background-color: #E8F0FE;\n",
              "      border: none;\n",
              "      border-radius: 50%;\n",
              "      cursor: pointer;\n",
              "      display: none;\n",
              "      fill: #1967D2;\n",
              "      height: 32px;\n",
              "      padding: 0 0 0 0;\n",
              "      width: 32px;\n",
              "    }\n",
              "\n",
              "    .colab-df-convert:hover {\n",
              "      background-color: #E2EBFA;\n",
              "      box-shadow: 0px 1px 2px rgba(60, 64, 67, 0.3), 0px 1px 3px 1px rgba(60, 64, 67, 0.15);\n",
              "      fill: #174EA6;\n",
              "    }\n",
              "\n",
              "    .colab-df-buttons div {\n",
              "      margin-bottom: 4px;\n",
              "    }\n",
              "\n",
              "    [theme=dark] .colab-df-convert {\n",
              "      background-color: #3B4455;\n",
              "      fill: #D2E3FC;\n",
              "    }\n",
              "\n",
              "    [theme=dark] .colab-df-convert:hover {\n",
              "      background-color: #434B5C;\n",
              "      box-shadow: 0px 1px 3px 1px rgba(0, 0, 0, 0.15);\n",
              "      filter: drop-shadow(0px 1px 2px rgba(0, 0, 0, 0.3));\n",
              "      fill: #FFFFFF;\n",
              "    }\n",
              "  </style>\n",
              "\n",
              "    <script>\n",
              "      const buttonEl =\n",
              "        document.querySelector('#df-5a3c54af-cce6-4834-9f2d-8dae3bd8f3e1 button.colab-df-convert');\n",
              "      buttonEl.style.display =\n",
              "        google.colab.kernel.accessAllowed ? 'block' : 'none';\n",
              "\n",
              "      async function convertToInteractive(key) {\n",
              "        const element = document.querySelector('#df-5a3c54af-cce6-4834-9f2d-8dae3bd8f3e1');\n",
              "        const dataTable =\n",
              "          await google.colab.kernel.invokeFunction('convertToInteractive',\n",
              "                                                    [key], {});\n",
              "        if (!dataTable) return;\n",
              "\n",
              "        const docLinkHtml = 'Like what you see? Visit the ' +\n",
              "          '<a target=\"_blank\" href=https://colab.research.google.com/notebooks/data_table.ipynb>data table notebook</a>'\n",
              "          + ' to learn more about interactive tables.';\n",
              "        element.innerHTML = '';\n",
              "        dataTable['output_type'] = 'display_data';\n",
              "        await google.colab.output.renderOutput(dataTable, element);\n",
              "        const docLink = document.createElement('div');\n",
              "        docLink.innerHTML = docLinkHtml;\n",
              "        element.appendChild(docLink);\n",
              "      }\n",
              "    </script>\n",
              "  </div>\n",
              "\n",
              "\n",
              "<div id=\"df-ae9d385c-9e77-4ebe-8738-98cbe24c96b8\">\n",
              "  <button class=\"colab-df-quickchart\" onclick=\"quickchart('df-ae9d385c-9e77-4ebe-8738-98cbe24c96b8')\"\n",
              "            title=\"Suggest charts\"\n",
              "            style=\"display:none;\">\n",
              "\n",
              "<svg xmlns=\"http://www.w3.org/2000/svg\" height=\"24px\"viewBox=\"0 0 24 24\"\n",
              "     width=\"24px\">\n",
              "    <g>\n",
              "        <path d=\"M19 3H5c-1.1 0-2 .9-2 2v14c0 1.1.9 2 2 2h14c1.1 0 2-.9 2-2V5c0-1.1-.9-2-2-2zM9 17H7v-7h2v7zm4 0h-2V7h2v10zm4 0h-2v-4h2v4z\"/>\n",
              "    </g>\n",
              "</svg>\n",
              "  </button>\n",
              "\n",
              "<style>\n",
              "  .colab-df-quickchart {\n",
              "      --bg-color: #E8F0FE;\n",
              "      --fill-color: #1967D2;\n",
              "      --hover-bg-color: #E2EBFA;\n",
              "      --hover-fill-color: #174EA6;\n",
              "      --disabled-fill-color: #AAA;\n",
              "      --disabled-bg-color: #DDD;\n",
              "  }\n",
              "\n",
              "  [theme=dark] .colab-df-quickchart {\n",
              "      --bg-color: #3B4455;\n",
              "      --fill-color: #D2E3FC;\n",
              "      --hover-bg-color: #434B5C;\n",
              "      --hover-fill-color: #FFFFFF;\n",
              "      --disabled-bg-color: #3B4455;\n",
              "      --disabled-fill-color: #666;\n",
              "  }\n",
              "\n",
              "  .colab-df-quickchart {\n",
              "    background-color: var(--bg-color);\n",
              "    border: none;\n",
              "    border-radius: 50%;\n",
              "    cursor: pointer;\n",
              "    display: none;\n",
              "    fill: var(--fill-color);\n",
              "    height: 32px;\n",
              "    padding: 0;\n",
              "    width: 32px;\n",
              "  }\n",
              "\n",
              "  .colab-df-quickchart:hover {\n",
              "    background-color: var(--hover-bg-color);\n",
              "    box-shadow: 0 1px 2px rgba(60, 64, 67, 0.3), 0 1px 3px 1px rgba(60, 64, 67, 0.15);\n",
              "    fill: var(--button-hover-fill-color);\n",
              "  }\n",
              "\n",
              "  .colab-df-quickchart-complete:disabled,\n",
              "  .colab-df-quickchart-complete:disabled:hover {\n",
              "    background-color: var(--disabled-bg-color);\n",
              "    fill: var(--disabled-fill-color);\n",
              "    box-shadow: none;\n",
              "  }\n",
              "\n",
              "  .colab-df-spinner {\n",
              "    border: 2px solid var(--fill-color);\n",
              "    border-color: transparent;\n",
              "    border-bottom-color: var(--fill-color);\n",
              "    animation:\n",
              "      spin 1s steps(1) infinite;\n",
              "  }\n",
              "\n",
              "  @keyframes spin {\n",
              "    0% {\n",
              "      border-color: transparent;\n",
              "      border-bottom-color: var(--fill-color);\n",
              "      border-left-color: var(--fill-color);\n",
              "    }\n",
              "    20% {\n",
              "      border-color: transparent;\n",
              "      border-left-color: var(--fill-color);\n",
              "      border-top-color: var(--fill-color);\n",
              "    }\n",
              "    30% {\n",
              "      border-color: transparent;\n",
              "      border-left-color: var(--fill-color);\n",
              "      border-top-color: var(--fill-color);\n",
              "      border-right-color: var(--fill-color);\n",
              "    }\n",
              "    40% {\n",
              "      border-color: transparent;\n",
              "      border-right-color: var(--fill-color);\n",
              "      border-top-color: var(--fill-color);\n",
              "    }\n",
              "    60% {\n",
              "      border-color: transparent;\n",
              "      border-right-color: var(--fill-color);\n",
              "    }\n",
              "    80% {\n",
              "      border-color: transparent;\n",
              "      border-right-color: var(--fill-color);\n",
              "      border-bottom-color: var(--fill-color);\n",
              "    }\n",
              "    90% {\n",
              "      border-color: transparent;\n",
              "      border-bottom-color: var(--fill-color);\n",
              "    }\n",
              "  }\n",
              "</style>\n",
              "\n",
              "  <script>\n",
              "    async function quickchart(key) {\n",
              "      const quickchartButtonEl =\n",
              "        document.querySelector('#' + key + ' button');\n",
              "      quickchartButtonEl.disabled = true;  // To prevent multiple clicks.\n",
              "      quickchartButtonEl.classList.add('colab-df-spinner');\n",
              "      try {\n",
              "        const charts = await google.colab.kernel.invokeFunction(\n",
              "            'suggestCharts', [key], {});\n",
              "      } catch (error) {\n",
              "        console.error('Error during call to suggestCharts:', error);\n",
              "      }\n",
              "      quickchartButtonEl.classList.remove('colab-df-spinner');\n",
              "      quickchartButtonEl.classList.add('colab-df-quickchart-complete');\n",
              "    }\n",
              "    (() => {\n",
              "      let quickchartButtonEl =\n",
              "        document.querySelector('#df-ae9d385c-9e77-4ebe-8738-98cbe24c96b8 button');\n",
              "      quickchartButtonEl.style.display =\n",
              "        google.colab.kernel.accessAllowed ? 'block' : 'none';\n",
              "    })();\n",
              "  </script>\n",
              "</div>\n",
              "    </div>\n",
              "  </div>\n"
            ],
            "text/plain": [
              "   year  sum(quantity)\n",
              "0  1990   2.781426e+10\n",
              "1  1991   2.466542e+09\n",
              "2  1992   2.141948e+09\n",
              "3  1993   1.818041e+10\n",
              "4  1994   2.286637e+09"
            ]
          },
          "execution_count": 217,
          "metadata": {},
          "output_type": "execute_result"
        }
      ],
      "source": [
        "pd_df.head(5)"
      ]
    },
    {
      "cell_type": "code",
      "execution_count": 218,
      "metadata": {
        "colab": {
          "base_uri": "https://localhost:8080/",
          "height": 482
        },
        "id": "zpBUR0jldVNh",
        "outputId": "04415b2b-7c10-448f-9a41-741170aba553"
      },
      "outputs": [
        {
          "data": {
            "text/plain": [
              "<Axes: xlabel='year'>"
            ]
          },
          "execution_count": 218,
          "metadata": {},
          "output_type": "execute_result"
        },
        {
          "data": {
            "image/png": "[encoded data removed]",
            "text/plain": [
              "<Figure size 640x480 with 1 Axes>"
            ]
          },
          "metadata": {},
          "output_type": "display_data"
        }
      ],
      "source": [
        "pd_df.plot(x='year', y='sum(quantity)')"
      ]
    },
    {
      "cell_type": "markdown",
      "metadata": {
        "id": "bYB2_Q79jPdW"
      },
      "source": [
        "# Домашнее задание\n",
        "- Скачайте dataset iris https://gist.github.com/netj/8836201\n",
        "- Для каждого типа цветка определите максимальное, минимальное и среднее значение 4-х параметров\n",
        "- Визуализируйте точечный график (plt.scatter) по каждой паре параметров\n",
        "- Попробуйте отделить какой-нить тип цветка от всех остальных (сформулируйте правило на основе диаграммы - ЕСЛИ ЗНАЧЕНИЕ ПАРАМЕТРА X БОЛЬШЕ/МЕНЬШЕ Y, ТО ЦВЕТОК СКОРЕЕ ВСЕГО ОТНОСИТСЯ/НЕ ОТНОСИТСЯ К ТИПУ Z)\n",
        "- Сделайте отдельную колонку для своего предсказания\n",
        "- Оцените качество (сколько раз Вы угадали с ответом и сколько раз не угадали)"
      ]
    },
    {
      "cell_type": "code",
      "execution_count": null,
      "metadata": {
        "id": "fR-uazH9kah0"
      },
      "outputs": [],
      "source": []
    }
  ],
  "metadata": {
    "colab": {
      "provenance": []
    },
    "kernelspec": {
      "display_name": "Python 3.7.1 64-bit",
      "language": "python",
      "name": "python3"
    },
    "language_info": {
      "name": "python",
      "version": "3.7.1"
    },
    "vscode": {
      "interpreter": {
        "hash": "fbe58ca63fe33f9eeae9e71d10368d2b4a57f2b1b395836210cc60d362c66949"
      }
    }
  },
  "nbformat": 4,
  "nbformat_minor": 0
}
