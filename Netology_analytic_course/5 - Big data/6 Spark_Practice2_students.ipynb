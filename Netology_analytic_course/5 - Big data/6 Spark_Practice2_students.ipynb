{
  "cells": [
    {
      "cell_type": "markdown",
      "metadata": {
        "colab_type": "text",
        "id": "3wbfiUyUhyTT"
      },
      "source": [
        "# Установка PySpark"
      ]
    },
    {
      "cell_type": "code",
      "execution_count": null,
      "metadata": {
        "colab": {},
        "colab_type": "code",
        "id": "d4M4Z0nShzFp"
      },
      "outputs": [],
      "source": [
        "!apt-get install openjdk-8-jdk-headless -qq > /dev/null"
      ]
    },
    {
      "cell_type": "code",
      "execution_count": null,
      "metadata": {
        "colab": {},
        "colab_type": "code",
        "id": "-0Vd_6bEh1N_"
      },
      "outputs": [],
      "source": [
        "!wget -q www-us.apache.org/dist/spark/spark-2.4.3/spark-2.4.3-bin-hadoop2.7.tgz"
      ]
    },
    {
      "cell_type": "code",
      "execution_count": null,
      "metadata": {
        "colab": {
          "base_uri": "https://localhost:8080/",
          "height": 1000
        },
        "colab_type": "code",
        "id": "vwfA5qXyh2wk",
        "outputId": "5034e1f8-4920-485f-fff9-94107cfd1159"
      },
      "outputs": [],
      "source": [
        "!tar -xvf spark-2.4.3-bin-hadoop2.7.tgz"
      ]
    },
    {
      "cell_type": "code",
      "execution_count": null,
      "metadata": {
        "colab": {},
        "colab_type": "code",
        "id": "qN78xI2Ah4AA"
      },
      "outputs": [],
      "source": [
        "!pip install -q findspark"
      ]
    },
    {
      "cell_type": "code",
      "execution_count": null,
      "metadata": {
        "colab": {},
        "colab_type": "code",
        "id": "CgKVxnQnh52S"
      },
      "outputs": [],
      "source": [
        "import os\n",
        "os.environ[\"JAVA_HOME\"] = \"/usr/lib/jvm/java-8-openjdk-amd64\"\n",
        "os.environ[\"SPARK_HOME\"] = \"/content/spark-2.4.3-bin-hadoop2.7\""
      ]
    },
    {
      "cell_type": "code",
      "execution_count": null,
      "metadata": {
        "colab": {},
        "colab_type": "code",
        "id": "TL0Uk0Cxh7Kt"
      },
      "outputs": [],
      "source": [
        "import findspark\n",
        "findspark.init()\n",
        "from pyspark.sql import SparkSession\n",
        "\n",
        "spark = SparkSession.builder.master(\"local[*]\").getOrCreate()"
      ]
    },
    {
      "cell_type": "markdown",
      "metadata": {
        "colab_type": "text",
        "id": "JxD9DSUQh9Kt"
      },
      "source": [
        "# Получаем данные"
      ]
    },
    {
      "cell_type": "code",
      "execution_count": 7,
      "metadata": {
        "colab": {
          "base_uri": "https://localhost:8080/",
          "height": 233
        },
        "colab_type": "code",
        "id": "grMSk74Dh8hy",
        "outputId": "6c8f0ec5-c2de-4db0-ce1b-d9803e8d32e1"
      },
      "outputs": [
        {
          "name": "stdout",
          "output_type": "stream",
          "text": [
            "--2019-09-02 20:07:31--  http://files.grouplens.org/datasets/movielens/ml-latest-small.zip\n",
            "Resolving files.grouplens.org (files.grouplens.org)... 128.101.65.152\n",
            "Connecting to files.grouplens.org (files.grouplens.org)|128.101.65.152|:80... connected.\n",
            "HTTP request sent, awaiting response... 200 OK\n",
            "Length: 978202 (955K) [application/zip]\n",
            "Saving to: ‘ml-latest-small.zip.1’\n",
            "\n",
            "\rml-latest-small.zip   0%[                    ]       0  --.-KB/s               \rml-latest-small.zip  88%[================>   ] 849.04K  3.87MB/s               \rml-latest-small.zip 100%[===================>] 955.28K  4.33MB/s    in 0.2s    \n",
            "\n",
            "2019-09-02 20:07:31 (4.33 MB/s) - ‘ml-latest-small.zip.1’ saved [978202/978202]\n",
            "\n"
          ]
        }
      ],
      "source": [
        "!wget http://files.grouplens.org/datasets/movielens/ml-latest-small.zip"
      ]
    },
    {
      "cell_type": "code",
      "execution_count": 8,
      "metadata": {
        "colab": {
          "base_uri": "https://localhost:8080/",
          "height": 63
        },
        "colab_type": "code",
        "id": "4EmVHKuCiDUb",
        "outputId": "b06d36a6-6f05-4b5c-fb68-654fe2a9868c"
      },
      "outputs": [
        {
          "name": "stdout",
          "output_type": "stream",
          "text": [
            "Archive:  ml-latest-small.zip\n",
            "replace ml-latest-small/links.csv? [y]es, [n]o, [A]ll, [N]one, [r]ename: "
          ]
        }
      ],
      "source": [
        "!unzip ml-latest-small.zip"
      ]
    },
    {
      "cell_type": "markdown",
      "metadata": {
        "colab_type": "text",
        "id": "VcGlOZ9xiMAV"
      },
      "source": [
        "# Загружаем данные"
      ]
    },
    {
      "cell_type": "code",
      "execution_count": null,
      "metadata": {
        "colab": {},
        "colab_type": "code",
        "id": "CIVSwqRGiIDM"
      },
      "outputs": [],
      "source": [
        "ratings = spark.read.csv('ml-latest-small/ratings.csv', header=True, inferSchema=True)\n",
        "movies = spark.read.csv('ml-latest-small/movies.csv', header=True, inferSchema=True)"
      ]
    },
    {
      "cell_type": "code",
      "execution_count": 11,
      "metadata": {
        "colab": {
          "base_uri": "https://localhost:8080/",
          "height": 459
        },
        "colab_type": "code",
        "id": "56brrRS5iXra",
        "outputId": "a3fc614c-dfff-4092-9b8f-e99391183663"
      },
      "outputs": [
        {
          "name": "stdout",
          "output_type": "stream",
          "text": [
            "+------+-------+------+---------+\n",
            "|userId|movieId|rating|timestamp|\n",
            "+------+-------+------+---------+\n",
            "|     1|      1|   4.0|964982703|\n",
            "|     1|      3|   4.0|964981247|\n",
            "|     1|      6|   4.0|964982224|\n",
            "|     1|     47|   5.0|964983815|\n",
            "|     1|     50|   5.0|964982931|\n",
            "|     1|     70|   3.0|964982400|\n",
            "|     1|    101|   5.0|964980868|\n",
            "|     1|    110|   4.0|964982176|\n",
            "|     1|    151|   5.0|964984041|\n",
            "|     1|    157|   5.0|964984100|\n",
            "|     1|    163|   5.0|964983650|\n",
            "|     1|    216|   5.0|964981208|\n",
            "|     1|    223|   3.0|964980985|\n",
            "|     1|    231|   5.0|964981179|\n",
            "|     1|    235|   4.0|964980908|\n",
            "|     1|    260|   5.0|964981680|\n",
            "|     1|    296|   3.0|964982967|\n",
            "|     1|    316|   3.0|964982310|\n",
            "|     1|    333|   5.0|964981179|\n",
            "|     1|    349|   4.0|964982563|\n",
            "+------+-------+------+---------+\n",
            "only showing top 20 rows\n",
            "\n"
          ]
        }
      ],
      "source": [
        "ratings.show()"
      ]
    },
    {
      "cell_type": "code",
      "execution_count": 12,
      "metadata": {
        "colab": {
          "base_uri": "https://localhost:8080/",
          "height": 459
        },
        "colab_type": "code",
        "id": "1xmFW6z3iZ_8",
        "outputId": "fe01e344-4163-4a5f-d4a9-3160c5dc619a"
      },
      "outputs": [
        {
          "name": "stdout",
          "output_type": "stream",
          "text": [
            "+-------+--------------------+--------------------+\n",
            "|movieId|               title|              genres|\n",
            "+-------+--------------------+--------------------+\n",
            "|      1|    Toy Story (1995)|Adventure|Animati...|\n",
            "|      2|      Jumanji (1995)|Adventure|Childre...|\n",
            "|      3|Grumpier Old Men ...|      Comedy|Romance|\n",
            "|      4|Waiting to Exhale...|Comedy|Drama|Romance|\n",
            "|      5|Father of the Bri...|              Comedy|\n",
            "|      6|         Heat (1995)|Action|Crime|Thri...|\n",
            "|      7|      Sabrina (1995)|      Comedy|Romance|\n",
            "|      8| Tom and Huck (1995)|  Adventure|Children|\n",
            "|      9| Sudden Death (1995)|              Action|\n",
            "|     10|    GoldenEye (1995)|Action|Adventure|...|\n",
            "|     11|American Presiden...|Comedy|Drama|Romance|\n",
            "|     12|Dracula: Dead and...|       Comedy|Horror|\n",
            "|     13|        Balto (1995)|Adventure|Animati...|\n",
            "|     14|        Nixon (1995)|               Drama|\n",
            "|     15|Cutthroat Island ...|Action|Adventure|...|\n",
            "|     16|       Casino (1995)|         Crime|Drama|\n",
            "|     17|Sense and Sensibi...|       Drama|Romance|\n",
            "|     18|   Four Rooms (1995)|              Comedy|\n",
            "|     19|Ace Ventura: When...|              Comedy|\n",
            "|     20|  Money Train (1995)|Action|Comedy|Cri...|\n",
            "+-------+--------------------+--------------------+\n",
            "only showing top 20 rows\n",
            "\n"
          ]
        }
      ],
      "source": [
        "movies.show()"
      ]
    },
    {
      "cell_type": "markdown",
      "metadata": {
        "colab_type": "text",
        "id": "305MLlvr6ZkF"
      },
      "source": [
        "## Подход 1 - фильмы с наибольшим средним рейтингом и как минимум 150 отзывами"
      ]
    },
    {
      "cell_type": "code",
      "execution_count": null,
      "metadata": {
        "colab": {},
        "colab_type": "code",
        "id": "luWGaPQ-6pmW"
      },
      "outputs": [],
      "source": [
        "from pyspark.sql import functions as F"
      ]
    },
    {
      "cell_type": "code",
      "execution_count": null,
      "metadata": {
        "colab": {},
        "colab_type": "code",
        "id": "hnkCqnv06h2Q"
      },
      "outputs": [],
      "source": [
        "ratings_with_avg = ratings.groupBy('movieId').agg(F.count(ratings.rating).alias('count'), F.avg(ratings.rating).alias('avg'))"
      ]
    },
    {
      "cell_type": "code",
      "execution_count": 94,
      "metadata": {
        "colab": {
          "base_uri": "https://localhost:8080/",
          "height": 459
        },
        "colab_type": "code",
        "id": "LDbYQAYZ64eN",
        "outputId": "acdda129-90dd-4cf2-92c7-50afd4c4a2b8"
      },
      "outputs": [
        {
          "name": "stdout",
          "output_type": "stream",
          "text": [
            "+-------+-----+------------------+\n",
            "|movieId|count|               avg|\n",
            "+-------+-----+------------------+\n",
            "|   1580|  165| 3.487878787878788|\n",
            "|   2366|   25|              3.64|\n",
            "|   3175|   75|              3.58|\n",
            "|   1088|   42| 3.369047619047619|\n",
            "|  32460|    4|              4.25|\n",
            "|  44022|   23| 3.217391304347826|\n",
            "|  96488|    4|              4.25|\n",
            "|   1238|    9| 4.055555555555555|\n",
            "|   1342|   11|               2.5|\n",
            "|   1591|   26|2.6346153846153846|\n",
            "|   1645|   51| 3.411764705882353|\n",
            "|   4519|    9|3.3333333333333335|\n",
            "|   2142|   10|               2.7|\n",
            "|    471|   40|              3.55|\n",
            "|   3997|   12|1.8333333333333333|\n",
            "|    833|    6|               2.0|\n",
            "|   3918|    9|3.2777777777777777|\n",
            "|   7982|    4|              3.25|\n",
            "|   1959|   15|3.6666666666666665|\n",
            "|  68135|   10|              3.55|\n",
            "+-------+-----+------------------+\n",
            "only showing top 20 rows\n",
            "\n"
          ]
        }
      ],
      "source": [
        "ratings_with_avg.show()"
      ]
    },
    {
      "cell_type": "markdown",
      "metadata": {
        "colab_type": "text",
        "id": "Idwy8W72eMFz"
      },
      "source": [
        "## Практика 1.\n",
        "1. Добавьте в DataFrame название фильма\n",
        "2. Оставьте в DataFrame только те фильмы, которые набрали не менее 150 оценок\n",
        "3. Выведите top-25 фильмов с наивысшим средним баллом"
      ]
    },
    {
      "cell_type": "code",
      "execution_count": null,
      "metadata": {
        "colab": {},
        "colab_type": "code",
        "id": "hXKrW9j_eLXI"
      },
      "outputs": [],
      "source": []
    },
    {
      "cell_type": "markdown",
      "metadata": {
        "colab_type": "text",
        "id": "o6yxd171i73J"
      },
      "source": [
        "## Подход 2 - Колобративная фильтрация\n",
        "\n",
        "![alt text](https://upload.wikimedia.org/wikipedia/commons/thumb/5/52/Collaborative_filtering.gif/300px-Collaborative_filtering.gif)\n",
        "\n",
        "это один из методов построения прогнозов (рекомендаций) в рекомендательных системах, использующий известные предпочтения (оценки) группы пользователей для прогнозирования неизвестных предпочтений другого пользователя. Его основное допущение состоит в следующем: те, кто одинаково оценивал какие-либо предметы в прошлом, склонны давать похожие оценки другим предметам и в будущем. \n",
        "\n",
        "(c) Wikipedia\n",
        "https://ru.wikipedia.org/wiki/Коллаборативная_фильтрация"
      ]
    },
    {
      "cell_type": "markdown",
      "metadata": {
        "colab_type": "text",
        "id": "huI47G_ojgy2"
      },
      "source": [
        "Для решения будем использовать алгоритм [ALS](https://spark.apache.org/docs/latest/mllib-collaborative-filtering.html)\n",
        "\n",
        "![alt text](https://www.researchgate.net/profile/Huu_Hoa_Nguyen/publication/314071424/figure/fig1/AS:570666408529920@1513068882014/An-example-of-matrix-factorization.png)\n",
        "\n",
        "Параметры:\n",
        "* numBlocks is the number of blocks used to parallelize computation (set to -1 to auto-configure).\n",
        "* rank is the number of features to use (also referred to as the number of latent factors).\n",
        "* iterations is the number of iterations of ALS to run. ALS typically converges to a reasonable solution in 20 iterations or less.\n",
        "* lambda specifies the regularization parameter in ALS.\n",
        "* implicitPrefs specifies whether to use the explicit feedback ALS variant or one adapted for implicit feedback data.\n",
        "* alpha is a parameter applicable to the implicit feedback variant of ALS that governs the baseline confidence in preference observations."
      ]
    },
    {
      "cell_type": "code",
      "execution_count": null,
      "metadata": {
        "colab": {},
        "colab_type": "code",
        "id": "z1K7iD0TlM9s"
      },
      "outputs": [],
      "source": [
        "# Удаляем не нужную колонку\n",
        "ratings = ratings.drop('timestamp')"
      ]
    },
    {
      "cell_type": "code",
      "execution_count": null,
      "metadata": {
        "colab": {},
        "colab_type": "code",
        "id": "zjjqr4OWi1Ss"
      },
      "outputs": [],
      "source": [
        "from pyspark.mllib.recommendation import ALS\n",
        "import math"
      ]
    },
    {
      "cell_type": "code",
      "execution_count": null,
      "metadata": {
        "colab": {},
        "colab_type": "code",
        "id": "ngfB4h9jjcmY"
      },
      "outputs": [],
      "source": [
        "# Разбиваем датасет на train и test\n",
        "ratings_train, ratings_test = ratings.randomSplit([0.8, 0.2])"
      ]
    },
    {
      "cell_type": "code",
      "execution_count": 16,
      "metadata": {
        "colab": {
          "base_uri": "https://localhost:8080/",
          "height": 34
        },
        "colab_type": "code",
        "id": "I7hdpzGekFZ0",
        "outputId": "eeb3ef15-f277-431b-df6c-9de121acf659"
      },
      "outputs": [
        {
          "data": {
            "text/plain": [
              "20143"
            ]
          },
          "execution_count": 16,
          "metadata": {
            "tags": []
          },
          "output_type": "execute_result"
        }
      ],
      "source": [
        "ratings_test.count()"
      ]
    },
    {
      "cell_type": "code",
      "execution_count": 17,
      "metadata": {
        "colab": {
          "base_uri": "https://localhost:8080/",
          "height": 34
        },
        "colab_type": "code",
        "id": "_CyPND06kIQb",
        "outputId": "30ced76e-64a3-4768-9b50-d6f7f11be262"
      },
      "outputs": [
        {
          "data": {
            "text/plain": [
              "80693"
            ]
          },
          "execution_count": 17,
          "metadata": {
            "tags": []
          },
          "output_type": "execute_result"
        }
      ],
      "source": [
        "ratings_train.count()"
      ]
    },
    {
      "cell_type": "code",
      "execution_count": null,
      "metadata": {
        "colab": {},
        "colab_type": "code",
        "id": "zYdG0fgLkNX7"
      },
      "outputs": [],
      "source": [
        "iterations = 10\n",
        "rank = 8"
      ]
    },
    {
      "cell_type": "code",
      "execution_count": null,
      "metadata": {
        "colab": {},
        "colab_type": "code",
        "id": "tZaqM2z-kape"
      },
      "outputs": [],
      "source": [
        "model = ALS.train(ratings_train, rank, iterations=iterations)"
      ]
    },
    {
      "cell_type": "code",
      "execution_count": 23,
      "metadata": {
        "colab": {
          "base_uri": "https://localhost:8080/",
          "height": 459
        },
        "colab_type": "code",
        "id": "9V2cGjP3mM4F",
        "outputId": "dbb5eaad-86c4-4096-db32-c272975f5519"
      },
      "outputs": [
        {
          "name": "stdout",
          "output_type": "stream",
          "text": [
            "+------+-------+\n",
            "|userId|movieId|\n",
            "+------+-------+\n",
            "|     1|      3|\n",
            "|     1|     70|\n",
            "|     1|    151|\n",
            "|     1|    356|\n",
            "|     1|    500|\n",
            "|     1|    552|\n",
            "|     1|    592|\n",
            "|     1|    593|\n",
            "|     1|    736|\n",
            "|     1|   1024|\n",
            "|     1|   1031|\n",
            "|     1|   1032|\n",
            "|     1|   1049|\n",
            "|     1|   1214|\n",
            "|     1|   1220|\n",
            "|     1|   1226|\n",
            "|     1|   1270|\n",
            "|     1|   1282|\n",
            "|     1|   1298|\n",
            "|     1|   1396|\n",
            "+------+-------+\n",
            "only showing top 20 rows\n",
            "\n"
          ]
        }
      ],
      "source": [
        "ratings_test.select('userId', 'movieId').show()"
      ]
    },
    {
      "cell_type": "code",
      "execution_count": null,
      "metadata": {
        "colab": {},
        "colab_type": "code",
        "id": "L7b8p-6flJmx"
      },
      "outputs": [],
      "source": [
        "predictions = model.predictAll(ratings_test.select('userId', 'movieId').rdd)"
      ]
    },
    {
      "cell_type": "code",
      "execution_count": null,
      "metadata": {
        "colab": {},
        "colab_type": "code",
        "id": "HVZfsG2bmGls"
      },
      "outputs": [],
      "source": [
        "predictions_converted = predictions.map(lambda r: (r[0], r[1], r[2]))"
      ]
    },
    {
      "cell_type": "code",
      "execution_count": null,
      "metadata": {
        "colab": {},
        "colab_type": "code",
        "id": "c2GrN0clm4lr"
      },
      "outputs": [],
      "source": [
        "predictions_df = predictions_converted.toDF([\"userId\", \"movieId\", \"rating_pred\"])"
      ]
    },
    {
      "cell_type": "code",
      "execution_count": 37,
      "metadata": {
        "colab": {
          "base_uri": "https://localhost:8080/",
          "height": 459
        },
        "colab_type": "code",
        "id": "9boBdKG9nXPY",
        "outputId": "b8702ae3-6119-4ba4-beda-96ded2798b86"
      },
      "outputs": [
        {
          "name": "stdout",
          "output_type": "stream",
          "text": [
            "+------+-------+------------------+\n",
            "|userId|movieId|       rating_pred|\n",
            "+------+-------+------------------+\n",
            "|   140|   1084|3.6140463315545652|\n",
            "|   288|   1084| 4.115574001305719|\n",
            "|   372|   1084|  4.26499870042785|\n",
            "|     4|   1084| 4.565801896696092|\n",
            "|   156|   1084| 3.762990466888491|\n",
            "|   589|   1084| 4.949622347974899|\n",
            "|   607|   1084| 4.192533194136292|\n",
            "|   315|   1084|3.7720387878956014|\n",
            "|   318|   3702|3.3543689263929988|\n",
            "|   160|   3702|3.9041483475474337|\n",
            "|   332|   3702| 3.468236356121293|\n",
            "|   414|   3702| 4.044239326337486|\n",
            "|   182|   3702| 3.889148676629699|\n",
            "|   368|   3702|3.0001768995761386|\n",
            "|   312|   3702| 3.969641123162916|\n",
            "|   303|   3702| 3.766323504861666|\n",
            "|   603|   3702|4.1213492788738035|\n",
            "|    95|   3702|3.3880086448148585|\n",
            "|   438|   6754|3.8068840618218203|\n",
            "|    80|   6754| 4.435867332216437|\n",
            "+------+-------+------------------+\n",
            "only showing top 20 rows\n",
            "\n"
          ]
        }
      ],
      "source": [
        "predictions_df.show()"
      ]
    },
    {
      "cell_type": "markdown",
      "metadata": {
        "colab_type": "text",
        "id": "vba1CEgLe7Q-"
      },
      "source": [
        "## Практика 2\n",
        "1. Посчитайте среднее абсолютное отклонение предсказанной оценки от реальной оценки"
      ]
    },
    {
      "cell_type": "code",
      "execution_count": null,
      "metadata": {
        "colab": {},
        "colab_type": "code",
        "id": "bICCOsGwol8s"
      },
      "outputs": [],
      "source": [
        "from pyspark.sql.functions import abs"
      ]
    },
    {
      "cell_type": "code",
      "execution_count": null,
      "metadata": {
        "colab": {},
        "colab_type": "code",
        "id": "VxdDeNNTfOem"
      },
      "outputs": [],
      "source": []
    },
    {
      "cell_type": "markdown",
      "metadata": {
        "colab_type": "text",
        "id": "xLydqGtu1PDw"
      },
      "source": [
        "## Предсказание"
      ]
    },
    {
      "cell_type": "code",
      "execution_count": 59,
      "metadata": {
        "colab": {
          "base_uri": "https://localhost:8080/",
          "height": 408
        },
        "colab_type": "code",
        "id": "zIkqniJz1OXZ",
        "outputId": "886c82ef-6273-40a4-bd29-eab1cb1802a2"
      },
      "outputs": [
        {
          "name": "stdout",
          "output_type": "stream",
          "text": [
            "+------+-------+------+\n",
            "|userId|movieId|rating|\n",
            "+------+-------+------+\n",
            "|   320|   1013|   3.5|\n",
            "|   320|   2058|   4.0|\n",
            "|   320|   3404|   0.5|\n",
            "|   320|   3534|   4.0|\n",
            "|   320|   3578|   3.5|\n",
            "|   320|   3703|   3.0|\n",
            "|   320|   3745|   3.5|\n",
            "|   320|   4387|   4.0|\n",
            "|   320|   5785|   4.0|\n",
            "|   320|   6283|   3.5|\n",
            "|   320|   6857|   3.5|\n",
            "|   320|  31184|   4.0|\n",
            "|   320|  42718|   3.5|\n",
            "|   320|  59315|   4.0|\n",
            "|   320|  59900|   3.0|\n",
            "|   320|  62999|   3.5|\n",
            "|   320|  68358|   4.0|\n",
            "|   320|  71535|   4.0|\n",
            "+------+-------+------+\n",
            "\n"
          ]
        }
      ],
      "source": [
        "USER_ID_FOR_PREDICTION = 320\n",
        "data_for_prediction = ratings_train[ratings_train['userId']==USER_ID_FOR_PREDICTION]\n",
        "data_for_prediction.show()"
      ]
    },
    {
      "cell_type": "code",
      "execution_count": 61,
      "metadata": {
        "colab": {
          "base_uri": "https://localhost:8080/",
          "height": 408
        },
        "colab_type": "code",
        "id": "IQAeeJCxn3nB",
        "outputId": "f9add829-1ea8-4446-8b2a-acc56ecdeddd"
      },
      "outputs": [
        {
          "name": "stdout",
          "output_type": "stream",
          "text": [
            "+-------+------+------+--------------------+--------------------+\n",
            "|movieId|userId|rating|               title|              genres|\n",
            "+-------+------+------+--------------------+--------------------+\n",
            "|   1013|   320|   3.5|Parent Trap, The ...|Children|Comedy|R...|\n",
            "|   2058|   320|   4.0|Negotiator, The (...|Action|Crime|Dram...|\n",
            "|   3404|   320|   0.5|      Titanic (1953)|        Action|Drama|\n",
            "|   3534|   320|   4.0|      28 Days (2000)|               Drama|\n",
            "|   3578|   320|   3.5|    Gladiator (2000)|Action|Adventure|...|\n",
            "|   3703|   320|   3.0|Road Warrior, The...|Action|Adventure|...|\n",
            "|   3745|   320|   3.5|   Titan A.E. (2000)|Action|Adventure|...|\n",
            "|   4387|   320|   4.0|Kiss of the Drago...|              Action|\n",
            "|   5785|   320|   4.0|Jackass: The Movi...|Action|Comedy|Doc...|\n",
            "|   6283|   320|   3.5|Cowboy Bebop: The...|Action|Animation|...|\n",
            "|   6857|   320|   3.5|Ninja Scroll (Jûb...|Action|Adventure|...|\n",
            "|  31184|   320|   4.0|Appleseed (Appuru...|Action|Animation|...|\n",
            "|  42718|   320|   3.5|District 13 (Banl...| Action|Crime|Sci-Fi|\n",
            "|  59315|   320|   4.0|     Iron Man (2008)|Action|Adventure|...|\n",
            "|  59900|   320|   3.0|You Don't Mess wi...|              Comedy|\n",
            "|  62999|   320|   3.5|Madagascar: Escap...|Action|Adventure|...|\n",
            "|  68358|   320|   4.0|    Star Trek (2009)|Action|Adventure|...|\n",
            "|  71535|   320|   4.0|   Zombieland (2009)|Action|Comedy|Horror|\n",
            "+-------+------+------+--------------------+--------------------+\n",
            "\n"
          ]
        }
      ],
      "source": [
        "data_for_prediction.join(movies, on='movieId').show()"
      ]
    },
    {
      "cell_type": "code",
      "execution_count": null,
      "metadata": {
        "colab": {},
        "colab_type": "code",
        "id": "7Tdnx3Y325W9"
      },
      "outputs": [],
      "source": [
        "predicted_user_watched = data_for_prediction.rdd.map(lambda r: r[1])"
      ]
    },
    {
      "cell_type": "code",
      "execution_count": 68,
      "metadata": {
        "colab": {
          "base_uri": "https://localhost:8080/",
          "height": 323
        },
        "colab_type": "code",
        "id": "QD-S1GfT2_7I",
        "outputId": "27559eda-4ca9-4e53-d43c-499f6a2c783a"
      },
      "outputs": [
        {
          "data": {
            "text/plain": [
              "[1013,\n",
              " 2058,\n",
              " 3404,\n",
              " 3534,\n",
              " 3578,\n",
              " 3703,\n",
              " 3745,\n",
              " 4387,\n",
              " 5785,\n",
              " 6283,\n",
              " 6857,\n",
              " 31184,\n",
              " 42718,\n",
              " 59315,\n",
              " 59900,\n",
              " 62999,\n",
              " 68358,\n",
              " 71535]"
            ]
          },
          "execution_count": 68,
          "metadata": {
            "tags": []
          },
          "output_type": "execute_result"
        }
      ],
      "source": [
        "predicted_user_watched.take(20)"
      ]
    },
    {
      "cell_type": "code",
      "execution_count": null,
      "metadata": {
        "colab": {},
        "colab_type": "code",
        "id": "zfq2JMiD3g34"
      },
      "outputs": [],
      "source": [
        "predicted_user_watched = predicted_user_watched.take(20)"
      ]
    },
    {
      "cell_type": "code",
      "execution_count": null,
      "metadata": {
        "colab": {},
        "colab_type": "code",
        "id": "VSt-D5kp2WVv"
      },
      "outputs": [],
      "source": [
        "prediction_user_unrated = movies.rdd.filter(lambda m: m[0] not in predicted_user_watched).map(lambda m: (USER_ID_FOR_PREDICTION, m[0]))"
      ]
    },
    {
      "cell_type": "code",
      "execution_count": 78,
      "metadata": {
        "colab": {
          "base_uri": "https://localhost:8080/",
          "height": 187
        },
        "colab_type": "code",
        "id": "bBoJL6Jc3_XC",
        "outputId": "0f2c9910-f33d-4073-b1b2-56da78810263"
      },
      "outputs": [
        {
          "data": {
            "text/plain": [
              "[(320, 1),\n",
              " (320, 2),\n",
              " (320, 3),\n",
              " (320, 4),\n",
              " (320, 5),\n",
              " (320, 6),\n",
              " (320, 7),\n",
              " (320, 8),\n",
              " (320, 9),\n",
              " (320, 10)]"
            ]
          },
          "execution_count": 78,
          "metadata": {
            "tags": []
          },
          "output_type": "execute_result"
        }
      ],
      "source": [
        "prediction_user_unrated.take(10)"
      ]
    },
    {
      "cell_type": "markdown",
      "metadata": {
        "colab_type": "text",
        "id": "6iJx76xXfVq5"
      },
      "source": [
        "## Практика 3\n",
        "1. Предскажите значения рейтингов для тех фильмов, которые пользователь еще не ввидел (prediction_user_unrated)\n",
        "2. На основе предсказанных значений постройте top-10 фильмов для пользователя"
      ]
    },
    {
      "cell_type": "code",
      "execution_count": null,
      "metadata": {
        "colab": {},
        "colab_type": "code",
        "id": "R1TEJIyTfqw_"
      },
      "outputs": [],
      "source": []
    },
    {
      "cell_type": "markdown",
      "metadata": {
        "colab_type": "text",
        "id": "XxRLOjXF476p"
      },
      "source": [
        "##  Индивидуальное предсказание"
      ]
    },
    {
      "cell_type": "code",
      "execution_count": 89,
      "metadata": {
        "colab": {
          "base_uri": "https://localhost:8080/",
          "height": 34
        },
        "colab_type": "code",
        "id": "Zyb3Dvdr4gym",
        "outputId": "bb9a2279-ebad-4764-ca32-1a6a9622f847"
      },
      "outputs": [
        {
          "data": {
            "text/plain": [
              "6.857201129306809"
            ]
          },
          "execution_count": 89,
          "metadata": {
            "tags": []
          },
          "output_type": "execute_result"
        }
      ],
      "source": [
        "model.predict(320, 48322)"
      ]
    },
    {
      "cell_type": "markdown",
      "metadata": {
        "colab_type": "text",
        "id": "DBAc_C4y5KRw"
      },
      "source": [
        "## Сохранение модели"
      ]
    },
    {
      "cell_type": "code",
      "execution_count": null,
      "metadata": {
        "colab": {},
        "colab_type": "code",
        "id": "klz-VKvm5EXs"
      },
      "outputs": [],
      "source": [
        "model.save(spark.sparkContext, 'model')"
      ]
    },
    {
      "cell_type": "code",
      "execution_count": null,
      "metadata": {
        "colab": {},
        "colab_type": "code",
        "id": "ZtoJgUBI5PmL"
      },
      "outputs": [],
      "source": []
    },
    {
      "cell_type": "markdown",
      "metadata": {
        "colab_type": "text",
        "id": "w62JHU0AgN7x"
      },
      "source": [
        "## Домашнее задание\n",
        "2 варианта.\n",
        "1. Вариант легкий: Решите задачу классификации цветков ирисов с использованием PySpark\n",
        "2. Вариант сложный: Решите задачу классификации пассажиров титаника с использованием PySpark (https://www.kaggle.com/c/titanic)\n",
        "\n",
        "**При выполнении ДЗ не разрешается:**\n",
        "1. Использовать библиотеку pandas\n",
        "2. Использовать библиотеку sklearn\n",
        "\n",
        "Полезные импорты:\n",
        "1. from pyspark.ml.classification import LogisticRegression\n",
        "2. from pyspark.ml.evaluation import MulticlassClassificationEvaluator - для оценки качества работы алгоритма\n",
        "3. from pyspark.ml.feature import StringIndexer, OneHotEncoder, VectorAssembler - для предобработки признаков\n",
        "\n",
        "Полезные ссылки:\n",
        "1. https://spark.apache.org/docs/latest/ml-classification-regression.html#classification - алгоримты классификации в pyspark\n",
        "2. https://towardsdatascience.com/machine-learning-with-pyspark-and-mllib-solving-a-binary-classification-problem-96396065d2aa - пример решения задачи классификации на pyspark"
      ]
    },
    {
      "cell_type": "code",
      "execution_count": null,
      "metadata": {
        "colab": {},
        "colab_type": "code",
        "id": "DB_YOXChh8Ds"
      },
      "outputs": [],
      "source": []
    }
  ],
  "metadata": {
    "colab": {
      "name": "Spark_Practice2_students.ipynb",
      "provenance": [],
      "toc_visible": true,
      "version": "0.3.2"
    },
    "kernelspec": {
      "display_name": "Python 3.7.1 64-bit",
      "language": "python",
      "name": "python3"
    },
    "language_info": {
      "name": "python",
      "version": "3.7.1"
    },
    "vscode": {
      "interpreter": {
        "hash": "fbe58ca63fe33f9eeae9e71d10368d2b4a57f2b1b395836210cc60d362c66949"
      }
    }
  },
  "nbformat": 4,
  "nbformat_minor": 0
}
