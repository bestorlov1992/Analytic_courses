{
 "cells": [
  {
   "cell_type": "markdown",
   "metadata": {},
   "source": [
    "Что будем делать?\n",
    "\n",
    "Берем один кейс (бизнес-идею) из своей практики, строим этой идее Lean Startup Canvas, записываем HADI, выбираем 2-3 инструмента для проверки гипотезы, фиксируем план проверки гипотезы.\n",
    "\n",
    "Canvas строим в сервисе canvanizer.com - https://canvanizer.com/\n",
    "\n",
    "HADI , инструменты и план проверки – в Google таблицах\n",
    "\n"
   ]
  },
  {
   "cell_type": "markdown",
   "metadata": {},
   "source": [
    "Гипотезы выбираем по smart"
   ]
  },
  {
   "cell_type": "markdown",
   "metadata": {},
   "source": [
    "Кейс\n",
    "Аналитик решил стать наставником для подготовки к собеседованиям."
   ]
  },
  {
   "cell_type": "markdown",
   "metadata": {},
   "source": [
    "Заполненный Lean Canvas\n",
    "https://canvanizer.com/canvas/rp6q5vMm0kBSf"
   ]
  },
  {
   "cell_type": "markdown",
   "metadata": {},
   "source": [
    "План проверки гипотез https://docs.google.com/spreadsheets/d/1qobLJZ2W8oTMnwyhFDx-eDMdkn-UWWi4tdcEgWeDKlM/edit?gid=0#gid=0"
   ]
  }
 ],
 "metadata": {
  "kernelspec": {
   "display_name": "Python 3.7.1 64-bit",
   "language": "python",
   "name": "python3"
  },
  "language_info": {
   "name": "python",
   "version": "3.7.1"
  },
  "orig_nbformat": 4,
  "vscode": {
   "interpreter": {
    "hash": "fbe58ca63fe33f9eeae9e71d10368d2b4a57f2b1b395836210cc60d362c66949"
   }
  }
 },
 "nbformat": 4,
 "nbformat_minor": 2
}
