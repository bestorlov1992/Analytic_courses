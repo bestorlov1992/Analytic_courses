{
 "cells": [
  {
   "cell_type": "markdown",
   "metadata": {},
   "source": [
    "Прорабатываем систему метрик и иерархию метрик для одного из 4ех стартапов (надо выбрать один):\n",
    "\n",
    "1) Пиццерия, работающая на вынос\n",
    "\n",
    "2) Доставка вина с интернет-витриной\n",
    "\n",
    "3) Мобильная игра “Собери три в линию”\n",
    "\n",
    "4) Онлайн-школа кулинарии"
   ]
  },
  {
   "cell_type": "markdown",
   "metadata": {},
   "source": [
    "Выберем пиццерию"
   ]
  },
  {
   "cell_type": "code",
   "execution_count": 1,
   "metadata": {},
   "outputs": [],
   "source": [
    "import base64\n",
    "from IPython.display import Image, display\n",
    "\n",
    "def mm(graph):\n",
    "  graphbytes = graph.encode(\"ascii\")\n",
    "  base64_bytes = base64.b64encode(graphbytes)\n",
    "  base64_string = base64_bytes.decode(\"ascii\")\n",
    "  display(Image(url=\"https://mermaid.ink/img/\" + base64_string))\n",
    "\n"
   ]
  },
  {
   "cell_type": "code",
   "execution_count": 28,
   "metadata": {},
   "outputs": [
    {
     "data": {
      "text/html": [
       "<img src=\"https://mermaid.ink/img/CgpmbG93Y2hhcnQgVEIgCiAgICBwcm9maXRbIlByb2ZpdCJdIAogICAgcHJvZml0IC0tPiByZXZlbnVlW1JldmVudWVdCiAgICBwcm9maXQgLS0+IGNvc3RzW0Nvc3RzXQogICAgcmV2ZW51ZSAtLT4gbl91c2Vyc1siTiB1c2VycyJdCiAgICBuX3VzZXJzIC0tPiBuZXdfdXNlcnNbIk5ldyB1c2VycyJdCiAgICBuX3VzZXJzIC0tPiBhY3RpdmVfdXNlcnNbIkFjdGl2ZSB1c2VycyJdCiAgICBuX3VzZXJzIC0tPiByZXN1cmVjdGVkX3VzZXJzWyJSZXN1cmVjdGVkIHVzZXJzIl0KICAgIHJldmVudWUgLS0+IGF2Z19jaGVja1siQXZnLkNoZWNrIl0KICAgIGF2Z19jaGVjayAtLT4gYXZnX3ByaWNlWyJBdmcuUHJpY2UiXQogICAgYXZnX3ByaWNlIC0tPiBhdmdfcHJpY2VfbWFpblsiQXZnLlByaWNlIG1haW4iXQogICAgYXZnX3ByaWNlIC0tPiBhdmdfcHJpY2VfYXBwc1siQXZnLlByaWNlIGFwcHMiXQogICAgYXZnX2NoZWNrIC0tPiBhdmdfaXRlbXNbIkF2Zy5JdGVtcyJdCiAgICBjb3N0cyAtLT4gbmV0X2Nvc3RzWyJOZXQgY29zdHMiXQogICAgY29zdHMgLS0+IG1hcmtldGluZ19jb3N0c1siTWFya2V0aW5nIGNvc3RzIl0KICAgIGNvc3RzIC0tPiBkZWxpdmVyeVsiRGVsaXZlcnkgY29zdHMiXQogICAgY29zdHMgLS0+IG92ZXJfY29zdHNbIk92ZXIgY29zdHMiXQogICAgbmV0X2Nvc3RzIC0tPiBtYXRlcmlhbF9jb3N0c1siTWF0ZXJpYWwiXQogICAgbmV0X2Nvc3RzIC0tPiBzdGFmZl9jb3N0c1siU3RhZmYgc2FsYXJ5Il0KICAgIG1hcmtldGluZ19jb3N0cyAtLT4gYWNxdWlzaXRpb25fY29zdHNbIkFjcXVpc2l0aW9uIl0KICAgIG1hcmtldGluZ19jb3N0cyAtLT4gcmV0ZW50aW9uX2Nvc3RzWyJSZXRlbnRpb24iXQo=\"/>"
      ],
      "text/plain": [
       "<IPython.core.display.Image object>"
      ]
     },
     "metadata": {},
     "output_type": "display_data"
    }
   ],
   "source": [
    "mm(\"\"\"\n",
    "\n",
    "flowchart TB \n",
    "    profit[\"Profit\"] \n",
    "    profit --> revenue[Revenue]\n",
    "    profit --> costs[Costs]\n",
    "    revenue --> n_users[\"N users\"]\n",
    "    n_users --> new_users[\"New users\"]\n",
    "    n_users --> active_users[\"Active users\"]\n",
    "    n_users --> resurected_users[\"Resurected users\"]\n",
    "    revenue --> avg_check[\"Avg.Check\"]\n",
    "    avg_check --> avg_price[\"Avg.Price\"]\n",
    "    avg_price --> avg_price_main[\"Avg.Price main\"]\n",
    "    avg_price --> avg_price_apps[\"Avg.Price apps\"]\n",
    "    avg_check --> avg_items[\"Avg.Items\"]\n",
    "    costs --> net_costs[\"Net costs\"]\n",
    "    costs --> marketing_costs[\"Marketing costs\"]\n",
    "    costs --> delivery[\"Delivery costs\"]\n",
    "    costs --> over_costs[\"Over costs\"]\n",
    "    net_costs --> material_costs[\"Material\"]\n",
    "    net_costs --> staff_costs[\"Staff salary\"]\n",
    "    marketing_costs --> acquisition_costs[\"Acquisition\"]\n",
    "    marketing_costs --> retention_costs[\"Retention\"]\n",
    "\"\"\")"
   ]
  },
  {
   "cell_type": "code",
   "execution_count": 2,
   "metadata": {},
   "outputs": [
    {
     "ename": "SyntaxError",
     "evalue": "invalid syntax (3256696386.py, line 1)",
     "output_type": "error",
     "traceback": [
      "\u001b[1;36m  File \u001b[1;32m\"C:\\Users\\Алексей\\AppData\\Local\\Temp\\ipykernel_5804\\3256696386.py\"\u001b[1;36m, line \u001b[1;32m1\u001b[0m\n\u001b[1;33m    flowchart TB\u001b[0m\n\u001b[1;37m               ^\u001b[0m\n\u001b[1;31mSyntaxError\u001b[0m\u001b[1;31m:\u001b[0m invalid syntax\n"
     ]
    }
   ],
   "source": [
    "\"\"\"\"\n",
    "flowchart LR\n",
    "    s1['Profit']\n",
    "    s1-->s2;\n",
    "    style s1 fill: green\n",
    "    s2-.transformation.->s3;\n",
    "    style s3 stroke: red\n",
    "    classDef my_class fill:#f00,color:white,font-weight:bold,stroke-width:2px,stroke:yellow\n",
    "    class s2 my_class\n",
    "\"\"\")"
   ]
  }
 ],
 "metadata": {
  "kernelspec": {
   "display_name": "Python 3.7.1 64-bit",
   "language": "python",
   "name": "python3"
  },
  "language_info": {
   "codemirror_mode": {
    "name": "ipython",
    "version": 3
   },
   "file_extension": ".py",
   "mimetype": "text/x-python",
   "name": "python",
   "nbconvert_exporter": "python",
   "pygments_lexer": "ipython3",
   "version": "3.7.1"
  },
  "orig_nbformat": 4,
  "vscode": {
   "interpreter": {
    "hash": "fbe58ca63fe33f9eeae9e71d10368d2b4a57f2b1b395836210cc60d362c66949"
   }
  }
 },
 "nbformat": 4,
 "nbformat_minor": 2
}
