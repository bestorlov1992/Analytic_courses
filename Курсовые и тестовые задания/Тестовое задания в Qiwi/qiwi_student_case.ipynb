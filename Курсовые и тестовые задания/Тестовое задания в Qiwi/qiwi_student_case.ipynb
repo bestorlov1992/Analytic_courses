{
  "nbformat": 4,
  "nbformat_minor": 0,
  "metadata": {
    "kernelspec": {
      "display_name": "Python 3",
      "language": "python",
      "name": "python3"
    },
    "language_info": {
      "codemirror_mode": {
        "name": "ipython",
        "version": 3
      },
      "file_extension": ".py",
      "mimetype": "text/x-python",
      "name": "python",
      "nbconvert_exporter": "python",
      "pygments_lexer": "ipython3",
      "version": "3.7.0"
    },
    "colab": {
      "provenance": []
    }
  },
  "cells": [
    {
      "cell_type": "code",
      "metadata": {
        "id": "QgRYc_0IKkdd"
      },
      "source": [
        "import pandas as pd\n",
        "%matplotlib inline\n",
        "import os\n",
        "import matplotlib.pyplot as plt\n",
        "plt.rcParams['figure.figsize'] = (7.0, 7.0)\n",
        "os.environ[\"NLS_LANG\"] = \"American_America.AL32UTF8\"\n",
        "\n",
        "import numpy as np\n",
        "import seaborn as sns"
      ],
      "execution_count": null,
      "outputs": []
    },
    {
      "cell_type": "markdown",
      "metadata": {
        "id": "5YXm1ByBKkdw"
      },
      "source": [
        "## Данные - датасет и загрузка"
      ]
    },
    {
      "cell_type": "markdown",
      "metadata": {
        "id": "v28m4CiMKkdy"
      },
      "source": [
        "В современной финтех индустрии одной из ключевых сфер для применения data science является процесс кредитного скоринга.\n",
        "Скоринговые модели помогают датасаентистам определить, какие клиенты с наибольшей вероятностью вернут выданный кредит, что помогает банку сформировать прибыльный продуктовый портфель и управлять рисками.\n",
        "\n",
        "В этом кейсе вам предстоит исследовать данные о заявках клиентов на кредитную карту и кредитной истории.\n",
        "- Для задания понадобятся данные из https://www.kaggle.com/rikdifos/credit-card-approval-prediction (также Вы можете найти данные [в данной папке](https://drive.google.com/drive/folders/1v5RTvwpLfYVO86KfXyfMsT3DEXb7hnCG?usp=sharing))\n",
        "- Описание данных находится на страничке датасета."
      ]
    },
    {
      "cell_type": "code",
      "metadata": {
        "id": "aFzCCj6xKkd1"
      },
      "source": [
        "# Загрузим файлы датасета.\n",
        "app = pd.read_csv(\"application_record.csv\", sep=\",\")\n",
        "app.columns = map(str.lower, app.columns)\n",
        "\n",
        "credit = pd.read_csv(\"credit_record.csv\", sep=\",\")\n",
        "credit.columns = map(str.lower, credit.columns)"
      ],
      "execution_count": null,
      "outputs": []
    },
    {
      "cell_type": "code",
      "metadata": {
        "id": "qraM-8GhKkeD",
        "outputId": "b4fdd6d9-24d5-4936-c98b-75c1d7021a7f"
      },
      "source": [
        "app.head(3)"
      ],
      "execution_count": null,
      "outputs": [
        {
          "output_type": "execute_result",
          "data": {
            "text/html": [
              "<div>\n",
              "<style scoped>\n",
              "    .dataframe tbody tr th:only-of-type {\n",
              "        vertical-align: middle;\n",
              "    }\n",
              "\n",
              "    .dataframe tbody tr th {\n",
              "        vertical-align: top;\n",
              "    }\n",
              "\n",
              "    .dataframe thead th {\n",
              "        text-align: right;\n",
              "    }\n",
              "</style>\n",
              "<table border=\"1\" class=\"dataframe\">\n",
              "  <thead>\n",
              "    <tr style=\"text-align: right;\">\n",
              "      <th></th>\n",
              "      <th>id</th>\n",
              "      <th>code_gender</th>\n",
              "      <th>flag_own_car</th>\n",
              "      <th>flag_own_realty</th>\n",
              "      <th>cnt_children</th>\n",
              "      <th>amt_income_total</th>\n",
              "      <th>name_income_type</th>\n",
              "      <th>name_education_type</th>\n",
              "      <th>name_family_status</th>\n",
              "      <th>name_housing_type</th>\n",
              "      <th>days_birth</th>\n",
              "      <th>days_employed</th>\n",
              "      <th>flag_mobil</th>\n",
              "      <th>flag_work_phone</th>\n",
              "      <th>flag_phone</th>\n",
              "      <th>flag_email</th>\n",
              "      <th>occupation_type</th>\n",
              "      <th>cnt_fam_members</th>\n",
              "    </tr>\n",
              "  </thead>\n",
              "  <tbody>\n",
              "    <tr>\n",
              "      <th>0</th>\n",
              "      <td>5008804</td>\n",
              "      <td>M</td>\n",
              "      <td>Y</td>\n",
              "      <td>Y</td>\n",
              "      <td>0</td>\n",
              "      <td>427500.0</td>\n",
              "      <td>Working</td>\n",
              "      <td>Higher education</td>\n",
              "      <td>Civil marriage</td>\n",
              "      <td>Rented apartment</td>\n",
              "      <td>-12005</td>\n",
              "      <td>-4542</td>\n",
              "      <td>1</td>\n",
              "      <td>1</td>\n",
              "      <td>0</td>\n",
              "      <td>0</td>\n",
              "      <td>NaN</td>\n",
              "      <td>2.0</td>\n",
              "    </tr>\n",
              "    <tr>\n",
              "      <th>1</th>\n",
              "      <td>5008805</td>\n",
              "      <td>M</td>\n",
              "      <td>Y</td>\n",
              "      <td>Y</td>\n",
              "      <td>0</td>\n",
              "      <td>427500.0</td>\n",
              "      <td>Working</td>\n",
              "      <td>Higher education</td>\n",
              "      <td>Civil marriage</td>\n",
              "      <td>Rented apartment</td>\n",
              "      <td>-12005</td>\n",
              "      <td>-4542</td>\n",
              "      <td>1</td>\n",
              "      <td>1</td>\n",
              "      <td>0</td>\n",
              "      <td>0</td>\n",
              "      <td>NaN</td>\n",
              "      <td>2.0</td>\n",
              "    </tr>\n",
              "    <tr>\n",
              "      <th>2</th>\n",
              "      <td>5008806</td>\n",
              "      <td>M</td>\n",
              "      <td>Y</td>\n",
              "      <td>Y</td>\n",
              "      <td>0</td>\n",
              "      <td>112500.0</td>\n",
              "      <td>Working</td>\n",
              "      <td>Secondary / secondary special</td>\n",
              "      <td>Married</td>\n",
              "      <td>House / apartment</td>\n",
              "      <td>-21474</td>\n",
              "      <td>-1134</td>\n",
              "      <td>1</td>\n",
              "      <td>0</td>\n",
              "      <td>0</td>\n",
              "      <td>0</td>\n",
              "      <td>Security staff</td>\n",
              "      <td>2.0</td>\n",
              "    </tr>\n",
              "  </tbody>\n",
              "</table>\n",
              "</div>"
            ],
            "text/plain": [
              "        id code_gender flag_own_car flag_own_realty  cnt_children  \\\n",
              "0  5008804           M            Y               Y             0   \n",
              "1  5008805           M            Y               Y             0   \n",
              "2  5008806           M            Y               Y             0   \n",
              "\n",
              "   amt_income_total name_income_type            name_education_type  \\\n",
              "0          427500.0          Working               Higher education   \n",
              "1          427500.0          Working               Higher education   \n",
              "2          112500.0          Working  Secondary / secondary special   \n",
              "\n",
              "  name_family_status  name_housing_type  days_birth  days_employed  \\\n",
              "0     Civil marriage   Rented apartment      -12005          -4542   \n",
              "1     Civil marriage   Rented apartment      -12005          -4542   \n",
              "2            Married  House / apartment      -21474          -1134   \n",
              "\n",
              "   flag_mobil  flag_work_phone  flag_phone  flag_email occupation_type  \\\n",
              "0           1                1           0           0             NaN   \n",
              "1           1                1           0           0             NaN   \n",
              "2           1                0           0           0  Security staff   \n",
              "\n",
              "   cnt_fam_members  \n",
              "0              2.0  \n",
              "1              2.0  \n",
              "2              2.0  "
            ]
          },
          "metadata": {
            "tags": []
          },
          "execution_count": 14
        }
      ]
    },
    {
      "cell_type": "code",
      "metadata": {
        "id": "0RcgbYHAKkeP",
        "outputId": "e6a3c2d7-4610-4a68-d58d-abb55feb1618"
      },
      "source": [
        "credit.head(3)"
      ],
      "execution_count": null,
      "outputs": [
        {
          "output_type": "execute_result",
          "data": {
            "text/html": [
              "<div>\n",
              "<style scoped>\n",
              "    .dataframe tbody tr th:only-of-type {\n",
              "        vertical-align: middle;\n",
              "    }\n",
              "\n",
              "    .dataframe tbody tr th {\n",
              "        vertical-align: top;\n",
              "    }\n",
              "\n",
              "    .dataframe thead th {\n",
              "        text-align: right;\n",
              "    }\n",
              "</style>\n",
              "<table border=\"1\" class=\"dataframe\">\n",
              "  <thead>\n",
              "    <tr style=\"text-align: right;\">\n",
              "      <th></th>\n",
              "      <th>id</th>\n",
              "      <th>months_balance</th>\n",
              "      <th>status</th>\n",
              "    </tr>\n",
              "  </thead>\n",
              "  <tbody>\n",
              "    <tr>\n",
              "      <th>0</th>\n",
              "      <td>5001711</td>\n",
              "      <td>0</td>\n",
              "      <td>X</td>\n",
              "    </tr>\n",
              "    <tr>\n",
              "      <th>1</th>\n",
              "      <td>5001711</td>\n",
              "      <td>-1</td>\n",
              "      <td>0</td>\n",
              "    </tr>\n",
              "    <tr>\n",
              "      <th>2</th>\n",
              "      <td>5001711</td>\n",
              "      <td>-2</td>\n",
              "      <td>0</td>\n",
              "    </tr>\n",
              "  </tbody>\n",
              "</table>\n",
              "</div>"
            ],
            "text/plain": [
              "        id  months_balance status\n",
              "0  5001711               0      X\n",
              "1  5001711              -1      0\n",
              "2  5001711              -2      0"
            ]
          },
          "metadata": {
            "tags": []
          },
          "execution_count": 15
        }
      ]
    },
    {
      "cell_type": "markdown",
      "metadata": {
        "id": "PhOIZy1NKkeY"
      },
      "source": [
        "### Задание 1 - проверка качества данных\n",
        "Перечислите названия колонок датасета app, в котором есть незаполненные (Null) значения."
      ]
    },
    {
      "cell_type": "code",
      "metadata": {
        "id": "GG30PPKtLbik"
      },
      "source": [
        "### YOUR CODE HERE ###\n"
      ],
      "execution_count": null,
      "outputs": []
    },
    {
      "cell_type": "markdown",
      "metadata": {
        "id": "C4ueOm2gKkej"
      },
      "source": [
        "### Задание 2 - проверка качества данных\n",
        "Рассчитайте долю незаполненных значений в колонке с их максимальным количеством.\n",
        "Результат округлите до двух знаков после запятой (округление в большую сторону)."
      ]
    },
    {
      "cell_type": "code",
      "metadata": {
        "id": "bXNqCtuYLcUQ"
      },
      "source": [
        "### YOUR CODE HERE ###\n"
      ],
      "execution_count": null,
      "outputs": []
    },
    {
      "cell_type": "markdown",
      "metadata": {
        "id": "5RpoItmiKkep"
      },
      "source": [
        "### Задание 3\n",
        "Определите число дубликатов в столбце с айди клиента (id)"
      ]
    },
    {
      "cell_type": "code",
      "metadata": {
        "id": "xf1vHbP_LdFn"
      },
      "source": [
        "### YOUR CODE HERE ###\n"
      ],
      "execution_count": null,
      "outputs": []
    },
    {
      "cell_type": "markdown",
      "metadata": {
        "id": "wHAbJzsHKkex"
      },
      "source": [
        "### Задание 4\n",
        "Определите самые популярные профессии клиентов (occupation_type), исключая Null значения, отсортировав их по числу id.\n",
        "\n",
        "Результат представьте в виде dict вида {профессия:число клиентов}."
      ]
    },
    {
      "cell_type": "code",
      "metadata": {
        "id": "dk_X5OJMLdyM"
      },
      "source": [
        "### YOUR CODE HERE ###\n"
      ],
      "execution_count": null,
      "outputs": []
    },
    {
      "cell_type": "markdown",
      "metadata": {
        "id": "gCm9luYqKke3"
      },
      "source": [
        "### Задание 5\n",
        "Клиенты с каким уровнем образования (name_education_type) имеют наибольший средний доход? Помимо уровня образования укажите и средний доход для него, округленный до двух знаков после запятой."
      ]
    },
    {
      "cell_type": "code",
      "metadata": {
        "id": "r9xHqvajLee4"
      },
      "source": [
        "### YOUR CODE HERE ###\n"
      ],
      "execution_count": null,
      "outputs": []
    },
    {
      "cell_type": "markdown",
      "metadata": {
        "id": "YPIHIg8uKke-"
      },
      "source": [
        "### Задание 6\n",
        "Для клиентов с уровнем образования из задания 5 и семейным положением (name_family_status) Married, выясните, у кого в среднем больше доход (amt_income_total) - у клиентов с машиной или без?"
      ]
    },
    {
      "cell_type": "code",
      "metadata": {
        "id": "VKcVMEFtLfPl"
      },
      "source": [
        "### YOUR CODE HERE ###\n"
      ],
      "execution_count": null,
      "outputs": []
    },
    {
      "cell_type": "markdown",
      "metadata": {
        "id": "6iYvcyB5KkfE"
      },
      "source": [
        "### Задание 7\n",
        "Рассчитайте разнциу между медианным стажем (days_employed) мужчин и женщин в месяцах. В ответе приведите модуль от это числа, округленный до двух знаков после запятой."
      ]
    },
    {
      "cell_type": "code",
      "metadata": {
        "id": "mFiF-JvYLgId"
      },
      "source": [
        "### YOUR CODE HERE ###\n"
      ],
      "execution_count": null,
      "outputs": []
    },
    {
      "cell_type": "markdown",
      "metadata": {
        "id": "rehMDbcjKkfK"
      },
      "source": [
        "### Задание 8\n",
        "Для женщин, чей доход или стаж строго выше 75 перцентиля аналогичных показателей для мужчин, определите наиболее популярную профессию (occupation_type). Null значения в occupation_type не учитывать, как и в пункте 4.\n",
        "\n",
        "В качесте ответа приведите название этой профессии."
      ]
    },
    {
      "cell_type": "code",
      "metadata": {
        "id": "oDeTSCM9LhGO"
      },
      "source": [
        "### YOUR CODE HERE ###\n"
      ],
      "execution_count": null,
      "outputs": []
    },
    {
      "cell_type": "markdown",
      "metadata": {
        "id": "t5S5miXPKkfP"
      },
      "source": [
        "### Задание 9\n",
        "Оцените наличие связи между размером дохода и модулем возраста при помощи коэфициента корреляции.\n",
        "В качестве ответа приведите значение в процентах, округленное до 5 знаков после запятой."
      ]
    },
    {
      "cell_type": "code",
      "metadata": {
        "id": "hx-85nT0LijM"
      },
      "source": [
        "### YOUR CODE HERE ###\n"
      ],
      "execution_count": null,
      "outputs": []
    },
    {
      "cell_type": "markdown",
      "metadata": {
        "id": "lwdYtmTJKkfV"
      },
      "source": [
        "### Задание 10\n",
        "По результатам задания 9 при помощи коээфициента корреляции оцените силу связи между доходом и модулем возраста:\n",
        "\n",
        "    1) сильная положительная связь\n",
        "    2) слабая положительная связь\n",
        "    3) нелинейная связь\n",
        "    4) умеренная отрицательная связь\n",
        "    5) все ответы неверны"
      ]
    },
    {
      "cell_type": "code",
      "metadata": {
        "id": "H97DPXPRLlVl"
      },
      "source": [
        "# Выберите верный ответ:"
      ],
      "execution_count": null,
      "outputs": []
    },
    {
      "cell_type": "markdown",
      "metadata": {
        "id": "kuSN73AGKkfZ"
      },
      "source": [
        "### Задание 11\n",
        "Какие типы занятости (name_income_type) встречаются среди клиентов с просрочкой от 30-59 дней? Ответ приведите в виде словаря с сортировкой по числу id:\n",
        "{name_income_type:число id}"
      ]
    },
    {
      "cell_type": "code",
      "metadata": {
        "id": "KoDMTmSPLrsT"
      },
      "source": [
        "### YOUR CODE HERE ###\n"
      ],
      "execution_count": null,
      "outputs": []
    },
    {
      "cell_type": "markdown",
      "metadata": {
        "id": "pKdEttiwKkfe"
      },
      "source": [
        "### Задание 12\n",
        "Выберите верные утверждения для клиентов с просрочкой более 150 дней:\n",
        "\n",
        "    1) среди этих клиентов больше всего людей имеет образование уровня Lower secondary\n",
        "    2) среди этих клиентов 61% - мужчины\n",
        "    3) не все такие клиенты присутствуют в датасете с заявками\n",
        "    4) все три утверждения выше неверны"
      ]
    },
    {
      "cell_type": "code",
      "metadata": {
        "id": "utIiCF76Kkff"
      },
      "source": [
        "### YOUR CODE HERE ###\n"
      ],
      "execution_count": null,
      "outputs": []
    },
    {
      "cell_type": "code",
      "metadata": {
        "id": "DhIc9RPhLx6D"
      },
      "source": [
        "# Выберите верный ответ на основании расчетов выше:"
      ],
      "execution_count": null,
      "outputs": []
    }
  ]
}