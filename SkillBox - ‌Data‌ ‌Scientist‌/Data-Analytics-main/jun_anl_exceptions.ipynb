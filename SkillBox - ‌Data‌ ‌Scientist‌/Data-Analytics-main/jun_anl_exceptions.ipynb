{
 "cells": [
  {
   "cell_type": "markdown",
   "metadata": {
    "colab_type": "text",
    "id": "c2KtXmjxtgw-"
   },
   "source": [
    "# Исключения\n",
    "## Домашняя работа"
   ]
  },
  {
   "cell_type": "markdown",
   "metadata": {
    "colab_type": "text",
    "id": "0Vhx-zKitgxA"
   },
   "source": [
    "### Вопросы по лекциям."
   ]
  },
  {
   "cell_type": "markdown",
   "metadata": {
    "colab_type": "text",
    "id": "14lleKewtgxC"
   },
   "source": [
    "Как поймать вообще все ошибки, которые могут произойти?"
   ]
  },
  {
   "cell_type": "markdown",
   "metadata": {
    "colab_type": "text",
    "id": "VQnYGkVKtgxD"
   },
   "source": [
    "**Ответ:**\n",
    "Чтобы использовать все ошибки нужно использовать Exception"
   ]
  },
  {
   "cell_type": "markdown",
   "metadata": {
    "colab_type": "text",
    "id": "paSc2JE6tgxD"
   },
   "source": [
    "Сколько раз подряд можно указывать except?"
   ]
  },
  {
   "cell_type": "markdown",
   "metadata": {
    "colab_type": "text",
    "id": "bU0lzJPBtgxE"
   },
   "source": [
    "**Ответ:**\n",
    "Сколько угодно\n"
   ]
  },
  {
   "cell_type": "markdown",
   "metadata": {
    "colab_type": "text",
    "id": "9wQ-yXpGtgxF"
   },
   "source": [
    "Вы хотите с помощью print вывести название ошибки в консоль, как это сделать?"
   ]
  },
  {
   "cell_type": "markdown",
   "metadata": {
    "colab_type": "text",
    "id": "iE1iqRZctgxH"
   },
   "source": [
    "**Ответ:**\n",
    "except Exception as exc:\n",
    "print(exc)"
   ]
  },
  {
   "cell_type": "markdown",
   "metadata": {
    "colab_type": "text",
    "id": "EDAi3ZFBtgxI"
   },
   "source": [
    "Вы хотите с помощью print вывести параметры ошибки в консоль, как это сделать?"
   ]
  },
  {
   "cell_type": "markdown",
   "metadata": {
    "colab_type": "text",
    "id": "qWimgtF3tgxK"
   },
   "source": [
    "**Ответ:**\n",
    "except Exception as exc:\n",
    "print(exc.args)"
   ]
  },
  {
   "cell_type": "markdown",
   "metadata": {
    "colab_type": "text",
    "id": "leOCJIlRtgxK"
   },
   "source": [
    "Что такое DeprecationWarning?"
   ]
  },
  {
   "cell_type": "markdown",
   "metadata": {
    "colab_type": "text",
    "id": "KyaynuyvtgxL"
   },
   "source": [
    "**Ответ:**\n",
    "Предупреждение о том, что метод будет не использоваться в след. версии и он будет удален\n"
   ]
  },
  {
   "cell_type": "markdown",
   "metadata": {
    "colab_type": "text",
    "id": "oxgCUHzotgxM"
   },
   "source": [
    "### Разминочные задания. \n",
    "<br>\n",
    "\n",
    "Вам даны две функции. Поисследуйте, какие ошибки могут возникнуть при их реализации. Обработайте эти ошибки."
   ]
  },
  {
   "cell_type": "code",
   "execution_count": 98,
   "metadata": {
    "colab": {},
    "colab_type": "code",
    "id": "X4nsMUUAtgxN"
   },
   "outputs": [
    {
     "name": "stdout",
     "output_type": "stream",
     "text": [
      "enter a number: 3\n",
      "enter another number: 3\n",
      "3 / 3 = 1.0\n",
      "enter a number: 3\n",
      "enter another number: 0\n",
      "Деление на 0\n"
     ]
    }
   ],
   "source": [
    "def div():\n",
    "    for i in range(2):\n",
    "        x = int(input(\"enter a number: \"))\n",
    "        y = int(input(\"enter another number: \"))\n",
    "        try:\n",
    "            print(x, '/', y, '=', x/y)\n",
    "        except ValueError:\n",
    "            print('Не число')\n",
    "        except ZeroDivisionError:\n",
    "            print('Деление на 0')\n",
    "div()\n"
   ]
  },
  {
   "cell_type": "code",
   "execution_count": 99,
   "metadata": {
    "colab": {},
    "colab_type": "code",
    "id": "hoDmt-nStgxS"
   },
   "outputs": [],
   "source": [
    "def sumOfPairs(L1, L2):\n",
    "    sum = 0\n",
    "    sumOfPairs = []\n",
    "    for i in range(len(L1)):\n",
    "        try:\n",
    "            sumOfPairs.append(L1[i]+L2[i])\n",
    "        except IndexError:\n",
    "                continue\n",
    "        except TypeError:\n",
    "                continue\n",
    "\n",
    "    print(\"sumOfPairs = \", sumOfPairs)\n",
    "    "
   ]
  },
  {
   "cell_type": "markdown",
   "metadata": {
    "colab_type": "text",
    "id": "geX0-Zq6tgxU"
   },
   "source": [
    "### Задание 1.\n",
    "\n",
    "Есть файл с протоколом регистраций пользователей на сайте (registrations.txt).<br>\n",
    "Каждая строка содержит информацию о имени, электронной почте и возрасте человека. <br><br>\n",
    "\n",
    "\n",
    "Надо проверить данные из файла, для каждой строки:\n",
    " - присутсвуют все три поля\n",
    " - поле имени содержит только буквы\n",
    " - поле email содержит @ и .\n",
    " - поле возраст является числом от 10 до 99<br>\n",
    "\n",
    "В результате проверки нужно сформировать два файла\n",
    " - registrations_good.log для правильных данных, записывать строки как есть\n",
    "- registrations_bad.log для ошибочных, записывать строку и вид ошибки.<br>\n",
    "\n",
    "Для валидации строки данных написать метод, который может выкидывать исключения:\n",
    " - НЕ присутсвуют все три поля: ValueError\n",
    " - поле имени содержит НЕ только буквы: NotNameError (кастомное исключение)\n",
    " - поле email НЕ содержит @ и .(точку): NotEmailError (кастомное исключение)\n",
    " - поле возраст НЕ является числом от 10 до 99: ValueError\n",
    "Вызов метода обернуть в try-except."
   ]
  },
  {
   "cell_type": "code",
   "execution_count": 101,
   "metadata": {
    "colab": {},
    "colab_type": "code",
    "id": "Eq2Ax0LntgxW"
   },
   "outputs": [],
   "source": [
    "class NotNameError(Exception):\n",
    "    pass\n",
    "        \n",
    "        \n",
    "\n",
    "class NotEmailError(Exception):\n",
    "    pass\n",
    "    \n",
    "    \n",
    "def validate(line):\n",
    "   \n",
    "    try:\n",
    "        name, email, val = line.split(' ')\n",
    "        if not name.isalpha():\n",
    "            try:\n",
    "                raise NotNameError()\n",
    "            except NotNameError:\n",
    "                filebad.write(f'Поле имени содержит НЕ только буквы {line}')\n",
    "        else:\n",
    "            if not ('@' in email and '.' in email):\n",
    "                try:\n",
    "                    raise NotEmailError()\n",
    "                except NotEmailError:\n",
    "                    filebad.write(f'Поле email НЕ содержит @ и .(точку) {line}')\n",
    "            else:\n",
    "                try:\n",
    "                    if int(val) >= 10 and int(val) <=99:\n",
    "                        filegood.write(line)\n",
    "                    else:\n",
    "                        filebad.write(f'Поле возраст НЕ является числом от 10 до 99 {line}')\n",
    "                except ValueError:\n",
    "                    filebad.write(f'Поле возраст НЕ является числом от 10 до 99 {line}')\n",
    "                 \n",
    "    except ValueError as exc:\n",
    "        if 'unpack' in exc.args[0]:\n",
    "            filebad.write(f'Не хватает операндов {exc} в строке {line}')\n",
    "\n",
    "            \n",
    "try:\n",
    "    file = open('registrations.txt','r', encoding=\"utf8\")\n",
    "except Exception:\n",
    "    pass\n",
    "try:\n",
    "    filegood = open('registrations_good.log','w', encoding=\"utf8\")\n",
    "except Exception:\n",
    "    pass\n",
    "try:\n",
    "    filebad = open('registrations_bad.log','w',encoding=\"utf8\")\n",
    "except Exception:\n",
    "    pass\n",
    "for line in file:\n",
    "    validate(line)\n",
    "\n",
    "\n",
    "file.close()\n",
    "filegood.close()\n",
    "filebad.close()\n",
    "        \n",
    "    \n",
    "    \n"
   ]
  },
  {
   "cell_type": "code",
   "execution_count": null,
   "metadata": {},
   "outputs": [],
   "source": []
  }
 ],
 "metadata": {
  "colab": {
   "name": "jun_anl_exeptions.ipynb",
   "provenance": [],
   "version": "0.3.2"
  },
  "kernelspec": {
   "display_name": "Python 3",
   "language": "python",
   "name": "python3"
  },
  "language_info": {
   "codemirror_mode": {
    "name": "ipython",
    "version": 3
   },
   "file_extension": ".py",
   "mimetype": "text/x-python",
   "name": "python",
   "nbconvert_exporter": "python",
   "pygments_lexer": "ipython3",
   "version": "3.8.3"
  }
 },
 "nbformat": 4,
 "nbformat_minor": 1
}
