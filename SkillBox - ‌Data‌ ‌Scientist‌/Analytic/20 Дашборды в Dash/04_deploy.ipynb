{
 "cells": [
  {
   "cell_type": "markdown",
   "metadata": {},
   "source": [
    "# И теперь задеплоим что нибудь!"
   ]
  },
  {
   "cell_type": "markdown",
   "metadata": {},
   "source": [
    "Открываем гугл клауд, слева вверху настройки, выбираем VPC Network и Firewall Rules"
   ]
  },
  {
   "cell_type": "markdown",
   "metadata": {},
   "source": [
    "<img src=\"external_ip.png\" alt=\"hop hop loshok\" height=\"1000\" width=\"1000\">"
   ]
  },
  {
   "cell_type": "markdown",
   "metadata": {},
   "source": [
    "# Потом настраиваем firewall"
   ]
  },
  {
   "cell_type": "markdown",
   "metadata": {},
   "source": [
    "нажимаем create firewall rule, задаем уникальное имя, direction ставим ingress (то есть входящий трафик)    \n",
    "action on match ставим allow, target tags ставим dash-app (это штука с помощью которой к нашей вирт машине будут применяться правила)  \n",
    "Source IP ranges ставим все нули 0.0.0.0/0 (откуда может залетать трафик, все нули, значит с любого)  \n",
    "  \n"
   ]
  },
  {
   "cell_type": "markdown",
   "metadata": {},
   "source": [
    "# Создаем внешний ай пи"
   ]
  },
  {
   "cell_type": "markdown",
   "metadata": {},
   "source": [
    "Открываем гугл клауд, слева вверху настройки, выбираем VPC Network и external ip addresses  \n",
    "reserve a static address  \n",
    "указываем название,   \n",
    "network service Tier ставим standard  \n",
    "ip version 4  \n",
    "и резервируем  "
   ]
  },
  {
   "cell_type": "markdown",
   "metadata": {},
   "source": [
    "# ну а дальше вирутальная машинка"
   ]
  },
  {
   "cell_type": "markdown",
   "metadata": {},
   "source": [
    "снова идем в настройки гугл клауд и создаем instance  \n",
    "выбираем в меню Compute Engine, VM instance    \n",
    "create instance  \n",
    "указываем имя и настройки   \n",
    "Firewall ставим все галочки разрешить  \n",
    "далее нажимаем после блока Firewall\n",
    "Networking  \n",
    "в Network tags указываем как в firewall rules указали в target tags, то есть ставим dash-app  \n",
    "Далее ниже  \n",
    "network interfaces  \n",
    "нажимаем show alias ip ranges и выбираем наш созданный external ip (там будет в списке)  \n",
    "далее done и create"
   ]
  },
  {
   "cell_type": "markdown",
   "metadata": {},
   "source": [
    "теперь заходим в ssh вирт машины и выполняем следущие команды"
   ]
  },
  {
   "cell_type": "code",
   "execution_count": null,
   "metadata": {},
   "outputs": [],
   "source": [
    "# теперь обновляем систему и устанавливаем нужные пакеты\n",
    "sudo apt update\n",
    "sudo apt install python3-pip\n",
    "# Для работы с виртуальным окружением в Linux нужно установить пакет venv с помощью следующей команды:\n",
    "sudo apt install python3-venv\n",
    "\n",
    "mkdir dash_app\n",
    "cd dash_app\n",
    "\n",
    "# создаем виртуальную питоновскую среду\n",
    "# Создать виртуальное окружение можно командой python3 -m venv my_venv.\n",
    "# My_venv – название виртуального окружения.\n",
    "# Приведенная выше команда создает каталог с именем «my_venv» (а также родительские каталоги, которые ещё не существуют), \n",
    "# содержащий менеджер пакетов pip, интерпретатор, скрипты и библиотеки.\n",
    "# эта папка и будет виртуальня среда разработки\n",
    "python3 -m venv dash_venv\n",
    "# # С помощью команды ls -la можно увидеть файлы в текущей директории.\n",
    "# Файл pyvenv.cfg содержит ключ, который будет указывать на ту версию Python, для которой запущена эта команда. \n",
    "\n",
    "# Каталог bin содержит копию/символическую ссылку двоичных файлов Python.\n",
    "\n",
    "# Каталог include включает в себя С-заголовки, компилирующие пакеты Python.\n",
    "\n",
    "# В каталог share входит python wheels. Python wheels — это формат готовых пакетов для Python, который помогает ускорить разработку \n",
    "# программного обеспечения за счет сокращения количества операций компиляции. \n",
    "\n",
    "# Каталог lib в виртуальной среде имеет такую же структуру, как каталог lib в глобальном окружении. \n",
    "# И содержит папку site-packages, в которую устанавливаются библиотеки.\n",
    "\n",
    "# Чтобы начать использовать эту виртуальную среду, вам необходимо активировать ее, запустив скрипт под названием activate:\n",
    "source dash_venv/bin/activate  \n",
    "# После активации строка консоли будет иметь префикс с именем среды.\n",
    "# После активации все библиотеки будут устанавливаться в данное виртуальное окружение.\n",
    "\n",
    "# Wheel (.whl) — это бинарный формат дистрибутива, который позволяет устанавливать пакеты Python без компиляции исходного кода.\n",
    "pip install wheel\n",
    "pip install dash==1.0.2 dash-daq==0.1.0 pyorbital plotly pandas flask gunicorn pyopenssl\n",
    "\n",
    "# если нужно деативировать среду, то пишем в консоли\n",
    "deactivate\n",
    "\n",
    "# чтобы войти в среду входим в папку, где лежит папка среды и пишем как и при создании\n",
    "source dash_venv/bin/activate  "
   ]
  },
  {
   "cell_type": "markdown",
   "metadata": {},
   "source": [
    "теперь помещаем код ниже в файл с расширение .py    \n",
    "и загружаем на вирт машину гугла, для этого в   \n",
    "ssh нажимаем шестеренку и upload filem  "
   ]
  },
  {
   "cell_type": "code",
   "execution_count": null,
   "metadata": {},
   "outputs": [],
   "source": [
    "# Flask — это упрощенная платформа Python для веб-приложений, которая обеспечивает основные возможности маршрутизации URL-адресов и визуализации страниц. \n",
    "from flask import Flask\n",
    "app = Flask(__name__)\n",
    "\n",
    "@app.route(\"/\")\n",
    "def hello():\n",
    "    return \"Hello World!\"\n",
    "\n",
    "if __name__ == \"__main__\":\n",
    "    app.run(\n",
    "        ssl_context='adhoc',\n",
    "        host='0.0.0.0',\n",
    "        port='8080'\n",
    "        )"
   ]
  },
  {
   "cell_type": "code",
   "execution_count": null,
   "metadata": {},
   "outputs": [],
   "source": [
    "# далее в консоли набираем  \n",
    "python имя_файла_с_предыдущего_шага.py"
   ]
  },
  {
   "cell_type": "code",
   "execution_count": null,
   "metadata": {},
   "outputs": [],
   "source": [
    "# появится адерс с нулями и главное порт  \n",
    "# далее берем наш внеший ай пи вирт машины (в настройках вирт машины в гугл клауд external ip)  \n",
    "# и добавляем к нему порт через двоеточие, типа такого\n",
    "x.x.x.x:port\n",
    "# и вбиваем в браузер\n",
    "# будет сообщение. что соединение not private  \n",
    "# по хорошему нужно настроить ssl сертификат\n",
    "# но для обучения нажимаем просто  что согласны с опасностью"
   ]
  },
  {
   "cell_type": "markdown",
   "metadata": {},
   "source": [
    "можно создать сертификат"
   ]
  },
  {
   "cell_type": "markdown",
   "metadata": {},
   "source": [
    "переходим в папку dash_app (в этой папке наша установленная среда в виде папки dash_venv)  \n",
    "и выполняем следующую команду"
   ]
  },
  {
   "cell_type": "code",
   "execution_count": null,
   "metadata": {},
   "outputs": [],
   "source": [
    "openssl req -x509 -newkey rsa:4096 -nodes -out cert.pem -keyout key.pem -days 365"
   ]
  },
  {
   "cell_type": "markdown",
   "metadata": {},
   "source": [
    "указываем \n",
    "RU\n",
    "Moscow\n",
    "и остальное любое"
   ]
  },
  {
   "cell_type": "markdown",
   "metadata": {},
   "source": [
    "теперь чтобы наш дашборд работал,  \n",
    "загружаем через ssh через меню настроек и upload file  \n",
    "нужный файл питона с дашбордом.  \n",
    "загрузится в корневую папку витр машины  \n"
   ]
  },
  {
   "cell_type": "code",
   "execution_count": null,
   "metadata": {},
   "outputs": [],
   "source": [
    "# далее перемещаем его в папку нашей витр среды\n",
    "# выходим в корневую папку и копируем текущий адрес\n",
    "pwd \n",
    "# копируем что вывелось\n",
    "cp -i app.py скорированный_адрес скорированный_адрес/dash_app"
   ]
  },
  {
   "cell_type": "code",
   "execution_count": null,
   "metadata": {},
   "outputs": [],
   "source": [
    "# далее переходим в папку dash_app и запускаем\n",
    "python app.py"
   ]
  },
  {
   "cell_type": "code",
   "execution_count": null,
   "metadata": {},
   "outputs": [],
   "source": []
  }
 ],
 "metadata": {
  "kernelspec": {
   "display_name": "Python 3.7.1 64-bit",
   "language": "python",
   "name": "python3"
  },
  "language_info": {
   "codemirror_mode": {
    "name": "ipython",
    "version": 3
   },
   "file_extension": ".py",
   "mimetype": "text/x-python",
   "name": "python",
   "nbconvert_exporter": "python",
   "pygments_lexer": "ipython3",
   "version": "3.7.1"
  },
  "vscode": {
   "interpreter": {
    "hash": "fbe58ca63fe33f9eeae9e71d10368d2b4a57f2b1b395836210cc60d362c66949"
   }
  }
 },
 "nbformat": 4,
 "nbformat_minor": 2
}
