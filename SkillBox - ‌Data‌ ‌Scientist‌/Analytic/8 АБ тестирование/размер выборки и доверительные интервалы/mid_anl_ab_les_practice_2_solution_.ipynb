{
  "cells": [
    {
      "cell_type": "markdown",
      "metadata": {
        "id": "uVn-SPA5gbeB"
      },
      "source": [
        "Формула для расчета размера выборки"
      ]
    },
    {
      "cell_type": "code",
      "execution_count": 3,
      "metadata": {
        "id": "vmR6inbDiPi0"
      },
      "outputs": [],
      "source": [
        "from scipy import stats\n",
        "import numpy as np"
      ]
    },
    {
      "cell_type": "code",
      "execution_count": 31,
      "metadata": {
        "id": "E_i7rW-Aq-9b"
      },
      "outputs": [],
      "source": [
        "def get_size(p0, pa, alpha, beta):\n",
        "    za = stats.norm.ppf(1- alpha)\n",
        "    zb = stats.norm.ppf(1- beta)\n",
        "    var0 = p0 * (1 - p0)\n",
        "    vara = pa * (1 - pa)\n",
        "    n = (var0 + vara) * (za + zb)**2 / (pa - p0)**2\n",
        "    return int(np.ceil(n))"
      ]
    },
    {
      "cell_type": "code",
      "execution_count": 35,
      "metadata": {
        "colab": {
          "base_uri": "https://localhost:8080/"
        },
        "id": "lYJeJkaPui-n",
        "outputId": "a6b4c9aa-017c-4f0c-acfc-b3838a5d88d9"
      },
      "outputs": [
        {
          "data": {
            "text/plain": [
              "942"
            ]
          },
          "execution_count": 35,
          "metadata": {},
          "output_type": "execute_result"
        }
      ],
      "source": [
        "alpha = 0.05\n",
        "beta = 0.05\n",
        "p0 = 0.1\n",
        "pa = 0.15\n",
        "get_size(p0, pa, alpha, beta)"
      ]
    },
    {
      "cell_type": "markdown",
      "metadata": {
        "id": "cKxYY98FdOmW"
      },
      "source": [
        "## Практическое задание 2: разбор\n",
        "\n",
        "Создаем массив:\n"
      ]
    },
    {
      "cell_type": "code",
      "execution_count": null,
      "metadata": {
        "id": "0GHsZ6NjEZ3q"
      },
      "outputs": [],
      "source": [
        "import numpy as np\n",
        "users = np.array([1, 0, 0, 0, 1, 1, 1, 0, 1])"
      ]
    },
    {
      "cell_type": "markdown",
      "metadata": {
        "id": "xc_GT0zadi6G"
      },
      "source": [
        "Считаем необходимые показатели:"
      ]
    },
    {
      "cell_type": "code",
      "execution_count": null,
      "metadata": {
        "colab": {
          "base_uri": "https://localhost:8080/",
          "height": 34
        },
        "id": "N5PYlvNwR63v",
        "outputId": "1b4a0bd6-90e6-4f5a-8515-d867bb8a359a"
      },
      "outputs": [
        {
          "data": {
            "text/plain": [
              "9"
            ]
          },
          "execution_count": 2,
          "metadata": {
            "tags": []
          },
          "output_type": "execute_result"
        }
      ],
      "source": [
        "n = users.size\n",
        "n"
      ]
    },
    {
      "cell_type": "code",
      "execution_count": null,
      "metadata": {
        "colab": {
          "base_uri": "https://localhost:8080/",
          "height": 34
        },
        "id": "XPPSkaHTSRcD",
        "outputId": "1d2c5fec-9397-49dc-c173-0f910f090339"
      },
      "outputs": [
        {
          "data": {
            "text/plain": [
              "0.5555555555555556"
            ]
          },
          "execution_count": 3,
          "metadata": {
            "tags": []
          },
          "output_type": "execute_result"
        }
      ],
      "source": [
        "p = users.sum() / n\n",
        "p"
      ]
    },
    {
      "cell_type": "code",
      "execution_count": null,
      "metadata": {
        "colab": {
          "base_uri": "https://localhost:8080/",
          "height": 34
        },
        "id": "0IIEimEJSd-p",
        "outputId": "bcd94304-5a18-4cfb-fc6c-8c9fe1723a3b"
      },
      "outputs": [
        {
          "data": {
            "text/plain": [
              "0.16563466499998442"
            ]
          },
          "execution_count": 4,
          "metadata": {
            "tags": []
          },
          "output_type": "execute_result"
        }
      ],
      "source": [
        "se = np.sqrt(p * (1 - p) / n)\n",
        "se"
      ]
    },
    {
      "cell_type": "markdown",
      "metadata": {
        "id": "tZSUPoxEdodu"
      },
      "source": [
        "Импортируем подмодуль и вызываем функцию для доверительного интервала:"
      ]
    },
    {
      "cell_type": "code",
      "execution_count": null,
      "metadata": {
        "id": "LkgWqk6UTGzs"
      },
      "outputs": [],
      "source": [
        "import scipy.stats as st"
      ]
    },
    {
      "cell_type": "code",
      "execution_count": null,
      "metadata": {
        "colab": {
          "base_uri": "https://localhost:8080/",
          "height": 34
        },
        "id": "2KQWEXIQTQzR",
        "outputId": "d44867b1-d7e2-47eb-aa5c-8863c5544d27"
      },
      "outputs": [
        {
          "data": {
            "text/plain": [
              "(0.2309175775642291, 0.880193533546882)"
            ]
          },
          "execution_count": 6,
          "metadata": {
            "tags": []
          },
          "output_type": "execute_result"
        }
      ],
      "source": [
        "st.norm.interval(0.95, loc=p, scale = se)"
      ]
    },
    {
      "cell_type": "markdown",
      "metadata": {
        "id": "ynOH1dj2dz62"
      },
      "source": [
        "Дополнительно: доверительный интервал для среднего"
      ]
    },
    {
      "cell_type": "code",
      "execution_count": null,
      "metadata": {
        "id": "JXDYT0xBUEf9"
      },
      "outputs": [],
      "source": [
        "import statsmodels.stats.api as stm"
      ]
    },
    {
      "cell_type": "code",
      "execution_count": null,
      "metadata": {
        "id": "-iFi-OMuUQB_"
      },
      "outputs": [],
      "source": [
        "ages = np.array([23, 24, 38, 34, 36, 37, 39])"
      ]
    },
    {
      "cell_type": "code",
      "execution_count": null,
      "metadata": {
        "colab": {
          "base_uri": "https://localhost:8080/",
          "height": 34
        },
        "id": "Bj3LgCgFUdxx",
        "outputId": "d87b33f7-2274-44b4-9d9c-3ade2d8ab6d0"
      },
      "outputs": [
        {
          "data": {
            "text/plain": [
              "(32.834861697945676, 33.165138302054324)"
            ]
          },
          "execution_count": 9,
          "metadata": {
            "tags": []
          },
          "output_type": "execute_result"
        }
      ],
      "source": [
        "stm.DescrStatsW(ages).tconfint_mean(0.05)"
      ]
    }
  ],
  "metadata": {
    "colab": {
      "provenance": []
    },
    "kernelspec": {
      "display_name": "Python 3.7.1 64-bit",
      "language": "python",
      "name": "python3"
    },
    "language_info": {
      "name": "python",
      "version": "3.7.1"
    },
    "vscode": {
      "interpreter": {
        "hash": "fbe58ca63fe33f9eeae9e71d10368d2b4a57f2b1b395836210cc60d362c66949"
      }
    }
  },
  "nbformat": 4,
  "nbformat_minor": 0
}
