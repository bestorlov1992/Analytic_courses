{
 "cells": [
  {
   "cell_type": "code",
   "execution_count": 1,
   "metadata": {},
   "outputs": [],
   "source": [
    "import pandas as pd\n",
    "import numpy as np\n",
    "import seaborn as sns\n",
    "import matplotlib.pyplot as plt"
   ]
  },
  {
   "cell_type": "markdown",
   "metadata": {},
   "source": [
    "Для сайта, продающего билеты в кино, имеется набор данных (логов) за период с сентября\n",
    "по ноябрь.   \n",
    "В примере показана таблица данных с дневной агрегацией. Она содержит:\n",
    "1. Дату.\n",
    "2. Идентификатор сессии пользователя.\n",
    "3. Идентификатор пользователя.\n",
    "4. Ярлык события\n",
    "5. Доход от этих событий на определённую дату у определённого пользователя за одну\n",
    "сессию.  \n",
    "\n",
    "Используйте данные, чтобы рассчитать метрики отдельно за сентябрь, октябрь и ноябрь:\n",
    "1. Количество сессий (визитов).\n",
    "2. MAU.\n",
    "3. DAU.\n",
    "4. Revenue.\n",
    "5. ARPU.\n",
    "6. ARPPU.\n",
    "7. Session / user.\n",
    "8. Количество целевых действий (целевое действие — событие, за которое получен\n",
    "доход).\n",
    "Дополнительно рассчитайте показатель LTV на пользователя за период три месяца: с\n",
    "сентября по ноябрь."
   ]
  },
  {
   "cell_type": "code",
   "execution_count": 2,
   "metadata": {},
   "outputs": [
    {
     "data": {
      "text/html": [
       "<div>\n",
       "<style scoped>\n",
       "    .dataframe tbody tr th:only-of-type {\n",
       "        vertical-align: middle;\n",
       "    }\n",
       "\n",
       "    .dataframe tbody tr th {\n",
       "        vertical-align: top;\n",
       "    }\n",
       "\n",
       "    .dataframe thead th {\n",
       "        text-align: right;\n",
       "    }\n",
       "</style>\n",
       "<table border=\"1\" class=\"dataframe\">\n",
       "  <thead>\n",
       "    <tr style=\"text-align: right;\">\n",
       "      <th></th>\n",
       "      <th>date</th>\n",
       "      <th>session</th>\n",
       "      <th>client</th>\n",
       "      <th>event</th>\n",
       "      <th>revenue</th>\n",
       "    </tr>\n",
       "  </thead>\n",
       "  <tbody>\n",
       "    <tr>\n",
       "      <th>0</th>\n",
       "      <td>20180902.0</td>\n",
       "      <td>6517411217615201018blqo010gfv</td>\n",
       "      <td>42325189</td>\n",
       "      <td>Search Field</td>\n",
       "      <td>0.0</td>\n",
       "    </tr>\n",
       "    <tr>\n",
       "      <th>1</th>\n",
       "      <td>20180902.0</td>\n",
       "      <td>6517439917954201018jogp8guf</td>\n",
       "      <td>49083805</td>\n",
       "      <td>Movie cover</td>\n",
       "      <td>0.0</td>\n",
       "    </tr>\n",
       "    <tr>\n",
       "      <th>2</th>\n",
       "      <td>20180903.0</td>\n",
       "      <td>6517492978275201018xnvoyeqm</td>\n",
       "      <td>27598678</td>\n",
       "      <td>Event Place</td>\n",
       "      <td>0.0</td>\n",
       "    </tr>\n",
       "    <tr>\n",
       "      <th>3</th>\n",
       "      <td>20180903.0</td>\n",
       "      <td>651743624394010201018cg2zi5ol8z276c3x16y9zfr</td>\n",
       "      <td>5760746</td>\n",
       "      <td>Movie cover</td>\n",
       "      <td>0.0</td>\n",
       "    </tr>\n",
       "    <tr>\n",
       "      <th>4</th>\n",
       "      <td>20180903.0</td>\n",
       "      <td>6517492978275201018xnvoyeqm</td>\n",
       "      <td>27598678</td>\n",
       "      <td>Main - Menu</td>\n",
       "      <td>0.0</td>\n",
       "    </tr>\n",
       "  </tbody>\n",
       "</table>\n",
       "</div>"
      ],
      "text/plain": [
       "         date                                       session    client  \\\n",
       "0  20180902.0                 6517411217615201018blqo010gfv  42325189   \n",
       "1  20180902.0                   6517439917954201018jogp8guf  49083805   \n",
       "2  20180903.0                   6517492978275201018xnvoyeqm  27598678   \n",
       "3  20180903.0  651743624394010201018cg2zi5ol8z276c3x16y9zfr   5760746   \n",
       "4  20180903.0                   6517492978275201018xnvoyeqm  27598678   \n",
       "\n",
       "          event  revenue  \n",
       "0  Search Field      0.0  \n",
       "1   Movie cover      0.0  \n",
       "2   Event Place      0.0  \n",
       "3   Movie cover      0.0  \n",
       "4   Main - Menu      0.0  "
      ]
     },
     "execution_count": 2,
     "metadata": {},
     "output_type": "execute_result"
    }
   ],
   "source": [
    "df = pd.read_excel('dataset-1.xlsx'\n",
    "                   , names=['date', 'session', 'client', 'event', 'revenue']\n",
    "                   , dtype={'date': str, 'session': str, 'client': int, 'event': str, 'revenue': float})\n",
    "df.head()"
   ]
  },
  {
   "cell_type": "code",
   "execution_count": 12,
   "metadata": {},
   "outputs": [
    {
     "data": {
      "text/plain": [
       "date        object\n",
       "session     object\n",
       "client       int32\n",
       "event       object\n",
       "revenue    float64\n",
       "dtype: object"
      ]
     },
     "execution_count": 12,
     "metadata": {},
     "output_type": "execute_result"
    }
   ],
   "source": [
    "df.dtypes"
   ]
  },
  {
   "cell_type": "code",
   "execution_count": 3,
   "metadata": {},
   "outputs": [
    {
     "data": {
      "text/html": [
       "<div>\n",
       "<style scoped>\n",
       "    .dataframe tbody tr th:only-of-type {\n",
       "        vertical-align: middle;\n",
       "    }\n",
       "\n",
       "    .dataframe tbody tr th {\n",
       "        vertical-align: top;\n",
       "    }\n",
       "\n",
       "    .dataframe thead th {\n",
       "        text-align: right;\n",
       "    }\n",
       "</style>\n",
       "<table border=\"1\" class=\"dataframe\">\n",
       "  <thead>\n",
       "    <tr style=\"text-align: right;\">\n",
       "      <th></th>\n",
       "      <th>date</th>\n",
       "      <th>session</th>\n",
       "      <th>client</th>\n",
       "      <th>event</th>\n",
       "      <th>revenue</th>\n",
       "    </tr>\n",
       "  </thead>\n",
       "  <tbody>\n",
       "    <tr>\n",
       "      <th>0</th>\n",
       "      <td>2018-09-02</td>\n",
       "      <td>6517411217615201018blqo010gfv</td>\n",
       "      <td>42325189</td>\n",
       "      <td>Search Field</td>\n",
       "      <td>0.0</td>\n",
       "    </tr>\n",
       "    <tr>\n",
       "      <th>1</th>\n",
       "      <td>2018-09-02</td>\n",
       "      <td>6517439917954201018jogp8guf</td>\n",
       "      <td>49083805</td>\n",
       "      <td>Movie cover</td>\n",
       "      <td>0.0</td>\n",
       "    </tr>\n",
       "    <tr>\n",
       "      <th>2</th>\n",
       "      <td>2018-09-03</td>\n",
       "      <td>6517492978275201018xnvoyeqm</td>\n",
       "      <td>27598678</td>\n",
       "      <td>Event Place</td>\n",
       "      <td>0.0</td>\n",
       "    </tr>\n",
       "    <tr>\n",
       "      <th>3</th>\n",
       "      <td>2018-09-03</td>\n",
       "      <td>651743624394010201018cg2zi5ol8z276c3x16y9zfr</td>\n",
       "      <td>5760746</td>\n",
       "      <td>Movie cover</td>\n",
       "      <td>0.0</td>\n",
       "    </tr>\n",
       "    <tr>\n",
       "      <th>4</th>\n",
       "      <td>2018-09-03</td>\n",
       "      <td>6517492978275201018xnvoyeqm</td>\n",
       "      <td>27598678</td>\n",
       "      <td>Main - Menu</td>\n",
       "      <td>0.0</td>\n",
       "    </tr>\n",
       "  </tbody>\n",
       "</table>\n",
       "</div>"
      ],
      "text/plain": [
       "        date                                       session    client  \\\n",
       "0 2018-09-02                 6517411217615201018blqo010gfv  42325189   \n",
       "1 2018-09-02                   6517439917954201018jogp8guf  49083805   \n",
       "2 2018-09-03                   6517492978275201018xnvoyeqm  27598678   \n",
       "3 2018-09-03  651743624394010201018cg2zi5ol8z276c3x16y9zfr   5760746   \n",
       "4 2018-09-03                   6517492978275201018xnvoyeqm  27598678   \n",
       "\n",
       "          event  revenue  \n",
       "0  Search Field      0.0  \n",
       "1   Movie cover      0.0  \n",
       "2   Event Place      0.0  \n",
       "3   Movie cover      0.0  \n",
       "4   Main - Menu      0.0  "
      ]
     },
     "execution_count": 3,
     "metadata": {},
     "output_type": "execute_result"
    }
   ],
   "source": [
    "df['date'] = pd.to_datetime(df.date, format='%Y%m%d.0')\n",
    "df.head()"
   ]
  },
  {
   "cell_type": "code",
   "execution_count": 16,
   "metadata": {},
   "outputs": [
    {
     "name": "stdout",
     "output_type": "stream",
     "text": [
      "<class 'pandas.core.frame.DataFrame'>\n",
      "RangeIndex: 20342 entries, 0 to 20341\n",
      "Data columns (total 5 columns):\n",
      " #   Column   Non-Null Count  Dtype         \n",
      "---  ------   --------------  -----         \n",
      " 0   date     20342 non-null  datetime64[ns]\n",
      " 1   session  20342 non-null  object        \n",
      " 2   client   20342 non-null  int32         \n",
      " 3   event    20342 non-null  object        \n",
      " 4   revenue  20342 non-null  float64       \n",
      "dtypes: datetime64[ns](1), float64(1), int32(1), object(2)\n",
      "memory usage: 715.3+ KB\n"
     ]
    }
   ],
   "source": [
    "df.info()"
   ]
  },
  {
   "cell_type": "markdown",
   "metadata": {},
   "source": [
    "1. Количество сессий (визитов).\n"
   ]
  },
  {
   "cell_type": "code",
   "execution_count": 8,
   "metadata": {},
   "outputs": [
    {
     "data": {
      "text/html": [
       "<div>\n",
       "<style scoped>\n",
       "    .dataframe tbody tr th:only-of-type {\n",
       "        vertical-align: middle;\n",
       "    }\n",
       "\n",
       "    .dataframe tbody tr th {\n",
       "        vertical-align: top;\n",
       "    }\n",
       "\n",
       "    .dataframe thead th {\n",
       "        text-align: right;\n",
       "    }\n",
       "</style>\n",
       "<table border=\"1\" class=\"dataframe\">\n",
       "  <thead>\n",
       "    <tr style=\"text-align: right;\">\n",
       "      <th></th>\n",
       "      <th>session_cnt</th>\n",
       "    </tr>\n",
       "    <tr>\n",
       "      <th>date</th>\n",
       "      <th></th>\n",
       "    </tr>\n",
       "  </thead>\n",
       "  <tbody>\n",
       "    <tr>\n",
       "      <th>September</th>\n",
       "      <td>2827</td>\n",
       "    </tr>\n",
       "    <tr>\n",
       "      <th>October</th>\n",
       "      <td>9995</td>\n",
       "    </tr>\n",
       "    <tr>\n",
       "      <th>November</th>\n",
       "      <td>4086</td>\n",
       "    </tr>\n",
       "    <tr>\n",
       "      <th></th>\n",
       "      <td>16908</td>\n",
       "    </tr>\n",
       "  </tbody>\n",
       "</table>\n",
       "</div>"
      ],
      "text/plain": [
       "           session_cnt\n",
       "date                  \n",
       "September         2827\n",
       "October           9995\n",
       "November          4086\n",
       "                 16908"
      ]
     },
     "execution_count": 8,
     "metadata": {},
     "output_type": "execute_result"
    }
   ],
   "source": [
    "temp = df.groupby(df.date.dt.month_name(), sort=False) \\\n",
    "    .agg(session_cnt=('session', 'nunique'))\n",
    "temp.loc[''] = temp.session_cnt.sum()\n",
    "temp"
   ]
  },
  {
   "cell_type": "markdown",
   "metadata": {},
   "source": [
    "2. MAU.\n"
   ]
  },
  {
   "cell_type": "code",
   "execution_count": 13,
   "metadata": {},
   "outputs": [
    {
     "data": {
      "text/html": [
       "<div>\n",
       "<style scoped>\n",
       "    .dataframe tbody tr th:only-of-type {\n",
       "        vertical-align: middle;\n",
       "    }\n",
       "\n",
       "    .dataframe tbody tr th {\n",
       "        vertical-align: top;\n",
       "    }\n",
       "\n",
       "    .dataframe thead th {\n",
       "        text-align: right;\n",
       "    }\n",
       "</style>\n",
       "<table border=\"1\" class=\"dataframe\">\n",
       "  <thead>\n",
       "    <tr style=\"text-align: right;\">\n",
       "      <th></th>\n",
       "      <th>session_cnt</th>\n",
       "      <th>mau</th>\n",
       "    </tr>\n",
       "    <tr>\n",
       "      <th>date</th>\n",
       "      <th></th>\n",
       "      <th></th>\n",
       "    </tr>\n",
       "  </thead>\n",
       "  <tbody>\n",
       "    <tr>\n",
       "      <th>September</th>\n",
       "      <td>2827</td>\n",
       "      <td>2511</td>\n",
       "    </tr>\n",
       "    <tr>\n",
       "      <th>October</th>\n",
       "      <td>9995</td>\n",
       "      <td>8520</td>\n",
       "    </tr>\n",
       "    <tr>\n",
       "      <th>November</th>\n",
       "      <td>4086</td>\n",
       "      <td>3647</td>\n",
       "    </tr>\n",
       "  </tbody>\n",
       "</table>\n",
       "</div>"
      ],
      "text/plain": [
       "           session_cnt   mau\n",
       "date                        \n",
       "September         2827  2511\n",
       "October           9995  8520\n",
       "November          4086  3647"
      ]
     },
     "execution_count": 13,
     "metadata": {},
     "output_type": "execute_result"
    }
   ],
   "source": [
    "(df.groupby(df.date.dt.month_name(), sort=False) \n",
    "    .agg(\n",
    "        session_cnt=('session', 'nunique')\n",
    "        , mau=('client', 'nunique'))\n",
    ")"
   ]
  },
  {
   "cell_type": "markdown",
   "metadata": {},
   "source": [
    "3. DAU.\n"
   ]
  },
  {
   "cell_type": "code",
   "execution_count": 10,
   "metadata": {},
   "outputs": [],
   "source": [
    "temp = df.groupby([df.date.dt.month_name(), df.date.dt.day], sort=False).agg(mau=('client', 'nunique'))\n"
   ]
  },
  {
   "cell_type": "code",
   "execution_count": 12,
   "metadata": {},
   "outputs": [
    {
     "data": {
      "text/html": [
       "<div>\n",
       "<style scoped>\n",
       "    .dataframe tbody tr th:only-of-type {\n",
       "        vertical-align: middle;\n",
       "    }\n",
       "\n",
       "    .dataframe tbody tr th {\n",
       "        vertical-align: top;\n",
       "    }\n",
       "\n",
       "    .dataframe thead th {\n",
       "        text-align: right;\n",
       "    }\n",
       "</style>\n",
       "<table border=\"1\" class=\"dataframe\">\n",
       "  <thead>\n",
       "    <tr style=\"text-align: right;\">\n",
       "      <th></th>\n",
       "      <th></th>\n",
       "      <th>mau</th>\n",
       "    </tr>\n",
       "    <tr>\n",
       "      <th>month</th>\n",
       "      <th>day</th>\n",
       "      <th></th>\n",
       "    </tr>\n",
       "  </thead>\n",
       "  <tbody>\n",
       "    <tr>\n",
       "      <th rowspan=\"5\" valign=\"top\">September</th>\n",
       "      <th>2</th>\n",
       "      <td>2</td>\n",
       "    </tr>\n",
       "    <tr>\n",
       "      <th>3</th>\n",
       "      <td>2</td>\n",
       "    </tr>\n",
       "    <tr>\n",
       "      <th>5</th>\n",
       "      <td>1</td>\n",
       "    </tr>\n",
       "    <tr>\n",
       "      <th>6</th>\n",
       "      <td>2</td>\n",
       "    </tr>\n",
       "    <tr>\n",
       "      <th>7</th>\n",
       "      <td>1</td>\n",
       "    </tr>\n",
       "  </tbody>\n",
       "</table>\n",
       "</div>"
      ],
      "text/plain": [
       "               mau\n",
       "month     day     \n",
       "September 2      2\n",
       "          3      2\n",
       "          5      1\n",
       "          6      2\n",
       "          7      1"
      ]
     },
     "execution_count": 12,
     "metadata": {},
     "output_type": "execute_result"
    }
   ],
   "source": [
    "temp.index = temp.index.set_names(['month', 'day'])\n",
    "temp.head()"
   ]
  },
  {
   "cell_type": "markdown",
   "metadata": {},
   "source": [
    "4. Revenue.\n"
   ]
  },
  {
   "cell_type": "code",
   "execution_count": 14,
   "metadata": {},
   "outputs": [
    {
     "data": {
      "text/html": [
       "<div>\n",
       "<style scoped>\n",
       "    .dataframe tbody tr th:only-of-type {\n",
       "        vertical-align: middle;\n",
       "    }\n",
       "\n",
       "    .dataframe tbody tr th {\n",
       "        vertical-align: top;\n",
       "    }\n",
       "\n",
       "    .dataframe thead th {\n",
       "        text-align: right;\n",
       "    }\n",
       "</style>\n",
       "<table border=\"1\" class=\"dataframe\">\n",
       "  <thead>\n",
       "    <tr style=\"text-align: right;\">\n",
       "      <th></th>\n",
       "      <th>session_cnt</th>\n",
       "      <th>mau</th>\n",
       "      <th>revenue</th>\n",
       "    </tr>\n",
       "    <tr>\n",
       "      <th>date</th>\n",
       "      <th></th>\n",
       "      <th></th>\n",
       "      <th></th>\n",
       "    </tr>\n",
       "  </thead>\n",
       "  <tbody>\n",
       "    <tr>\n",
       "      <th>September</th>\n",
       "      <td>2827</td>\n",
       "      <td>2511</td>\n",
       "      <td>2.779013e+07</td>\n",
       "    </tr>\n",
       "    <tr>\n",
       "      <th>October</th>\n",
       "      <td>9995</td>\n",
       "      <td>8520</td>\n",
       "      <td>2.986842e+07</td>\n",
       "    </tr>\n",
       "    <tr>\n",
       "      <th>November</th>\n",
       "      <td>4086</td>\n",
       "      <td>3647</td>\n",
       "      <td>1.960508e+07</td>\n",
       "    </tr>\n",
       "  </tbody>\n",
       "</table>\n",
       "</div>"
      ],
      "text/plain": [
       "           session_cnt   mau       revenue\n",
       "date                                      \n",
       "September         2827  2511  2.779013e+07\n",
       "October           9995  8520  2.986842e+07\n",
       "November          4086  3647  1.960508e+07"
      ]
     },
     "execution_count": 14,
     "metadata": {},
     "output_type": "execute_result"
    }
   ],
   "source": [
    "(df.groupby(df.date.dt.month_name(), sort=False) \n",
    "    .agg(\n",
    "        session_cnt=('session', 'nunique')\n",
    "        , mau=('client', 'nunique')\n",
    "        , revenue=('revenue', 'sum'))\n",
    ")\n"
   ]
  },
  {
   "cell_type": "markdown",
   "metadata": {},
   "source": [
    "5. ARPU.\n"
   ]
  },
  {
   "cell_type": "code",
   "execution_count": 15,
   "metadata": {},
   "outputs": [
    {
     "data": {
      "text/html": [
       "<div>\n",
       "<style scoped>\n",
       "    .dataframe tbody tr th:only-of-type {\n",
       "        vertical-align: middle;\n",
       "    }\n",
       "\n",
       "    .dataframe tbody tr th {\n",
       "        vertical-align: top;\n",
       "    }\n",
       "\n",
       "    .dataframe thead th {\n",
       "        text-align: right;\n",
       "    }\n",
       "</style>\n",
       "<table border=\"1\" class=\"dataframe\">\n",
       "  <thead>\n",
       "    <tr style=\"text-align: right;\">\n",
       "      <th></th>\n",
       "      <th>session_cnt</th>\n",
       "      <th>mau</th>\n",
       "      <th>revenue</th>\n",
       "      <th>arpu</th>\n",
       "    </tr>\n",
       "    <tr>\n",
       "      <th>date</th>\n",
       "      <th></th>\n",
       "      <th></th>\n",
       "      <th></th>\n",
       "      <th></th>\n",
       "    </tr>\n",
       "  </thead>\n",
       "  <tbody>\n",
       "    <tr>\n",
       "      <th>September</th>\n",
       "      <td>2827</td>\n",
       "      <td>2511</td>\n",
       "      <td>2.779013e+07</td>\n",
       "      <td>11067.353869</td>\n",
       "    </tr>\n",
       "    <tr>\n",
       "      <th>October</th>\n",
       "      <td>9995</td>\n",
       "      <td>8520</td>\n",
       "      <td>2.986842e+07</td>\n",
       "      <td>3505.682983</td>\n",
       "    </tr>\n",
       "    <tr>\n",
       "      <th>November</th>\n",
       "      <td>4086</td>\n",
       "      <td>3647</td>\n",
       "      <td>1.960508e+07</td>\n",
       "      <td>5375.674394</td>\n",
       "    </tr>\n",
       "  </tbody>\n",
       "</table>\n",
       "</div>"
      ],
      "text/plain": [
       "           session_cnt   mau       revenue          arpu\n",
       "date                                                    \n",
       "September         2827  2511  2.779013e+07  11067.353869\n",
       "October           9995  8520  2.986842e+07   3505.682983\n",
       "November          4086  3647  1.960508e+07   5375.674394"
      ]
     },
     "execution_count": 15,
     "metadata": {},
     "output_type": "execute_result"
    }
   ],
   "source": [
    "(df.groupby(df.date.dt.month_name(), sort=False) \n",
    "    .agg(\n",
    "        session_cnt=('session', 'nunique')\n",
    "        , mau=('client', 'nunique')\n",
    "        , revenue=('revenue', 'sum'))\n",
    "    .assign(arpu=lambda x: x.revenue / x.mau)\n",
    ")"
   ]
  },
  {
   "cell_type": "markdown",
   "metadata": {},
   "source": [
    "6. ARPPU.\n"
   ]
  },
  {
   "cell_type": "code",
   "execution_count": 17,
   "metadata": {},
   "outputs": [
    {
     "data": {
      "text/html": [
       "<div>\n",
       "<style scoped>\n",
       "    .dataframe tbody tr th:only-of-type {\n",
       "        vertical-align: middle;\n",
       "    }\n",
       "\n",
       "    .dataframe tbody tr th {\n",
       "        vertical-align: top;\n",
       "    }\n",
       "\n",
       "    .dataframe thead th {\n",
       "        text-align: right;\n",
       "    }\n",
       "</style>\n",
       "<table border=\"1\" class=\"dataframe\">\n",
       "  <thead>\n",
       "    <tr style=\"text-align: right;\">\n",
       "      <th></th>\n",
       "      <th>date</th>\n",
       "      <th>session</th>\n",
       "      <th>client</th>\n",
       "      <th>event</th>\n",
       "      <th>revenue</th>\n",
       "      <th>paying_client</th>\n",
       "    </tr>\n",
       "  </thead>\n",
       "  <tbody>\n",
       "    <tr>\n",
       "      <th>0</th>\n",
       "      <td>2018-09-02</td>\n",
       "      <td>6517411217615201018blqo010gfv</td>\n",
       "      <td>42325189</td>\n",
       "      <td>Search Field</td>\n",
       "      <td>0.000000</td>\n",
       "      <td>NaN</td>\n",
       "    </tr>\n",
       "    <tr>\n",
       "      <th>23</th>\n",
       "      <td>2018-09-12</td>\n",
       "      <td>651829401017921201018ym2qrmpl</td>\n",
       "      <td>2888955</td>\n",
       "      <td>Place Select</td>\n",
       "      <td>18816.599804</td>\n",
       "      <td>2888955</td>\n",
       "    </tr>\n",
       "  </tbody>\n",
       "</table>\n",
       "</div>"
      ],
      "text/plain": [
       "         date                        session    client         event  \\\n",
       "0  2018-09-02  6517411217615201018blqo010gfv  42325189  Search Field   \n",
       "23 2018-09-12  651829401017921201018ym2qrmpl   2888955  Place Select   \n",
       "\n",
       "         revenue paying_client  \n",
       "0       0.000000           NaN  \n",
       "23  18816.599804       2888955  "
      ]
     },
     "execution_count": 17,
     "metadata": {},
     "output_type": "execute_result"
    }
   ],
   "source": [
    "df['paying_client'] = df.apply(lambda x: f'{x.client}' if x.revenue else np.nan, axis=1)\n",
    "df.iloc[[0, 23]]"
   ]
  },
  {
   "cell_type": "code",
   "execution_count": 18,
   "metadata": {},
   "outputs": [
    {
     "data": {
      "text/html": [
       "<div>\n",
       "<style scoped>\n",
       "    .dataframe tbody tr th:only-of-type {\n",
       "        vertical-align: middle;\n",
       "    }\n",
       "\n",
       "    .dataframe tbody tr th {\n",
       "        vertical-align: top;\n",
       "    }\n",
       "\n",
       "    .dataframe thead th {\n",
       "        text-align: right;\n",
       "    }\n",
       "</style>\n",
       "<table border=\"1\" class=\"dataframe\">\n",
       "  <thead>\n",
       "    <tr style=\"text-align: right;\">\n",
       "      <th></th>\n",
       "      <th>session_cnt</th>\n",
       "      <th>mau</th>\n",
       "      <th>mapu</th>\n",
       "      <th>revenue</th>\n",
       "      <th>arpu</th>\n",
       "      <th>arppu</th>\n",
       "    </tr>\n",
       "    <tr>\n",
       "      <th>date</th>\n",
       "      <th></th>\n",
       "      <th></th>\n",
       "      <th></th>\n",
       "      <th></th>\n",
       "      <th></th>\n",
       "      <th></th>\n",
       "    </tr>\n",
       "  </thead>\n",
       "  <tbody>\n",
       "    <tr>\n",
       "      <th>September</th>\n",
       "      <td>2827</td>\n",
       "      <td>2511</td>\n",
       "      <td>1268</td>\n",
       "      <td>2.779013e+07</td>\n",
       "      <td>11067.35</td>\n",
       "      <td>21916.50</td>\n",
       "    </tr>\n",
       "    <tr>\n",
       "      <th>October</th>\n",
       "      <td>9995</td>\n",
       "      <td>8520</td>\n",
       "      <td>1195</td>\n",
       "      <td>2.986842e+07</td>\n",
       "      <td>3505.68</td>\n",
       "      <td>24994.47</td>\n",
       "    </tr>\n",
       "    <tr>\n",
       "      <th>November</th>\n",
       "      <td>4086</td>\n",
       "      <td>3647</td>\n",
       "      <td>890</td>\n",
       "      <td>1.960508e+07</td>\n",
       "      <td>5375.67</td>\n",
       "      <td>22028.17</td>\n",
       "    </tr>\n",
       "  </tbody>\n",
       "</table>\n",
       "</div>"
      ],
      "text/plain": [
       "           session_cnt   mau  mapu       revenue      arpu     arppu\n",
       "date                                                                \n",
       "September         2827  2511  1268  2.779013e+07  11067.35  21916.50\n",
       "October           9995  8520  1195  2.986842e+07   3505.68  24994.47\n",
       "November          4086  3647   890  1.960508e+07   5375.67  22028.17"
      ]
     },
     "execution_count": 18,
     "metadata": {},
     "output_type": "execute_result"
    }
   ],
   "source": [
    "(df.groupby(df.date.dt.month_name(), sort=False) \n",
    "    .agg(\n",
    "        session_cnt=('session', 'nunique')\n",
    "        , mau=('client', 'nunique')\n",
    "        , mapu=('paying_client', 'nunique')\n",
    "        , revenue=('revenue', 'sum')\n",
    "        )\n",
    "    .assign(arpu=lambda x: round(x.revenue / x.mau, 2))\n",
    "    .assign(arppu=lambda x: round(x.arpu * (x.mau / x.mapu), 2))\n",
    ")"
   ]
  },
  {
   "cell_type": "markdown",
   "metadata": {},
   "source": [
    "7. Session / user.\n"
   ]
  },
  {
   "cell_type": "code",
   "execution_count": 37,
   "metadata": {},
   "outputs": [
    {
     "data": {
      "text/html": [
       "<div>\n",
       "<style scoped>\n",
       "    .dataframe tbody tr th:only-of-type {\n",
       "        vertical-align: middle;\n",
       "    }\n",
       "\n",
       "    .dataframe tbody tr th {\n",
       "        vertical-align: top;\n",
       "    }\n",
       "\n",
       "    .dataframe thead th {\n",
       "        text-align: right;\n",
       "    }\n",
       "</style>\n",
       "<table border=\"1\" class=\"dataframe\">\n",
       "  <thead>\n",
       "    <tr style=\"text-align: right;\">\n",
       "      <th></th>\n",
       "      <th>session_cnt</th>\n",
       "      <th>mau</th>\n",
       "      <th>mapu</th>\n",
       "      <th>revenue</th>\n",
       "      <th>arpu</th>\n",
       "      <th>arppu</th>\n",
       "      <th>session_per_client</th>\n",
       "    </tr>\n",
       "    <tr>\n",
       "      <th>date</th>\n",
       "      <th></th>\n",
       "      <th></th>\n",
       "      <th></th>\n",
       "      <th></th>\n",
       "      <th></th>\n",
       "      <th></th>\n",
       "      <th></th>\n",
       "    </tr>\n",
       "  </thead>\n",
       "  <tbody>\n",
       "    <tr>\n",
       "      <th>September</th>\n",
       "      <td>2827</td>\n",
       "      <td>2511</td>\n",
       "      <td>1268</td>\n",
       "      <td>2.779013e+07</td>\n",
       "      <td>11067.35</td>\n",
       "      <td>21916.50</td>\n",
       "      <td>1.13</td>\n",
       "    </tr>\n",
       "    <tr>\n",
       "      <th>October</th>\n",
       "      <td>9995</td>\n",
       "      <td>8520</td>\n",
       "      <td>1195</td>\n",
       "      <td>2.986842e+07</td>\n",
       "      <td>3505.68</td>\n",
       "      <td>24994.47</td>\n",
       "      <td>1.17</td>\n",
       "    </tr>\n",
       "    <tr>\n",
       "      <th>November</th>\n",
       "      <td>4086</td>\n",
       "      <td>3647</td>\n",
       "      <td>890</td>\n",
       "      <td>1.960508e+07</td>\n",
       "      <td>5375.67</td>\n",
       "      <td>22028.17</td>\n",
       "      <td>1.12</td>\n",
       "    </tr>\n",
       "  </tbody>\n",
       "</table>\n",
       "</div>"
      ],
      "text/plain": [
       "           session_cnt   mau  mapu       revenue      arpu     arppu  \\\n",
       "date                                                                   \n",
       "September         2827  2511  1268  2.779013e+07  11067.35  21916.50   \n",
       "October           9995  8520  1195  2.986842e+07   3505.68  24994.47   \n",
       "November          4086  3647   890  1.960508e+07   5375.67  22028.17   \n",
       "\n",
       "           session_per_client  \n",
       "date                           \n",
       "September                1.13  \n",
       "October                  1.17  \n",
       "November                 1.12  "
      ]
     },
     "execution_count": 37,
     "metadata": {},
     "output_type": "execute_result"
    }
   ],
   "source": [
    "res = (df.groupby(df.date.dt.month_name(), sort=False) \n",
    "    .agg(\n",
    "        session_cnt=('session', 'nunique')\n",
    "        , mau=('client', 'nunique')\n",
    "        , mapu=('paying_client', 'nunique')\n",
    "        , revenue=('revenue', 'sum')\n",
    "        )\n",
    "    .assign(arpu=lambda x: round(x.revenue / x.mau, 2))\n",
    "    .assign(arppu=lambda x: round(x.arpu * (x.mau / x.mapu), 2))\n",
    "    .assign(session_per_client=lambda x: round(x.session_cnt / x.mau, 2))\n",
    ")\n",
    "res"
   ]
  },
  {
   "cell_type": "markdown",
   "metadata": {},
   "source": [
    "8. Количество целевых действий (целевое действие — событие, за которое получен\n",
    "доход).\n"
   ]
  },
  {
   "cell_type": "markdown",
   "metadata": {},
   "source": [
    "действия фиксируются в столбце ярлык"
   ]
  },
  {
   "cell_type": "code",
   "execution_count": 35,
   "metadata": {},
   "outputs": [
    {
     "data": {
      "text/html": [
       "<div>\n",
       "<style scoped>\n",
       "    .dataframe tbody tr th:only-of-type {\n",
       "        vertical-align: middle;\n",
       "    }\n",
       "\n",
       "    .dataframe tbody tr th {\n",
       "        vertical-align: top;\n",
       "    }\n",
       "\n",
       "    .dataframe thead th {\n",
       "        text-align: right;\n",
       "    }\n",
       "</style>\n",
       "<table border=\"1\" class=\"dataframe\">\n",
       "  <thead>\n",
       "    <tr style=\"text-align: right;\">\n",
       "      <th></th>\n",
       "      <th></th>\n",
       "      <th>cnt</th>\n",
       "    </tr>\n",
       "    <tr>\n",
       "      <th>date</th>\n",
       "      <th>event</th>\n",
       "      <th></th>\n",
       "    </tr>\n",
       "  </thead>\n",
       "  <tbody>\n",
       "    <tr>\n",
       "      <th rowspan=\"5\" valign=\"top\">September</th>\n",
       "      <th>Place Select</th>\n",
       "      <td>550</td>\n",
       "    </tr>\n",
       "    <tr>\n",
       "      <th>Promocode</th>\n",
       "      <td>68</td>\n",
       "    </tr>\n",
       "    <tr>\n",
       "      <th>Desktop - To Payment Card</th>\n",
       "      <td>421</td>\n",
       "    </tr>\n",
       "    <tr>\n",
       "      <th>Mobile - To Payment Card</th>\n",
       "      <td>580</td>\n",
       "    </tr>\n",
       "    <tr>\n",
       "      <th>Search Field</th>\n",
       "      <td>1</td>\n",
       "    </tr>\n",
       "    <tr>\n",
       "      <th rowspan=\"5\" valign=\"top\">October</th>\n",
       "      <th>Place Select</th>\n",
       "      <td>413</td>\n",
       "    </tr>\n",
       "    <tr>\n",
       "      <th>Mobile - To Payment Card</th>\n",
       "      <td>601</td>\n",
       "    </tr>\n",
       "    <tr>\n",
       "      <th>Promocode</th>\n",
       "      <td>46</td>\n",
       "    </tr>\n",
       "    <tr>\n",
       "      <th>Desktop - To Payment Card</th>\n",
       "      <td>457</td>\n",
       "    </tr>\n",
       "    <tr>\n",
       "      <th>Movie cover</th>\n",
       "      <td>1</td>\n",
       "    </tr>\n",
       "    <tr>\n",
       "      <th rowspan=\"5\" valign=\"top\">November</th>\n",
       "      <th>Mobile - To Payment Card</th>\n",
       "      <td>471</td>\n",
       "    </tr>\n",
       "    <tr>\n",
       "      <th>Promocode</th>\n",
       "      <td>30</td>\n",
       "    </tr>\n",
       "    <tr>\n",
       "      <th>Desktop - To Payment Card</th>\n",
       "      <td>317</td>\n",
       "    </tr>\n",
       "    <tr>\n",
       "      <th>Place Select</th>\n",
       "      <td>314</td>\n",
       "    </tr>\n",
       "    <tr>\n",
       "      <th>Movie cover</th>\n",
       "      <td>1</td>\n",
       "    </tr>\n",
       "  </tbody>\n",
       "</table>\n",
       "</div>"
      ],
      "text/plain": [
       "                                     cnt\n",
       "date      event                         \n",
       "September Place Select               550\n",
       "          Promocode                   68\n",
       "          Desktop - To Payment Card  421\n",
       "          Mobile - To Payment Card   580\n",
       "          Search Field                 1\n",
       "October   Place Select               413\n",
       "          Mobile - To Payment Card   601\n",
       "          Promocode                   46\n",
       "          Desktop - To Payment Card  457\n",
       "          Movie cover                  1\n",
       "November  Mobile - To Payment Card   471\n",
       "          Promocode                   30\n",
       "          Desktop - To Payment Card  317\n",
       "          Place Select               314\n",
       "          Movie cover                  1"
      ]
     },
     "execution_count": 35,
     "metadata": {},
     "output_type": "execute_result"
    }
   ],
   "source": [
    "(df[df.revenue > 0].groupby([df.date.dt.month_name(), 'event'], sort=False)\n",
    "    .agg(cnt=('client', 'count'))\n",
    ")    "
   ]
  },
  {
   "cell_type": "code",
   "execution_count": 36,
   "metadata": {},
   "outputs": [
    {
     "data": {
      "text/html": [
       "<div>\n",
       "<style scoped>\n",
       "    .dataframe tbody tr th:only-of-type {\n",
       "        vertical-align: middle;\n",
       "    }\n",
       "\n",
       "    .dataframe tbody tr th {\n",
       "        vertical-align: top;\n",
       "    }\n",
       "\n",
       "    .dataframe thead th {\n",
       "        text-align: right;\n",
       "    }\n",
       "</style>\n",
       "<table border=\"1\" class=\"dataframe\">\n",
       "  <thead>\n",
       "    <tr style=\"text-align: right;\">\n",
       "      <th></th>\n",
       "      <th>cnt</th>\n",
       "    </tr>\n",
       "    <tr>\n",
       "      <th>event</th>\n",
       "      <th></th>\n",
       "    </tr>\n",
       "  </thead>\n",
       "  <tbody>\n",
       "    <tr>\n",
       "      <th>Place Select</th>\n",
       "      <td>1277</td>\n",
       "    </tr>\n",
       "    <tr>\n",
       "      <th>Promocode</th>\n",
       "      <td>144</td>\n",
       "    </tr>\n",
       "    <tr>\n",
       "      <th>Desktop - To Payment Card</th>\n",
       "      <td>1195</td>\n",
       "    </tr>\n",
       "    <tr>\n",
       "      <th>Mobile - To Payment Card</th>\n",
       "      <td>1652</td>\n",
       "    </tr>\n",
       "    <tr>\n",
       "      <th>Search Field</th>\n",
       "      <td>1</td>\n",
       "    </tr>\n",
       "    <tr>\n",
       "      <th>Movie cover</th>\n",
       "      <td>2</td>\n",
       "    </tr>\n",
       "  </tbody>\n",
       "</table>\n",
       "</div>"
      ],
      "text/plain": [
       "                            cnt\n",
       "event                          \n",
       "Place Select               1277\n",
       "Promocode                   144\n",
       "Desktop - To Payment Card  1195\n",
       "Mobile - To Payment Card   1652\n",
       "Search Field                  1\n",
       "Movie cover                   2"
      ]
     },
     "execution_count": 36,
     "metadata": {},
     "output_type": "execute_result"
    }
   ],
   "source": [
    "(df[df.revenue > 0].groupby('event', sort=False)\n",
    "    .agg(cnt=('client', 'count'))\n",
    ")    "
   ]
  },
  {
   "cell_type": "markdown",
   "metadata": {},
   "source": [
    "Дополнительно рассчитайте показатель LTV на пользователя за период три месяца: с\n",
    "сентября по ноябрь."
   ]
  },
  {
   "cell_type": "code",
   "execution_count": 108,
   "metadata": {},
   "outputs": [
    {
     "data": {
      "text/plain": [
       "cnt    1.065708\n",
       "dtype: float64"
      ]
     },
     "execution_count": 108,
     "metadata": {},
     "output_type": "execute_result"
    }
   ],
   "source": [
    "lt = (df.groupby(['client', df.date.dt.month_name(),])\n",
    "    .agg(temp=('session', 'count'))\n",
    "    # .apply(lambda x: pd.Series(1, index=['cnt']), axis=1)\n",
    "    .reset_index(1)\n",
    "    .drop('temp', axis=1)\n",
    "    .groupby('client')\n",
    "    .agg(cnt=('date', 'count'))\n",
    "    .mean()\n",
    ")\n",
    "lt"
   ]
  },
  {
   "cell_type": "code",
   "execution_count": 38,
   "metadata": {},
   "outputs": [
    {
     "data": {
      "text/plain": [
       "6649.566666666667"
      ]
     },
     "execution_count": 38,
     "metadata": {},
     "output_type": "execute_result"
    }
   ],
   "source": [
    "arpu = res.arpu.mean()\n",
    "arpu"
   ]
  },
  {
   "cell_type": "code",
   "execution_count": 113,
   "metadata": {},
   "outputs": [
    {
     "data": {
      "text/plain": [
       "cnt    7086.498187\n",
       "dtype: float64"
      ]
     },
     "execution_count": 113,
     "metadata": {},
     "output_type": "execute_result"
    }
   ],
   "source": [
    "ltv = arpu * lt\n",
    "ltv"
   ]
  },
  {
   "cell_type": "code",
   "execution_count": 70,
   "metadata": {},
   "outputs": [
    {
     "data": {
      "text/html": [
       "<div>\n",
       "<style scoped>\n",
       "    .dataframe tbody tr th:only-of-type {\n",
       "        vertical-align: middle;\n",
       "    }\n",
       "\n",
       "    .dataframe tbody tr th {\n",
       "        vertical-align: top;\n",
       "    }\n",
       "\n",
       "    .dataframe thead th {\n",
       "        text-align: right;\n",
       "    }\n",
       "</style>\n",
       "<table border=\"1\" class=\"dataframe\">\n",
       "  <thead>\n",
       "    <tr style=\"text-align: right;\">\n",
       "      <th></th>\n",
       "      <th>date</th>\n",
       "      <th>session</th>\n",
       "      <th>client</th>\n",
       "      <th>event</th>\n",
       "      <th>revenue</th>\n",
       "    </tr>\n",
       "  </thead>\n",
       "  <tbody>\n",
       "    <tr>\n",
       "      <th>0</th>\n",
       "      <td>2018-09-02</td>\n",
       "      <td>6517411217615201018blqo010gfv</td>\n",
       "      <td>42325189</td>\n",
       "      <td>Search Field</td>\n",
       "      <td>0.0</td>\n",
       "    </tr>\n",
       "    <tr>\n",
       "      <th>1</th>\n",
       "      <td>2018-09-02</td>\n",
       "      <td>6517439917954201018jogp8guf</td>\n",
       "      <td>49083805</td>\n",
       "      <td>Movie cover</td>\n",
       "      <td>0.0</td>\n",
       "    </tr>\n",
       "    <tr>\n",
       "      <th>2</th>\n",
       "      <td>2018-09-03</td>\n",
       "      <td>6517492978275201018xnvoyeqm</td>\n",
       "      <td>27598678</td>\n",
       "      <td>Event Place</td>\n",
       "      <td>0.0</td>\n",
       "    </tr>\n",
       "    <tr>\n",
       "      <th>3</th>\n",
       "      <td>2018-09-03</td>\n",
       "      <td>651743624394010201018cg2zi5ol8z276c3x16y9zfr</td>\n",
       "      <td>5760746</td>\n",
       "      <td>Movie cover</td>\n",
       "      <td>0.0</td>\n",
       "    </tr>\n",
       "    <tr>\n",
       "      <th>4</th>\n",
       "      <td>2018-09-03</td>\n",
       "      <td>6517492978275201018xnvoyeqm</td>\n",
       "      <td>27598678</td>\n",
       "      <td>Main - Menu</td>\n",
       "      <td>0.0</td>\n",
       "    </tr>\n",
       "  </tbody>\n",
       "</table>\n",
       "</div>"
      ],
      "text/plain": [
       "        date                                       session    client  \\\n",
       "0 2018-09-02                 6517411217615201018blqo010gfv  42325189   \n",
       "1 2018-09-02                   6517439917954201018jogp8guf  49083805   \n",
       "2 2018-09-03                   6517492978275201018xnvoyeqm  27598678   \n",
       "3 2018-09-03  651743624394010201018cg2zi5ol8z276c3x16y9zfr   5760746   \n",
       "4 2018-09-03                   6517492978275201018xnvoyeqm  27598678   \n",
       "\n",
       "          event  revenue  \n",
       "0  Search Field      0.0  \n",
       "1   Movie cover      0.0  \n",
       "2   Event Place      0.0  \n",
       "3   Movie cover      0.0  \n",
       "4   Main - Menu      0.0  "
      ]
     },
     "execution_count": 70,
     "metadata": {},
     "output_type": "execute_result"
    }
   ],
   "source": [
    "df.head()"
   ]
  },
  {
   "cell_type": "markdown",
   "metadata": {},
   "source": []
  }
 ],
 "metadata": {
  "kernelspec": {
   "display_name": "Python 3.7.1 64-bit",
   "language": "python",
   "name": "python3"
  },
  "language_info": {
   "codemirror_mode": {
    "name": "ipython",
    "version": 3
   },
   "file_extension": ".py",
   "mimetype": "text/x-python",
   "name": "python",
   "nbconvert_exporter": "python",
   "pygments_lexer": "ipython3",
   "version": "3.7.1"
  },
  "orig_nbformat": 4,
  "vscode": {
   "interpreter": {
    "hash": "fbe58ca63fe33f9eeae9e71d10368d2b4a57f2b1b395836210cc60d362c66949"
   }
  }
 },
 "nbformat": 4,
 "nbformat_minor": 2
}
