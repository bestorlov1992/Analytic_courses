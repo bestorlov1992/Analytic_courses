{
 "cells": [
  {
   "cell_type": "markdown",
   "metadata": {},
   "source": [
    "https://github.com/kepatopoc/vkapi-course"
   ]
  },
  {
   "cell_type": "markdown",
   "metadata": {},
   "source": [
    "https://github.com/kepatopoc/vk-scripts"
   ]
  },
  {
   "cell_type": "markdown",
   "metadata": {},
   "source": [
    "https://habr.com/ru/articles/319178/"
   ]
  },
  {
   "cell_type": "markdown",
   "metadata": {},
   "source": [
    "https://<адрес-сервера>/method/<имя-API-метода>?<параметры>  \n",
    "https://api.vk.com/method/friends.get?fields=sex&access_token=0394a2ede332c9a13eb82e9b24631604c31df978b4e2f0fbd2c549944f9d79a5bc866455623bd560732ab&v=5.126"
   ]
  },
  {
   "cell_type": "markdown",
   "metadata": {},
   "source": [
    "методы находятся в секциях  \n",
    "секция отделена от метода точкой, например  \n",
    "friends.get - метод get из секции friends"
   ]
  },
  {
   "cell_type": "code",
   "execution_count": null,
   "metadata": {},
   "outputs": [],
   "source": [
    "import requests\n",
    "\n",
    "server = 'https://api.vk.com/method/'\n",
    "method = 'friends.get'\n",
    "token = 'this is your token'\n",
    "user_id = 'this is user id'\n",
    "version = 'this is version'\n",
    "params = {\n",
    "    'access_token': token\n",
    "    , 'user_id': user_id\n",
    "    , 'v': version\n",
    "    , 'fields': 'sex'\n",
    "}\n",
    "url = server + method\n",
    "res = requests.get(url, params)\n",
    "res_json = res.json()"
   ]
  },
  {
   "cell_type": "code",
   "execution_count": null,
   "metadata": {},
   "outputs": [],
   "source": [
    "!pip install vk_api"
   ]
  },
  {
   "cell_type": "code",
   "execution_count": null,
   "metadata": {},
   "outputs": [],
   "source": [
    "import vk_api\n",
    "vk_session = vk_api.VkApi(token=TOKEN)\n",
    "vk = vk_session.get_api()\n",
    "\n",
    "user_id = 'ваш_id_пользователя'\n",
    "friends = vk.friends.get(user_id=user_id, fields='nickname')"
   ]
  }
 ],
 "metadata": {
  "kernelspec": {
   "display_name": "Python 3.7.1 64-bit",
   "language": "python",
   "name": "python3"
  },
  "language_info": {
   "codemirror_mode": {
    "name": "ipython",
    "version": 3
   },
   "file_extension": ".py",
   "mimetype": "text/x-python",
   "name": "python",
   "nbconvert_exporter": "python",
   "pygments_lexer": "ipython3",
   "version": "3.7.1"
  },
  "orig_nbformat": 4,
  "vscode": {
   "interpreter": {
    "hash": "fbe58ca63fe33f9eeae9e71d10368d2b4a57f2b1b395836210cc60d362c66949"
   }
  }
 },
 "nbformat": 4,
 "nbformat_minor": 2
}
