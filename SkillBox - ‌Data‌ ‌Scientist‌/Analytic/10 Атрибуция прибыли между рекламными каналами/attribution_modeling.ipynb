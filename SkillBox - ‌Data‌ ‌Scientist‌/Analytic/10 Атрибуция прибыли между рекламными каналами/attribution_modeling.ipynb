{
  "nbformat": 4,
  "nbformat_minor": 0,
  "metadata": {
    "kernelspec": {
      "display_name": "Python 3",
      "language": "python",
      "name": "python3"
    },
    "language_info": {
      "codemirror_mode": {
        "name": "ipython",
        "version": 3
      },
      "file_extension": ".py",
      "mimetype": "text/x-python",
      "name": "python",
      "nbconvert_exporter": "python",
      "pygments_lexer": "ipython3",
      "version": "3.7.4"
    },
    "colab": {
      "provenance": []
    }
  },
  "cells": [
    {
      "cell_type": "code",
      "metadata": {
        "id": "1RWtKWw6XnR1"
      },
      "source": [
        "# !pip3 install pandas matplotlib"
      ],
      "execution_count": null,
      "outputs": []
    },
    {
      "cell_type": "code",
      "metadata": {
        "id": "TmsQq3nNXnR_"
      },
      "source": [
        "import pandas as pd\n",
        "from datetime import datetime, timedelta\n",
        "import matplotlib.pyplot as plt"
      ],
      "execution_count": null,
      "outputs": []
    },
    {
      "cell_type": "markdown",
      "metadata": {
        "id": "8j0wFXSPXnSD"
      },
      "source": [
        "Time-decay модель.\n",
        "Веса для модели расчитываются по формуле:\n",
        "\n",
        "вес сессии = $2^{- d / s}$\n",
        "\n",
        "где d — дней до покупки\n",
        "s — количество сессий у пользователя\n",
        "\n",
        "Почему такая формула? Давайте посмотрим на график функции\n",
        "\n",
        "y = $2^{- x / s}$\n",
        "\n",
        "Мы хотим увидеть, как меняется вес сессии в зависимости от 2 факторов:\n",
        "- времени до сессии с покупкой\n",
        "- количества сессий у пользователя\n",
        "\n",
        "График выглядит так:"
      ]
    },
    {
      "cell_type": "code",
      "metadata": {
        "id": "0Mt5eAAoXnSE"
      },
      "source": [
        "x = list(range(1, 31, 3))\n",
        "\n",
        "plt.figure(figsize=(10, 6))\n",
        "\n",
        "for s in range(6, 16, 3):\n",
        "    w = [2**(-d / s) for d in x]\n",
        "    y = [weight / sum(w) for weight in w]  # нормируем, чтобы сумма весов была равна 1\n",
        "    plt.plot(x, y, '-o', label=f'{s} сессий')\n",
        "\n",
        "plt.legend(loc='best')\n",
        "plt.xlabel('Количество дней до момента покупки')\n",
        "plt.ylabel('Вес сессии')\n",
        "plt.grid()\n",
        "plt.show()"
      ],
      "execution_count": null,
      "outputs": []
    },
    {
      "cell_type": "markdown",
      "metadata": {
        "id": "wnjAZaabXnSL"
      },
      "source": [
        "По графику можно сделать следующие выводы:\n",
        "- график — убывающая функция: чем больше дней до покупки (горизонтальная ось), тем меньше вес у соответствующей сессии\n",
        "- если пользователь приходил нечасто, то есть у него мало сессий, то веса очень сильно убывают с течением времени\n",
        "- если пользователь часто к нам приходил, то веса убывают относительно медленно\n",
        "\n",
        "Именно для того, чтобы функция убывала с ростом количества дней до покупки, перед количеством дней в формуле стоит знак «минус».\n",
        "А для того, чтобы регулировать скорость убывания функции, мы используем количество сессий в качестве делителя.\n",
        "\n",
        "Важный вывод — если пользователь приходит к нам редко, то для нас очень ценны сессии непосредственно перед покупкой. И наоборот, давние сессии для редкого гостя имеют мало ценности для бизнеса."
      ]
    },
    {
      "cell_type": "code",
      "metadata": {
        "id": "dfV3PrCXXnSM"
      },
      "source": [
        "# если код выполняется в colab-ноутбуке, то замените первую строчку в следующей ячейке на эту:\n",
        "# session_data = pd.read_csv('https://drive.google.com/file/d/1y1qm5nZFb89Muroe3nhcgboSTSX3ZJLi/view?usp=sharing')"
      ],
      "execution_count": null,
      "outputs": []
    },
    {
      "cell_type": "code",
      "metadata": {
        "id": "uo0TT3h8XnSP"
      },
      "source": [
        "session_data = pd.read_csv('data.csv', delimiter=';')\n",
        "\n",
        "# изменение форматов данных для удобства\n",
        "session_data['date'] = [datetime.strptime(x, '%Y-%m-%d') for x in session_data['date']]\n",
        "session_data[['cost', 'value']] = session_data[['cost', 'value']].astype(float)\n",
        "\n",
        "# группировка и суммирования, чтобы объединить покупки с одинакового канала в один день\n",
        "session_data = session_data.groupby(['userId', 'date', 'trafficSource'])['cost', 'value'].sum().reset_index()\n",
        "session_data = session_data.sort_values(by=['userId', 'date'])\n",
        "session_data.head()"
      ],
      "execution_count": null,
      "outputs": []
    },
    {
      "cell_type": "code",
      "metadata": {
        "id": "oQkTjXTvXnSR"
      },
      "source": [
        "# таблица только с датами покупок, нужна для time-decay модели\n",
        "\n",
        "purchases_only = session_data[session_data['value'] > 0][['userId', 'date']]\n",
        "purchases_only = purchases_only.groupby('userId')['date'].max().reset_index()\n",
        "purchases_only.columns = ['userId', 'purchaseDate']"
      ],
      "execution_count": null,
      "outputs": []
    },
    {
      "cell_type": "code",
      "metadata": {
        "id": "ytC8ss-JXnSV"
      },
      "source": [
        "# расчет вспомогательных колонок\n",
        "\n",
        "session_data['totalSessions'] = session_data.groupby('userId')['date'].transform(lambda x: x.count())\n",
        "session_data['totalValue'] = session_data.groupby('userId')['value'].transform(lambda x: x.sum())\n",
        "session_data['sessionNumber'] = session_data.groupby('userId').cumcount() + 1\n",
        "\n",
        "session_data = session_data.merge(purchases_only, on='userId', how='left')"
      ],
      "execution_count": null,
      "outputs": []
    },
    {
      "cell_type": "code",
      "metadata": {
        "id": "m1nNiQT9XnSY"
      },
      "source": [
        "# расчет весов time-decay модели\n",
        "\n",
        "session_data['daysToPurchase'] = [(x - y).days if x else 0\n",
        "                                  for x, y in zip(session_data['purchaseDate'], session_data['date'])]\n",
        "\n",
        "session_data['timeDecayWeight'] = [2**(-x / y)\n",
        "                                   for x, y in zip(session_data['daysToPurchase'], session_data['totalSessions'])]\n",
        "\n",
        "session_data['timeDecayWeight'] = session_data['timeDecayWeight'] / session_data.groupby('userId')['timeDecayWeight'].transform(lambda x: x.sum())\n"
      ],
      "execution_count": null,
      "outputs": []
    },
    {
      "cell_type": "code",
      "metadata": {
        "id": "N55OP11CXnSa"
      },
      "source": [
        "# расчет выручки на основе различных моделей атрибуции\n",
        "\n",
        "session_data['lastTouchValue'] = session_data['value']\n",
        "session_data['firstTouchValue'] = [x if y == 1 else 0\n",
        "                                   for x, y in zip(session_data['totalValue'], session_data['sessionNumber'])]\n",
        "session_data['linearValue'] = session_data['totalValue'] / session_data['totalSessions']\n",
        "session_data['timeDecayValue'] = session_data['totalValue'] * session_data['timeDecayWeight']\n"
      ],
      "execution_count": null,
      "outputs": []
    },
    {
      "cell_type": "code",
      "metadata": {
        "id": "_otlsH57XnSd"
      },
      "source": [
        "# проверка корректности расчетов\n",
        "\n",
        "print(session_data[['lastTouchValue', 'firstTouchValue', 'linearValue', 'timeDecayValue']].sum())"
      ],
      "execution_count": null,
      "outputs": []
    },
    {
      "cell_type": "code",
      "metadata": {
        "id": "mMYu_MbQXnSf"
      },
      "source": [
        "# финальная таблица\n",
        "\n",
        "totals = session_data.groupby('trafficSource')[['cost', 'lastTouchValue', 'firstTouchValue', 'linearValue',\n",
        "                                                'timeDecayValue']].sum()\n",
        "\n",
        "totals['lastTouchROI'] = 100*(round(totals['lastTouchValue'] / totals['cost'], 4))\n",
        "totals['firstTouchROI'] = 100*(round(totals['firstTouchValue'] / totals['cost'], 4))\n",
        "totals['linearROI'] = 100*(round(totals['linearValue'] / totals['cost'], 4))\n",
        "totals['timeDecayROI'] = 100*(round(totals['timeDecayValue'] / totals['cost'], 4))\n",
        "\n",
        "totals[['cost', 'lastTouchROI', 'firstTouchROI', 'linearROI', 'timeDecayROI']]"
      ],
      "execution_count": null,
      "outputs": []
    }
  ]
}