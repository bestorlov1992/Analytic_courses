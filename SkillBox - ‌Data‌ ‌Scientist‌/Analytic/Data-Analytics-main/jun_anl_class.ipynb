{
 "cells": [
  {
   "cell_type": "markdown",
   "metadata": {
    "colab_type": "text",
    "id": "RbR5OTe50Za4"
   },
   "source": [
    "# Классы\n",
    "## Домашнее задание"
   ]
  },
  {
   "cell_type": "markdown",
   "metadata": {
    "colab_type": "text",
    "id": "Xh_DBCdu0Za5"
   },
   "source": [
    "### Вопросы по лекциям\n",
    "\n",
    "#### 1.\n",
    "\n",
    "Напишите название функции, которая является конструктором класса.\n",
    "\n"
   ]
  },
  {
   "cell_type": "markdown",
   "metadata": {
    "colab_type": "text",
    "id": "8-Tj4AMg0Za6"
   },
   "source": [
    "**Ответ:**:\n",
    "__init__()"
   ]
  },
  {
   "cell_type": "code",
   "execution_count": null,
   "metadata": {},
   "outputs": [],
   "source": [
    "# __init__():"
   ]
  },
  {
   "cell_type": "markdown",
   "metadata": {
    "colab_type": "text",
    "id": "lf14yx330Za7"
   },
   "source": [
    "#### 2.\n",
    "\n",
    "На что указывает переменная `self`?\n"
   ]
  },
  {
   "cell_type": "markdown",
   "metadata": {
    "colab_type": "text",
    "id": "wI-0FWlF0Za8"
   },
   "source": [
    "**Ответ:** Указывает на обьект самого класса"
   ]
  },
  {
   "cell_type": "markdown",
   "metadata": {
    "colab_type": "text",
    "id": "j_8_O_nl0Za8"
   },
   "source": [
    "#### 3.\n",
    "С помощью какой функции можно проверить, что некая строка является именем одного из атрибутов объекта?"
   ]
  },
  {
   "cell_type": "markdown",
   "metadata": {
    "colab_type": "text",
    "id": "5h8ASTrV0Za9"
   },
   "source": [
    "**Ответ:** hasattr()"
   ]
  },
  {
   "cell_type": "markdown",
   "metadata": {
    "colab_type": "text",
    "id": "G104VWgj0Za-"
   },
   "source": [
    "#### 4.\n",
    "Когда вызывается метод `__del__`? (относительно события удаления объекта)"
   ]
  },
  {
   "cell_type": "markdown",
   "metadata": {
    "colab_type": "text",
    "id": "Ukzoyxkn0Za-"
   },
   "source": [
    "**Ответ:**\n",
    "Он вызывается, когда объект собирает мусор, который происходит после удаления всех ссылок на объект."
   ]
  },
  {
   "cell_type": "markdown",
   "metadata": {
    "colab_type": "text",
    "id": "MkF-HyBM0ZbA"
   },
   "source": [
    "#### 5.\n",
    "Верно ли, что атрибут класса перекрывает атрибут объекта?"
   ]
  },
  {
   "cell_type": "markdown",
   "metadata": {
    "colab_type": "text",
    "id": "o7B52kVt0ZbC"
   },
   "source": [
    "**Ответ:**\n",
    "Атрибут обьекта перекрывает атрибут класса"
   ]
  },
  {
   "cell_type": "markdown",
   "metadata": {
    "colab_type": "text",
    "id": "kSwZWV2B0ZbC"
   },
   "source": [
    "#### 6.\n",
    "Можно ли атрибуты базового класса вызывать в дочернем классе? Если да, то напишите, нет ли исклчений?"
   ]
  },
  {
   "cell_type": "markdown",
   "metadata": {
    "colab_type": "text",
    "id": "6i74Koih0ZbE"
   },
   "source": [
    "**Ответ:** Да можно. Для этого нужно обращаться напрямую к классу, но есть исключение для приватных атрибутов, которые начинаются с __"
   ]
  },
  {
   "cell_type": "markdown",
   "metadata": {
    "colab_type": "text",
    "id": "tl1St2O20ZbE"
   },
   "source": [
    "#### 7.\n",
    "Объясните своими словами для чего нужен метод `super`."
   ]
  },
  {
   "cell_type": "markdown",
   "metadata": {
    "colab_type": "text",
    "id": "rg3u1PoY0ZbF"
   },
   "source": [
    "**Ответ:** Это функция, которая обращается к классу, от которого наследуется текущий. Таким образном мы можем вызвать родительский метод.\n",
    "\n"
   ]
  },
  {
   "cell_type": "markdown",
   "metadata": {
    "colab_type": "text",
    "id": "5AiJn8ut0ZbG"
   },
   "source": [
    "### Практика\n",
    "\n",
    "1. Напишите класс `Fraction` для работы с дробями. Пусть дробь в нашем классе предстает в виде `числитель/знаменатель`. Дробное число должно создаваться по запросу `Fraction(a, b)`, где `a` – это числитель, а `b` – знаменатель дроби. \n",
    "2. Добавьте возможность сложения (сложения через оператор сложения) для дроби. Предполагается, что операция сложения может проводиться как только между дробями, так и между дробью и целым числом. Результат операции должен быть представлен в виде дроби.\n",
    "3. Добавьте возможность взятия разности (вычитания через оператор вычитания) для дробей. Предполагается, что операция вычитания может проводиться как только для двух дробей, так и для дроби и целого числа. Результат операции должен быть представлен в виде дроби.\n",
    "4. Добавьте возможность умножения (умножения через оператор умножения) для дробей. Предполагается, что операция умножения может проводиться как только для двух дробей, так и для дроби и целого числа. Результат операции должен быть представлен в виде дроби.\n",
    "5. Добавьте возможность приведения дроби к целому числу через стандартную функцию `int()`.\n",
    "6. Добавьте возможность приведения дроби к числу с плавающей точкой через стандартную функцию `float()`.\n",
    "7. Создайте дочерний класс `OperationsOnFraction` и добавьте туда собственные методы `getint` и `getfloat`, которые будут возвращать целую часть дроби и представление дроби в виде числа с плавающей точкой соответственно. \n",
    " "
   ]
  },
  {
   "cell_type": "code",
   "execution_count": 65,
   "metadata": {
    "colab": {},
    "colab_type": "code",
    "id": "ru3BJ52J0ZbG"
   },
   "outputs": [
    {
     "name": "stdout",
     "output_type": "stream",
     "text": [
      "#1 9/10\n",
      "#2 12/5\n",
      "#3 1/10\n",
      "#4 -3/2\n",
      "#5 20/1\n",
      "#6 1/1\n",
      "#7 0\n",
      "#8 0.5\n",
      "#9 0.5\n",
      "#10 0\n"
     ]
    }
   ],
   "source": [
    "def gcd(m,n):\n",
    "    while m%n != 0:\n",
    "        oldm = m\n",
    "        oldn = n\n",
    "\n",
    "        m = oldn\n",
    "        n = oldm%oldn\n",
    "    return n\n",
    "    \n",
    "class Fraction:\n",
    "    \n",
    "    def __init__(self, a, b):\n",
    "        self.a = a\n",
    "        self.b = b\n",
    "        \n",
    "    def __str__(self):\n",
    "        return str(self.a) + \"/\" + str(self.b)\n",
    "    \n",
    "    \n",
    "    def __add__(self,frac):\n",
    "        if isinstance(frac, Fraction) and isinstance(self, Fraction):\n",
    "            newa = self.a * frac.b + self.b * frac.a\n",
    "            newb = self.b * frac.b\n",
    "            common = gcd(newa,newb)\n",
    "            return Fraction(newa // common,newb // common)\n",
    "        \n",
    "        elif (isinstance(frac, int) and isinstance(self, Fraction)):\n",
    "            newa = self.a + self.b * frac\n",
    "            newb = self.b \n",
    "            common = gcd(newa,newb)\n",
    "            return Fraction(newa // common,newb // common)\n",
    "        \n",
    "            \n",
    "    def __radd__(self,frac):\n",
    "        if (isinstance(frac, int) and isinstance(self, Fraction)):\n",
    "            newa = self.a + self.b * frac\n",
    "            newb = self.b \n",
    "            common = gcd(newa,newb)\n",
    "            return Fraction(newa // common,newb // common)\n",
    "        \n",
    "    \n",
    "    def __sub__(self,frac):\n",
    "        if isinstance(frac, Fraction) and isinstance(self, Fraction):\n",
    "            newa = self.a * frac.b - self.b * frac.a\n",
    "            newb = self.b * frac.b\n",
    "            common = gcd(newa,newb)\n",
    "            return Fraction(newa // common,newb // common)\n",
    "        elif (isinstance(frac, int) and isinstance(self, Fraction)):\n",
    "            newa = self.a - self.b * frac\n",
    "            newb = self.b \n",
    "            common = gcd(newa,newb)\n",
    "            return Fraction(newa // common,newb // common)\n",
    "        \n",
    "    def __rsub__(self,frac):\n",
    "        if (isinstance(frac, int) and isinstance(self, Fraction)):\n",
    "            newa = self.a - self.b * frac\n",
    "            newb = self.b \n",
    "            common = gcd(newa,newb)\n",
    "            return Fraction(newa // common,newb // common)\n",
    "    \n",
    "    def __mul__(self,frac):\n",
    "        if isinstance(frac, Fraction) and isinstance(self, Fraction):\n",
    "            newa = self.a * frac.b * self.b * frac.a\n",
    "            newb = self.b * frac.b\n",
    "            common = gcd(newa,newb)\n",
    "            return Fraction(newa // common,newb // common)\n",
    "        elif (isinstance(frac, int) and isinstance(self, Fraction)):\n",
    "           \n",
    "            newa = self.a * frac\n",
    "            newb = self.b \n",
    "            common = gcd(newa,newb)\n",
    "            return Fraction(newa // common,newb // common)\n",
    "    def __rmul__(self,frac):\n",
    "        if (isinstance(frac, int) and isinstance(self, Fraction)):\n",
    "          \n",
    "            newa = self.a * frac\n",
    "            newb = self.b \n",
    "            common = gcd(newa,newb)\n",
    "            return Fraction(newa // common,newb // common)\n",
    "    \n",
    "    def getint(self):\n",
    "        return int(self.a / self.b)\n",
    "    \n",
    "    def getfloat(self):\n",
    "         return float(self.a / self.b)\n",
    "\n",
    "class OperationsOnFraction(Fraction):\n",
    "        \n",
    "        def getint(self):\n",
    "            newnum1 = self.a // self.b\n",
    "            return newnum1\n",
    "            \n",
    " \n",
    "        def getfloat(self):\n",
    "            newnum2 = self.a / self.b\n",
    "            return newnum2\n",
    "            \n",
    "\n",
    "    \n",
    "f3 = Fraction(5,10)\n",
    "f4 = Fraction(4,10)\n",
    "f5 = 2\n",
    "print('#1',f3+f4)\n",
    "print('#2',f4+f5)\n",
    "print('#3',f3-f4)\n",
    "print('#4',f5-f3)\n",
    "print('#5',f3*f4)\n",
    "print('#6',f3*f5)\n",
    "\n",
    "print('#7',f3.getint())\n",
    "print('#8',f3.getfloat())\n",
    "\n",
    "x = OperationsOnFraction(5,10)\n",
    "print('#9',x.getfloat())\n",
    "print('#10',x.getint())\n"
   ]
  },
  {
   "cell_type": "code",
   "execution_count": null,
   "metadata": {},
   "outputs": [],
   "source": []
  }
 ],
 "metadata": {
  "colab": {
   "collapsed_sections": [],
   "name": "jun_anl_class.ipynb",
   "provenance": []
  },
  "kernelspec": {
   "display_name": "Python 3",
   "language": "python",
   "name": "python3"
  },
  "language_info": {
   "codemirror_mode": {
    "name": "ipython",
    "version": 3
   },
   "file_extension": ".py",
   "mimetype": "text/x-python",
   "name": "python",
   "nbconvert_exporter": "python",
   "pygments_lexer": "ipython3",
   "version": "3.8.3"
  }
 },
 "nbformat": 4,
 "nbformat_minor": 1
}
