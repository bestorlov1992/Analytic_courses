{
 "cells": [
  {
   "cell_type": "markdown",
   "metadata": {},
   "source": [
    "<center>\n",
    "<img src=\"https://cdn.megabonus.com/images/shop_logo/skillbox.png\"/> \n",
    "    \n",
    "# Курс аналитик данных на Python\n",
    "## Модуль 3.2. Pandas advanced. Составляем отчетность."
   ]
  },
  {
   "cell_type": "markdown",
   "metadata": {},
   "source": [
    "Как и всегда начинаем с импорта библиотек."
   ]
  },
  {
   "cell_type": "code",
   "execution_count": 1,
   "metadata": {},
   "outputs": [],
   "source": [
    "import numpy as np\n",
    "import pandas as pd"
   ]
  },
  {
   "cell_type": "markdown",
   "metadata": {},
   "source": [
    "### Немного парсинга."
   ]
  },
  {
   "cell_type": "markdown",
   "metadata": {},
   "source": [
    "Также импортируем библиотки для парсинга.<br>\n",
    "* [**requests**](http://docs.python-requests.org/en/master/) позволяет посылать запросы и получать данные, например html страницы и их содержимое.\n",
    "* [**BeautifulSoup**](https://www.crummy.com/software/BeautifulSoup/bs4/doc/) универсальная библиотека для парсинга, получение данных из html, поиск по тегам.\n",
    "* [**re**](https://docs.python.org/3/library/re.html)  - модуль python который позволяет обрабатывать данные, например строки и чистить их, искать паттерны и прочее. <br>\n",
    "С **re** все ограничивается вашей фантазией."
   ]
  },
  {
   "cell_type": "code",
   "execution_count": 1,
   "metadata": {},
   "outputs": [],
   "source": [
    "import requests\n",
    "from bs4 import BeautifulSoup \n",
    "import re"
   ]
  },
  {
   "cell_type": "markdown",
   "metadata": {},
   "source": [
    "Итак, для целей задачи я нашел соответствие кодов названиям валют в интернете.<br>\n",
    "Искал более менее удобные данные, чтобыы их можно было быстро собрать и сложить в табличку, <br>\n",
    "чтобы потом распространить на нашу главную таблицу с транзакциями."
   ]
  },
  {
   "cell_type": "code",
   "execution_count": 3,
   "metadata": {},
   "outputs": [],
   "source": [
    "url = 'https://en.wikipedia.org/wiki/ISO_4217'\n",
    "page = requests.get(url)"
   ]
  },
  {
   "cell_type": "code",
   "execution_count": 14,
   "metadata": {},
   "outputs": [
    {
     "data": {
      "text/plain": [
       "{}"
      ]
     },
     "execution_count": 14,
     "metadata": {},
     "output_type": "execute_result"
    }
   ],
   "source": [
    "page.links"
   ]
  },
  {
   "cell_type": "markdown",
   "metadata": {},
   "source": [
    "Далее мы передаем наш урл в в библиотку requests и просим получить все что с ней ассоциированно."
   ]
  },
  {
   "cell_type": "code",
   "execution_count": 15,
   "metadata": {
    "scrolled": true
   },
   "outputs": [],
   "source": [
    "page = requests.get(url)"
   ]
  },
  {
   "cell_type": "markdown",
   "metadata": {},
   "source": [
    "Далее создаем \"суп\" и текста объекта, тоесть новый объект с которым уже могут работать методы библиотеки `BeautifulSoup`."
   ]
  },
  {
   "cell_type": "code",
   "execution_count": 16,
   "metadata": {},
   "outputs": [],
   "source": [
    "soup = BeautifulSoup(page.text, 'html.parser')"
   ]
  },
  {
   "cell_type": "markdown",
   "metadata": {},
   "source": [
    "В коде страницы, который можно простомотреть в инструментах разработчика я заметил, что табличка с кодами, лежит на википедии в тэге `table` и конкретно принадлежит классу `wikitable sortable`."
   ]
  },
  {
   "cell_type": "code",
   "execution_count": 17,
   "metadata": {},
   "outputs": [],
   "source": [
    "table = soup.find('table',{'class':'wikitable sortable'})"
   ]
  },
  {
   "cell_type": "code",
   "execution_count": 18,
   "metadata": {},
   "outputs": [],
   "source": [
    "table"
   ]
  },
  {
   "cell_type": "markdown",
   "metadata": {},
   "source": [
    "Так как все значения содержатся в тегах вида `td>...</td>` и данные представлены у нас по строчно, то я предположил что можно взять первый элемет в нашем массиве в определенном классе, который мы ходим найти, например коды валют и через определенное число строк мы наткнемся на следующий код валюты, который идет у нас в таблице на википедии. <br>\n",
    "Пулем подбора и шаманства с бубном я смог подобрать шаг, чтобы составить 3 листа: коды валют, текстовые коды валют и текстовое поле, где лежит полная текстовая расшифровка (например *русский рубль*).<br>\n",
    "\n",
    "Также я использовал метод `.findAll`, который очевидно ищет все объекты(строки), которые содержатся в тегах, которые можно передать этому методу в качестве аргумента."
   ]
  },
  {
   "cell_type": "code",
   "execution_count": null,
   "metadata": {},
   "outputs": [],
   "source": [
    "currency_codes = table.findAll('td')[::5]\n",
    "number_codes = table.findAll('td')[1::5]\n",
    "titles = table.findAll('td')[3::5]"
   ]
  },
  {
   "cell_type": "markdown",
   "metadata": {},
   "source": [
    "Код для создания таблички из данных, которые мы спарсили с подробной документацией."
   ]
  },
  {
   "cell_type": "code",
   "execution_count": 36,
   "metadata": {},
   "outputs": [],
   "source": [
    "\"\"\" \n",
    "Создаем 3 пустых списка для добавления уже очищенных данных, чтобы можно было складывать очищенные значения\n",
    "без лишней путаницы. На этом часто не акцентирую внимание, но старайтесь делать все как можно проще. Например. \n",
    "при создании переменной подумайте как ее назвать понятно, логично и не длинно. Если похожих переменных будет много, \n",
    "то начните с общего для них слова, чтобы они были единообразны, как например ниже.\n",
    "\"\"\"\n",
    "clean_currency_codes = []\n",
    "clean_number_codes = []\n",
    "clean_titles = []\n",
    "\n",
    "\"\"\"\n",
    "Итак, в этом цикле мы склеиваем по-элементно наши необработанные списки при помощи метода zip и для каждого \n",
    "из списка проводим некие манипуляции по очищению. \n",
    "Так как наша искомая строка лежит в тегах вида td>...</td>, то мы просто разрем ее по символам, получая\n",
    "список с объектами из изначальной строки.\n",
    "Далее мы индексируемся/выбираем нужный нам объект, где содержится искомая строка и, повтораяя эту процедуру еще раз, \n",
    "мы добираемся до самого значения, убирая тэги. Чистое значение добавляем в пустые списки.\n",
    "Для заголовков у нас существует 2 кейса:\n",
    "1) Когда есть ссылка и тогда мы достаем название через регулярное выражение и тэг title;\n",
    "2) Ссылки нет и все это лежит как обычная строка в тэгах <td>...</td> и тут мы повторяем известные нам манипуляции,\n",
    "описанные выше.\n",
    "\"\"\"\n",
    "\n",
    "for currency_code,number_code,title in zip(currency_codes,number_codes,titles):\n",
    "    clean_currency_code = str(currency_code).split('>')[1].split('<')[0]\n",
    "    clean_currency_codes.append(clean_currency_code)\n",
    "\n",
    "    clean_number_code = str(number_code).split('>')[1].split('<')[0]\n",
    "    clean_number_codes.append(clean_number_code)\n",
    "\n",
    "    if 'title' in str(title):\n",
    "        refined_string = re.findall('title=\"(.+?)\"',str(title))\n",
    "        clean_titles.append(refined_string[-1])\n",
    "    else:\n",
    "        refined_string = str(title).split('>')[1].split('<')[0]\n",
    "        clean_titles.append(refined_string)"
   ]
  },
  {
   "cell_type": "markdown",
   "metadata": {},
   "source": [
    "В финале, мы собираем наши очищенные списки в таблицу и чувствуем себя большими молодцами.<br>\n",
    "Выглядит прямо как на [странице википедии](https://en.wikipedia.org/wiki/ISO_4217)."
   ]
  },
  {
   "cell_type": "code",
   "execution_count": 43,
   "metadata": {},
   "outputs": [
    {
     "data": {
      "text/html": [
       "<div>\n",
       "<style scoped>\n",
       "    .dataframe tbody tr th:only-of-type {\n",
       "        vertical-align: middle;\n",
       "    }\n",
       "\n",
       "    .dataframe tbody tr th {\n",
       "        vertical-align: top;\n",
       "    }\n",
       "\n",
       "    .dataframe thead th {\n",
       "        text-align: right;\n",
       "    }\n",
       "</style>\n",
       "<table border=\"1\" class=\"dataframe\">\n",
       "  <thead>\n",
       "    <tr style=\"text-align: right;\">\n",
       "      <th></th>\n",
       "      <th>num_code</th>\n",
       "      <th>currency_code</th>\n",
       "      <th>title</th>\n",
       "    </tr>\n",
       "  </thead>\n",
       "  <tbody>\n",
       "    <tr>\n",
       "      <th>0</th>\n",
       "      <td>784</td>\n",
       "      <td>AED</td>\n",
       "      <td>United Arab Emirates dirham</td>\n",
       "    </tr>\n",
       "    <tr>\n",
       "      <th>1</th>\n",
       "      <td>971</td>\n",
       "      <td>AFN</td>\n",
       "      <td>Afghan afghani</td>\n",
       "    </tr>\n",
       "    <tr>\n",
       "      <th>2</th>\n",
       "      <td>008</td>\n",
       "      <td>ALL</td>\n",
       "      <td>Albanian lek</td>\n",
       "    </tr>\n",
       "    <tr>\n",
       "      <th>3</th>\n",
       "      <td>051</td>\n",
       "      <td>AMD</td>\n",
       "      <td>Armenian dram</td>\n",
       "    </tr>\n",
       "    <tr>\n",
       "      <th>4</th>\n",
       "      <td>532</td>\n",
       "      <td>ANG</td>\n",
       "      <td>Netherlands Antillean guilder</td>\n",
       "    </tr>\n",
       "  </tbody>\n",
       "</table>\n",
       "</div>"
      ],
      "text/plain": [
       "  num_code currency_code                          title\n",
       "0      784           AED    United Arab Emirates dirham\n",
       "1      971           AFN                 Afghan afghani\n",
       "2      008           ALL                   Albanian lek\n",
       "3      051           AMD                  Armenian dram\n",
       "4      532           ANG  Netherlands Antillean guilder"
      ]
     },
     "execution_count": 43,
     "metadata": {},
     "output_type": "execute_result"
    }
   ],
   "source": [
    "wiki_table = pd.DataFrame({'num_code':clean_number_codes,'currency_code':clean_currency_codes,'title':clean_titles},\n",
    "             columns=['num_code','currency_code','title'])\n",
    "wiki_table.head()"
   ]
  },
  {
   "cell_type": "markdown",
   "metadata": {},
   "source": [
    "Записываем в папку с данными, например в формате `csv`."
   ]
  },
  {
   "cell_type": "code",
   "execution_count": 45,
   "metadata": {},
   "outputs": [],
   "source": [
    "wiki_table.to_csv('../data/mean_check/currency_codes_wiki.csv', index=False)"
   ]
  }
 ],
 "metadata": {
  "kernelspec": {
   "display_name": "Python 3.7.1 64-bit",
   "language": "python",
   "name": "python3"
  },
  "language_info": {
   "codemirror_mode": {
    "name": "ipython",
    "version": 3
   },
   "file_extension": ".py",
   "mimetype": "text/x-python",
   "name": "python",
   "nbconvert_exporter": "python",
   "pygments_lexer": "ipython3",
   "version": "3.7.1"
  },
  "vscode": {
   "interpreter": {
    "hash": "fbe58ca63fe33f9eeae9e71d10368d2b4a57f2b1b395836210cc60d362c66949"
   }
  }
 },
 "nbformat": 4,
 "nbformat_minor": 2
}
